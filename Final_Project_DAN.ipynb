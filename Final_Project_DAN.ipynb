{
  "nbformat": 4,
  "nbformat_minor": 0,
  "metadata": {
    "colab": {
      "provenance": [],
      "gpuType": "T4"
    },
    "kernelspec": {
      "name": "python3",
      "display_name": "Python 3"
    },
    "language_info": {
      "name": "python"
    },
    "accelerator": "GPU",
    "gpuClass": "standard"
  },
  "cells": [
    {
      "cell_type": "markdown",
      "source": [
        "\n",
        "\n",
        "```\n",
        "README:\n",
        "Code was adapted from CSE 354 Assignment 2 DAN as well as from Sije's code.\n",
        "Also uses the GloVe vectors which are part of the Torch library.\n",
        "Final models are located here: https://drive.google.com/drive/folders/13T_HyJBF7Jj-_K2bJ65hB8U5i7He1gOF?usp=share_link\n",
        "There is a code segment commented out that allows for a pre-trained model to be loaded instead.\n",
        "\n",
        "```\n",
        "\n"
      ],
      "metadata": {
        "id": "2ppikUgC4ftM"
      }
    },
    {
      "cell_type": "code",
      "execution_count": 62,
      "metadata": {
        "id": "lXmr07kOQC_m"
      },
      "outputs": [],
      "source": [
        "import torch\n",
        "import pandas as pd\n",
        "from torch.utils.data import Dataset, TensorDataset, DataLoader, ConcatDataset\n",
        "from torchtext.vocab.vectors import GloVe\n",
        "import torch.nn as nn\n",
        "from tqdm import tqdm\n",
        "import requests\n",
        "import zipfile\n",
        "import re\n",
        "import matplotlib.pyplot as plt\n",
        "import numpy as np\n",
        "from sklearn.metrics import classification_report, confusion_matrix\n",
        "import itertools\n"
      ]
    },
    {
      "cell_type": "code",
      "source": [
        "#from google.colab import drive\n",
        "#drive.mount('/content/drive',force_remount=True)\n",
        "#%cd \"/content/drive/MyDrive/CSE_354/Final_Project\""
      ],
      "metadata": {
        "id": "U7cicKmjYmMT"
      },
      "execution_count": 63,
      "outputs": []
    },
    {
      "cell_type": "code",
      "source": [
        "request = requests.get(\"https://github.com/MHDBST/PerSenT/archive/refs/heads/main.zip\")\n",
        "with open(\"data.zip\", \"wb\") as file:\n",
        "    file.write(request.content)\n",
        "\n",
        "# Unzip data\n",
        "with zipfile.ZipFile('data.zip') as zip:\n",
        "    zip.extractall('data')"
      ],
      "metadata": {
        "id": "Vw8dbEWUvC_i"
      },
      "execution_count": 64,
      "outputs": []
    },
    {
      "cell_type": "code",
      "source": [
        "# Use pre-trained GloVe embeddings\n",
        "embed_dims = 100\n",
        "glove = GloVe(name='6B', dim=embed_dims)\n",
        "\n",
        "device = torch.device(\"cuda:0\" if torch.cuda.is_available() else \"cpu\")"
      ],
      "metadata": {
        "id": "_-6TRSnv21IK"
      },
      "execution_count": 65,
      "outputs": []
    },
    {
      "cell_type": "code",
      "source": [
        "class DAN(nn.Module):\n",
        "  def __init__(self, input_dim: int, num_layers: int, dropout: float = 0.2, device = 'cpu'):\n",
        "    super(DAN, self).__init__()\n",
        "    self.input_dim = input_dim\n",
        "    self.num_layers = num_layers\n",
        "    self.dropout = dropout\n",
        "    self.device = device\n",
        "\n",
        "    layer_list = [nn.Linear(self.input_dim, self.input_dim, device=self.device) for i in range(self.num_layers)]\n",
        "    self.module_list = nn.ModuleList(layer_list)\n",
        "\n",
        "  def forward(self, vector_sequence: torch.Tensor, sequence_mask: torch.Tensor, training=False):\n",
        "    batch_size = vector_sequence.size(dim=0)\n",
        "    sequence_size = vector_sequence.size(dim=1)\n",
        "\n",
        "    #print(\"vector_sequence.shape:\", vector_sequence.shape)\n",
        "\n",
        "    # Apply dropout if training is set to True\n",
        "    if training:\n",
        "      dropout_mask = torch.bernoulli(torch.full([batch_size, sequence_size, 1], 1 - self.dropout, device=self.device))\n",
        "      #print(\"dropout_mask.shape:\", dropout_mask.shape)\n",
        "      vector_sequence = torch.nan_to_num(torch.mul(dropout_mask, vector_sequence))\n",
        "\n",
        "    # Average word embedding vectors\n",
        "    #average_vector = torch.mean(vector_sequence, dim=1)\n",
        "    average_vector = torch.sum(vector_sequence, dim=1) / sequence_mask.reshape(-1, 1)\n",
        "    #print(\"average_vector.shape:\", average_vector.shape)\n",
        "\n",
        "    # Apply feed-forward layers\n",
        "    for i in range(self.num_layers - 1):\n",
        "      l = self.module_list[i]\n",
        "      average_vector = nn.functional.relu(average_vector)\n",
        "    output_vector = self.module_list[self.num_layers - 1](average_vector) # Apply final layer without ReLU\n",
        "\n",
        "    # Return output vector\n",
        "    return output_vector"
      ],
      "metadata": {
        "id": "6JeuxRzWFBuB"
      },
      "execution_count": 66,
      "outputs": []
    },
    {
      "cell_type": "code",
      "source": [
        "class DANClassifier(nn.Module):\n",
        "  def __init__(self, embedding_dim: int, num_layers: int, num_classes: int, device: str = 'cpu'):\n",
        "    super(DANClassifier, self).__init__()\n",
        "    \n",
        "    self.dan_layer = DAN(embedding_dim, num_layers, device=device).to(device)\n",
        "    self.classification_layer = nn.Linear(embedding_dim, num_classes).to(device)\n",
        "\n",
        "  def forward(self, inputs, seq_mask, training=False):\n",
        "    dan_output = self.dan_layer(inputs, seq_mask, training=training)\n",
        "    #print(\"dan_output.shape:\", dan_output.shape)\n",
        "    classification_output = self.classification_layer(dan_output)\n",
        "    #print(\"classification_output.shape:\", classification_output.shape)\n",
        "    softmax = nn.Softmax(dim=1)\n",
        "    return softmax(classification_output)\n"
      ],
      "metadata": {
        "id": "eBG8ImRDNE7f"
      },
      "execution_count": 67,
      "outputs": []
    },
    {
      "cell_type": "code",
      "source": [
        "def get_paragraph_embeddings(paragraph_list, max_length = 512):\n",
        "    # Get embeddings for a list of paragraphs\n",
        "    token_embeds_list = list()\n",
        "    sequence_mask_list = list()\n",
        "    for i in range(len(paragraph_list)):\n",
        "        # Set all token sequences to the same length, using padding if necessary\n",
        "        tokens = [t.lower() for t in paragraph_list[i].split()]\n",
        "        sequence_mask = len(tokens)\n",
        "        if len(tokens) > max_length:\n",
        "          tokens = tokens[0:max_length]\n",
        "        elif len(tokens) < max_length:\n",
        "          tokens.extend([\"\"] * (max_length - len(tokens)))\n",
        "        input_embeds = glove.get_vecs_by_tokens(tokens)\n",
        "\n",
        "        # Get sentiment\n",
        "        #label = torch.tensor(label_map[self.sentiments[i]], dtype=torch.long)\n",
        "\n",
        "        token_embeds_list.append(input_embeds)\n",
        "        sequence_mask_list.append(sequence_mask)\n",
        "    \n",
        "    return token_embeds_list, sequence_mask_list\n",
        "\n",
        "# This method is responsible for reading the CSV file containing paragraph data,\n",
        "# coverting them to word embeddings, and returning the embeddings along with the sentiment label.\n",
        "def get_dataset(path, max_length = 512, batch_size: int = 256):\n",
        "    # seperate data by columns.\n",
        "    data = pd.read_csv(path, delimiter=',')\n",
        "    data.dropna(subset=['DOCUMENT','TRUE_SENTIMENT'], inplace=False)\n",
        "\n",
        "    # Collect paragraphs and their sentiments\n",
        "    paragraphs = []\n",
        "    sentiments = []\n",
        "    \n",
        "    for _, row in data.iterrows():\n",
        "        #devide each paragraph from document.\n",
        "        doc_paragraphs = row['DOCUMENT'].split('\\n')\n",
        "        for i in range(len(doc_paragraphs)):\n",
        "            if(i >=16):\n",
        "              break\n",
        "            paragraph_col = f'Paragraph{i}'\n",
        "            if pd.notna(row[paragraph_col]):\n",
        "                #store its paragraph\n",
        "                paragraphs.append(doc_paragraphs[i])\n",
        "                #get each sentiments \n",
        "                sentiments.append(row[paragraph_col])\n",
        "            # if there is one paragraph, then that paragraph is the document sentiment.\n",
        "            elif (len(doc_paragraphs) == 1): \n",
        "                sentiments.append(row['TRUE_SENTIMENT'])  \n",
        "                paragraphs.append(doc_paragraphs[i])\n",
        "\n",
        "    # Generate embeddings for all inputs\n",
        "    \"\"\"\n",
        "    label_map = {'Positive': 0, 'Neutral': 1, 'Negative': 2}\n",
        "    token_embeds_list = list()\n",
        "    sequence_mask_list = list()\n",
        "    sentiment_list = list()\n",
        "    for i in range(len(paragraphs)):\n",
        "        # Set all token sequences to the same length, using padding if necessary\n",
        "        tokens = [t.lower() for t in paragraphs[i].split()]\n",
        "        sequence_mask = len(tokens)\n",
        "        if len(tokens) > max_length:\n",
        "          tokens = tokens[0:max_length]\n",
        "        elif len(tokens) < max_length:\n",
        "          tokens.extend([\"\"] * (max_length - len(tokens)))\n",
        "        input_embeds = glove.get_vecs_by_tokens(tokens)\n",
        "\n",
        "        # Get sentiment\n",
        "        #label = torch.tensor(label_map[self.sentiments[i]], dtype=torch.long)\n",
        "\n",
        "        token_embeds_list.append(input_embeds)\n",
        "        sequence_mask_list.append(sequence_mask)\n",
        "        sentiment_list.append(label_map[sentiments[i]])\n",
        "    #print(\"Sizes:\", torch.stack(token_embeds_list).shape, torch.stack(sentiment_list).shape)\n",
        "    #print(\"len(sentiment_list):\", len(sentiment_list))\n",
        "    #print(\"sentiment_list[0].shape\", sentiment_list[0].shape)\n",
        "    \"\"\"\n",
        "    token_embeds_list, sequence_mask_list = get_paragraph_embeddings(paragraphs, max_length=max_length)\n",
        "    label_map = {'Positive': 0, 'Neutral': 1, 'Negative': 2}\n",
        "    sentiment_list = [label_map[s] for s in sentiments]\n",
        "\n",
        "    # Generate weights for each class to balance out frequency\n",
        "    num_positive = sentiment_list.count(0)\n",
        "    num_neutral = sentiment_list.count(1)\n",
        "    num_negative = sentiment_list.count(2)\n",
        "\n",
        "    pct_positive = num_positive / len(sentiment_list)\n",
        "    pct_neutral = num_neutral / len(sentiment_list)\n",
        "    pct_negative = num_negative / len(sentiment_list)\n",
        "\n",
        "    class_weights = [len(sentiment_list) / num_positive, len(sentiment_list) / num_neutral, len(sentiment_list) / num_negative]\n",
        "    print(f\"Class frequencies: {num_positive} positive, {num_neutral} neutral, {num_negative} negative\")\n",
        "    print(class_weights)\n",
        "\n",
        "    #print(\"torch.stack(token_embeds_list).shape:\", torch.stack(token_embeds_list).shape)\n",
        "    #print(\"torch.tensor(sentiment_list).shape:\", torch.tensor(sentiment_list).shape)\n",
        "    dataset = TensorDataset(torch.stack(token_embeds_list), torch.tensor(sequence_mask_list), torch.tensor(sentiment_list))\n",
        "    return dataset, torch.tensor(class_weights)\n"
      ],
      "metadata": {
        "id": "iEGZcFtLvulm"
      },
      "execution_count": 68,
      "outputs": []
    },
    {
      "cell_type": "code",
      "source": [
        "def plot_confusion_matrix(cm, target_names):\n",
        "    plt.imshow(cm, interpolation='nearest', cmap=plt.get_cmap('Blues'))\n",
        "    plt.colorbar()\n",
        "    tick_marks = np.arange(len(target_names))\n",
        "    plt.xticks(tick_marks, target_names, rotation=45)\n",
        "    plt.yticks(tick_marks, target_names)\n",
        "\n",
        "    for i, j in itertools.product(range(cm.shape[0]), range(cm.shape[1])):\n",
        "        plt.text(j, i, cm[i, j],\n",
        "                 horizontalalignment=\"center\",\n",
        "                 color=\"white\" if cm[i, j] > cm.max() / 2 else \"black\")\n",
        "\n",
        "    plt.ylabel('True label')\n",
        "    plt.xlabel('Predicted label')\n",
        "    plt.tight_layout()\n",
        "    plt.show()\n",
        "\n",
        "# Training and validation function for combined datasets\n",
        "def train_model(model, train_loader, val_loader, class_weights, num_epochs=4, device=None):\n",
        "    if device is None:\n",
        "        device = torch.device(\"cuda\" if torch.cuda.is_available() else \"cpu\")\n",
        "\n",
        "    model = model.to(device)\n",
        "    optimizer = torch.optim.Adam(model.parameters(), lr=4e-5)\n",
        "    cross_entropy_loss = nn.CrossEntropyLoss(weight=class_weights.float().to(device))\n",
        "    for epoch in range(num_epochs):\n",
        "        # Training loop\n",
        "        model.train()\n",
        "        epoch_total_loss = 0\n",
        "        for i, batch in enumerate(tqdm(train_loader)):\n",
        "            input_embeds, seq_mask, labels = batch\n",
        "            input_embeds = input_embeds.to(device)\n",
        "            seq_mask = seq_mask.to(device)\n",
        "            labels = labels.to(device)\n",
        "\n",
        "            logits = model(input_embeds, seq_mask, training=True)\n",
        "            loss = cross_entropy_loss(logits.to(device), labels)\n",
        "            #print(\"loss: \", loss)\n",
        "            epoch_total_loss += loss\n",
        "            optimizer.zero_grad()\n",
        "            loss.backward()\n",
        "            optimizer.step()\n",
        "\n",
        "        epoch_average_loss = epoch_total_loss / len(train_loader)\n",
        "        print(\"Average loss:\", epoch_average_loss)\n",
        "\n",
        "        # Validation loop\n",
        "        true_labels = []\n",
        "        pred_labels = []\n",
        "        model.eval()\n",
        "        total_correct = 0\n",
        "        for batch in val_loader:\n",
        "            input_embeds, seq_mask, labels = batch\n",
        "            input_embeds = input_embeds.to(device)\n",
        "            seq_mask = seq_mask.to(device)\n",
        "            labels = labels.to(device)\n",
        "\n",
        "            with torch.no_grad():\n",
        "                logits = model(input_embeds, seq_mask, training=False)\n",
        "                _, predictions = torch.max(logits, dim=1) # argMax\n",
        "                #print(\"predictions.shape:\", predictions.shape)\n",
        "                total_correct += torch.sum(predictions == labels).item()\n",
        "            true_labels.extend(labels.cpu().numpy())\n",
        "            pred_labels.extend(predictions.cpu().numpy())\n",
        "\n",
        "        accuracy = total_correct / len(val_loader.dataset)\n",
        "        report = classification_report(true_labels, pred_labels, target_names=['Positive', 'Neutral', 'Negative'])\n",
        "        cm = confusion_matrix(true_labels, pred_labels)\n",
        "        \n",
        "        print(f'Epoch {epoch + 1}/{num_epochs}, Report: {report}')\n",
        "        #print('Confusion Matrix:')\n",
        "        #plot_confusion_matrix(cm, target_names=['Negative', 'Neutral', 'Positive'])\n",
        "\n",
        "    torch.save(model, \"model.pkg\")\n",
        "\n",
        "    return model"
      ],
      "metadata": {
        "id": "x_F6tLh_IYcx"
      },
      "execution_count": 76,
      "outputs": []
    },
    {
      "cell_type": "code",
      "source": [
        "train_dataset, training_class_weights = get_dataset('data/PerSenT-main/train.csv', max_length=512, batch_size=256)\n",
        "val_dataset, val_class_weights = get_dataset('data/PerSenT-main/dev.csv', max_length=512, batch_size=256)\n",
        "train_loader = DataLoader(train_dataset, batch_size=256, shuffle=False)\n",
        "val_loader = DataLoader(val_dataset, batch_size=256, shuffle=False)\n",
        "#train_loader = DataLoader(train_dataset, batch_size=350, shuffle=False)\n",
        "#val_loader = DataLoader(val_dataset, batch_size=350, shuffle=False)"
      ],
      "metadata": {
        "id": "wUUNmlfyw9Z9",
        "colab": {
          "base_uri": "https://localhost:8080/"
        },
        "outputId": "5b3e7e8f-d6f2-4f1b-bb80-d0c6813bed5a"
      },
      "execution_count": 11,
      "outputs": [
        {
          "output_type": "stream",
          "name": "stdout",
          "text": [
            "Class frequencies: 10662 positive, 10971 neutral, 2413 negative\n",
            "[2.255299193397111, 2.191778324674141, 9.96518856195607]\n",
            "Class frequencies: 1792 positive, 2007 neutral, 391 negative\n",
            "[2.338169642857143, 2.0876930742401596, 10.71611253196931]\n"
          ]
        }
      ]
    },
    {
      "cell_type": "code",
      "source": [
        "model = DANClassifier(embedding_dim=embed_dims, num_layers=4, num_classes=3, device=device)\n",
        "model = train_model(model, train_loader, val_loader, training_class_weights, num_epochs=500)"
      ],
      "metadata": {
        "colab": {
          "base_uri": "https://localhost:8080/"
        },
        "id": "eVsroqj8Sm3K",
        "outputId": "bbdb12dd-3aa1-4068-a4d1-d8e0da4a8f05"
      },
      "execution_count": 13,
      "outputs": [
        {
          "output_type": "stream",
          "name": "stderr",
          "text": [
            "100%|██████████| 94/94 [00:05<00:00, 18.12it/s]\n"
          ]
        },
        {
          "output_type": "stream",
          "name": "stdout",
          "text": [
            "Average loss: tensor(1.0995, device='cuda:0', grad_fn=<DivBackward0>)\n",
            "Epoch 1/500, Report:               precision    recall  f1-score   support\n",
            "\n",
            "    Positive       0.38      0.01      0.01      1792\n",
            "     Neutral       0.48      0.99      0.65      2007\n",
            "    Negative       0.00      0.00      0.00       391\n",
            "\n",
            "    accuracy                           0.48      4190\n",
            "   macro avg       0.29      0.33      0.22      4190\n",
            "weighted avg       0.39      0.48      0.31      4190\n",
            "\n"
          ]
        },
        {
          "output_type": "stream",
          "name": "stderr",
          "text": [
            "100%|██████████| 94/94 [00:02<00:00, 31.41it/s]\n"
          ]
        },
        {
          "output_type": "stream",
          "name": "stdout",
          "text": [
            "Average loss: tensor(1.0992, device='cuda:0', grad_fn=<DivBackward0>)\n",
            "Epoch 2/500, Report:               precision    recall  f1-score   support\n",
            "\n",
            "    Positive       0.44      0.01      0.02      1792\n",
            "     Neutral       0.48      0.99      0.65      2007\n",
            "    Negative       0.00      0.00      0.00       391\n",
            "\n",
            "    accuracy                           0.48      4190\n",
            "   macro avg       0.31      0.33      0.22      4190\n",
            "weighted avg       0.42      0.48      0.32      4190\n",
            "\n"
          ]
        },
        {
          "output_type": "stream",
          "name": "stderr",
          "text": [
            "100%|██████████| 94/94 [00:02<00:00, 40.04it/s]\n"
          ]
        },
        {
          "output_type": "stream",
          "name": "stdout",
          "text": [
            "Average loss: tensor(1.0989, device='cuda:0', grad_fn=<DivBackward0>)\n",
            "Epoch 3/500, Report:               precision    recall  f1-score   support\n",
            "\n",
            "    Positive       0.42      0.01      0.03      1792\n",
            "     Neutral       0.48      0.98      0.64      2007\n",
            "    Negative       0.00      0.00      0.00       391\n",
            "\n",
            "    accuracy                           0.48      4190\n",
            "   macro avg       0.30      0.33      0.22      4190\n",
            "weighted avg       0.41      0.48      0.32      4190\n",
            "\n"
          ]
        },
        {
          "output_type": "stream",
          "name": "stderr",
          "text": [
            "100%|██████████| 94/94 [00:02<00:00, 40.86it/s]\n"
          ]
        },
        {
          "output_type": "stream",
          "name": "stdout",
          "text": [
            "Average loss: tensor(1.0987, device='cuda:0', grad_fn=<DivBackward0>)\n"
          ]
        },
        {
          "output_type": "stream",
          "name": "stderr",
          "text": [
            "/usr/local/lib/python3.10/dist-packages/sklearn/metrics/_classification.py:1344: UndefinedMetricWarning: Precision and F-score are ill-defined and being set to 0.0 in labels with no predicted samples. Use `zero_division` parameter to control this behavior.\n",
            "  _warn_prf(average, modifier, msg_start, len(result))\n",
            "/usr/local/lib/python3.10/dist-packages/sklearn/metrics/_classification.py:1344: UndefinedMetricWarning: Precision and F-score are ill-defined and being set to 0.0 in labels with no predicted samples. Use `zero_division` parameter to control this behavior.\n",
            "  _warn_prf(average, modifier, msg_start, len(result))\n",
            "/usr/local/lib/python3.10/dist-packages/sklearn/metrics/_classification.py:1344: UndefinedMetricWarning: Precision and F-score are ill-defined and being set to 0.0 in labels with no predicted samples. Use `zero_division` parameter to control this behavior.\n",
            "  _warn_prf(average, modifier, msg_start, len(result))\n"
          ]
        },
        {
          "output_type": "stream",
          "name": "stdout",
          "text": [
            "Epoch 4/500, Report:               precision    recall  f1-score   support\n",
            "\n",
            "    Positive       0.43      0.03      0.05      1792\n",
            "     Neutral       0.48      0.97      0.64      2007\n",
            "    Negative       0.00      0.00      0.00       391\n",
            "\n",
            "    accuracy                           0.48      4190\n",
            "   macro avg       0.30      0.33      0.23      4190\n",
            "weighted avg       0.41      0.48      0.33      4190\n",
            "\n"
          ]
        },
        {
          "output_type": "stream",
          "name": "stderr",
          "text": [
            "100%|██████████| 94/94 [00:02<00:00, 37.40it/s]\n"
          ]
        },
        {
          "output_type": "stream",
          "name": "stdout",
          "text": [
            "Average loss: tensor(1.0984, device='cuda:0', grad_fn=<DivBackward0>)\n"
          ]
        },
        {
          "output_type": "stream",
          "name": "stderr",
          "text": [
            "/usr/local/lib/python3.10/dist-packages/sklearn/metrics/_classification.py:1344: UndefinedMetricWarning: Precision and F-score are ill-defined and being set to 0.0 in labels with no predicted samples. Use `zero_division` parameter to control this behavior.\n",
            "  _warn_prf(average, modifier, msg_start, len(result))\n",
            "/usr/local/lib/python3.10/dist-packages/sklearn/metrics/_classification.py:1344: UndefinedMetricWarning: Precision and F-score are ill-defined and being set to 0.0 in labels with no predicted samples. Use `zero_division` parameter to control this behavior.\n",
            "  _warn_prf(average, modifier, msg_start, len(result))\n",
            "/usr/local/lib/python3.10/dist-packages/sklearn/metrics/_classification.py:1344: UndefinedMetricWarning: Precision and F-score are ill-defined and being set to 0.0 in labels with no predicted samples. Use `zero_division` parameter to control this behavior.\n",
            "  _warn_prf(average, modifier, msg_start, len(result))\n"
          ]
        },
        {
          "output_type": "stream",
          "name": "stdout",
          "text": [
            "Epoch 5/500, Report:               precision    recall  f1-score   support\n",
            "\n",
            "    Positive       0.46      0.06      0.11      1792\n",
            "     Neutral       0.48      0.94      0.64      2007\n",
            "    Negative       0.00      0.00      0.00       391\n",
            "\n",
            "    accuracy                           0.48      4190\n",
            "   macro avg       0.31      0.34      0.25      4190\n",
            "weighted avg       0.43      0.48      0.35      4190\n",
            "\n"
          ]
        },
        {
          "output_type": "stream",
          "name": "stderr",
          "text": [
            "100%|██████████| 94/94 [00:02<00:00, 41.66it/s]\n"
          ]
        },
        {
          "output_type": "stream",
          "name": "stdout",
          "text": [
            "Average loss: tensor(1.0982, device='cuda:0', grad_fn=<DivBackward0>)\n"
          ]
        },
        {
          "output_type": "stream",
          "name": "stderr",
          "text": [
            "/usr/local/lib/python3.10/dist-packages/sklearn/metrics/_classification.py:1344: UndefinedMetricWarning: Precision and F-score are ill-defined and being set to 0.0 in labels with no predicted samples. Use `zero_division` parameter to control this behavior.\n",
            "  _warn_prf(average, modifier, msg_start, len(result))\n",
            "/usr/local/lib/python3.10/dist-packages/sklearn/metrics/_classification.py:1344: UndefinedMetricWarning: Precision and F-score are ill-defined and being set to 0.0 in labels with no predicted samples. Use `zero_division` parameter to control this behavior.\n",
            "  _warn_prf(average, modifier, msg_start, len(result))\n",
            "/usr/local/lib/python3.10/dist-packages/sklearn/metrics/_classification.py:1344: UndefinedMetricWarning: Precision and F-score are ill-defined and being set to 0.0 in labels with no predicted samples. Use `zero_division` parameter to control this behavior.\n",
            "  _warn_prf(average, modifier, msg_start, len(result))\n"
          ]
        },
        {
          "output_type": "stream",
          "name": "stdout",
          "text": [
            "Epoch 6/500, Report:               precision    recall  f1-score   support\n",
            "\n",
            "    Positive       0.46      0.13      0.20      1792\n",
            "     Neutral       0.48      0.88      0.62      2007\n",
            "    Negative       0.00      0.00      0.00       391\n",
            "\n",
            "    accuracy                           0.48      4190\n",
            "   macro avg       0.31      0.34      0.28      4190\n",
            "weighted avg       0.43      0.48      0.39      4190\n",
            "\n"
          ]
        },
        {
          "output_type": "stream",
          "name": "stderr",
          "text": [
            "100%|██████████| 94/94 [00:02<00:00, 41.85it/s]\n"
          ]
        },
        {
          "output_type": "stream",
          "name": "stdout",
          "text": [
            "Average loss: tensor(1.0980, device='cuda:0', grad_fn=<DivBackward0>)\n"
          ]
        },
        {
          "output_type": "stream",
          "name": "stderr",
          "text": [
            "/usr/local/lib/python3.10/dist-packages/sklearn/metrics/_classification.py:1344: UndefinedMetricWarning: Precision and F-score are ill-defined and being set to 0.0 in labels with no predicted samples. Use `zero_division` parameter to control this behavior.\n",
            "  _warn_prf(average, modifier, msg_start, len(result))\n",
            "/usr/local/lib/python3.10/dist-packages/sklearn/metrics/_classification.py:1344: UndefinedMetricWarning: Precision and F-score are ill-defined and being set to 0.0 in labels with no predicted samples. Use `zero_division` parameter to control this behavior.\n",
            "  _warn_prf(average, modifier, msg_start, len(result))\n",
            "/usr/local/lib/python3.10/dist-packages/sklearn/metrics/_classification.py:1344: UndefinedMetricWarning: Precision and F-score are ill-defined and being set to 0.0 in labels with no predicted samples. Use `zero_division` parameter to control this behavior.\n",
            "  _warn_prf(average, modifier, msg_start, len(result))\n"
          ]
        },
        {
          "output_type": "stream",
          "name": "stdout",
          "text": [
            "Epoch 7/500, Report:               precision    recall  f1-score   support\n",
            "\n",
            "    Positive       0.47      0.26      0.34      1792\n",
            "     Neutral       0.49      0.78      0.60      2007\n",
            "    Negative       0.00      0.00      0.00       391\n",
            "\n",
            "    accuracy                           0.48      4190\n",
            "   macro avg       0.32      0.35      0.31      4190\n",
            "weighted avg       0.44      0.48      0.43      4190\n",
            "\n"
          ]
        },
        {
          "output_type": "stream",
          "name": "stderr",
          "text": [
            "100%|██████████| 94/94 [00:02<00:00, 40.75it/s]\n"
          ]
        },
        {
          "output_type": "stream",
          "name": "stdout",
          "text": [
            "Average loss: tensor(1.0978, device='cuda:0', grad_fn=<DivBackward0>)\n"
          ]
        },
        {
          "output_type": "stream",
          "name": "stderr",
          "text": [
            "/usr/local/lib/python3.10/dist-packages/sklearn/metrics/_classification.py:1344: UndefinedMetricWarning: Precision and F-score are ill-defined and being set to 0.0 in labels with no predicted samples. Use `zero_division` parameter to control this behavior.\n",
            "  _warn_prf(average, modifier, msg_start, len(result))\n",
            "/usr/local/lib/python3.10/dist-packages/sklearn/metrics/_classification.py:1344: UndefinedMetricWarning: Precision and F-score are ill-defined and being set to 0.0 in labels with no predicted samples. Use `zero_division` parameter to control this behavior.\n",
            "  _warn_prf(average, modifier, msg_start, len(result))\n",
            "/usr/local/lib/python3.10/dist-packages/sklearn/metrics/_classification.py:1344: UndefinedMetricWarning: Precision and F-score are ill-defined and being set to 0.0 in labels with no predicted samples. Use `zero_division` parameter to control this behavior.\n",
            "  _warn_prf(average, modifier, msg_start, len(result))\n"
          ]
        },
        {
          "output_type": "stream",
          "name": "stdout",
          "text": [
            "Epoch 8/500, Report:               precision    recall  f1-score   support\n",
            "\n",
            "    Positive       0.47      0.44      0.45      1792\n",
            "     Neutral       0.50      0.63      0.56      2007\n",
            "    Negative       0.00      0.00      0.00       391\n",
            "\n",
            "    accuracy                           0.49      4190\n",
            "   macro avg       0.32      0.36      0.34      4190\n",
            "weighted avg       0.44      0.49      0.46      4190\n",
            "\n"
          ]
        },
        {
          "output_type": "stream",
          "name": "stderr",
          "text": [
            "100%|██████████| 94/94 [00:02<00:00, 38.74it/s]\n"
          ]
        },
        {
          "output_type": "stream",
          "name": "stdout",
          "text": [
            "Average loss: tensor(1.0976, device='cuda:0', grad_fn=<DivBackward0>)\n"
          ]
        },
        {
          "output_type": "stream",
          "name": "stderr",
          "text": [
            "/usr/local/lib/python3.10/dist-packages/sklearn/metrics/_classification.py:1344: UndefinedMetricWarning: Precision and F-score are ill-defined and being set to 0.0 in labels with no predicted samples. Use `zero_division` parameter to control this behavior.\n",
            "  _warn_prf(average, modifier, msg_start, len(result))\n",
            "/usr/local/lib/python3.10/dist-packages/sklearn/metrics/_classification.py:1344: UndefinedMetricWarning: Precision and F-score are ill-defined and being set to 0.0 in labels with no predicted samples. Use `zero_division` parameter to control this behavior.\n",
            "  _warn_prf(average, modifier, msg_start, len(result))\n",
            "/usr/local/lib/python3.10/dist-packages/sklearn/metrics/_classification.py:1344: UndefinedMetricWarning: Precision and F-score are ill-defined and being set to 0.0 in labels with no predicted samples. Use `zero_division` parameter to control this behavior.\n",
            "  _warn_prf(average, modifier, msg_start, len(result))\n"
          ]
        },
        {
          "output_type": "stream",
          "name": "stdout",
          "text": [
            "Epoch 9/500, Report:               precision    recall  f1-score   support\n",
            "\n",
            "    Positive       0.48      0.63      0.54      1792\n",
            "     Neutral       0.53      0.47      0.50      2007\n",
            "    Negative       0.00      0.00      0.00       391\n",
            "\n",
            "    accuracy                           0.50      4190\n",
            "   macro avg       0.33      0.37      0.35      4190\n",
            "weighted avg       0.45      0.50      0.47      4190\n",
            "\n"
          ]
        },
        {
          "output_type": "stream",
          "name": "stderr",
          "text": [
            "100%|██████████| 94/94 [00:02<00:00, 37.92it/s]\n"
          ]
        },
        {
          "output_type": "stream",
          "name": "stdout",
          "text": [
            "Average loss: tensor(1.0974, device='cuda:0', grad_fn=<DivBackward0>)\n"
          ]
        },
        {
          "output_type": "stream",
          "name": "stderr",
          "text": [
            "/usr/local/lib/python3.10/dist-packages/sklearn/metrics/_classification.py:1344: UndefinedMetricWarning: Precision and F-score are ill-defined and being set to 0.0 in labels with no predicted samples. Use `zero_division` parameter to control this behavior.\n",
            "  _warn_prf(average, modifier, msg_start, len(result))\n",
            "/usr/local/lib/python3.10/dist-packages/sklearn/metrics/_classification.py:1344: UndefinedMetricWarning: Precision and F-score are ill-defined and being set to 0.0 in labels with no predicted samples. Use `zero_division` parameter to control this behavior.\n",
            "  _warn_prf(average, modifier, msg_start, len(result))\n",
            "/usr/local/lib/python3.10/dist-packages/sklearn/metrics/_classification.py:1344: UndefinedMetricWarning: Precision and F-score are ill-defined and being set to 0.0 in labels with no predicted samples. Use `zero_division` parameter to control this behavior.\n",
            "  _warn_prf(average, modifier, msg_start, len(result))\n"
          ]
        },
        {
          "output_type": "stream",
          "name": "stdout",
          "text": [
            "Epoch 10/500, Report:               precision    recall  f1-score   support\n",
            "\n",
            "    Positive       0.47      0.76      0.58      1792\n",
            "     Neutral       0.55      0.34      0.42      2007\n",
            "    Negative       0.00      0.00      0.00       391\n",
            "\n",
            "    accuracy                           0.49      4190\n",
            "   macro avg       0.34      0.37      0.33      4190\n",
            "weighted avg       0.46      0.49      0.45      4190\n",
            "\n"
          ]
        },
        {
          "output_type": "stream",
          "name": "stderr",
          "text": [
            "100%|██████████| 94/94 [00:02<00:00, 41.36it/s]\n"
          ]
        },
        {
          "output_type": "stream",
          "name": "stdout",
          "text": [
            "Average loss: tensor(1.0972, device='cuda:0', grad_fn=<DivBackward0>)\n"
          ]
        },
        {
          "output_type": "stream",
          "name": "stderr",
          "text": [
            "/usr/local/lib/python3.10/dist-packages/sklearn/metrics/_classification.py:1344: UndefinedMetricWarning: Precision and F-score are ill-defined and being set to 0.0 in labels with no predicted samples. Use `zero_division` parameter to control this behavior.\n",
            "  _warn_prf(average, modifier, msg_start, len(result))\n",
            "/usr/local/lib/python3.10/dist-packages/sklearn/metrics/_classification.py:1344: UndefinedMetricWarning: Precision and F-score are ill-defined and being set to 0.0 in labels with no predicted samples. Use `zero_division` parameter to control this behavior.\n",
            "  _warn_prf(average, modifier, msg_start, len(result))\n",
            "/usr/local/lib/python3.10/dist-packages/sklearn/metrics/_classification.py:1344: UndefinedMetricWarning: Precision and F-score are ill-defined and being set to 0.0 in labels with no predicted samples. Use `zero_division` parameter to control this behavior.\n",
            "  _warn_prf(average, modifier, msg_start, len(result))\n"
          ]
        },
        {
          "output_type": "stream",
          "name": "stdout",
          "text": [
            "Epoch 11/500, Report:               precision    recall  f1-score   support\n",
            "\n",
            "    Positive       0.46      0.84      0.60      1792\n",
            "     Neutral       0.57      0.26      0.36      2007\n",
            "    Negative       0.00      0.00      0.00       391\n",
            "\n",
            "    accuracy                           0.48      4190\n",
            "   macro avg       0.34      0.37      0.32      4190\n",
            "weighted avg       0.47      0.48      0.43      4190\n",
            "\n"
          ]
        },
        {
          "output_type": "stream",
          "name": "stderr",
          "text": [
            "100%|██████████| 94/94 [00:02<00:00, 41.00it/s]\n"
          ]
        },
        {
          "output_type": "stream",
          "name": "stdout",
          "text": [
            "Average loss: tensor(1.0971, device='cuda:0', grad_fn=<DivBackward0>)\n"
          ]
        },
        {
          "output_type": "stream",
          "name": "stderr",
          "text": [
            "/usr/local/lib/python3.10/dist-packages/sklearn/metrics/_classification.py:1344: UndefinedMetricWarning: Precision and F-score are ill-defined and being set to 0.0 in labels with no predicted samples. Use `zero_division` parameter to control this behavior.\n",
            "  _warn_prf(average, modifier, msg_start, len(result))\n",
            "/usr/local/lib/python3.10/dist-packages/sklearn/metrics/_classification.py:1344: UndefinedMetricWarning: Precision and F-score are ill-defined and being set to 0.0 in labels with no predicted samples. Use `zero_division` parameter to control this behavior.\n",
            "  _warn_prf(average, modifier, msg_start, len(result))\n",
            "/usr/local/lib/python3.10/dist-packages/sklearn/metrics/_classification.py:1344: UndefinedMetricWarning: Precision and F-score are ill-defined and being set to 0.0 in labels with no predicted samples. Use `zero_division` parameter to control this behavior.\n",
            "  _warn_prf(average, modifier, msg_start, len(result))\n"
          ]
        },
        {
          "output_type": "stream",
          "name": "stdout",
          "text": [
            "Epoch 12/500, Report:               precision    recall  f1-score   support\n",
            "\n",
            "    Positive       0.45      0.89      0.60      1792\n",
            "     Neutral       0.59      0.20      0.30      2007\n",
            "    Negative       0.00      0.00      0.00       391\n",
            "\n",
            "    accuracy                           0.48      4190\n",
            "   macro avg       0.35      0.36      0.30      4190\n",
            "weighted avg       0.48      0.48      0.40      4190\n",
            "\n"
          ]
        },
        {
          "output_type": "stream",
          "name": "stderr",
          "text": [
            "100%|██████████| 94/94 [00:02<00:00, 39.27it/s]\n"
          ]
        },
        {
          "output_type": "stream",
          "name": "stdout",
          "text": [
            "Average loss: tensor(1.0968, device='cuda:0', grad_fn=<DivBackward0>)\n"
          ]
        },
        {
          "output_type": "stream",
          "name": "stderr",
          "text": [
            "/usr/local/lib/python3.10/dist-packages/sklearn/metrics/_classification.py:1344: UndefinedMetricWarning: Precision and F-score are ill-defined and being set to 0.0 in labels with no predicted samples. Use `zero_division` parameter to control this behavior.\n",
            "  _warn_prf(average, modifier, msg_start, len(result))\n",
            "/usr/local/lib/python3.10/dist-packages/sklearn/metrics/_classification.py:1344: UndefinedMetricWarning: Precision and F-score are ill-defined and being set to 0.0 in labels with no predicted samples. Use `zero_division` parameter to control this behavior.\n",
            "  _warn_prf(average, modifier, msg_start, len(result))\n",
            "/usr/local/lib/python3.10/dist-packages/sklearn/metrics/_classification.py:1344: UndefinedMetricWarning: Precision and F-score are ill-defined and being set to 0.0 in labels with no predicted samples. Use `zero_division` parameter to control this behavior.\n",
            "  _warn_prf(average, modifier, msg_start, len(result))\n"
          ]
        },
        {
          "output_type": "stream",
          "name": "stdout",
          "text": [
            "Epoch 13/500, Report:               precision    recall  f1-score   support\n",
            "\n",
            "    Positive       0.45      0.92      0.60      1792\n",
            "     Neutral       0.61      0.16      0.26      2007\n",
            "    Negative       0.00      0.00      0.00       391\n",
            "\n",
            "    accuracy                           0.47      4190\n",
            "   macro avg       0.35      0.36      0.29      4190\n",
            "weighted avg       0.48      0.47      0.38      4190\n",
            "\n"
          ]
        },
        {
          "output_type": "stream",
          "name": "stderr",
          "text": [
            "100%|██████████| 94/94 [00:02<00:00, 36.21it/s]\n"
          ]
        },
        {
          "output_type": "stream",
          "name": "stdout",
          "text": [
            "Average loss: tensor(1.0967, device='cuda:0', grad_fn=<DivBackward0>)\n"
          ]
        },
        {
          "output_type": "stream",
          "name": "stderr",
          "text": [
            "/usr/local/lib/python3.10/dist-packages/sklearn/metrics/_classification.py:1344: UndefinedMetricWarning: Precision and F-score are ill-defined and being set to 0.0 in labels with no predicted samples. Use `zero_division` parameter to control this behavior.\n",
            "  _warn_prf(average, modifier, msg_start, len(result))\n",
            "/usr/local/lib/python3.10/dist-packages/sklearn/metrics/_classification.py:1344: UndefinedMetricWarning: Precision and F-score are ill-defined and being set to 0.0 in labels with no predicted samples. Use `zero_division` parameter to control this behavior.\n",
            "  _warn_prf(average, modifier, msg_start, len(result))\n",
            "/usr/local/lib/python3.10/dist-packages/sklearn/metrics/_classification.py:1344: UndefinedMetricWarning: Precision and F-score are ill-defined and being set to 0.0 in labels with no predicted samples. Use `zero_division` parameter to control this behavior.\n",
            "  _warn_prf(average, modifier, msg_start, len(result))\n"
          ]
        },
        {
          "output_type": "stream",
          "name": "stdout",
          "text": [
            "Epoch 14/500, Report:               precision    recall  f1-score   support\n",
            "\n",
            "    Positive       0.45      0.93      0.60      1792\n",
            "     Neutral       0.62      0.14      0.23      2007\n",
            "    Negative       0.00      0.00      0.00       391\n",
            "\n",
            "    accuracy                           0.47      4190\n",
            "   macro avg       0.36      0.36      0.28      4190\n",
            "weighted avg       0.49      0.47      0.37      4190\n",
            "\n"
          ]
        },
        {
          "output_type": "stream",
          "name": "stderr",
          "text": [
            "100%|██████████| 94/94 [00:02<00:00, 36.08it/s]\n"
          ]
        },
        {
          "output_type": "stream",
          "name": "stdout",
          "text": [
            "Average loss: tensor(1.0965, device='cuda:0', grad_fn=<DivBackward0>)\n"
          ]
        },
        {
          "output_type": "stream",
          "name": "stderr",
          "text": [
            "/usr/local/lib/python3.10/dist-packages/sklearn/metrics/_classification.py:1344: UndefinedMetricWarning: Precision and F-score are ill-defined and being set to 0.0 in labels with no predicted samples. Use `zero_division` parameter to control this behavior.\n",
            "  _warn_prf(average, modifier, msg_start, len(result))\n",
            "/usr/local/lib/python3.10/dist-packages/sklearn/metrics/_classification.py:1344: UndefinedMetricWarning: Precision and F-score are ill-defined and being set to 0.0 in labels with no predicted samples. Use `zero_division` parameter to control this behavior.\n",
            "  _warn_prf(average, modifier, msg_start, len(result))\n",
            "/usr/local/lib/python3.10/dist-packages/sklearn/metrics/_classification.py:1344: UndefinedMetricWarning: Precision and F-score are ill-defined and being set to 0.0 in labels with no predicted samples. Use `zero_division` parameter to control this behavior.\n",
            "  _warn_prf(average, modifier, msg_start, len(result))\n"
          ]
        },
        {
          "output_type": "stream",
          "name": "stdout",
          "text": [
            "Epoch 15/500, Report:               precision    recall  f1-score   support\n",
            "\n",
            "    Positive       0.45      0.94      0.61      1792\n",
            "     Neutral       0.63      0.13      0.21      2007\n",
            "    Negative       0.00      0.00      0.00       391\n",
            "\n",
            "    accuracy                           0.46      4190\n",
            "   macro avg       0.36      0.36      0.27      4190\n",
            "weighted avg       0.49      0.46      0.36      4190\n",
            "\n"
          ]
        },
        {
          "output_type": "stream",
          "name": "stderr",
          "text": [
            "100%|██████████| 94/94 [00:02<00:00, 40.65it/s]\n"
          ]
        },
        {
          "output_type": "stream",
          "name": "stdout",
          "text": [
            "Average loss: tensor(1.0964, device='cuda:0', grad_fn=<DivBackward0>)\n"
          ]
        },
        {
          "output_type": "stream",
          "name": "stderr",
          "text": [
            "/usr/local/lib/python3.10/dist-packages/sklearn/metrics/_classification.py:1344: UndefinedMetricWarning: Precision and F-score are ill-defined and being set to 0.0 in labels with no predicted samples. Use `zero_division` parameter to control this behavior.\n",
            "  _warn_prf(average, modifier, msg_start, len(result))\n",
            "/usr/local/lib/python3.10/dist-packages/sklearn/metrics/_classification.py:1344: UndefinedMetricWarning: Precision and F-score are ill-defined and being set to 0.0 in labels with no predicted samples. Use `zero_division` parameter to control this behavior.\n",
            "  _warn_prf(average, modifier, msg_start, len(result))\n",
            "/usr/local/lib/python3.10/dist-packages/sklearn/metrics/_classification.py:1344: UndefinedMetricWarning: Precision and F-score are ill-defined and being set to 0.0 in labels with no predicted samples. Use `zero_division` parameter to control this behavior.\n",
            "  _warn_prf(average, modifier, msg_start, len(result))\n"
          ]
        },
        {
          "output_type": "stream",
          "name": "stdout",
          "text": [
            "Epoch 16/500, Report:               precision    recall  f1-score   support\n",
            "\n",
            "    Positive       0.44      0.95      0.61      1792\n",
            "     Neutral       0.62      0.12      0.20      2007\n",
            "    Negative       0.00      0.00      0.00       391\n",
            "\n",
            "    accuracy                           0.46      4190\n",
            "   macro avg       0.36      0.35      0.27      4190\n",
            "weighted avg       0.49      0.46      0.35      4190\n",
            "\n"
          ]
        },
        {
          "output_type": "stream",
          "name": "stderr",
          "text": [
            "100%|██████████| 94/94 [00:02<00:00, 41.00it/s]\n"
          ]
        },
        {
          "output_type": "stream",
          "name": "stdout",
          "text": [
            "Average loss: tensor(1.0962, device='cuda:0', grad_fn=<DivBackward0>)\n",
            "Epoch 17/500, Report:               precision    recall  f1-score   support\n",
            "\n",
            "    Positive       0.44      0.95      0.60      1792\n",
            "     Neutral       0.62      0.11      0.19      2007\n",
            "    Negative       0.00      0.00      0.00       391\n",
            "\n",
            "    accuracy                           0.46      4190\n",
            "   macro avg       0.36      0.35      0.26      4190\n",
            "weighted avg       0.49      0.46      0.35      4190\n",
            "\n"
          ]
        },
        {
          "output_type": "stream",
          "name": "stderr",
          "text": [
            "100%|██████████| 94/94 [00:02<00:00, 34.31it/s]\n"
          ]
        },
        {
          "output_type": "stream",
          "name": "stdout",
          "text": [
            "Average loss: tensor(1.0960, device='cuda:0', grad_fn=<DivBackward0>)\n",
            "Epoch 18/500, Report:               precision    recall  f1-score   support\n",
            "\n",
            "    Positive       0.44      0.95      0.60      1792\n",
            "     Neutral       0.62      0.10      0.18      2007\n",
            "    Negative       0.00      0.00      0.00       391\n",
            "\n",
            "    accuracy                           0.46      4190\n",
            "   macro avg       0.35      0.35      0.26      4190\n",
            "weighted avg       0.48      0.46      0.34      4190\n",
            "\n"
          ]
        },
        {
          "output_type": "stream",
          "name": "stderr",
          "text": [
            "100%|██████████| 94/94 [00:02<00:00, 40.62it/s]\n"
          ]
        },
        {
          "output_type": "stream",
          "name": "stdout",
          "text": [
            "Average loss: tensor(1.0958, device='cuda:0', grad_fn=<DivBackward0>)\n",
            "Epoch 19/500, Report:               precision    recall  f1-score   support\n",
            "\n",
            "    Positive       0.44      0.95      0.60      1792\n",
            "     Neutral       0.62      0.10      0.17      2007\n",
            "    Negative       0.20      0.00      0.01       391\n",
            "\n",
            "    accuracy                           0.46      4190\n",
            "   macro avg       0.42      0.35      0.26      4190\n",
            "weighted avg       0.50      0.46      0.34      4190\n",
            "\n"
          ]
        },
        {
          "output_type": "stream",
          "name": "stderr",
          "text": [
            "100%|██████████| 94/94 [00:02<00:00, 41.05it/s]\n"
          ]
        },
        {
          "output_type": "stream",
          "name": "stdout",
          "text": [
            "Average loss: tensor(1.0956, device='cuda:0', grad_fn=<DivBackward0>)\n",
            "Epoch 20/500, Report:               precision    recall  f1-score   support\n",
            "\n",
            "    Positive       0.44      0.95      0.60      1792\n",
            "     Neutral       0.62      0.10      0.18      2007\n",
            "    Negative       0.17      0.00      0.01       391\n",
            "\n",
            "    accuracy                           0.46      4190\n",
            "   macro avg       0.41      0.35      0.26      4190\n",
            "weighted avg       0.50      0.46      0.34      4190\n",
            "\n"
          ]
        },
        {
          "output_type": "stream",
          "name": "stderr",
          "text": [
            "100%|██████████| 94/94 [00:02<00:00, 40.82it/s]\n"
          ]
        },
        {
          "output_type": "stream",
          "name": "stdout",
          "text": [
            "Average loss: tensor(1.0955, device='cuda:0', grad_fn=<DivBackward0>)\n",
            "Epoch 21/500, Report:               precision    recall  f1-score   support\n",
            "\n",
            "    Positive       0.44      0.95      0.60      1792\n",
            "     Neutral       0.61      0.10      0.18      2007\n",
            "    Negative       0.20      0.01      0.01       391\n",
            "\n",
            "    accuracy                           0.46      4190\n",
            "   macro avg       0.42      0.35      0.26      4190\n",
            "weighted avg       0.50      0.46      0.34      4190\n",
            "\n"
          ]
        },
        {
          "output_type": "stream",
          "name": "stderr",
          "text": [
            "100%|██████████| 94/94 [00:02<00:00, 40.09it/s]\n"
          ]
        },
        {
          "output_type": "stream",
          "name": "stdout",
          "text": [
            "Average loss: tensor(1.0952, device='cuda:0', grad_fn=<DivBackward0>)\n",
            "Epoch 22/500, Report:               precision    recall  f1-score   support\n",
            "\n",
            "    Positive       0.44      0.95      0.61      1792\n",
            "     Neutral       0.62      0.10      0.18      2007\n",
            "    Negative       0.21      0.01      0.01       391\n",
            "\n",
            "    accuracy                           0.46      4190\n",
            "   macro avg       0.43      0.35      0.27      4190\n",
            "weighted avg       0.51      0.46      0.34      4190\n",
            "\n"
          ]
        },
        {
          "output_type": "stream",
          "name": "stderr",
          "text": [
            "100%|██████████| 94/94 [00:02<00:00, 36.63it/s]\n"
          ]
        },
        {
          "output_type": "stream",
          "name": "stdout",
          "text": [
            "Average loss: tensor(1.0951, device='cuda:0', grad_fn=<DivBackward0>)\n",
            "Epoch 23/500, Report:               precision    recall  f1-score   support\n",
            "\n",
            "    Positive       0.44      0.95      0.61      1792\n",
            "     Neutral       0.61      0.10      0.17      2007\n",
            "    Negative       0.19      0.01      0.01       391\n",
            "\n",
            "    accuracy                           0.46      4190\n",
            "   macro avg       0.41      0.35      0.26      4190\n",
            "weighted avg       0.50      0.46      0.34      4190\n",
            "\n"
          ]
        },
        {
          "output_type": "stream",
          "name": "stderr",
          "text": [
            "100%|██████████| 94/94 [00:02<00:00, 39.60it/s]\n"
          ]
        },
        {
          "output_type": "stream",
          "name": "stdout",
          "text": [
            "Average loss: tensor(1.0949, device='cuda:0', grad_fn=<DivBackward0>)\n",
            "Epoch 24/500, Report:               precision    recall  f1-score   support\n",
            "\n",
            "    Positive       0.45      0.95      0.61      1792\n",
            "     Neutral       0.62      0.11      0.19      2007\n",
            "    Negative       0.19      0.01      0.02       391\n",
            "\n",
            "    accuracy                           0.46      4190\n",
            "   macro avg       0.42      0.36      0.27      4190\n",
            "weighted avg       0.51      0.46      0.35      4190\n",
            "\n"
          ]
        },
        {
          "output_type": "stream",
          "name": "stderr",
          "text": [
            "100%|██████████| 94/94 [00:02<00:00, 41.03it/s]\n"
          ]
        },
        {
          "output_type": "stream",
          "name": "stdout",
          "text": [
            "Average loss: tensor(1.0945, device='cuda:0', grad_fn=<DivBackward0>)\n",
            "Epoch 25/500, Report:               precision    recall  f1-score   support\n",
            "\n",
            "    Positive       0.45      0.94      0.61      1792\n",
            "     Neutral       0.62      0.11      0.19      2007\n",
            "    Negative       0.18      0.01      0.02       391\n",
            "\n",
            "    accuracy                           0.46      4190\n",
            "   macro avg       0.41      0.36      0.27      4190\n",
            "weighted avg       0.50      0.46      0.35      4190\n",
            "\n"
          ]
        },
        {
          "output_type": "stream",
          "name": "stderr",
          "text": [
            "100%|██████████| 94/94 [00:02<00:00, 40.73it/s]\n"
          ]
        },
        {
          "output_type": "stream",
          "name": "stdout",
          "text": [
            "Average loss: tensor(1.0944, device='cuda:0', grad_fn=<DivBackward0>)\n",
            "Epoch 26/500, Report:               precision    recall  f1-score   support\n",
            "\n",
            "    Positive       0.45      0.94      0.61      1792\n",
            "     Neutral       0.62      0.11      0.19      2007\n",
            "    Negative       0.17      0.02      0.03       391\n",
            "\n",
            "    accuracy                           0.46      4190\n",
            "   macro avg       0.41      0.36      0.27      4190\n",
            "weighted avg       0.50      0.46      0.35      4190\n",
            "\n"
          ]
        },
        {
          "output_type": "stream",
          "name": "stderr",
          "text": [
            "100%|██████████| 94/94 [00:02<00:00, 36.22it/s]\n"
          ]
        },
        {
          "output_type": "stream",
          "name": "stdout",
          "text": [
            "Average loss: tensor(1.0942, device='cuda:0', grad_fn=<DivBackward0>)\n",
            "Epoch 27/500, Report:               precision    recall  f1-score   support\n",
            "\n",
            "    Positive       0.45      0.94      0.61      1792\n",
            "     Neutral       0.62      0.11      0.19      2007\n",
            "    Negative       0.20      0.03      0.05       391\n",
            "\n",
            "    accuracy                           0.46      4190\n",
            "   macro avg       0.42      0.36      0.28      4190\n",
            "weighted avg       0.51      0.46      0.36      4190\n",
            "\n"
          ]
        },
        {
          "output_type": "stream",
          "name": "stderr",
          "text": [
            "100%|██████████| 94/94 [00:02<00:00, 40.85it/s]\n"
          ]
        },
        {
          "output_type": "stream",
          "name": "stdout",
          "text": [
            "Average loss: tensor(1.0939, device='cuda:0', grad_fn=<DivBackward0>)\n",
            "Epoch 28/500, Report:               precision    recall  f1-score   support\n",
            "\n",
            "    Positive       0.45      0.94      0.61      1792\n",
            "     Neutral       0.62      0.11      0.19      2007\n",
            "    Negative       0.22      0.04      0.07       391\n",
            "\n",
            "    accuracy                           0.46      4190\n",
            "   macro avg       0.43      0.36      0.29      4190\n",
            "weighted avg       0.51      0.46      0.36      4190\n",
            "\n"
          ]
        },
        {
          "output_type": "stream",
          "name": "stderr",
          "text": [
            "100%|██████████| 94/94 [00:02<00:00, 40.99it/s]\n"
          ]
        },
        {
          "output_type": "stream",
          "name": "stdout",
          "text": [
            "Average loss: tensor(1.0938, device='cuda:0', grad_fn=<DivBackward0>)\n",
            "Epoch 29/500, Report:               precision    recall  f1-score   support\n",
            "\n",
            "    Positive       0.45      0.93      0.61      1792\n",
            "     Neutral       0.61      0.12      0.20      2007\n",
            "    Negative       0.20      0.04      0.07       391\n",
            "\n",
            "    accuracy                           0.46      4190\n",
            "   macro avg       0.42      0.36      0.29      4190\n",
            "weighted avg       0.50      0.46      0.36      4190\n",
            "\n"
          ]
        },
        {
          "output_type": "stream",
          "name": "stderr",
          "text": [
            "100%|██████████| 94/94 [00:02<00:00, 41.71it/s]\n"
          ]
        },
        {
          "output_type": "stream",
          "name": "stdout",
          "text": [
            "Average loss: tensor(1.0935, device='cuda:0', grad_fn=<DivBackward0>)\n",
            "Epoch 30/500, Report:               precision    recall  f1-score   support\n",
            "\n",
            "    Positive       0.45      0.93      0.61      1792\n",
            "     Neutral       0.60      0.11      0.19      2007\n",
            "    Negative       0.20      0.05      0.08       391\n",
            "\n",
            "    accuracy                           0.46      4190\n",
            "   macro avg       0.42      0.36      0.29      4190\n",
            "weighted avg       0.50      0.46      0.36      4190\n",
            "\n"
          ]
        },
        {
          "output_type": "stream",
          "name": "stderr",
          "text": [
            "100%|██████████| 94/94 [00:02<00:00, 39.71it/s]\n"
          ]
        },
        {
          "output_type": "stream",
          "name": "stdout",
          "text": [
            "Average loss: tensor(1.0933, device='cuda:0', grad_fn=<DivBackward0>)\n",
            "Epoch 31/500, Report:               precision    recall  f1-score   support\n",
            "\n",
            "    Positive       0.45      0.93      0.61      1792\n",
            "     Neutral       0.61      0.11      0.19      2007\n",
            "    Negative       0.21      0.06      0.09       391\n",
            "\n",
            "    accuracy                           0.46      4190\n",
            "   macro avg       0.42      0.37      0.30      4190\n",
            "weighted avg       0.50      0.46      0.36      4190\n",
            "\n"
          ]
        },
        {
          "output_type": "stream",
          "name": "stderr",
          "text": [
            "100%|██████████| 94/94 [00:02<00:00, 35.48it/s]\n"
          ]
        },
        {
          "output_type": "stream",
          "name": "stdout",
          "text": [
            "Average loss: tensor(1.0931, device='cuda:0', grad_fn=<DivBackward0>)\n",
            "Epoch 32/500, Report:               precision    recall  f1-score   support\n",
            "\n",
            "    Positive       0.45      0.93      0.61      1792\n",
            "     Neutral       0.61      0.12      0.20      2007\n",
            "    Negative       0.21      0.07      0.10       391\n",
            "\n",
            "    accuracy                           0.46      4190\n",
            "   macro avg       0.42      0.37      0.30      4190\n",
            "weighted avg       0.51      0.46      0.36      4190\n",
            "\n"
          ]
        },
        {
          "output_type": "stream",
          "name": "stderr",
          "text": [
            "100%|██████████| 94/94 [00:02<00:00, 40.92it/s]\n"
          ]
        },
        {
          "output_type": "stream",
          "name": "stdout",
          "text": [
            "Average loss: tensor(1.0927, device='cuda:0', grad_fn=<DivBackward0>)\n",
            "Epoch 33/500, Report:               precision    recall  f1-score   support\n",
            "\n",
            "    Positive       0.45      0.92      0.61      1792\n",
            "     Neutral       0.61      0.12      0.20      2007\n",
            "    Negative       0.23      0.09      0.13       391\n",
            "\n",
            "    accuracy                           0.46      4190\n",
            "   macro avg       0.43      0.38      0.31      4190\n",
            "weighted avg       0.51      0.46      0.37      4190\n",
            "\n"
          ]
        },
        {
          "output_type": "stream",
          "name": "stderr",
          "text": [
            "100%|██████████| 94/94 [00:02<00:00, 41.28it/s]\n"
          ]
        },
        {
          "output_type": "stream",
          "name": "stdout",
          "text": [
            "Average loss: tensor(1.0924, device='cuda:0', grad_fn=<DivBackward0>)\n",
            "Epoch 34/500, Report:               precision    recall  f1-score   support\n",
            "\n",
            "    Positive       0.45      0.92      0.61      1792\n",
            "     Neutral       0.61      0.12      0.20      2007\n",
            "    Negative       0.22      0.10      0.14       391\n",
            "\n",
            "    accuracy                           0.46      4190\n",
            "   macro avg       0.43      0.38      0.32      4190\n",
            "weighted avg       0.51      0.46      0.37      4190\n",
            "\n"
          ]
        },
        {
          "output_type": "stream",
          "name": "stderr",
          "text": [
            "100%|██████████| 94/94 [00:02<00:00, 38.78it/s]\n"
          ]
        },
        {
          "output_type": "stream",
          "name": "stdout",
          "text": [
            "Average loss: tensor(1.0922, device='cuda:0', grad_fn=<DivBackward0>)\n",
            "Epoch 35/500, Report:               precision    recall  f1-score   support\n",
            "\n",
            "    Positive       0.46      0.91      0.61      1792\n",
            "     Neutral       0.61      0.12      0.20      2007\n",
            "    Negative       0.21      0.12      0.16       391\n",
            "\n",
            "    accuracy                           0.46      4190\n",
            "   macro avg       0.43      0.38      0.32      4190\n",
            "weighted avg       0.51      0.46      0.37      4190\n",
            "\n"
          ]
        },
        {
          "output_type": "stream",
          "name": "stderr",
          "text": [
            "100%|██████████| 94/94 [00:02<00:00, 36.67it/s]\n"
          ]
        },
        {
          "output_type": "stream",
          "name": "stdout",
          "text": [
            "Average loss: tensor(1.0919, device='cuda:0', grad_fn=<DivBackward0>)\n",
            "Epoch 36/500, Report:               precision    recall  f1-score   support\n",
            "\n",
            "    Positive       0.46      0.91      0.61      1792\n",
            "     Neutral       0.61      0.12      0.20      2007\n",
            "    Negative       0.21      0.14      0.17       391\n",
            "\n",
            "    accuracy                           0.46      4190\n",
            "   macro avg       0.43      0.39      0.32      4190\n",
            "weighted avg       0.51      0.46      0.37      4190\n",
            "\n"
          ]
        },
        {
          "output_type": "stream",
          "name": "stderr",
          "text": [
            "100%|██████████| 94/94 [00:02<00:00, 41.40it/s]\n"
          ]
        },
        {
          "output_type": "stream",
          "name": "stdout",
          "text": [
            "Average loss: tensor(1.0917, device='cuda:0', grad_fn=<DivBackward0>)\n",
            "Epoch 37/500, Report:               precision    recall  f1-score   support\n",
            "\n",
            "    Positive       0.46      0.90      0.61      1792\n",
            "     Neutral       0.61      0.12      0.19      2007\n",
            "    Negative       0.21      0.15      0.18       391\n",
            "\n",
            "    accuracy                           0.46      4190\n",
            "   macro avg       0.43      0.39      0.33      4190\n",
            "weighted avg       0.51      0.46      0.37      4190\n",
            "\n"
          ]
        },
        {
          "output_type": "stream",
          "name": "stderr",
          "text": [
            "100%|██████████| 94/94 [00:02<00:00, 40.94it/s]\n"
          ]
        },
        {
          "output_type": "stream",
          "name": "stdout",
          "text": [
            "Average loss: tensor(1.0912, device='cuda:0', grad_fn=<DivBackward0>)\n",
            "Epoch 38/500, Report:               precision    recall  f1-score   support\n",
            "\n",
            "    Positive       0.46      0.90      0.61      1792\n",
            "     Neutral       0.62      0.11      0.19      2007\n",
            "    Negative       0.19      0.16      0.17       391\n",
            "\n",
            "    accuracy                           0.45      4190\n",
            "   macro avg       0.42      0.39      0.32      4190\n",
            "weighted avg       0.51      0.45      0.37      4190\n",
            "\n"
          ]
        },
        {
          "output_type": "stream",
          "name": "stderr",
          "text": [
            "100%|██████████| 94/94 [00:02<00:00, 39.84it/s]\n"
          ]
        },
        {
          "output_type": "stream",
          "name": "stdout",
          "text": [
            "Average loss: tensor(1.0911, device='cuda:0', grad_fn=<DivBackward0>)\n",
            "Epoch 39/500, Report:               precision    recall  f1-score   support\n",
            "\n",
            "    Positive       0.46      0.89      0.61      1792\n",
            "     Neutral       0.62      0.11      0.19      2007\n",
            "    Negative       0.18      0.18      0.18       391\n",
            "\n",
            "    accuracy                           0.45      4190\n",
            "   macro avg       0.42      0.39      0.33      4190\n",
            "weighted avg       0.51      0.45      0.37      4190\n",
            "\n"
          ]
        },
        {
          "output_type": "stream",
          "name": "stderr",
          "text": [
            "100%|██████████| 94/94 [00:02<00:00, 37.42it/s]\n"
          ]
        },
        {
          "output_type": "stream",
          "name": "stdout",
          "text": [
            "Average loss: tensor(1.0907, device='cuda:0', grad_fn=<DivBackward0>)\n",
            "Epoch 40/500, Report:               precision    recall  f1-score   support\n",
            "\n",
            "    Positive       0.46      0.89      0.61      1792\n",
            "     Neutral       0.61      0.11      0.18      2007\n",
            "    Negative       0.18      0.20      0.19       391\n",
            "\n",
            "    accuracy                           0.45      4190\n",
            "   macro avg       0.42      0.40      0.33      4190\n",
            "weighted avg       0.51      0.45      0.37      4190\n",
            "\n"
          ]
        },
        {
          "output_type": "stream",
          "name": "stderr",
          "text": [
            "100%|██████████| 94/94 [00:02<00:00, 40.00it/s]\n"
          ]
        },
        {
          "output_type": "stream",
          "name": "stdout",
          "text": [
            "Average loss: tensor(1.0904, device='cuda:0', grad_fn=<DivBackward0>)\n",
            "Epoch 41/500, Report:               precision    recall  f1-score   support\n",
            "\n",
            "    Positive       0.47      0.88      0.61      1792\n",
            "     Neutral       0.62      0.11      0.18      2007\n",
            "    Negative       0.18      0.21      0.20       391\n",
            "\n",
            "    accuracy                           0.45      4190\n",
            "   macro avg       0.42      0.40      0.33      4190\n",
            "weighted avg       0.52      0.45      0.37      4190\n",
            "\n"
          ]
        },
        {
          "output_type": "stream",
          "name": "stderr",
          "text": [
            "100%|██████████| 94/94 [00:02<00:00, 40.56it/s]\n"
          ]
        },
        {
          "output_type": "stream",
          "name": "stdout",
          "text": [
            "Average loss: tensor(1.0898, device='cuda:0', grad_fn=<DivBackward0>)\n",
            "Epoch 42/500, Report:               precision    recall  f1-score   support\n",
            "\n",
            "    Positive       0.47      0.88      0.61      1792\n",
            "     Neutral       0.61      0.10      0.17      2007\n",
            "    Negative       0.18      0.24      0.21       391\n",
            "\n",
            "    accuracy                           0.44      4190\n",
            "   macro avg       0.42      0.41      0.33      4190\n",
            "weighted avg       0.51      0.44      0.36      4190\n",
            "\n"
          ]
        },
        {
          "output_type": "stream",
          "name": "stderr",
          "text": [
            "100%|██████████| 94/94 [00:02<00:00, 41.71it/s]\n"
          ]
        },
        {
          "output_type": "stream",
          "name": "stdout",
          "text": [
            "Average loss: tensor(1.0897, device='cuda:0', grad_fn=<DivBackward0>)\n",
            "Epoch 43/500, Report:               precision    recall  f1-score   support\n",
            "\n",
            "    Positive       0.47      0.87      0.61      1792\n",
            "     Neutral       0.61      0.10      0.17      2007\n",
            "    Negative       0.19      0.26      0.22       391\n",
            "\n",
            "    accuracy                           0.44      4190\n",
            "   macro avg       0.42      0.41      0.33      4190\n",
            "weighted avg       0.51      0.44      0.36      4190\n",
            "\n"
          ]
        },
        {
          "output_type": "stream",
          "name": "stderr",
          "text": [
            "100%|██████████| 94/94 [00:02<00:00, 41.21it/s]\n"
          ]
        },
        {
          "output_type": "stream",
          "name": "stdout",
          "text": [
            "Average loss: tensor(1.0894, device='cuda:0', grad_fn=<DivBackward0>)\n",
            "Epoch 44/500, Report:               precision    recall  f1-score   support\n",
            "\n",
            "    Positive       0.47      0.86      0.61      1792\n",
            "     Neutral       0.62      0.09      0.16      2007\n",
            "    Negative       0.18      0.27      0.22       391\n",
            "\n",
            "    accuracy                           0.44      4190\n",
            "   macro avg       0.42      0.41      0.33      4190\n",
            "weighted avg       0.51      0.44      0.36      4190\n",
            "\n"
          ]
        },
        {
          "output_type": "stream",
          "name": "stderr",
          "text": [
            "100%|██████████| 94/94 [00:02<00:00, 37.26it/s]\n"
          ]
        },
        {
          "output_type": "stream",
          "name": "stdout",
          "text": [
            "Average loss: tensor(1.0891, device='cuda:0', grad_fn=<DivBackward0>)\n",
            "Epoch 45/500, Report:               precision    recall  f1-score   support\n",
            "\n",
            "    Positive       0.47      0.86      0.61      1792\n",
            "     Neutral       0.62      0.09      0.16      2007\n",
            "    Negative       0.18      0.29      0.22       391\n",
            "\n",
            "    accuracy                           0.44      4190\n",
            "   macro avg       0.42      0.41      0.33      4190\n",
            "weighted avg       0.52      0.44      0.36      4190\n",
            "\n"
          ]
        },
        {
          "output_type": "stream",
          "name": "stderr",
          "text": [
            "100%|██████████| 94/94 [00:02<00:00, 39.06it/s]\n"
          ]
        },
        {
          "output_type": "stream",
          "name": "stdout",
          "text": [
            "Average loss: tensor(1.0887, device='cuda:0', grad_fn=<DivBackward0>)\n",
            "Epoch 46/500, Report:               precision    recall  f1-score   support\n",
            "\n",
            "    Positive       0.47      0.86      0.61      1792\n",
            "     Neutral       0.61      0.09      0.16      2007\n",
            "    Negative       0.19      0.31      0.23       391\n",
            "\n",
            "    accuracy                           0.44      4190\n",
            "   macro avg       0.42      0.42      0.33      4190\n",
            "weighted avg       0.51      0.44      0.36      4190\n",
            "\n"
          ]
        },
        {
          "output_type": "stream",
          "name": "stderr",
          "text": [
            "100%|██████████| 94/94 [00:02<00:00, 41.69it/s]\n"
          ]
        },
        {
          "output_type": "stream",
          "name": "stdout",
          "text": [
            "Average loss: tensor(1.0884, device='cuda:0', grad_fn=<DivBackward0>)\n",
            "Epoch 47/500, Report:               precision    recall  f1-score   support\n",
            "\n",
            "    Positive       0.48      0.85      0.61      1792\n",
            "     Neutral       0.61      0.09      0.16      2007\n",
            "    Negative       0.19      0.33      0.24       391\n",
            "\n",
            "    accuracy                           0.44      4190\n",
            "   macro avg       0.42      0.42      0.33      4190\n",
            "weighted avg       0.51      0.44      0.36      4190\n",
            "\n"
          ]
        },
        {
          "output_type": "stream",
          "name": "stderr",
          "text": [
            "100%|██████████| 94/94 [00:02<00:00, 42.03it/s]\n"
          ]
        },
        {
          "output_type": "stream",
          "name": "stdout",
          "text": [
            "Average loss: tensor(1.0881, device='cuda:0', grad_fn=<DivBackward0>)\n",
            "Epoch 48/500, Report:               precision    recall  f1-score   support\n",
            "\n",
            "    Positive       0.48      0.84      0.61      1792\n",
            "     Neutral       0.60      0.08      0.15      2007\n",
            "    Negative       0.18      0.34      0.24       391\n",
            "\n",
            "    accuracy                           0.43      4190\n",
            "   macro avg       0.42      0.42      0.33      4190\n",
            "weighted avg       0.51      0.43      0.35      4190\n",
            "\n"
          ]
        },
        {
          "output_type": "stream",
          "name": "stderr",
          "text": [
            "100%|██████████| 94/94 [00:02<00:00, 37.90it/s]\n"
          ]
        },
        {
          "output_type": "stream",
          "name": "stdout",
          "text": [
            "Average loss: tensor(1.0877, device='cuda:0', grad_fn=<DivBackward0>)\n",
            "Epoch 49/500, Report:               precision    recall  f1-score   support\n",
            "\n",
            "    Positive       0.48      0.84      0.61      1792\n",
            "     Neutral       0.60      0.08      0.14      2007\n",
            "    Negative       0.18      0.37      0.24       391\n",
            "\n",
            "    accuracy                           0.43      4190\n",
            "   macro avg       0.42      0.43      0.33      4190\n",
            "weighted avg       0.51      0.43      0.35      4190\n",
            "\n"
          ]
        },
        {
          "output_type": "stream",
          "name": "stderr",
          "text": [
            "100%|██████████| 94/94 [00:02<00:00, 38.64it/s]\n"
          ]
        },
        {
          "output_type": "stream",
          "name": "stdout",
          "text": [
            "Average loss: tensor(1.0873, device='cuda:0', grad_fn=<DivBackward0>)\n",
            "Epoch 50/500, Report:               precision    recall  f1-score   support\n",
            "\n",
            "    Positive       0.48      0.83      0.61      1792\n",
            "     Neutral       0.61      0.08      0.15      2007\n",
            "    Negative       0.18      0.38      0.24       391\n",
            "\n",
            "    accuracy                           0.43      4190\n",
            "   macro avg       0.42      0.43      0.33      4190\n",
            "weighted avg       0.51      0.43      0.35      4190\n",
            "\n"
          ]
        },
        {
          "output_type": "stream",
          "name": "stderr",
          "text": [
            "100%|██████████| 94/94 [00:02<00:00, 41.28it/s]\n"
          ]
        },
        {
          "output_type": "stream",
          "name": "stdout",
          "text": [
            "Average loss: tensor(1.0870, device='cuda:0', grad_fn=<DivBackward0>)\n",
            "Epoch 51/500, Report:               precision    recall  f1-score   support\n",
            "\n",
            "    Positive       0.48      0.83      0.61      1792\n",
            "     Neutral       0.62      0.08      0.15      2007\n",
            "    Negative       0.18      0.39      0.25       391\n",
            "\n",
            "    accuracy                           0.43      4190\n",
            "   macro avg       0.43      0.43      0.33      4190\n",
            "weighted avg       0.52      0.43      0.35      4190\n",
            "\n"
          ]
        },
        {
          "output_type": "stream",
          "name": "stderr",
          "text": [
            "100%|██████████| 94/94 [00:02<00:00, 40.90it/s]\n"
          ]
        },
        {
          "output_type": "stream",
          "name": "stdout",
          "text": [
            "Average loss: tensor(1.0866, device='cuda:0', grad_fn=<DivBackward0>)\n",
            "Epoch 52/500, Report:               precision    recall  f1-score   support\n",
            "\n",
            "    Positive       0.48      0.82      0.61      1792\n",
            "     Neutral       0.61      0.08      0.14      2007\n",
            "    Negative       0.18      0.40      0.25       391\n",
            "\n",
            "    accuracy                           0.43      4190\n",
            "   macro avg       0.42      0.43      0.33      4190\n",
            "weighted avg       0.51      0.43      0.35      4190\n",
            "\n"
          ]
        },
        {
          "output_type": "stream",
          "name": "stderr",
          "text": [
            "100%|██████████| 94/94 [00:02<00:00, 40.42it/s]\n"
          ]
        },
        {
          "output_type": "stream",
          "name": "stdout",
          "text": [
            "Average loss: tensor(1.0861, device='cuda:0', grad_fn=<DivBackward0>)\n",
            "Epoch 53/500, Report:               precision    recall  f1-score   support\n",
            "\n",
            "    Positive       0.49      0.81      0.61      1792\n",
            "     Neutral       0.62      0.08      0.14      2007\n",
            "    Negative       0.18      0.42      0.25       391\n",
            "\n",
            "    accuracy                           0.43      4190\n",
            "   macro avg       0.43      0.44      0.33      4190\n",
            "weighted avg       0.52      0.43      0.35      4190\n",
            "\n"
          ]
        },
        {
          "output_type": "stream",
          "name": "stderr",
          "text": [
            "100%|██████████| 94/94 [00:02<00:00, 35.74it/s]\n"
          ]
        },
        {
          "output_type": "stream",
          "name": "stdout",
          "text": [
            "Average loss: tensor(1.0859, device='cuda:0', grad_fn=<DivBackward0>)\n",
            "Epoch 54/500, Report:               precision    recall  f1-score   support\n",
            "\n",
            "    Positive       0.49      0.81      0.61      1792\n",
            "     Neutral       0.63      0.08      0.14      2007\n",
            "    Negative       0.18      0.43      0.25       391\n",
            "\n",
            "    accuracy                           0.42      4190\n",
            "   macro avg       0.43      0.44      0.33      4190\n",
            "weighted avg       0.53      0.42      0.35      4190\n",
            "\n"
          ]
        },
        {
          "output_type": "stream",
          "name": "stderr",
          "text": [
            "100%|██████████| 94/94 [00:02<00:00, 39.10it/s]\n"
          ]
        },
        {
          "output_type": "stream",
          "name": "stdout",
          "text": [
            "Average loss: tensor(1.0852, device='cuda:0', grad_fn=<DivBackward0>)\n",
            "Epoch 55/500, Report:               precision    recall  f1-score   support\n",
            "\n",
            "    Positive       0.49      0.80      0.61      1792\n",
            "     Neutral       0.64      0.08      0.14      2007\n",
            "    Negative       0.18      0.45      0.25       391\n",
            "\n",
            "    accuracy                           0.42      4190\n",
            "   macro avg       0.44      0.44      0.33      4190\n",
            "weighted avg       0.53      0.42      0.35      4190\n",
            "\n"
          ]
        },
        {
          "output_type": "stream",
          "name": "stderr",
          "text": [
            "100%|██████████| 94/94 [00:02<00:00, 40.80it/s]\n"
          ]
        },
        {
          "output_type": "stream",
          "name": "stdout",
          "text": [
            "Average loss: tensor(1.0848, device='cuda:0', grad_fn=<DivBackward0>)\n",
            "Epoch 56/500, Report:               precision    recall  f1-score   support\n",
            "\n",
            "    Positive       0.49      0.80      0.61      1792\n",
            "     Neutral       0.64      0.08      0.14      2007\n",
            "    Negative       0.17      0.45      0.25       391\n",
            "\n",
            "    accuracy                           0.42      4190\n",
            "   macro avg       0.43      0.44      0.33      4190\n",
            "weighted avg       0.53      0.42      0.35      4190\n",
            "\n"
          ]
        },
        {
          "output_type": "stream",
          "name": "stderr",
          "text": [
            "100%|██████████| 94/94 [00:02<00:00, 41.19it/s]\n"
          ]
        },
        {
          "output_type": "stream",
          "name": "stdout",
          "text": [
            "Average loss: tensor(1.0845, device='cuda:0', grad_fn=<DivBackward0>)\n",
            "Epoch 57/500, Report:               precision    recall  f1-score   support\n",
            "\n",
            "    Positive       0.49      0.80      0.61      1792\n",
            "     Neutral       0.65      0.08      0.14      2007\n",
            "    Negative       0.17      0.46      0.25       391\n",
            "\n",
            "    accuracy                           0.42      4190\n",
            "   macro avg       0.44      0.44      0.33      4190\n",
            "weighted avg       0.54      0.42      0.35      4190\n",
            "\n"
          ]
        },
        {
          "output_type": "stream",
          "name": "stderr",
          "text": [
            "100%|██████████| 94/94 [00:02<00:00, 35.40it/s]\n"
          ]
        },
        {
          "output_type": "stream",
          "name": "stdout",
          "text": [
            "Average loss: tensor(1.0842, device='cuda:0', grad_fn=<DivBackward0>)\n",
            "Epoch 58/500, Report:               precision    recall  f1-score   support\n",
            "\n",
            "    Positive       0.49      0.79      0.60      1792\n",
            "     Neutral       0.66      0.08      0.14      2007\n",
            "    Negative       0.17      0.46      0.25       391\n",
            "\n",
            "    accuracy                           0.42      4190\n",
            "   macro avg       0.44      0.44      0.33      4190\n",
            "weighted avg       0.54      0.42      0.35      4190\n",
            "\n"
          ]
        },
        {
          "output_type": "stream",
          "name": "stderr",
          "text": [
            "100%|██████████| 94/94 [00:02<00:00, 40.93it/s]\n"
          ]
        },
        {
          "output_type": "stream",
          "name": "stdout",
          "text": [
            "Average loss: tensor(1.0840, device='cuda:0', grad_fn=<DivBackward0>)\n",
            "Epoch 59/500, Report:               precision    recall  f1-score   support\n",
            "\n",
            "    Positive       0.49      0.78      0.60      1792\n",
            "     Neutral       0.65      0.08      0.14      2007\n",
            "    Negative       0.17      0.46      0.24       391\n",
            "\n",
            "    accuracy                           0.42      4190\n",
            "   macro avg       0.43      0.44      0.33      4190\n",
            "weighted avg       0.54      0.42      0.35      4190\n",
            "\n"
          ]
        },
        {
          "output_type": "stream",
          "name": "stderr",
          "text": [
            "100%|██████████| 94/94 [00:02<00:00, 41.31it/s]\n"
          ]
        },
        {
          "output_type": "stream",
          "name": "stdout",
          "text": [
            "Average loss: tensor(1.0833, device='cuda:0', grad_fn=<DivBackward0>)\n",
            "Epoch 60/500, Report:               precision    recall  f1-score   support\n",
            "\n",
            "    Positive       0.49      0.78      0.60      1792\n",
            "     Neutral       0.66      0.08      0.14      2007\n",
            "    Negative       0.16      0.47      0.24       391\n",
            "\n",
            "    accuracy                           0.41      4190\n",
            "   macro avg       0.44      0.44      0.33      4190\n",
            "weighted avg       0.54      0.41      0.35      4190\n",
            "\n"
          ]
        },
        {
          "output_type": "stream",
          "name": "stderr",
          "text": [
            "100%|██████████| 94/94 [00:02<00:00, 41.33it/s]\n"
          ]
        },
        {
          "output_type": "stream",
          "name": "stdout",
          "text": [
            "Average loss: tensor(1.0832, device='cuda:0', grad_fn=<DivBackward0>)\n",
            "Epoch 61/500, Report:               precision    recall  f1-score   support\n",
            "\n",
            "    Positive       0.49      0.78      0.60      1792\n",
            "     Neutral       0.67      0.08      0.14      2007\n",
            "    Negative       0.16      0.47      0.24       391\n",
            "\n",
            "    accuracy                           0.41      4190\n",
            "   macro avg       0.44      0.44      0.33      4190\n",
            "weighted avg       0.54      0.41      0.35      4190\n",
            "\n"
          ]
        },
        {
          "output_type": "stream",
          "name": "stderr",
          "text": [
            "100%|██████████| 94/94 [00:02<00:00, 38.98it/s]\n"
          ]
        },
        {
          "output_type": "stream",
          "name": "stdout",
          "text": [
            "Average loss: tensor(1.0825, device='cuda:0', grad_fn=<DivBackward0>)\n",
            "Epoch 62/500, Report:               precision    recall  f1-score   support\n",
            "\n",
            "    Positive       0.49      0.77      0.60      1792\n",
            "     Neutral       0.66      0.07      0.13      2007\n",
            "    Negative       0.16      0.48      0.24       391\n",
            "\n",
            "    accuracy                           0.41      4190\n",
            "   macro avg       0.44      0.44      0.32      4190\n",
            "weighted avg       0.54      0.41      0.34      4190\n",
            "\n"
          ]
        },
        {
          "output_type": "stream",
          "name": "stderr",
          "text": [
            "100%|██████████| 94/94 [00:02<00:00, 38.65it/s]\n"
          ]
        },
        {
          "output_type": "stream",
          "name": "stdout",
          "text": [
            "Average loss: tensor(1.0823, device='cuda:0', grad_fn=<DivBackward0>)\n",
            "Epoch 63/500, Report:               precision    recall  f1-score   support\n",
            "\n",
            "    Positive       0.49      0.77      0.60      1792\n",
            "     Neutral       0.66      0.07      0.13      2007\n",
            "    Negative       0.16      0.49      0.24       391\n",
            "\n",
            "    accuracy                           0.41      4190\n",
            "   macro avg       0.44      0.44      0.32      4190\n",
            "weighted avg       0.54      0.41      0.34      4190\n",
            "\n"
          ]
        },
        {
          "output_type": "stream",
          "name": "stderr",
          "text": [
            "100%|██████████| 94/94 [00:02<00:00, 40.83it/s]\n"
          ]
        },
        {
          "output_type": "stream",
          "name": "stdout",
          "text": [
            "Average loss: tensor(1.0822, device='cuda:0', grad_fn=<DivBackward0>)\n",
            "Epoch 64/500, Report:               precision    recall  f1-score   support\n",
            "\n",
            "    Positive       0.49      0.76      0.60      1792\n",
            "     Neutral       0.67      0.07      0.13      2007\n",
            "    Negative       0.16      0.49      0.24       391\n",
            "\n",
            "    accuracy                           0.41      4190\n",
            "   macro avg       0.44      0.44      0.33      4190\n",
            "weighted avg       0.55      0.41      0.34      4190\n",
            "\n"
          ]
        },
        {
          "output_type": "stream",
          "name": "stderr",
          "text": [
            "100%|██████████| 94/94 [00:02<00:00, 42.04it/s]\n"
          ]
        },
        {
          "output_type": "stream",
          "name": "stdout",
          "text": [
            "Average loss: tensor(1.0814, device='cuda:0', grad_fn=<DivBackward0>)\n",
            "Epoch 65/500, Report:               precision    recall  f1-score   support\n",
            "\n",
            "    Positive       0.49      0.76      0.60      1792\n",
            "     Neutral       0.67      0.07      0.13      2007\n",
            "    Negative       0.16      0.50      0.24       391\n",
            "\n",
            "    accuracy                           0.41      4190\n",
            "   macro avg       0.44      0.44      0.32      4190\n",
            "weighted avg       0.55      0.41      0.34      4190\n",
            "\n"
          ]
        },
        {
          "output_type": "stream",
          "name": "stderr",
          "text": [
            "100%|██████████| 94/94 [00:02<00:00, 41.82it/s]\n"
          ]
        },
        {
          "output_type": "stream",
          "name": "stdout",
          "text": [
            "Average loss: tensor(1.0815, device='cuda:0', grad_fn=<DivBackward0>)\n",
            "Epoch 66/500, Report:               precision    recall  f1-score   support\n",
            "\n",
            "    Positive       0.50      0.76      0.60      1792\n",
            "     Neutral       0.67      0.07      0.13      2007\n",
            "    Negative       0.16      0.50      0.24       391\n",
            "\n",
            "    accuracy                           0.41      4190\n",
            "   macro avg       0.44      0.44      0.32      4190\n",
            "weighted avg       0.55      0.41      0.34      4190\n",
            "\n"
          ]
        },
        {
          "output_type": "stream",
          "name": "stderr",
          "text": [
            "100%|██████████| 94/94 [00:02<00:00, 36.89it/s]\n"
          ]
        },
        {
          "output_type": "stream",
          "name": "stdout",
          "text": [
            "Average loss: tensor(1.0806, device='cuda:0', grad_fn=<DivBackward0>)\n",
            "Epoch 67/500, Report:               precision    recall  f1-score   support\n",
            "\n",
            "    Positive       0.50      0.76      0.60      1792\n",
            "     Neutral       0.67      0.07      0.13      2007\n",
            "    Negative       0.16      0.50      0.24       391\n",
            "\n",
            "    accuracy                           0.40      4190\n",
            "   macro avg       0.44      0.44      0.32      4190\n",
            "weighted avg       0.55      0.40      0.34      4190\n",
            "\n"
          ]
        },
        {
          "output_type": "stream",
          "name": "stderr",
          "text": [
            "100%|██████████| 94/94 [00:02<00:00, 41.36it/s]\n"
          ]
        },
        {
          "output_type": "stream",
          "name": "stdout",
          "text": [
            "Average loss: tensor(1.0803, device='cuda:0', grad_fn=<DivBackward0>)\n",
            "Epoch 68/500, Report:               precision    recall  f1-score   support\n",
            "\n",
            "    Positive       0.50      0.75      0.60      1792\n",
            "     Neutral       0.68      0.07      0.13      2007\n",
            "    Negative       0.16      0.52      0.24       391\n",
            "\n",
            "    accuracy                           0.40      4190\n",
            "   macro avg       0.45      0.45      0.32      4190\n",
            "weighted avg       0.55      0.40      0.34      4190\n",
            "\n"
          ]
        },
        {
          "output_type": "stream",
          "name": "stderr",
          "text": [
            "100%|██████████| 94/94 [00:02<00:00, 38.92it/s]\n"
          ]
        },
        {
          "output_type": "stream",
          "name": "stdout",
          "text": [
            "Average loss: tensor(1.0804, device='cuda:0', grad_fn=<DivBackward0>)\n",
            "Epoch 69/500, Report:               precision    recall  f1-score   support\n",
            "\n",
            "    Positive       0.50      0.75      0.60      1792\n",
            "     Neutral       0.68      0.07      0.13      2007\n",
            "    Negative       0.16      0.52      0.24       391\n",
            "\n",
            "    accuracy                           0.40      4190\n",
            "   macro avg       0.45      0.45      0.32      4190\n",
            "weighted avg       0.55      0.40      0.34      4190\n",
            "\n"
          ]
        },
        {
          "output_type": "stream",
          "name": "stderr",
          "text": [
            "100%|██████████| 94/94 [00:02<00:00, 41.29it/s]\n"
          ]
        },
        {
          "output_type": "stream",
          "name": "stdout",
          "text": [
            "Average loss: tensor(1.0798, device='cuda:0', grad_fn=<DivBackward0>)\n",
            "Epoch 70/500, Report:               precision    recall  f1-score   support\n",
            "\n",
            "    Positive       0.50      0.75      0.60      1792\n",
            "     Neutral       0.68      0.07      0.13      2007\n",
            "    Negative       0.16      0.52      0.24       391\n",
            "\n",
            "    accuracy                           0.40      4190\n",
            "   macro avg       0.45      0.45      0.32      4190\n",
            "weighted avg       0.55      0.40      0.34      4190\n",
            "\n"
          ]
        },
        {
          "output_type": "stream",
          "name": "stderr",
          "text": [
            "100%|██████████| 94/94 [00:02<00:00, 39.01it/s]\n"
          ]
        },
        {
          "output_type": "stream",
          "name": "stdout",
          "text": [
            "Average loss: tensor(1.0793, device='cuda:0', grad_fn=<DivBackward0>)\n",
            "Epoch 71/500, Report:               precision    recall  f1-score   support\n",
            "\n",
            "    Positive       0.50      0.74      0.60      1792\n",
            "     Neutral       0.67      0.07      0.13      2007\n",
            "    Negative       0.16      0.52      0.24       391\n",
            "\n",
            "    accuracy                           0.40      4190\n",
            "   macro avg       0.44      0.45      0.32      4190\n",
            "weighted avg       0.55      0.40      0.34      4190\n",
            "\n"
          ]
        },
        {
          "output_type": "stream",
          "name": "stderr",
          "text": [
            "100%|██████████| 94/94 [00:02<00:00, 35.03it/s]\n"
          ]
        },
        {
          "output_type": "stream",
          "name": "stdout",
          "text": [
            "Average loss: tensor(1.0786, device='cuda:0', grad_fn=<DivBackward0>)\n",
            "Epoch 72/500, Report:               precision    recall  f1-score   support\n",
            "\n",
            "    Positive       0.50      0.74      0.60      1792\n",
            "     Neutral       0.67      0.07      0.12      2007\n",
            "    Negative       0.16      0.54      0.25       391\n",
            "\n",
            "    accuracy                           0.40      4190\n",
            "   macro avg       0.44      0.45      0.32      4190\n",
            "weighted avg       0.55      0.40      0.34      4190\n",
            "\n"
          ]
        },
        {
          "output_type": "stream",
          "name": "stderr",
          "text": [
            "100%|██████████| 94/94 [00:02<00:00, 40.76it/s]\n"
          ]
        },
        {
          "output_type": "stream",
          "name": "stdout",
          "text": [
            "Average loss: tensor(1.0785, device='cuda:0', grad_fn=<DivBackward0>)\n",
            "Epoch 73/500, Report:               precision    recall  f1-score   support\n",
            "\n",
            "    Positive       0.50      0.74      0.60      1792\n",
            "     Neutral       0.68      0.07      0.13      2007\n",
            "    Negative       0.16      0.54      0.25       391\n",
            "\n",
            "    accuracy                           0.40      4190\n",
            "   macro avg       0.45      0.45      0.32      4190\n",
            "weighted avg       0.55      0.40      0.34      4190\n",
            "\n"
          ]
        },
        {
          "output_type": "stream",
          "name": "stderr",
          "text": [
            "100%|██████████| 94/94 [00:02<00:00, 41.64it/s]\n"
          ]
        },
        {
          "output_type": "stream",
          "name": "stdout",
          "text": [
            "Average loss: tensor(1.0786, device='cuda:0', grad_fn=<DivBackward0>)\n",
            "Epoch 74/500, Report:               precision    recall  f1-score   support\n",
            "\n",
            "    Positive       0.50      0.74      0.60      1792\n",
            "     Neutral       0.68      0.07      0.13      2007\n",
            "    Negative       0.16      0.54      0.25       391\n",
            "\n",
            "    accuracy                           0.40      4190\n",
            "   macro avg       0.45      0.45      0.32      4190\n",
            "weighted avg       0.55      0.40      0.34      4190\n",
            "\n"
          ]
        },
        {
          "output_type": "stream",
          "name": "stderr",
          "text": [
            "100%|██████████| 94/94 [00:02<00:00, 40.81it/s]\n"
          ]
        },
        {
          "output_type": "stream",
          "name": "stdout",
          "text": [
            "Average loss: tensor(1.0781, device='cuda:0', grad_fn=<DivBackward0>)\n",
            "Epoch 75/500, Report:               precision    recall  f1-score   support\n",
            "\n",
            "    Positive       0.50      0.73      0.59      1792\n",
            "     Neutral       0.67      0.07      0.13      2007\n",
            "    Negative       0.16      0.55      0.25       391\n",
            "\n",
            "    accuracy                           0.40      4190\n",
            "   macro avg       0.44      0.45      0.32      4190\n",
            "weighted avg       0.55      0.40      0.34      4190\n",
            "\n"
          ]
        },
        {
          "output_type": "stream",
          "name": "stderr",
          "text": [
            "100%|██████████| 94/94 [00:02<00:00, 36.82it/s]\n"
          ]
        },
        {
          "output_type": "stream",
          "name": "stdout",
          "text": [
            "Average loss: tensor(1.0772, device='cuda:0', grad_fn=<DivBackward0>)\n",
            "Epoch 76/500, Report:               precision    recall  f1-score   support\n",
            "\n",
            "    Positive       0.50      0.73      0.59      1792\n",
            "     Neutral       0.67      0.07      0.13      2007\n",
            "    Negative       0.16      0.55      0.25       391\n",
            "\n",
            "    accuracy                           0.40      4190\n",
            "   macro avg       0.44      0.45      0.32      4190\n",
            "weighted avg       0.55      0.40      0.34      4190\n",
            "\n"
          ]
        },
        {
          "output_type": "stream",
          "name": "stderr",
          "text": [
            "100%|██████████| 94/94 [00:02<00:00, 41.00it/s]\n"
          ]
        },
        {
          "output_type": "stream",
          "name": "stdout",
          "text": [
            "Average loss: tensor(1.0769, device='cuda:0', grad_fn=<DivBackward0>)\n",
            "Epoch 77/500, Report:               precision    recall  f1-score   support\n",
            "\n",
            "    Positive       0.50      0.72      0.59      1792\n",
            "     Neutral       0.67      0.07      0.13      2007\n",
            "    Negative       0.16      0.55      0.25       391\n",
            "\n",
            "    accuracy                           0.40      4190\n",
            "   macro avg       0.44      0.45      0.32      4190\n",
            "weighted avg       0.55      0.40      0.34      4190\n",
            "\n"
          ]
        },
        {
          "output_type": "stream",
          "name": "stderr",
          "text": [
            "100%|██████████| 94/94 [00:02<00:00, 40.99it/s]\n"
          ]
        },
        {
          "output_type": "stream",
          "name": "stdout",
          "text": [
            "Average loss: tensor(1.0770, device='cuda:0', grad_fn=<DivBackward0>)\n",
            "Epoch 78/500, Report:               precision    recall  f1-score   support\n",
            "\n",
            "    Positive       0.50      0.72      0.59      1792\n",
            "     Neutral       0.66      0.07      0.13      2007\n",
            "    Negative       0.16      0.55      0.24       391\n",
            "\n",
            "    accuracy                           0.40      4190\n",
            "   macro avg       0.44      0.45      0.32      4190\n",
            "weighted avg       0.54      0.40      0.34      4190\n",
            "\n"
          ]
        },
        {
          "output_type": "stream",
          "name": "stderr",
          "text": [
            "100%|██████████| 94/94 [00:02<00:00, 40.37it/s]\n"
          ]
        },
        {
          "output_type": "stream",
          "name": "stdout",
          "text": [
            "Average loss: tensor(1.0761, device='cuda:0', grad_fn=<DivBackward0>)\n",
            "Epoch 79/500, Report:               precision    recall  f1-score   support\n",
            "\n",
            "    Positive       0.50      0.72      0.59      1792\n",
            "     Neutral       0.65      0.08      0.13      2007\n",
            "    Negative       0.16      0.55      0.24       391\n",
            "\n",
            "    accuracy                           0.40      4190\n",
            "   macro avg       0.44      0.45      0.32      4190\n",
            "weighted avg       0.54      0.40      0.34      4190\n",
            "\n"
          ]
        },
        {
          "output_type": "stream",
          "name": "stderr",
          "text": [
            "100%|██████████| 94/94 [00:02<00:00, 36.09it/s]\n"
          ]
        },
        {
          "output_type": "stream",
          "name": "stdout",
          "text": [
            "Average loss: tensor(1.0761, device='cuda:0', grad_fn=<DivBackward0>)\n",
            "Epoch 80/500, Report:               precision    recall  f1-score   support\n",
            "\n",
            "    Positive       0.50      0.72      0.59      1792\n",
            "     Neutral       0.66      0.08      0.14      2007\n",
            "    Negative       0.16      0.55      0.24       391\n",
            "\n",
            "    accuracy                           0.39      4190\n",
            "   macro avg       0.44      0.45      0.32      4190\n",
            "weighted avg       0.54      0.39      0.34      4190\n",
            "\n"
          ]
        },
        {
          "output_type": "stream",
          "name": "stderr",
          "text": [
            "100%|██████████| 94/94 [00:02<00:00, 40.46it/s]\n"
          ]
        },
        {
          "output_type": "stream",
          "name": "stdout",
          "text": [
            "Average loss: tensor(1.0757, device='cuda:0', grad_fn=<DivBackward0>)\n",
            "Epoch 81/500, Report:               precision    recall  f1-score   support\n",
            "\n",
            "    Positive       0.50      0.71      0.59      1792\n",
            "     Neutral       0.65      0.08      0.14      2007\n",
            "    Negative       0.16      0.55      0.24       391\n",
            "\n",
            "    accuracy                           0.39      4190\n",
            "   macro avg       0.44      0.45      0.32      4190\n",
            "weighted avg       0.54      0.39      0.34      4190\n",
            "\n"
          ]
        },
        {
          "output_type": "stream",
          "name": "stderr",
          "text": [
            "100%|██████████| 94/94 [00:02<00:00, 40.61it/s]\n"
          ]
        },
        {
          "output_type": "stream",
          "name": "stdout",
          "text": [
            "Average loss: tensor(1.0752, device='cuda:0', grad_fn=<DivBackward0>)\n",
            "Epoch 82/500, Report:               precision    recall  f1-score   support\n",
            "\n",
            "    Positive       0.50      0.71      0.59      1792\n",
            "     Neutral       0.66      0.08      0.14      2007\n",
            "    Negative       0.16      0.57      0.25       391\n",
            "\n",
            "    accuracy                           0.39      4190\n",
            "   macro avg       0.44      0.45      0.32      4190\n",
            "weighted avg       0.54      0.39      0.34      4190\n",
            "\n"
          ]
        },
        {
          "output_type": "stream",
          "name": "stderr",
          "text": [
            "100%|██████████| 94/94 [00:02<00:00, 41.15it/s]\n"
          ]
        },
        {
          "output_type": "stream",
          "name": "stdout",
          "text": [
            "Average loss: tensor(1.0753, device='cuda:0', grad_fn=<DivBackward0>)\n",
            "Epoch 83/500, Report:               precision    recall  f1-score   support\n",
            "\n",
            "    Positive       0.50      0.71      0.59      1792\n",
            "     Neutral       0.65      0.08      0.14      2007\n",
            "    Negative       0.16      0.57      0.25       391\n",
            "\n",
            "    accuracy                           0.39      4190\n",
            "   macro avg       0.44      0.45      0.32      4190\n",
            "weighted avg       0.54      0.39      0.34      4190\n",
            "\n"
          ]
        },
        {
          "output_type": "stream",
          "name": "stderr",
          "text": [
            "100%|██████████| 94/94 [00:02<00:00, 39.85it/s]\n"
          ]
        },
        {
          "output_type": "stream",
          "name": "stdout",
          "text": [
            "Average loss: tensor(1.0748, device='cuda:0', grad_fn=<DivBackward0>)\n",
            "Epoch 84/500, Report:               precision    recall  f1-score   support\n",
            "\n",
            "    Positive       0.50      0.71      0.59      1792\n",
            "     Neutral       0.65      0.08      0.14      2007\n",
            "    Negative       0.16      0.57      0.25       391\n",
            "\n",
            "    accuracy                           0.39      4190\n",
            "   macro avg       0.44      0.45      0.33      4190\n",
            "weighted avg       0.54      0.39      0.34      4190\n",
            "\n"
          ]
        },
        {
          "output_type": "stream",
          "name": "stderr",
          "text": [
            "100%|██████████| 94/94 [00:02<00:00, 36.51it/s]\n"
          ]
        },
        {
          "output_type": "stream",
          "name": "stdout",
          "text": [
            "Average loss: tensor(1.0745, device='cuda:0', grad_fn=<DivBackward0>)\n",
            "Epoch 85/500, Report:               precision    recall  f1-score   support\n",
            "\n",
            "    Positive       0.50      0.71      0.59      1792\n",
            "     Neutral       0.64      0.08      0.14      2007\n",
            "    Negative       0.16      0.57      0.25       391\n",
            "\n",
            "    accuracy                           0.39      4190\n",
            "   macro avg       0.43      0.45      0.33      4190\n",
            "weighted avg       0.54      0.39      0.34      4190\n",
            "\n"
          ]
        },
        {
          "output_type": "stream",
          "name": "stderr",
          "text": [
            "100%|██████████| 94/94 [00:02<00:00, 37.13it/s]\n"
          ]
        },
        {
          "output_type": "stream",
          "name": "stdout",
          "text": [
            "Average loss: tensor(1.0739, device='cuda:0', grad_fn=<DivBackward0>)\n",
            "Epoch 86/500, Report:               precision    recall  f1-score   support\n",
            "\n",
            "    Positive       0.50      0.71      0.59      1792\n",
            "     Neutral       0.64      0.08      0.15      2007\n",
            "    Negative       0.16      0.57      0.25       391\n",
            "\n",
            "    accuracy                           0.39      4190\n",
            "   macro avg       0.43      0.45      0.33      4190\n",
            "weighted avg       0.53      0.39      0.34      4190\n",
            "\n"
          ]
        },
        {
          "output_type": "stream",
          "name": "stderr",
          "text": [
            "100%|██████████| 94/94 [00:02<00:00, 40.07it/s]\n"
          ]
        },
        {
          "output_type": "stream",
          "name": "stdout",
          "text": [
            "Average loss: tensor(1.0735, device='cuda:0', grad_fn=<DivBackward0>)\n",
            "Epoch 87/500, Report:               precision    recall  f1-score   support\n",
            "\n",
            "    Positive       0.50      0.70      0.59      1792\n",
            "     Neutral       0.63      0.08      0.15      2007\n",
            "    Negative       0.16      0.58      0.25       391\n",
            "\n",
            "    accuracy                           0.39      4190\n",
            "   macro avg       0.43      0.45      0.33      4190\n",
            "weighted avg       0.53      0.39      0.34      4190\n",
            "\n"
          ]
        },
        {
          "output_type": "stream",
          "name": "stderr",
          "text": [
            "100%|██████████| 94/94 [00:02<00:00, 40.56it/s]\n"
          ]
        },
        {
          "output_type": "stream",
          "name": "stdout",
          "text": [
            "Average loss: tensor(1.0733, device='cuda:0', grad_fn=<DivBackward0>)\n",
            "Epoch 88/500, Report:               precision    recall  f1-score   support\n",
            "\n",
            "    Positive       0.51      0.70      0.59      1792\n",
            "     Neutral       0.63      0.08      0.15      2007\n",
            "    Negative       0.16      0.58      0.25       391\n",
            "\n",
            "    accuracy                           0.39      4190\n",
            "   macro avg       0.43      0.45      0.33      4190\n",
            "weighted avg       0.53      0.39      0.34      4190\n",
            "\n"
          ]
        },
        {
          "output_type": "stream",
          "name": "stderr",
          "text": [
            "100%|██████████| 94/94 [00:02<00:00, 36.12it/s]\n"
          ]
        },
        {
          "output_type": "stream",
          "name": "stdout",
          "text": [
            "Average loss: tensor(1.0734, device='cuda:0', grad_fn=<DivBackward0>)\n",
            "Epoch 89/500, Report:               precision    recall  f1-score   support\n",
            "\n",
            "    Positive       0.51      0.70      0.59      1792\n",
            "     Neutral       0.64      0.08      0.15      2007\n",
            "    Negative       0.16      0.58      0.25       391\n",
            "\n",
            "    accuracy                           0.39      4190\n",
            "   macro avg       0.43      0.45      0.33      4190\n",
            "weighted avg       0.54      0.39      0.35      4190\n",
            "\n"
          ]
        },
        {
          "output_type": "stream",
          "name": "stderr",
          "text": [
            "100%|██████████| 94/94 [00:02<00:00, 40.64it/s]\n"
          ]
        },
        {
          "output_type": "stream",
          "name": "stdout",
          "text": [
            "Average loss: tensor(1.0731, device='cuda:0', grad_fn=<DivBackward0>)\n",
            "Epoch 90/500, Report:               precision    recall  f1-score   support\n",
            "\n",
            "    Positive       0.51      0.70      0.59      1792\n",
            "     Neutral       0.63      0.09      0.15      2007\n",
            "    Negative       0.16      0.58      0.25       391\n",
            "\n",
            "    accuracy                           0.39      4190\n",
            "   macro avg       0.43      0.45      0.33      4190\n",
            "weighted avg       0.53      0.39      0.35      4190\n",
            "\n"
          ]
        },
        {
          "output_type": "stream",
          "name": "stderr",
          "text": [
            "100%|██████████| 94/94 [00:02<00:00, 39.66it/s]\n"
          ]
        },
        {
          "output_type": "stream",
          "name": "stdout",
          "text": [
            "Average loss: tensor(1.0722, device='cuda:0', grad_fn=<DivBackward0>)\n",
            "Epoch 91/500, Report:               precision    recall  f1-score   support\n",
            "\n",
            "    Positive       0.51      0.69      0.58      1792\n",
            "     Neutral       0.62      0.09      0.15      2007\n",
            "    Negative       0.16      0.58      0.25       391\n",
            "\n",
            "    accuracy                           0.39      4190\n",
            "   macro avg       0.43      0.45      0.33      4190\n",
            "weighted avg       0.53      0.39      0.35      4190\n",
            "\n"
          ]
        },
        {
          "output_type": "stream",
          "name": "stderr",
          "text": [
            "100%|██████████| 94/94 [00:02<00:00, 41.09it/s]\n"
          ]
        },
        {
          "output_type": "stream",
          "name": "stdout",
          "text": [
            "Average loss: tensor(1.0722, device='cuda:0', grad_fn=<DivBackward0>)\n",
            "Epoch 92/500, Report:               precision    recall  f1-score   support\n",
            "\n",
            "    Positive       0.51      0.69      0.58      1792\n",
            "     Neutral       0.63      0.09      0.16      2007\n",
            "    Negative       0.16      0.58      0.25       391\n",
            "\n",
            "    accuracy                           0.39      4190\n",
            "   macro avg       0.43      0.45      0.33      4190\n",
            "weighted avg       0.53      0.39      0.35      4190\n",
            "\n"
          ]
        },
        {
          "output_type": "stream",
          "name": "stderr",
          "text": [
            "100%|██████████| 94/94 [00:02<00:00, 37.23it/s]\n"
          ]
        },
        {
          "output_type": "stream",
          "name": "stdout",
          "text": [
            "Average loss: tensor(1.0719, device='cuda:0', grad_fn=<DivBackward0>)\n",
            "Epoch 93/500, Report:               precision    recall  f1-score   support\n",
            "\n",
            "    Positive       0.51      0.69      0.58      1792\n",
            "     Neutral       0.62      0.09      0.16      2007\n",
            "    Negative       0.16      0.58      0.25       391\n",
            "\n",
            "    accuracy                           0.39      4190\n",
            "   macro avg       0.43      0.45      0.33      4190\n",
            "weighted avg       0.53      0.39      0.35      4190\n",
            "\n"
          ]
        },
        {
          "output_type": "stream",
          "name": "stderr",
          "text": [
            "100%|██████████| 94/94 [00:02<00:00, 39.92it/s]\n"
          ]
        },
        {
          "output_type": "stream",
          "name": "stdout",
          "text": [
            "Average loss: tensor(1.0724, device='cuda:0', grad_fn=<DivBackward0>)\n",
            "Epoch 94/500, Report:               precision    recall  f1-score   support\n",
            "\n",
            "    Positive       0.51      0.69      0.58      1792\n",
            "     Neutral       0.63      0.10      0.17      2007\n",
            "    Negative       0.16      0.58      0.25       391\n",
            "\n",
            "    accuracy                           0.39      4190\n",
            "   macro avg       0.43      0.46      0.33      4190\n",
            "weighted avg       0.53      0.39      0.35      4190\n",
            "\n"
          ]
        },
        {
          "output_type": "stream",
          "name": "stderr",
          "text": [
            "100%|██████████| 94/94 [00:02<00:00, 41.78it/s]\n"
          ]
        },
        {
          "output_type": "stream",
          "name": "stdout",
          "text": [
            "Average loss: tensor(1.0712, device='cuda:0', grad_fn=<DivBackward0>)\n",
            "Epoch 95/500, Report:               precision    recall  f1-score   support\n",
            "\n",
            "    Positive       0.51      0.69      0.58      1792\n",
            "     Neutral       0.62      0.10      0.17      2007\n",
            "    Negative       0.16      0.58      0.25       391\n",
            "\n",
            "    accuracy                           0.40      4190\n",
            "   macro avg       0.43      0.45      0.33      4190\n",
            "weighted avg       0.53      0.40      0.35      4190\n",
            "\n"
          ]
        },
        {
          "output_type": "stream",
          "name": "stderr",
          "text": [
            "100%|██████████| 94/94 [00:02<00:00, 41.74it/s]\n"
          ]
        },
        {
          "output_type": "stream",
          "name": "stdout",
          "text": [
            "Average loss: tensor(1.0712, device='cuda:0', grad_fn=<DivBackward0>)\n",
            "Epoch 96/500, Report:               precision    recall  f1-score   support\n",
            "\n",
            "    Positive       0.51      0.69      0.59      1792\n",
            "     Neutral       0.62      0.10      0.17      2007\n",
            "    Negative       0.16      0.58      0.25       391\n",
            "\n",
            "    accuracy                           0.40      4190\n",
            "   macro avg       0.43      0.45      0.33      4190\n",
            "weighted avg       0.53      0.40      0.35      4190\n",
            "\n"
          ]
        },
        {
          "output_type": "stream",
          "name": "stderr",
          "text": [
            "100%|██████████| 94/94 [00:02<00:00, 41.23it/s]\n"
          ]
        },
        {
          "output_type": "stream",
          "name": "stdout",
          "text": [
            "Average loss: tensor(1.0716, device='cuda:0', grad_fn=<DivBackward0>)\n",
            "Epoch 97/500, Report:               precision    recall  f1-score   support\n",
            "\n",
            "    Positive       0.51      0.69      0.58      1792\n",
            "     Neutral       0.61      0.10      0.17      2007\n",
            "    Negative       0.16      0.57      0.25       391\n",
            "\n",
            "    accuracy                           0.39      4190\n",
            "   macro avg       0.42      0.45      0.33      4190\n",
            "weighted avg       0.52      0.39      0.35      4190\n",
            "\n"
          ]
        },
        {
          "output_type": "stream",
          "name": "stderr",
          "text": [
            "100%|██████████| 94/94 [00:02<00:00, 36.37it/s]\n"
          ]
        },
        {
          "output_type": "stream",
          "name": "stdout",
          "text": [
            "Average loss: tensor(1.0707, device='cuda:0', grad_fn=<DivBackward0>)\n",
            "Epoch 98/500, Report:               precision    recall  f1-score   support\n",
            "\n",
            "    Positive       0.51      0.69      0.58      1792\n",
            "     Neutral       0.61      0.10      0.17      2007\n",
            "    Negative       0.16      0.57      0.25       391\n",
            "\n",
            "    accuracy                           0.40      4190\n",
            "   macro avg       0.42      0.45      0.33      4190\n",
            "weighted avg       0.52      0.40      0.36      4190\n",
            "\n"
          ]
        },
        {
          "output_type": "stream",
          "name": "stderr",
          "text": [
            "100%|██████████| 94/94 [00:02<00:00, 36.70it/s]\n"
          ]
        },
        {
          "output_type": "stream",
          "name": "stdout",
          "text": [
            "Average loss: tensor(1.0706, device='cuda:0', grad_fn=<DivBackward0>)\n",
            "Epoch 99/500, Report:               precision    recall  f1-score   support\n",
            "\n",
            "    Positive       0.51      0.68      0.58      1792\n",
            "     Neutral       0.61      0.10      0.17      2007\n",
            "    Negative       0.16      0.58      0.25       391\n",
            "\n",
            "    accuracy                           0.39      4190\n",
            "   macro avg       0.42      0.45      0.33      4190\n",
            "weighted avg       0.52      0.39      0.36      4190\n",
            "\n"
          ]
        },
        {
          "output_type": "stream",
          "name": "stderr",
          "text": [
            "100%|██████████| 94/94 [00:02<00:00, 40.54it/s]\n"
          ]
        },
        {
          "output_type": "stream",
          "name": "stdout",
          "text": [
            "Average loss: tensor(1.0698, device='cuda:0', grad_fn=<DivBackward0>)\n",
            "Epoch 100/500, Report:               precision    recall  f1-score   support\n",
            "\n",
            "    Positive       0.51      0.68      0.58      1792\n",
            "     Neutral       0.60      0.10      0.18      2007\n",
            "    Negative       0.16      0.58      0.25       391\n",
            "\n",
            "    accuracy                           0.40      4190\n",
            "   macro avg       0.42      0.45      0.34      4190\n",
            "weighted avg       0.52      0.40      0.36      4190\n",
            "\n"
          ]
        },
        {
          "output_type": "stream",
          "name": "stderr",
          "text": [
            "100%|██████████| 94/94 [00:02<00:00, 39.90it/s]\n"
          ]
        },
        {
          "output_type": "stream",
          "name": "stdout",
          "text": [
            "Average loss: tensor(1.0701, device='cuda:0', grad_fn=<DivBackward0>)\n",
            "Epoch 101/500, Report:               precision    recall  f1-score   support\n",
            "\n",
            "    Positive       0.51      0.68      0.58      1792\n",
            "     Neutral       0.61      0.10      0.18      2007\n",
            "    Negative       0.16      0.58      0.25       391\n",
            "\n",
            "    accuracy                           0.40      4190\n",
            "   macro avg       0.42      0.45      0.34      4190\n",
            "weighted avg       0.52      0.40      0.36      4190\n",
            "\n"
          ]
        },
        {
          "output_type": "stream",
          "name": "stderr",
          "text": [
            "100%|██████████| 94/94 [00:02<00:00, 35.46it/s]\n"
          ]
        },
        {
          "output_type": "stream",
          "name": "stdout",
          "text": [
            "Average loss: tensor(1.0700, device='cuda:0', grad_fn=<DivBackward0>)\n",
            "Epoch 102/500, Report:               precision    recall  f1-score   support\n",
            "\n",
            "    Positive       0.51      0.68      0.58      1792\n",
            "     Neutral       0.61      0.11      0.18      2007\n",
            "    Negative       0.16      0.58      0.25       391\n",
            "\n",
            "    accuracy                           0.40      4190\n",
            "   macro avg       0.42      0.45      0.34      4190\n",
            "weighted avg       0.52      0.40      0.36      4190\n",
            "\n"
          ]
        },
        {
          "output_type": "stream",
          "name": "stderr",
          "text": [
            "100%|██████████| 94/94 [00:02<00:00, 40.90it/s]\n"
          ]
        },
        {
          "output_type": "stream",
          "name": "stdout",
          "text": [
            "Average loss: tensor(1.0687, device='cuda:0', grad_fn=<DivBackward0>)\n",
            "Epoch 103/500, Report:               precision    recall  f1-score   support\n",
            "\n",
            "    Positive       0.51      0.68      0.58      1792\n",
            "     Neutral       0.61      0.11      0.18      2007\n",
            "    Negative       0.16      0.58      0.25       391\n",
            "\n",
            "    accuracy                           0.40      4190\n",
            "   macro avg       0.42      0.46      0.34      4190\n",
            "weighted avg       0.52      0.40      0.36      4190\n",
            "\n"
          ]
        },
        {
          "output_type": "stream",
          "name": "stderr",
          "text": [
            "100%|██████████| 94/94 [00:02<00:00, 41.42it/s]\n"
          ]
        },
        {
          "output_type": "stream",
          "name": "stdout",
          "text": [
            "Average loss: tensor(1.0693, device='cuda:0', grad_fn=<DivBackward0>)\n",
            "Epoch 104/500, Report:               precision    recall  f1-score   support\n",
            "\n",
            "    Positive       0.51      0.68      0.58      1792\n",
            "     Neutral       0.61      0.11      0.19      2007\n",
            "    Negative       0.16      0.58      0.25       391\n",
            "\n",
            "    accuracy                           0.40      4190\n",
            "   macro avg       0.42      0.46      0.34      4190\n",
            "weighted avg       0.52      0.40      0.36      4190\n",
            "\n"
          ]
        },
        {
          "output_type": "stream",
          "name": "stderr",
          "text": [
            "100%|██████████| 94/94 [00:02<00:00, 40.15it/s]\n"
          ]
        },
        {
          "output_type": "stream",
          "name": "stdout",
          "text": [
            "Average loss: tensor(1.0691, device='cuda:0', grad_fn=<DivBackward0>)\n",
            "Epoch 105/500, Report:               precision    recall  f1-score   support\n",
            "\n",
            "    Positive       0.51      0.68      0.58      1792\n",
            "     Neutral       0.60      0.11      0.19      2007\n",
            "    Negative       0.16      0.58      0.25       391\n",
            "\n",
            "    accuracy                           0.40      4190\n",
            "   macro avg       0.42      0.46      0.34      4190\n",
            "weighted avg       0.52      0.40      0.36      4190\n",
            "\n"
          ]
        },
        {
          "output_type": "stream",
          "name": "stderr",
          "text": [
            "100%|██████████| 94/94 [00:02<00:00, 38.21it/s]\n"
          ]
        },
        {
          "output_type": "stream",
          "name": "stdout",
          "text": [
            "Average loss: tensor(1.0688, device='cuda:0', grad_fn=<DivBackward0>)\n",
            "Epoch 106/500, Report:               precision    recall  f1-score   support\n",
            "\n",
            "    Positive       0.51      0.68      0.58      1792\n",
            "     Neutral       0.60      0.11      0.19      2007\n",
            "    Negative       0.16      0.58      0.25       391\n",
            "\n",
            "    accuracy                           0.40      4190\n",
            "   macro avg       0.42      0.46      0.34      4190\n",
            "weighted avg       0.52      0.40      0.36      4190\n",
            "\n"
          ]
        },
        {
          "output_type": "stream",
          "name": "stderr",
          "text": [
            "100%|██████████| 94/94 [00:02<00:00, 33.67it/s]\n"
          ]
        },
        {
          "output_type": "stream",
          "name": "stdout",
          "text": [
            "Average loss: tensor(1.0689, device='cuda:0', grad_fn=<DivBackward0>)\n",
            "Epoch 107/500, Report:               precision    recall  f1-score   support\n",
            "\n",
            "    Positive       0.51      0.68      0.58      1792\n",
            "     Neutral       0.60      0.11      0.19      2007\n",
            "    Negative       0.16      0.58      0.25       391\n",
            "\n",
            "    accuracy                           0.40      4190\n",
            "   macro avg       0.42      0.46      0.34      4190\n",
            "weighted avg       0.52      0.40      0.36      4190\n",
            "\n"
          ]
        },
        {
          "output_type": "stream",
          "name": "stderr",
          "text": [
            "100%|██████████| 94/94 [00:02<00:00, 41.71it/s]\n"
          ]
        },
        {
          "output_type": "stream",
          "name": "stdout",
          "text": [
            "Average loss: tensor(1.0685, device='cuda:0', grad_fn=<DivBackward0>)\n",
            "Epoch 108/500, Report:               precision    recall  f1-score   support\n",
            "\n",
            "    Positive       0.51      0.68      0.58      1792\n",
            "     Neutral       0.60      0.12      0.20      2007\n",
            "    Negative       0.16      0.58      0.25       391\n",
            "\n",
            "    accuracy                           0.40      4190\n",
            "   macro avg       0.42      0.46      0.34      4190\n",
            "weighted avg       0.52      0.40      0.37      4190\n",
            "\n"
          ]
        },
        {
          "output_type": "stream",
          "name": "stderr",
          "text": [
            "100%|██████████| 94/94 [00:02<00:00, 40.69it/s]\n"
          ]
        },
        {
          "output_type": "stream",
          "name": "stdout",
          "text": [
            "Average loss: tensor(1.0674, device='cuda:0', grad_fn=<DivBackward0>)\n",
            "Epoch 109/500, Report:               precision    recall  f1-score   support\n",
            "\n",
            "    Positive       0.51      0.68      0.58      1792\n",
            "     Neutral       0.60      0.12      0.20      2007\n",
            "    Negative       0.16      0.58      0.25       391\n",
            "\n",
            "    accuracy                           0.40      4190\n",
            "   macro avg       0.42      0.46      0.34      4190\n",
            "weighted avg       0.52      0.40      0.37      4190\n",
            "\n"
          ]
        },
        {
          "output_type": "stream",
          "name": "stderr",
          "text": [
            "100%|██████████| 94/94 [00:02<00:00, 40.17it/s]\n"
          ]
        },
        {
          "output_type": "stream",
          "name": "stdout",
          "text": [
            "Average loss: tensor(1.0677, device='cuda:0', grad_fn=<DivBackward0>)\n",
            "Epoch 110/500, Report:               precision    recall  f1-score   support\n",
            "\n",
            "    Positive       0.51      0.67      0.58      1792\n",
            "     Neutral       0.60      0.12      0.20      2007\n",
            "    Negative       0.16      0.58      0.25       391\n",
            "\n",
            "    accuracy                           0.40      4190\n",
            "   macro avg       0.42      0.46      0.34      4190\n",
            "weighted avg       0.52      0.40      0.37      4190\n",
            "\n"
          ]
        },
        {
          "output_type": "stream",
          "name": "stderr",
          "text": [
            "100%|██████████| 94/94 [00:02<00:00, 35.09it/s]\n"
          ]
        },
        {
          "output_type": "stream",
          "name": "stdout",
          "text": [
            "Average loss: tensor(1.0671, device='cuda:0', grad_fn=<DivBackward0>)\n",
            "Epoch 111/500, Report:               precision    recall  f1-score   support\n",
            "\n",
            "    Positive       0.51      0.67      0.58      1792\n",
            "     Neutral       0.60      0.12      0.20      2007\n",
            "    Negative       0.16      0.58      0.25       391\n",
            "\n",
            "    accuracy                           0.40      4190\n",
            "   macro avg       0.42      0.46      0.34      4190\n",
            "weighted avg       0.52      0.40      0.37      4190\n",
            "\n"
          ]
        },
        {
          "output_type": "stream",
          "name": "stderr",
          "text": [
            "100%|██████████| 94/94 [00:02<00:00, 41.36it/s]\n"
          ]
        },
        {
          "output_type": "stream",
          "name": "stdout",
          "text": [
            "Average loss: tensor(1.0674, device='cuda:0', grad_fn=<DivBackward0>)\n",
            "Epoch 112/500, Report:               precision    recall  f1-score   support\n",
            "\n",
            "    Positive       0.51      0.67      0.58      1792\n",
            "     Neutral       0.60      0.12      0.21      2007\n",
            "    Negative       0.16      0.58      0.25       391\n",
            "\n",
            "    accuracy                           0.40      4190\n",
            "   macro avg       0.42      0.46      0.35      4190\n",
            "weighted avg       0.52      0.40      0.37      4190\n",
            "\n"
          ]
        },
        {
          "output_type": "stream",
          "name": "stderr",
          "text": [
            "100%|██████████| 94/94 [00:02<00:00, 39.47it/s]\n"
          ]
        },
        {
          "output_type": "stream",
          "name": "stdout",
          "text": [
            "Average loss: tensor(1.0669, device='cuda:0', grad_fn=<DivBackward0>)\n",
            "Epoch 113/500, Report:               precision    recall  f1-score   support\n",
            "\n",
            "    Positive       0.51      0.67      0.58      1792\n",
            "     Neutral       0.60      0.13      0.21      2007\n",
            "    Negative       0.16      0.58      0.25       391\n",
            "\n",
            "    accuracy                           0.40      4190\n",
            "   macro avg       0.42      0.46      0.35      4190\n",
            "weighted avg       0.52      0.40      0.37      4190\n",
            "\n"
          ]
        },
        {
          "output_type": "stream",
          "name": "stderr",
          "text": [
            "100%|██████████| 94/94 [00:02<00:00, 41.04it/s]\n"
          ]
        },
        {
          "output_type": "stream",
          "name": "stdout",
          "text": [
            "Average loss: tensor(1.0676, device='cuda:0', grad_fn=<DivBackward0>)\n",
            "Epoch 114/500, Report:               precision    recall  f1-score   support\n",
            "\n",
            "    Positive       0.51      0.67      0.58      1792\n",
            "     Neutral       0.60      0.13      0.21      2007\n",
            "    Negative       0.16      0.58      0.25       391\n",
            "\n",
            "    accuracy                           0.40      4190\n",
            "   macro avg       0.42      0.46      0.35      4190\n",
            "weighted avg       0.52      0.40      0.37      4190\n",
            "\n"
          ]
        },
        {
          "output_type": "stream",
          "name": "stderr",
          "text": [
            "100%|██████████| 94/94 [00:02<00:00, 37.78it/s]\n"
          ]
        },
        {
          "output_type": "stream",
          "name": "stdout",
          "text": [
            "Average loss: tensor(1.0672, device='cuda:0', grad_fn=<DivBackward0>)\n",
            "Epoch 115/500, Report:               precision    recall  f1-score   support\n",
            "\n",
            "    Positive       0.51      0.67      0.58      1792\n",
            "     Neutral       0.60      0.13      0.21      2007\n",
            "    Negative       0.16      0.58      0.25       391\n",
            "\n",
            "    accuracy                           0.40      4190\n",
            "   macro avg       0.42      0.46      0.35      4190\n",
            "weighted avg       0.52      0.40      0.37      4190\n",
            "\n"
          ]
        },
        {
          "output_type": "stream",
          "name": "stderr",
          "text": [
            "100%|██████████| 94/94 [00:02<00:00, 40.57it/s]\n"
          ]
        },
        {
          "output_type": "stream",
          "name": "stdout",
          "text": [
            "Average loss: tensor(1.0668, device='cuda:0', grad_fn=<DivBackward0>)\n",
            "Epoch 116/500, Report:               precision    recall  f1-score   support\n",
            "\n",
            "    Positive       0.51      0.67      0.58      1792\n",
            "     Neutral       0.59      0.13      0.21      2007\n",
            "    Negative       0.16      0.58      0.25       391\n",
            "\n",
            "    accuracy                           0.40      4190\n",
            "   macro avg       0.42      0.46      0.35      4190\n",
            "weighted avg       0.52      0.40      0.37      4190\n",
            "\n"
          ]
        },
        {
          "output_type": "stream",
          "name": "stderr",
          "text": [
            "100%|██████████| 94/94 [00:02<00:00, 40.23it/s]\n"
          ]
        },
        {
          "output_type": "stream",
          "name": "stdout",
          "text": [
            "Average loss: tensor(1.0666, device='cuda:0', grad_fn=<DivBackward0>)\n",
            "Epoch 117/500, Report:               precision    recall  f1-score   support\n",
            "\n",
            "    Positive       0.52      0.67      0.58      1792\n",
            "     Neutral       0.60      0.14      0.22      2007\n",
            "    Negative       0.16      0.58      0.25       391\n",
            "\n",
            "    accuracy                           0.40      4190\n",
            "   macro avg       0.43      0.46      0.35      4190\n",
            "weighted avg       0.53      0.40      0.38      4190\n",
            "\n"
          ]
        },
        {
          "output_type": "stream",
          "name": "stderr",
          "text": [
            "100%|██████████| 94/94 [00:02<00:00, 41.22it/s]\n"
          ]
        },
        {
          "output_type": "stream",
          "name": "stdout",
          "text": [
            "Average loss: tensor(1.0661, device='cuda:0', grad_fn=<DivBackward0>)\n",
            "Epoch 118/500, Report:               precision    recall  f1-score   support\n",
            "\n",
            "    Positive       0.51      0.66      0.58      1792\n",
            "     Neutral       0.60      0.14      0.22      2007\n",
            "    Negative       0.16      0.58      0.25       391\n",
            "\n",
            "    accuracy                           0.40      4190\n",
            "   macro avg       0.42      0.46      0.35      4190\n",
            "weighted avg       0.52      0.40      0.38      4190\n",
            "\n"
          ]
        },
        {
          "output_type": "stream",
          "name": "stderr",
          "text": [
            "100%|██████████| 94/94 [00:03<00:00, 27.83it/s]\n"
          ]
        },
        {
          "output_type": "stream",
          "name": "stdout",
          "text": [
            "Average loss: tensor(1.0659, device='cuda:0', grad_fn=<DivBackward0>)\n",
            "Epoch 119/500, Report:               precision    recall  f1-score   support\n",
            "\n",
            "    Positive       0.51      0.66      0.58      1792\n",
            "     Neutral       0.60      0.14      0.22      2007\n",
            "    Negative       0.16      0.58      0.25       391\n",
            "\n",
            "    accuracy                           0.40      4190\n",
            "   macro avg       0.42      0.46      0.35      4190\n",
            "weighted avg       0.52      0.40      0.38      4190\n",
            "\n"
          ]
        },
        {
          "output_type": "stream",
          "name": "stderr",
          "text": [
            "100%|██████████| 94/94 [00:02<00:00, 39.74it/s]\n"
          ]
        },
        {
          "output_type": "stream",
          "name": "stdout",
          "text": [
            "Average loss: tensor(1.0658, device='cuda:0', grad_fn=<DivBackward0>)\n",
            "Epoch 120/500, Report:               precision    recall  f1-score   support\n",
            "\n",
            "    Positive       0.51      0.66      0.58      1792\n",
            "     Neutral       0.59      0.14      0.23      2007\n",
            "    Negative       0.16      0.58      0.25       391\n",
            "\n",
            "    accuracy                           0.40      4190\n",
            "   macro avg       0.42      0.46      0.35      4190\n",
            "weighted avg       0.52      0.40      0.38      4190\n",
            "\n"
          ]
        },
        {
          "output_type": "stream",
          "name": "stderr",
          "text": [
            "100%|██████████| 94/94 [00:02<00:00, 40.75it/s]\n"
          ]
        },
        {
          "output_type": "stream",
          "name": "stdout",
          "text": [
            "Average loss: tensor(1.0660, device='cuda:0', grad_fn=<DivBackward0>)\n",
            "Epoch 121/500, Report:               precision    recall  f1-score   support\n",
            "\n",
            "    Positive       0.51      0.66      0.58      1792\n",
            "     Neutral       0.59      0.14      0.23      2007\n",
            "    Negative       0.16      0.58      0.25       391\n",
            "\n",
            "    accuracy                           0.40      4190\n",
            "   macro avg       0.42      0.46      0.35      4190\n",
            "weighted avg       0.52      0.40      0.38      4190\n",
            "\n"
          ]
        },
        {
          "output_type": "stream",
          "name": "stderr",
          "text": [
            "100%|██████████| 94/94 [00:02<00:00, 41.32it/s]\n"
          ]
        },
        {
          "output_type": "stream",
          "name": "stdout",
          "text": [
            "Average loss: tensor(1.0657, device='cuda:0', grad_fn=<DivBackward0>)\n",
            "Epoch 122/500, Report:               precision    recall  f1-score   support\n",
            "\n",
            "    Positive       0.51      0.66      0.58      1792\n",
            "     Neutral       0.59      0.14      0.23      2007\n",
            "    Negative       0.16      0.59      0.26       391\n",
            "\n",
            "    accuracy                           0.41      4190\n",
            "   macro avg       0.42      0.46      0.35      4190\n",
            "weighted avg       0.52      0.41      0.38      4190\n",
            "\n"
          ]
        },
        {
          "output_type": "stream",
          "name": "stderr",
          "text": [
            "100%|██████████| 94/94 [00:02<00:00, 40.32it/s]\n"
          ]
        },
        {
          "output_type": "stream",
          "name": "stdout",
          "text": [
            "Average loss: tensor(1.0659, device='cuda:0', grad_fn=<DivBackward0>)\n",
            "Epoch 123/500, Report:               precision    recall  f1-score   support\n",
            "\n",
            "    Positive       0.51      0.66      0.58      1792\n",
            "     Neutral       0.59      0.14      0.23      2007\n",
            "    Negative       0.16      0.59      0.26       391\n",
            "\n",
            "    accuracy                           0.41      4190\n",
            "   macro avg       0.42      0.46      0.35      4190\n",
            "weighted avg       0.52      0.41      0.38      4190\n",
            "\n"
          ]
        },
        {
          "output_type": "stream",
          "name": "stderr",
          "text": [
            "100%|██████████| 94/94 [00:02<00:00, 35.23it/s]\n"
          ]
        },
        {
          "output_type": "stream",
          "name": "stdout",
          "text": [
            "Average loss: tensor(1.0657, device='cuda:0', grad_fn=<DivBackward0>)\n",
            "Epoch 124/500, Report:               precision    recall  f1-score   support\n",
            "\n",
            "    Positive       0.51      0.66      0.58      1792\n",
            "     Neutral       0.58      0.15      0.23      2007\n",
            "    Negative       0.16      0.59      0.26       391\n",
            "\n",
            "    accuracy                           0.41      4190\n",
            "   macro avg       0.42      0.46      0.36      4190\n",
            "weighted avg       0.51      0.41      0.38      4190\n",
            "\n"
          ]
        },
        {
          "output_type": "stream",
          "name": "stderr",
          "text": [
            "100%|██████████| 94/94 [00:02<00:00, 41.78it/s]\n"
          ]
        },
        {
          "output_type": "stream",
          "name": "stdout",
          "text": [
            "Average loss: tensor(1.0644, device='cuda:0', grad_fn=<DivBackward0>)\n",
            "Epoch 125/500, Report:               precision    recall  f1-score   support\n",
            "\n",
            "    Positive       0.52      0.66      0.58      1792\n",
            "     Neutral       0.58      0.15      0.24      2007\n",
            "    Negative       0.16      0.59      0.26       391\n",
            "\n",
            "    accuracy                           0.41      4190\n",
            "   macro avg       0.42      0.46      0.36      4190\n",
            "weighted avg       0.51      0.41      0.38      4190\n",
            "\n"
          ]
        },
        {
          "output_type": "stream",
          "name": "stderr",
          "text": [
            "100%|██████████| 94/94 [00:02<00:00, 41.27it/s]\n"
          ]
        },
        {
          "output_type": "stream",
          "name": "stdout",
          "text": [
            "Average loss: tensor(1.0646, device='cuda:0', grad_fn=<DivBackward0>)\n",
            "Epoch 126/500, Report:               precision    recall  f1-score   support\n",
            "\n",
            "    Positive       0.52      0.66      0.58      1792\n",
            "     Neutral       0.58      0.15      0.24      2007\n",
            "    Negative       0.16      0.58      0.26       391\n",
            "\n",
            "    accuracy                           0.41      4190\n",
            "   macro avg       0.42      0.46      0.36      4190\n",
            "weighted avg       0.52      0.41      0.39      4190\n",
            "\n"
          ]
        },
        {
          "output_type": "stream",
          "name": "stderr",
          "text": [
            "100%|██████████| 94/94 [00:02<00:00, 41.74it/s]\n"
          ]
        },
        {
          "output_type": "stream",
          "name": "stdout",
          "text": [
            "Average loss: tensor(1.0649, device='cuda:0', grad_fn=<DivBackward0>)\n",
            "Epoch 127/500, Report:               precision    recall  f1-score   support\n",
            "\n",
            "    Positive       0.52      0.65      0.58      1792\n",
            "     Neutral       0.58      0.15      0.24      2007\n",
            "    Negative       0.16      0.58      0.26       391\n",
            "\n",
            "    accuracy                           0.41      4190\n",
            "   macro avg       0.42      0.46      0.36      4190\n",
            "weighted avg       0.52      0.41      0.39      4190\n",
            "\n"
          ]
        },
        {
          "output_type": "stream",
          "name": "stderr",
          "text": [
            "100%|██████████| 94/94 [00:02<00:00, 38.05it/s]\n"
          ]
        },
        {
          "output_type": "stream",
          "name": "stdout",
          "text": [
            "Average loss: tensor(1.0640, device='cuda:0', grad_fn=<DivBackward0>)\n",
            "Epoch 128/500, Report:               precision    recall  f1-score   support\n",
            "\n",
            "    Positive       0.52      0.65      0.58      1792\n",
            "     Neutral       0.58      0.15      0.24      2007\n",
            "    Negative       0.16      0.59      0.26       391\n",
            "\n",
            "    accuracy                           0.41      4190\n",
            "   macro avg       0.42      0.47      0.36      4190\n",
            "weighted avg       0.52      0.41      0.39      4190\n",
            "\n"
          ]
        },
        {
          "output_type": "stream",
          "name": "stderr",
          "text": [
            "100%|██████████| 94/94 [00:02<00:00, 37.42it/s]\n"
          ]
        },
        {
          "output_type": "stream",
          "name": "stdout",
          "text": [
            "Average loss: tensor(1.0633, device='cuda:0', grad_fn=<DivBackward0>)\n",
            "Epoch 129/500, Report:               precision    recall  f1-score   support\n",
            "\n",
            "    Positive       0.52      0.65      0.58      1792\n",
            "     Neutral       0.58      0.15      0.24      2007\n",
            "    Negative       0.16      0.59      0.26       391\n",
            "\n",
            "    accuracy                           0.41      4190\n",
            "   macro avg       0.42      0.47      0.36      4190\n",
            "weighted avg       0.52      0.41      0.39      4190\n",
            "\n"
          ]
        },
        {
          "output_type": "stream",
          "name": "stderr",
          "text": [
            "100%|██████████| 94/94 [00:02<00:00, 40.50it/s]\n"
          ]
        },
        {
          "output_type": "stream",
          "name": "stdout",
          "text": [
            "Average loss: tensor(1.0645, device='cuda:0', grad_fn=<DivBackward0>)\n",
            "Epoch 130/500, Report:               precision    recall  f1-score   support\n",
            "\n",
            "    Positive       0.52      0.65      0.58      1792\n",
            "     Neutral       0.58      0.15      0.24      2007\n",
            "    Negative       0.16      0.59      0.26       391\n",
            "\n",
            "    accuracy                           0.41      4190\n",
            "   macro avg       0.42      0.47      0.36      4190\n",
            "weighted avg       0.52      0.41      0.39      4190\n",
            "\n"
          ]
        },
        {
          "output_type": "stream",
          "name": "stderr",
          "text": [
            "100%|██████████| 94/94 [00:02<00:00, 41.68it/s]\n"
          ]
        },
        {
          "output_type": "stream",
          "name": "stdout",
          "text": [
            "Average loss: tensor(1.0639, device='cuda:0', grad_fn=<DivBackward0>)\n",
            "Epoch 131/500, Report:               precision    recall  f1-score   support\n",
            "\n",
            "    Positive       0.52      0.65      0.58      1792\n",
            "     Neutral       0.58      0.16      0.25      2007\n",
            "    Negative       0.16      0.59      0.26       391\n",
            "\n",
            "    accuracy                           0.41      4190\n",
            "   macro avg       0.42      0.46      0.36      4190\n",
            "weighted avg       0.52      0.41      0.39      4190\n",
            "\n"
          ]
        },
        {
          "output_type": "stream",
          "name": "stderr",
          "text": [
            "100%|██████████| 94/94 [00:02<00:00, 41.08it/s]\n"
          ]
        },
        {
          "output_type": "stream",
          "name": "stdout",
          "text": [
            "Average loss: tensor(1.0642, device='cuda:0', grad_fn=<DivBackward0>)\n",
            "Epoch 132/500, Report:               precision    recall  f1-score   support\n",
            "\n",
            "    Positive       0.52      0.65      0.58      1792\n",
            "     Neutral       0.58      0.16      0.25      2007\n",
            "    Negative       0.16      0.59      0.26       391\n",
            "\n",
            "    accuracy                           0.41      4190\n",
            "   macro avg       0.42      0.47      0.36      4190\n",
            "weighted avg       0.52      0.41      0.39      4190\n",
            "\n"
          ]
        },
        {
          "output_type": "stream",
          "name": "stderr",
          "text": [
            "100%|██████████| 94/94 [00:02<00:00, 38.07it/s]\n"
          ]
        },
        {
          "output_type": "stream",
          "name": "stdout",
          "text": [
            "Average loss: tensor(1.0633, device='cuda:0', grad_fn=<DivBackward0>)\n",
            "Epoch 133/500, Report:               precision    recall  f1-score   support\n",
            "\n",
            "    Positive       0.52      0.65      0.58      1792\n",
            "     Neutral       0.58      0.16      0.25      2007\n",
            "    Negative       0.16      0.59      0.26       391\n",
            "\n",
            "    accuracy                           0.41      4190\n",
            "   macro avg       0.42      0.46      0.36      4190\n",
            "weighted avg       0.52      0.41      0.39      4190\n",
            "\n"
          ]
        },
        {
          "output_type": "stream",
          "name": "stderr",
          "text": [
            "100%|██████████| 94/94 [00:02<00:00, 41.20it/s]\n"
          ]
        },
        {
          "output_type": "stream",
          "name": "stdout",
          "text": [
            "Average loss: tensor(1.0635, device='cuda:0', grad_fn=<DivBackward0>)\n",
            "Epoch 134/500, Report:               precision    recall  f1-score   support\n",
            "\n",
            "    Positive       0.52      0.65      0.58      1792\n",
            "     Neutral       0.58      0.16      0.25      2007\n",
            "    Negative       0.16      0.59      0.26       391\n",
            "\n",
            "    accuracy                           0.41      4190\n",
            "   macro avg       0.42      0.46      0.36      4190\n",
            "weighted avg       0.52      0.41      0.39      4190\n",
            "\n"
          ]
        },
        {
          "output_type": "stream",
          "name": "stderr",
          "text": [
            "100%|██████████| 94/94 [00:02<00:00, 35.56it/s]\n"
          ]
        },
        {
          "output_type": "stream",
          "name": "stdout",
          "text": [
            "Average loss: tensor(1.0630, device='cuda:0', grad_fn=<DivBackward0>)\n",
            "Epoch 135/500, Report:               precision    recall  f1-score   support\n",
            "\n",
            "    Positive       0.52      0.65      0.58      1792\n",
            "     Neutral       0.58      0.16      0.25      2007\n",
            "    Negative       0.16      0.58      0.26       391\n",
            "\n",
            "    accuracy                           0.41      4190\n",
            "   macro avg       0.42      0.46      0.36      4190\n",
            "weighted avg       0.52      0.41      0.39      4190\n",
            "\n"
          ]
        },
        {
          "output_type": "stream",
          "name": "stderr",
          "text": [
            "100%|██████████| 94/94 [00:02<00:00, 38.81it/s]\n"
          ]
        },
        {
          "output_type": "stream",
          "name": "stdout",
          "text": [
            "Average loss: tensor(1.0639, device='cuda:0', grad_fn=<DivBackward0>)\n",
            "Epoch 136/500, Report:               precision    recall  f1-score   support\n",
            "\n",
            "    Positive       0.52      0.65      0.58      1792\n",
            "     Neutral       0.58      0.16      0.26      2007\n",
            "    Negative       0.16      0.58      0.26       391\n",
            "\n",
            "    accuracy                           0.41      4190\n",
            "   macro avg       0.42      0.46      0.36      4190\n",
            "weighted avg       0.52      0.41      0.39      4190\n",
            "\n"
          ]
        },
        {
          "output_type": "stream",
          "name": "stderr",
          "text": [
            "100%|██████████| 94/94 [00:02<00:00, 37.13it/s]\n"
          ]
        },
        {
          "output_type": "stream",
          "name": "stdout",
          "text": [
            "Average loss: tensor(1.0624, device='cuda:0', grad_fn=<DivBackward0>)\n",
            "Epoch 137/500, Report:               precision    recall  f1-score   support\n",
            "\n",
            "    Positive       0.52      0.65      0.58      1792\n",
            "     Neutral       0.58      0.16      0.26      2007\n",
            "    Negative       0.16      0.58      0.26       391\n",
            "\n",
            "    accuracy                           0.41      4190\n",
            "   macro avg       0.42      0.46      0.36      4190\n",
            "weighted avg       0.52      0.41      0.39      4190\n",
            "\n"
          ]
        },
        {
          "output_type": "stream",
          "name": "stderr",
          "text": [
            "100%|██████████| 94/94 [00:02<00:00, 41.55it/s]\n"
          ]
        },
        {
          "output_type": "stream",
          "name": "stdout",
          "text": [
            "Average loss: tensor(1.0633, device='cuda:0', grad_fn=<DivBackward0>)\n",
            "Epoch 138/500, Report:               precision    recall  f1-score   support\n",
            "\n",
            "    Positive       0.52      0.65      0.58      1792\n",
            "     Neutral       0.58      0.16      0.26      2007\n",
            "    Negative       0.16      0.59      0.26       391\n",
            "\n",
            "    accuracy                           0.41      4190\n",
            "   macro avg       0.42      0.47      0.36      4190\n",
            "weighted avg       0.51      0.41      0.39      4190\n",
            "\n"
          ]
        },
        {
          "output_type": "stream",
          "name": "stderr",
          "text": [
            "100%|██████████| 94/94 [00:02<00:00, 41.49it/s]\n"
          ]
        },
        {
          "output_type": "stream",
          "name": "stdout",
          "text": [
            "Average loss: tensor(1.0625, device='cuda:0', grad_fn=<DivBackward0>)\n",
            "Epoch 139/500, Report:               precision    recall  f1-score   support\n",
            "\n",
            "    Positive       0.52      0.65      0.58      1792\n",
            "     Neutral       0.58      0.17      0.26      2007\n",
            "    Negative       0.17      0.59      0.26       391\n",
            "\n",
            "    accuracy                           0.41      4190\n",
            "   macro avg       0.42      0.47      0.36      4190\n",
            "weighted avg       0.51      0.41      0.39      4190\n",
            "\n"
          ]
        },
        {
          "output_type": "stream",
          "name": "stderr",
          "text": [
            "100%|██████████| 94/94 [00:02<00:00, 40.96it/s]\n"
          ]
        },
        {
          "output_type": "stream",
          "name": "stdout",
          "text": [
            "Average loss: tensor(1.0619, device='cuda:0', grad_fn=<DivBackward0>)\n",
            "Epoch 140/500, Report:               precision    recall  f1-score   support\n",
            "\n",
            "    Positive       0.52      0.64      0.58      1792\n",
            "     Neutral       0.58      0.17      0.26      2007\n",
            "    Negative       0.16      0.59      0.26       391\n",
            "\n",
            "    accuracy                           0.41      4190\n",
            "   macro avg       0.42      0.46      0.36      4190\n",
            "weighted avg       0.51      0.41      0.39      4190\n",
            "\n"
          ]
        },
        {
          "output_type": "stream",
          "name": "stderr",
          "text": [
            "100%|██████████| 94/94 [00:02<00:00, 38.88it/s]\n"
          ]
        },
        {
          "output_type": "stream",
          "name": "stdout",
          "text": [
            "Average loss: tensor(1.0624, device='cuda:0', grad_fn=<DivBackward0>)\n",
            "Epoch 141/500, Report:               precision    recall  f1-score   support\n",
            "\n",
            "    Positive       0.52      0.64      0.58      1792\n",
            "     Neutral       0.58      0.17      0.26      2007\n",
            "    Negative       0.16      0.58      0.26       391\n",
            "\n",
            "    accuracy                           0.41      4190\n",
            "   macro avg       0.42      0.46      0.36      4190\n",
            "weighted avg       0.51      0.41      0.39      4190\n",
            "\n"
          ]
        },
        {
          "output_type": "stream",
          "name": "stderr",
          "text": [
            "100%|██████████| 94/94 [00:02<00:00, 37.92it/s]\n"
          ]
        },
        {
          "output_type": "stream",
          "name": "stdout",
          "text": [
            "Average loss: tensor(1.0616, device='cuda:0', grad_fn=<DivBackward0>)\n",
            "Epoch 142/500, Report:               precision    recall  f1-score   support\n",
            "\n",
            "    Positive       0.52      0.64      0.58      1792\n",
            "     Neutral       0.57      0.17      0.26      2007\n",
            "    Negative       0.16      0.59      0.26       391\n",
            "\n",
            "    accuracy                           0.41      4190\n",
            "   macro avg       0.42      0.46      0.36      4190\n",
            "weighted avg       0.51      0.41      0.39      4190\n",
            "\n"
          ]
        },
        {
          "output_type": "stream",
          "name": "stderr",
          "text": [
            "100%|██████████| 94/94 [00:02<00:00, 41.05it/s]\n"
          ]
        },
        {
          "output_type": "stream",
          "name": "stdout",
          "text": [
            "Average loss: tensor(1.0619, device='cuda:0', grad_fn=<DivBackward0>)\n",
            "Epoch 143/500, Report:               precision    recall  f1-score   support\n",
            "\n",
            "    Positive       0.52      0.64      0.58      1792\n",
            "     Neutral       0.57      0.17      0.26      2007\n",
            "    Negative       0.16      0.59      0.26       391\n",
            "\n",
            "    accuracy                           0.41      4190\n",
            "   macro avg       0.42      0.46      0.36      4190\n",
            "weighted avg       0.51      0.41      0.39      4190\n",
            "\n"
          ]
        },
        {
          "output_type": "stream",
          "name": "stderr",
          "text": [
            "100%|██████████| 94/94 [00:02<00:00, 41.01it/s]\n"
          ]
        },
        {
          "output_type": "stream",
          "name": "stdout",
          "text": [
            "Average loss: tensor(1.0626, device='cuda:0', grad_fn=<DivBackward0>)\n",
            "Epoch 144/500, Report:               precision    recall  f1-score   support\n",
            "\n",
            "    Positive       0.52      0.64      0.58      1792\n",
            "     Neutral       0.58      0.17      0.26      2007\n",
            "    Negative       0.16      0.59      0.26       391\n",
            "\n",
            "    accuracy                           0.41      4190\n",
            "   macro avg       0.42      0.47      0.36      4190\n",
            "weighted avg       0.51      0.41      0.40      4190\n",
            "\n"
          ]
        },
        {
          "output_type": "stream",
          "name": "stderr",
          "text": [
            "100%|██████████| 94/94 [00:02<00:00, 41.32it/s]\n"
          ]
        },
        {
          "output_type": "stream",
          "name": "stdout",
          "text": [
            "Average loss: tensor(1.0611, device='cuda:0', grad_fn=<DivBackward0>)\n",
            "Epoch 145/500, Report:               precision    recall  f1-score   support\n",
            "\n",
            "    Positive       0.52      0.64      0.58      1792\n",
            "     Neutral       0.58      0.17      0.26      2007\n",
            "    Negative       0.16      0.59      0.26       391\n",
            "\n",
            "    accuracy                           0.41      4190\n",
            "   macro avg       0.42      0.47      0.37      4190\n",
            "weighted avg       0.52      0.41      0.40      4190\n",
            "\n"
          ]
        },
        {
          "output_type": "stream",
          "name": "stderr",
          "text": [
            "100%|██████████| 94/94 [00:02<00:00, 36.74it/s]\n"
          ]
        },
        {
          "output_type": "stream",
          "name": "stdout",
          "text": [
            "Average loss: tensor(1.0616, device='cuda:0', grad_fn=<DivBackward0>)\n",
            "Epoch 146/500, Report:               precision    recall  f1-score   support\n",
            "\n",
            "    Positive       0.52      0.64      0.58      1792\n",
            "     Neutral       0.58      0.17      0.27      2007\n",
            "    Negative       0.16      0.59      0.26       391\n",
            "\n",
            "    accuracy                           0.41      4190\n",
            "   macro avg       0.42      0.47      0.37      4190\n",
            "weighted avg       0.51      0.41      0.40      4190\n",
            "\n"
          ]
        },
        {
          "output_type": "stream",
          "name": "stderr",
          "text": [
            "100%|██████████| 94/94 [00:02<00:00, 39.69it/s]\n"
          ]
        },
        {
          "output_type": "stream",
          "name": "stdout",
          "text": [
            "Average loss: tensor(1.0610, device='cuda:0', grad_fn=<DivBackward0>)\n",
            "Epoch 147/500, Report:               precision    recall  f1-score   support\n",
            "\n",
            "    Positive       0.52      0.64      0.58      1792\n",
            "     Neutral       0.58      0.17      0.27      2007\n",
            "    Negative       0.17      0.59      0.26       391\n",
            "\n",
            "    accuracy                           0.41      4190\n",
            "   macro avg       0.42      0.47      0.37      4190\n",
            "weighted avg       0.52      0.41      0.40      4190\n",
            "\n"
          ]
        },
        {
          "output_type": "stream",
          "name": "stderr",
          "text": [
            "100%|██████████| 94/94 [00:02<00:00, 39.44it/s]\n"
          ]
        },
        {
          "output_type": "stream",
          "name": "stdout",
          "text": [
            "Average loss: tensor(1.0609, device='cuda:0', grad_fn=<DivBackward0>)\n",
            "Epoch 148/500, Report:               precision    recall  f1-score   support\n",
            "\n",
            "    Positive       0.52      0.64      0.58      1792\n",
            "     Neutral       0.58      0.18      0.27      2007\n",
            "    Negative       0.17      0.59      0.26       391\n",
            "\n",
            "    accuracy                           0.41      4190\n",
            "   macro avg       0.42      0.47      0.37      4190\n",
            "weighted avg       0.52      0.41      0.40      4190\n",
            "\n"
          ]
        },
        {
          "output_type": "stream",
          "name": "stderr",
          "text": [
            "100%|██████████| 94/94 [00:02<00:00, 40.67it/s]\n"
          ]
        },
        {
          "output_type": "stream",
          "name": "stdout",
          "text": [
            "Average loss: tensor(1.0613, device='cuda:0', grad_fn=<DivBackward0>)\n",
            "Epoch 149/500, Report:               precision    recall  f1-score   support\n",
            "\n",
            "    Positive       0.52      0.64      0.58      1792\n",
            "     Neutral       0.57      0.17      0.27      2007\n",
            "    Negative       0.17      0.59      0.26       391\n",
            "\n",
            "    accuracy                           0.41      4190\n",
            "   macro avg       0.42      0.47      0.37      4190\n",
            "weighted avg       0.51      0.41      0.40      4190\n",
            "\n"
          ]
        },
        {
          "output_type": "stream",
          "name": "stderr",
          "text": [
            "100%|██████████| 94/94 [00:02<00:00, 38.88it/s]\n"
          ]
        },
        {
          "output_type": "stream",
          "name": "stdout",
          "text": [
            "Average loss: tensor(1.0608, device='cuda:0', grad_fn=<DivBackward0>)\n",
            "Epoch 150/500, Report:               precision    recall  f1-score   support\n",
            "\n",
            "    Positive       0.52      0.64      0.58      1792\n",
            "     Neutral       0.58      0.18      0.27      2007\n",
            "    Negative       0.17      0.59      0.26       391\n",
            "\n",
            "    accuracy                           0.41      4190\n",
            "   macro avg       0.42      0.47      0.37      4190\n",
            "weighted avg       0.52      0.41      0.40      4190\n",
            "\n"
          ]
        },
        {
          "output_type": "stream",
          "name": "stderr",
          "text": [
            "100%|██████████| 94/94 [00:02<00:00, 38.71it/s]\n"
          ]
        },
        {
          "output_type": "stream",
          "name": "stdout",
          "text": [
            "Average loss: tensor(1.0608, device='cuda:0', grad_fn=<DivBackward0>)\n",
            "Epoch 151/500, Report:               precision    recall  f1-score   support\n",
            "\n",
            "    Positive       0.53      0.64      0.58      1792\n",
            "     Neutral       0.58      0.18      0.27      2007\n",
            "    Negative       0.17      0.59      0.26       391\n",
            "\n",
            "    accuracy                           0.41      4190\n",
            "   macro avg       0.42      0.47      0.37      4190\n",
            "weighted avg       0.52      0.41      0.40      4190\n",
            "\n"
          ]
        },
        {
          "output_type": "stream",
          "name": "stderr",
          "text": [
            "100%|██████████| 94/94 [00:02<00:00, 39.16it/s]\n"
          ]
        },
        {
          "output_type": "stream",
          "name": "stdout",
          "text": [
            "Average loss: tensor(1.0612, device='cuda:0', grad_fn=<DivBackward0>)\n",
            "Epoch 152/500, Report:               precision    recall  f1-score   support\n",
            "\n",
            "    Positive       0.53      0.64      0.58      1792\n",
            "     Neutral       0.58      0.18      0.27      2007\n",
            "    Negative       0.17      0.59      0.26       391\n",
            "\n",
            "    accuracy                           0.41      4190\n",
            "   macro avg       0.42      0.47      0.37      4190\n",
            "weighted avg       0.52      0.41      0.40      4190\n",
            "\n"
          ]
        },
        {
          "output_type": "stream",
          "name": "stderr",
          "text": [
            "100%|██████████| 94/94 [00:02<00:00, 40.74it/s]\n"
          ]
        },
        {
          "output_type": "stream",
          "name": "stdout",
          "text": [
            "Average loss: tensor(1.0603, device='cuda:0', grad_fn=<DivBackward0>)\n",
            "Epoch 153/500, Report:               precision    recall  f1-score   support\n",
            "\n",
            "    Positive       0.53      0.64      0.58      1792\n",
            "     Neutral       0.58      0.18      0.27      2007\n",
            "    Negative       0.17      0.59      0.26       391\n",
            "\n",
            "    accuracy                           0.41      4190\n",
            "   macro avg       0.42      0.47      0.37      4190\n",
            "weighted avg       0.52      0.41      0.40      4190\n",
            "\n"
          ]
        },
        {
          "output_type": "stream",
          "name": "stderr",
          "text": [
            "100%|██████████| 94/94 [00:02<00:00, 41.22it/s]\n"
          ]
        },
        {
          "output_type": "stream",
          "name": "stdout",
          "text": [
            "Average loss: tensor(1.0605, device='cuda:0', grad_fn=<DivBackward0>)\n",
            "Epoch 154/500, Report:               precision    recall  f1-score   support\n",
            "\n",
            "    Positive       0.53      0.64      0.58      1792\n",
            "     Neutral       0.58      0.18      0.28      2007\n",
            "    Negative       0.17      0.58      0.26       391\n",
            "\n",
            "    accuracy                           0.42      4190\n",
            "   macro avg       0.42      0.47      0.37      4190\n",
            "weighted avg       0.52      0.42      0.41      4190\n",
            "\n"
          ]
        },
        {
          "output_type": "stream",
          "name": "stderr",
          "text": [
            "100%|██████████| 94/94 [00:02<00:00, 36.39it/s]\n"
          ]
        },
        {
          "output_type": "stream",
          "name": "stdout",
          "text": [
            "Average loss: tensor(1.0605, device='cuda:0', grad_fn=<DivBackward0>)\n",
            "Epoch 155/500, Report:               precision    recall  f1-score   support\n",
            "\n",
            "    Positive       0.53      0.64      0.58      1792\n",
            "     Neutral       0.58      0.19      0.28      2007\n",
            "    Negative       0.17      0.58      0.26       391\n",
            "\n",
            "    accuracy                           0.42      4190\n",
            "   macro avg       0.42      0.47      0.37      4190\n",
            "weighted avg       0.52      0.42      0.41      4190\n",
            "\n"
          ]
        },
        {
          "output_type": "stream",
          "name": "stderr",
          "text": [
            "100%|██████████| 94/94 [00:02<00:00, 41.38it/s]\n"
          ]
        },
        {
          "output_type": "stream",
          "name": "stdout",
          "text": [
            "Average loss: tensor(1.0615, device='cuda:0', grad_fn=<DivBackward0>)\n",
            "Epoch 156/500, Report:               precision    recall  f1-score   support\n",
            "\n",
            "    Positive       0.53      0.64      0.58      1792\n",
            "     Neutral       0.58      0.19      0.28      2007\n",
            "    Negative       0.17      0.58      0.26       391\n",
            "\n",
            "    accuracy                           0.42      4190\n",
            "   macro avg       0.42      0.47      0.37      4190\n",
            "weighted avg       0.52      0.42      0.41      4190\n",
            "\n"
          ]
        },
        {
          "output_type": "stream",
          "name": "stderr",
          "text": [
            "100%|██████████| 94/94 [00:02<00:00, 41.10it/s]\n"
          ]
        },
        {
          "output_type": "stream",
          "name": "stdout",
          "text": [
            "Average loss: tensor(1.0601, device='cuda:0', grad_fn=<DivBackward0>)\n",
            "Epoch 157/500, Report:               precision    recall  f1-score   support\n",
            "\n",
            "    Positive       0.53      0.64      0.58      1792\n",
            "     Neutral       0.58      0.19      0.28      2007\n",
            "    Negative       0.17      0.58      0.26       391\n",
            "\n",
            "    accuracy                           0.42      4190\n",
            "   macro avg       0.42      0.47      0.37      4190\n",
            "weighted avg       0.52      0.42      0.41      4190\n",
            "\n"
          ]
        },
        {
          "output_type": "stream",
          "name": "stderr",
          "text": [
            "100%|██████████| 94/94 [00:02<00:00, 39.64it/s]\n"
          ]
        },
        {
          "output_type": "stream",
          "name": "stdout",
          "text": [
            "Average loss: tensor(1.0610, device='cuda:0', grad_fn=<DivBackward0>)\n",
            "Epoch 158/500, Report:               precision    recall  f1-score   support\n",
            "\n",
            "    Positive       0.53      0.64      0.58      1792\n",
            "     Neutral       0.58      0.19      0.28      2007\n",
            "    Negative       0.17      0.58      0.26       391\n",
            "\n",
            "    accuracy                           0.42      4190\n",
            "   macro avg       0.42      0.47      0.37      4190\n",
            "weighted avg       0.52      0.42      0.41      4190\n",
            "\n"
          ]
        },
        {
          "output_type": "stream",
          "name": "stderr",
          "text": [
            "100%|██████████| 94/94 [00:02<00:00, 37.29it/s]\n"
          ]
        },
        {
          "output_type": "stream",
          "name": "stdout",
          "text": [
            "Average loss: tensor(1.0601, device='cuda:0', grad_fn=<DivBackward0>)\n",
            "Epoch 159/500, Report:               precision    recall  f1-score   support\n",
            "\n",
            "    Positive       0.53      0.63      0.58      1792\n",
            "     Neutral       0.57      0.19      0.28      2007\n",
            "    Negative       0.17      0.58      0.26       391\n",
            "\n",
            "    accuracy                           0.42      4190\n",
            "   macro avg       0.42      0.47      0.37      4190\n",
            "weighted avg       0.51      0.42      0.41      4190\n",
            "\n"
          ]
        },
        {
          "output_type": "stream",
          "name": "stderr",
          "text": [
            "100%|██████████| 94/94 [00:02<00:00, 39.46it/s]\n"
          ]
        },
        {
          "output_type": "stream",
          "name": "stdout",
          "text": [
            "Average loss: tensor(1.0598, device='cuda:0', grad_fn=<DivBackward0>)\n",
            "Epoch 160/500, Report:               precision    recall  f1-score   support\n",
            "\n",
            "    Positive       0.53      0.63      0.57      1792\n",
            "     Neutral       0.57      0.19      0.28      2007\n",
            "    Negative       0.17      0.58      0.26       391\n",
            "\n",
            "    accuracy                           0.41      4190\n",
            "   macro avg       0.42      0.47      0.37      4190\n",
            "weighted avg       0.51      0.41      0.40      4190\n",
            "\n"
          ]
        },
        {
          "output_type": "stream",
          "name": "stderr",
          "text": [
            "100%|██████████| 94/94 [00:02<00:00, 41.55it/s]\n"
          ]
        },
        {
          "output_type": "stream",
          "name": "stdout",
          "text": [
            "Average loss: tensor(1.0599, device='cuda:0', grad_fn=<DivBackward0>)\n",
            "Epoch 161/500, Report:               precision    recall  f1-score   support\n",
            "\n",
            "    Positive       0.53      0.64      0.58      1792\n",
            "     Neutral       0.57      0.19      0.28      2007\n",
            "    Negative       0.17      0.58      0.26       391\n",
            "\n",
            "    accuracy                           0.42      4190\n",
            "   macro avg       0.42      0.47      0.37      4190\n",
            "weighted avg       0.52      0.42      0.41      4190\n",
            "\n"
          ]
        },
        {
          "output_type": "stream",
          "name": "stderr",
          "text": [
            "100%|██████████| 94/94 [00:02<00:00, 42.25it/s]\n"
          ]
        },
        {
          "output_type": "stream",
          "name": "stdout",
          "text": [
            "Average loss: tensor(1.0603, device='cuda:0', grad_fn=<DivBackward0>)\n",
            "Epoch 162/500, Report:               precision    recall  f1-score   support\n",
            "\n",
            "    Positive       0.53      0.64      0.58      1792\n",
            "     Neutral       0.57      0.19      0.29      2007\n",
            "    Negative       0.17      0.58      0.26       391\n",
            "\n",
            "    accuracy                           0.42      4190\n",
            "   macro avg       0.42      0.47      0.37      4190\n",
            "weighted avg       0.51      0.42      0.41      4190\n",
            "\n"
          ]
        },
        {
          "output_type": "stream",
          "name": "stderr",
          "text": [
            "100%|██████████| 94/94 [00:02<00:00, 41.82it/s]\n"
          ]
        },
        {
          "output_type": "stream",
          "name": "stdout",
          "text": [
            "Average loss: tensor(1.0595, device='cuda:0', grad_fn=<DivBackward0>)\n",
            "Epoch 163/500, Report:               precision    recall  f1-score   support\n",
            "\n",
            "    Positive       0.53      0.63      0.58      1792\n",
            "     Neutral       0.57      0.19      0.29      2007\n",
            "    Negative       0.17      0.58      0.26       391\n",
            "\n",
            "    accuracy                           0.42      4190\n",
            "   macro avg       0.42      0.47      0.38      4190\n",
            "weighted avg       0.51      0.42      0.41      4190\n",
            "\n"
          ]
        },
        {
          "output_type": "stream",
          "name": "stderr",
          "text": [
            "100%|██████████| 94/94 [00:02<00:00, 35.52it/s]\n"
          ]
        },
        {
          "output_type": "stream",
          "name": "stdout",
          "text": [
            "Average loss: tensor(1.0596, device='cuda:0', grad_fn=<DivBackward0>)\n",
            "Epoch 164/500, Report:               precision    recall  f1-score   support\n",
            "\n",
            "    Positive       0.53      0.63      0.58      1792\n",
            "     Neutral       0.57      0.20      0.29      2007\n",
            "    Negative       0.17      0.58      0.26       391\n",
            "\n",
            "    accuracy                           0.42      4190\n",
            "   macro avg       0.42      0.47      0.38      4190\n",
            "weighted avg       0.52      0.42      0.41      4190\n",
            "\n"
          ]
        },
        {
          "output_type": "stream",
          "name": "stderr",
          "text": [
            "100%|██████████| 94/94 [00:02<00:00, 41.05it/s]\n"
          ]
        },
        {
          "output_type": "stream",
          "name": "stdout",
          "text": [
            "Average loss: tensor(1.0591, device='cuda:0', grad_fn=<DivBackward0>)\n",
            "Epoch 165/500, Report:               precision    recall  f1-score   support\n",
            "\n",
            "    Positive       0.53      0.63      0.58      1792\n",
            "     Neutral       0.57      0.20      0.29      2007\n",
            "    Negative       0.17      0.58      0.26       391\n",
            "\n",
            "    accuracy                           0.42      4190\n",
            "   macro avg       0.42      0.47      0.38      4190\n",
            "weighted avg       0.52      0.42      0.41      4190\n",
            "\n"
          ]
        },
        {
          "output_type": "stream",
          "name": "stderr",
          "text": [
            "100%|██████████| 94/94 [00:02<00:00, 40.37it/s]\n"
          ]
        },
        {
          "output_type": "stream",
          "name": "stdout",
          "text": [
            "Average loss: tensor(1.0584, device='cuda:0', grad_fn=<DivBackward0>)\n",
            "Epoch 166/500, Report:               precision    recall  f1-score   support\n",
            "\n",
            "    Positive       0.53      0.63      0.58      1792\n",
            "     Neutral       0.57      0.20      0.29      2007\n",
            "    Negative       0.17      0.58      0.26       391\n",
            "\n",
            "    accuracy                           0.42      4190\n",
            "   macro avg       0.42      0.47      0.38      4190\n",
            "weighted avg       0.52      0.42      0.41      4190\n",
            "\n"
          ]
        },
        {
          "output_type": "stream",
          "name": "stderr",
          "text": [
            "100%|██████████| 94/94 [00:02<00:00, 38.48it/s]\n"
          ]
        },
        {
          "output_type": "stream",
          "name": "stdout",
          "text": [
            "Average loss: tensor(1.0592, device='cuda:0', grad_fn=<DivBackward0>)\n",
            "Epoch 167/500, Report:               precision    recall  f1-score   support\n",
            "\n",
            "    Positive       0.53      0.63      0.58      1792\n",
            "     Neutral       0.57      0.20      0.29      2007\n",
            "    Negative       0.17      0.58      0.26       391\n",
            "\n",
            "    accuracy                           0.42      4190\n",
            "   macro avg       0.42      0.47      0.38      4190\n",
            "weighted avg       0.52      0.42      0.41      4190\n",
            "\n"
          ]
        },
        {
          "output_type": "stream",
          "name": "stderr",
          "text": [
            "100%|██████████| 94/94 [00:02<00:00, 37.68it/s]\n"
          ]
        },
        {
          "output_type": "stream",
          "name": "stdout",
          "text": [
            "Average loss: tensor(1.0589, device='cuda:0', grad_fn=<DivBackward0>)\n",
            "Epoch 168/500, Report:               precision    recall  f1-score   support\n",
            "\n",
            "    Positive       0.53      0.63      0.58      1792\n",
            "     Neutral       0.57      0.20      0.29      2007\n",
            "    Negative       0.17      0.58      0.26       391\n",
            "\n",
            "    accuracy                           0.42      4190\n",
            "   macro avg       0.42      0.47      0.38      4190\n",
            "weighted avg       0.52      0.42      0.41      4190\n",
            "\n"
          ]
        },
        {
          "output_type": "stream",
          "name": "stderr",
          "text": [
            "100%|██████████| 94/94 [00:02<00:00, 38.35it/s]\n"
          ]
        },
        {
          "output_type": "stream",
          "name": "stdout",
          "text": [
            "Average loss: tensor(1.0584, device='cuda:0', grad_fn=<DivBackward0>)\n",
            "Epoch 169/500, Report:               precision    recall  f1-score   support\n",
            "\n",
            "    Positive       0.53      0.63      0.58      1792\n",
            "     Neutral       0.57      0.20      0.29      2007\n",
            "    Negative       0.17      0.58      0.26       391\n",
            "\n",
            "    accuracy                           0.42      4190\n",
            "   macro avg       0.42      0.47      0.38      4190\n",
            "weighted avg       0.51      0.42      0.41      4190\n",
            "\n"
          ]
        },
        {
          "output_type": "stream",
          "name": "stderr",
          "text": [
            "100%|██████████| 94/94 [00:02<00:00, 38.42it/s]\n"
          ]
        },
        {
          "output_type": "stream",
          "name": "stdout",
          "text": [
            "Average loss: tensor(1.0582, device='cuda:0', grad_fn=<DivBackward0>)\n",
            "Epoch 170/500, Report:               precision    recall  f1-score   support\n",
            "\n",
            "    Positive       0.53      0.63      0.58      1792\n",
            "     Neutral       0.57      0.20      0.29      2007\n",
            "    Negative       0.17      0.58      0.26       391\n",
            "\n",
            "    accuracy                           0.42      4190\n",
            "   macro avg       0.42      0.47      0.38      4190\n",
            "weighted avg       0.52      0.42      0.41      4190\n",
            "\n"
          ]
        },
        {
          "output_type": "stream",
          "name": "stderr",
          "text": [
            "100%|██████████| 94/94 [00:02<00:00, 40.48it/s]\n"
          ]
        },
        {
          "output_type": "stream",
          "name": "stdout",
          "text": [
            "Average loss: tensor(1.0588, device='cuda:0', grad_fn=<DivBackward0>)\n",
            "Epoch 171/500, Report:               precision    recall  f1-score   support\n",
            "\n",
            "    Positive       0.53      0.63      0.58      1792\n",
            "     Neutral       0.57      0.20      0.30      2007\n",
            "    Negative       0.17      0.58      0.26       391\n",
            "\n",
            "    accuracy                           0.42      4190\n",
            "   macro avg       0.42      0.47      0.38      4190\n",
            "weighted avg       0.52      0.42      0.41      4190\n",
            "\n"
          ]
        },
        {
          "output_type": "stream",
          "name": "stderr",
          "text": [
            "100%|██████████| 94/94 [00:02<00:00, 38.60it/s]\n"
          ]
        },
        {
          "output_type": "stream",
          "name": "stdout",
          "text": [
            "Average loss: tensor(1.0589, device='cuda:0', grad_fn=<DivBackward0>)\n",
            "Epoch 172/500, Report:               precision    recall  f1-score   support\n",
            "\n",
            "    Positive       0.53      0.63      0.58      1792\n",
            "     Neutral       0.57      0.20      0.30      2007\n",
            "    Negative       0.17      0.58      0.26       391\n",
            "\n",
            "    accuracy                           0.42      4190\n",
            "   macro avg       0.42      0.47      0.38      4190\n",
            "weighted avg       0.51      0.42      0.41      4190\n",
            "\n"
          ]
        },
        {
          "output_type": "stream",
          "name": "stderr",
          "text": [
            "100%|██████████| 94/94 [00:02<00:00, 38.26it/s]\n"
          ]
        },
        {
          "output_type": "stream",
          "name": "stdout",
          "text": [
            "Average loss: tensor(1.0593, device='cuda:0', grad_fn=<DivBackward0>)\n",
            "Epoch 173/500, Report:               precision    recall  f1-score   support\n",
            "\n",
            "    Positive       0.53      0.63      0.57      1792\n",
            "     Neutral       0.57      0.20      0.29      2007\n",
            "    Negative       0.17      0.58      0.26       391\n",
            "\n",
            "    accuracy                           0.42      4190\n",
            "   macro avg       0.42      0.47      0.38      4190\n",
            "weighted avg       0.51      0.42      0.41      4190\n",
            "\n"
          ]
        },
        {
          "output_type": "stream",
          "name": "stderr",
          "text": [
            "100%|██████████| 94/94 [00:02<00:00, 40.79it/s]\n"
          ]
        },
        {
          "output_type": "stream",
          "name": "stdout",
          "text": [
            "Average loss: tensor(1.0574, device='cuda:0', grad_fn=<DivBackward0>)\n",
            "Epoch 174/500, Report:               precision    recall  f1-score   support\n",
            "\n",
            "    Positive       0.53      0.63      0.57      1792\n",
            "     Neutral       0.57      0.20      0.29      2007\n",
            "    Negative       0.17      0.58      0.26       391\n",
            "\n",
            "    accuracy                           0.42      4190\n",
            "   macro avg       0.42      0.47      0.38      4190\n",
            "weighted avg       0.51      0.42      0.41      4190\n",
            "\n"
          ]
        },
        {
          "output_type": "stream",
          "name": "stderr",
          "text": [
            "100%|██████████| 94/94 [00:02<00:00, 40.95it/s]\n"
          ]
        },
        {
          "output_type": "stream",
          "name": "stdout",
          "text": [
            "Average loss: tensor(1.0585, device='cuda:0', grad_fn=<DivBackward0>)\n",
            "Epoch 175/500, Report:               precision    recall  f1-score   support\n",
            "\n",
            "    Positive       0.53      0.63      0.57      1792\n",
            "     Neutral       0.56      0.20      0.29      2007\n",
            "    Negative       0.17      0.58      0.26       391\n",
            "\n",
            "    accuracy                           0.42      4190\n",
            "   macro avg       0.42      0.47      0.38      4190\n",
            "weighted avg       0.51      0.42      0.41      4190\n",
            "\n"
          ]
        },
        {
          "output_type": "stream",
          "name": "stderr",
          "text": [
            "100%|██████████| 94/94 [00:02<00:00, 34.70it/s]\n"
          ]
        },
        {
          "output_type": "stream",
          "name": "stdout",
          "text": [
            "Average loss: tensor(1.0587, device='cuda:0', grad_fn=<DivBackward0>)\n",
            "Epoch 176/500, Report:               precision    recall  f1-score   support\n",
            "\n",
            "    Positive       0.53      0.62      0.57      1792\n",
            "     Neutral       0.56      0.20      0.29      2007\n",
            "    Negative       0.17      0.58      0.26       391\n",
            "\n",
            "    accuracy                           0.42      4190\n",
            "   macro avg       0.42      0.47      0.38      4190\n",
            "weighted avg       0.51      0.42      0.41      4190\n",
            "\n"
          ]
        },
        {
          "output_type": "stream",
          "name": "stderr",
          "text": [
            "100%|██████████| 94/94 [00:03<00:00, 30.95it/s]\n"
          ]
        },
        {
          "output_type": "stream",
          "name": "stdout",
          "text": [
            "Average loss: tensor(1.0580, device='cuda:0', grad_fn=<DivBackward0>)\n",
            "Epoch 177/500, Report:               precision    recall  f1-score   support\n",
            "\n",
            "    Positive       0.53      0.62      0.57      1792\n",
            "     Neutral       0.56      0.20      0.30      2007\n",
            "    Negative       0.17      0.58      0.26       391\n",
            "\n",
            "    accuracy                           0.42      4190\n",
            "   macro avg       0.42      0.47      0.38      4190\n",
            "weighted avg       0.51      0.42      0.41      4190\n",
            "\n"
          ]
        },
        {
          "output_type": "stream",
          "name": "stderr",
          "text": [
            "100%|██████████| 94/94 [00:02<00:00, 41.59it/s]\n"
          ]
        },
        {
          "output_type": "stream",
          "name": "stdout",
          "text": [
            "Average loss: tensor(1.0578, device='cuda:0', grad_fn=<DivBackward0>)\n",
            "Epoch 178/500, Report:               precision    recall  f1-score   support\n",
            "\n",
            "    Positive       0.53      0.62      0.57      1792\n",
            "     Neutral       0.56      0.20      0.29      2007\n",
            "    Negative       0.17      0.58      0.26       391\n",
            "\n",
            "    accuracy                           0.42      4190\n",
            "   macro avg       0.42      0.47      0.38      4190\n",
            "weighted avg       0.51      0.42      0.41      4190\n",
            "\n"
          ]
        },
        {
          "output_type": "stream",
          "name": "stderr",
          "text": [
            "100%|██████████| 94/94 [00:02<00:00, 41.50it/s]\n"
          ]
        },
        {
          "output_type": "stream",
          "name": "stdout",
          "text": [
            "Average loss: tensor(1.0568, device='cuda:0', grad_fn=<DivBackward0>)\n",
            "Epoch 179/500, Report:               precision    recall  f1-score   support\n",
            "\n",
            "    Positive       0.53      0.63      0.57      1792\n",
            "     Neutral       0.56      0.20      0.30      2007\n",
            "    Negative       0.17      0.58      0.26       391\n",
            "\n",
            "    accuracy                           0.42      4190\n",
            "   macro avg       0.42      0.47      0.38      4190\n",
            "weighted avg       0.51      0.42      0.41      4190\n",
            "\n"
          ]
        },
        {
          "output_type": "stream",
          "name": "stderr",
          "text": [
            "100%|██████████| 94/94 [00:02<00:00, 38.94it/s]\n"
          ]
        },
        {
          "output_type": "stream",
          "name": "stdout",
          "text": [
            "Average loss: tensor(1.0582, device='cuda:0', grad_fn=<DivBackward0>)\n",
            "Epoch 180/500, Report:               precision    recall  f1-score   support\n",
            "\n",
            "    Positive       0.53      0.62      0.57      1792\n",
            "     Neutral       0.56      0.20      0.30      2007\n",
            "    Negative       0.17      0.58      0.26       391\n",
            "\n",
            "    accuracy                           0.42      4190\n",
            "   macro avg       0.42      0.47      0.38      4190\n",
            "weighted avg       0.51      0.42      0.41      4190\n",
            "\n"
          ]
        },
        {
          "output_type": "stream",
          "name": "stderr",
          "text": [
            "100%|██████████| 94/94 [00:02<00:00, 36.97it/s]\n"
          ]
        },
        {
          "output_type": "stream",
          "name": "stdout",
          "text": [
            "Average loss: tensor(1.0577, device='cuda:0', grad_fn=<DivBackward0>)\n",
            "Epoch 181/500, Report:               precision    recall  f1-score   support\n",
            "\n",
            "    Positive       0.53      0.62      0.57      1792\n",
            "     Neutral       0.56      0.21      0.30      2007\n",
            "    Negative       0.17      0.57      0.26       391\n",
            "\n",
            "    accuracy                           0.42      4190\n",
            "   macro avg       0.42      0.47      0.38      4190\n",
            "weighted avg       0.51      0.42      0.41      4190\n",
            "\n"
          ]
        },
        {
          "output_type": "stream",
          "name": "stderr",
          "text": [
            "100%|██████████| 94/94 [00:02<00:00, 41.11it/s]\n"
          ]
        },
        {
          "output_type": "stream",
          "name": "stdout",
          "text": [
            "Average loss: tensor(1.0581, device='cuda:0', grad_fn=<DivBackward0>)\n",
            "Epoch 182/500, Report:               precision    recall  f1-score   support\n",
            "\n",
            "    Positive       0.53      0.62      0.57      1792\n",
            "     Neutral       0.56      0.21      0.30      2007\n",
            "    Negative       0.17      0.57      0.26       391\n",
            "\n",
            "    accuracy                           0.42      4190\n",
            "   macro avg       0.42      0.47      0.38      4190\n",
            "weighted avg       0.51      0.42      0.41      4190\n",
            "\n"
          ]
        },
        {
          "output_type": "stream",
          "name": "stderr",
          "text": [
            "100%|██████████| 94/94 [00:02<00:00, 37.02it/s]\n"
          ]
        },
        {
          "output_type": "stream",
          "name": "stdout",
          "text": [
            "Average loss: tensor(1.0570, device='cuda:0', grad_fn=<DivBackward0>)\n",
            "Epoch 183/500, Report:               precision    recall  f1-score   support\n",
            "\n",
            "    Positive       0.53      0.62      0.57      1792\n",
            "     Neutral       0.56      0.21      0.30      2007\n",
            "    Negative       0.17      0.57      0.26       391\n",
            "\n",
            "    accuracy                           0.42      4190\n",
            "   macro avg       0.42      0.47      0.38      4190\n",
            "weighted avg       0.51      0.42      0.41      4190\n",
            "\n"
          ]
        },
        {
          "output_type": "stream",
          "name": "stderr",
          "text": [
            "100%|██████████| 94/94 [00:02<00:00, 40.83it/s]\n"
          ]
        },
        {
          "output_type": "stream",
          "name": "stdout",
          "text": [
            "Average loss: tensor(1.0584, device='cuda:0', grad_fn=<DivBackward0>)\n",
            "Epoch 184/500, Report:               precision    recall  f1-score   support\n",
            "\n",
            "    Positive       0.53      0.62      0.57      1792\n",
            "     Neutral       0.56      0.21      0.31      2007\n",
            "    Negative       0.17      0.57      0.26       391\n",
            "\n",
            "    accuracy                           0.42      4190\n",
            "   macro avg       0.42      0.47      0.38      4190\n",
            "weighted avg       0.51      0.42      0.42      4190\n",
            "\n"
          ]
        },
        {
          "output_type": "stream",
          "name": "stderr",
          "text": [
            "100%|██████████| 94/94 [00:02<00:00, 39.50it/s]\n"
          ]
        },
        {
          "output_type": "stream",
          "name": "stdout",
          "text": [
            "Average loss: tensor(1.0578, device='cuda:0', grad_fn=<DivBackward0>)\n",
            "Epoch 185/500, Report:               precision    recall  f1-score   support\n",
            "\n",
            "    Positive       0.53      0.62      0.57      1792\n",
            "     Neutral       0.56      0.21      0.30      2007\n",
            "    Negative       0.17      0.57      0.26       391\n",
            "\n",
            "    accuracy                           0.42      4190\n",
            "   macro avg       0.42      0.47      0.38      4190\n",
            "weighted avg       0.51      0.42      0.42      4190\n",
            "\n"
          ]
        },
        {
          "output_type": "stream",
          "name": "stderr",
          "text": [
            "100%|██████████| 94/94 [00:02<00:00, 38.64it/s]\n"
          ]
        },
        {
          "output_type": "stream",
          "name": "stdout",
          "text": [
            "Average loss: tensor(1.0562, device='cuda:0', grad_fn=<DivBackward0>)\n",
            "Epoch 186/500, Report:               precision    recall  f1-score   support\n",
            "\n",
            "    Positive       0.53      0.62      0.57      1792\n",
            "     Neutral       0.56      0.21      0.31      2007\n",
            "    Negative       0.17      0.57      0.26       391\n",
            "\n",
            "    accuracy                           0.42      4190\n",
            "   macro avg       0.42      0.47      0.38      4190\n",
            "weighted avg       0.51      0.42      0.42      4190\n",
            "\n"
          ]
        },
        {
          "output_type": "stream",
          "name": "stderr",
          "text": [
            "100%|██████████| 94/94 [00:02<00:00, 40.81it/s]\n"
          ]
        },
        {
          "output_type": "stream",
          "name": "stdout",
          "text": [
            "Average loss: tensor(1.0574, device='cuda:0', grad_fn=<DivBackward0>)\n",
            "Epoch 187/500, Report:               precision    recall  f1-score   support\n",
            "\n",
            "    Positive       0.53      0.62      0.57      1792\n",
            "     Neutral       0.56      0.21      0.31      2007\n",
            "    Negative       0.17      0.57      0.26       391\n",
            "\n",
            "    accuracy                           0.42      4190\n",
            "   macro avg       0.42      0.47      0.38      4190\n",
            "weighted avg       0.51      0.42      0.41      4190\n",
            "\n"
          ]
        },
        {
          "output_type": "stream",
          "name": "stderr",
          "text": [
            "100%|██████████| 94/94 [00:02<00:00, 40.50it/s]\n"
          ]
        },
        {
          "output_type": "stream",
          "name": "stdout",
          "text": [
            "Average loss: tensor(1.0570, device='cuda:0', grad_fn=<DivBackward0>)\n",
            "Epoch 188/500, Report:               precision    recall  f1-score   support\n",
            "\n",
            "    Positive       0.53      0.62      0.57      1792\n",
            "     Neutral       0.56      0.21      0.31      2007\n",
            "    Negative       0.17      0.57      0.26       391\n",
            "\n",
            "    accuracy                           0.42      4190\n",
            "   macro avg       0.42      0.47      0.38      4190\n",
            "weighted avg       0.51      0.42      0.42      4190\n",
            "\n"
          ]
        },
        {
          "output_type": "stream",
          "name": "stderr",
          "text": [
            "100%|██████████| 94/94 [00:02<00:00, 40.37it/s]\n"
          ]
        },
        {
          "output_type": "stream",
          "name": "stdout",
          "text": [
            "Average loss: tensor(1.0563, device='cuda:0', grad_fn=<DivBackward0>)\n",
            "Epoch 189/500, Report:               precision    recall  f1-score   support\n",
            "\n",
            "    Positive       0.53      0.62      0.57      1792\n",
            "     Neutral       0.56      0.22      0.31      2007\n",
            "    Negative       0.17      0.57      0.26       391\n",
            "\n",
            "    accuracy                           0.42      4190\n",
            "   macro avg       0.42      0.47      0.38      4190\n",
            "weighted avg       0.51      0.42      0.42      4190\n",
            "\n"
          ]
        },
        {
          "output_type": "stream",
          "name": "stderr",
          "text": [
            "100%|██████████| 94/94 [00:02<00:00, 36.89it/s]\n"
          ]
        },
        {
          "output_type": "stream",
          "name": "stdout",
          "text": [
            "Average loss: tensor(1.0579, device='cuda:0', grad_fn=<DivBackward0>)\n",
            "Epoch 190/500, Report:               precision    recall  f1-score   support\n",
            "\n",
            "    Positive       0.53      0.62      0.57      1792\n",
            "     Neutral       0.56      0.22      0.31      2007\n",
            "    Negative       0.17      0.57      0.26       391\n",
            "\n",
            "    accuracy                           0.42      4190\n",
            "   macro avg       0.42      0.47      0.38      4190\n",
            "weighted avg       0.51      0.42      0.42      4190\n",
            "\n"
          ]
        },
        {
          "output_type": "stream",
          "name": "stderr",
          "text": [
            "100%|██████████| 94/94 [00:02<00:00, 39.33it/s]\n"
          ]
        },
        {
          "output_type": "stream",
          "name": "stdout",
          "text": [
            "Average loss: tensor(1.0571, device='cuda:0', grad_fn=<DivBackward0>)\n",
            "Epoch 191/500, Report:               precision    recall  f1-score   support\n",
            "\n",
            "    Positive       0.53      0.62      0.57      1792\n",
            "     Neutral       0.56      0.22      0.31      2007\n",
            "    Negative       0.17      0.57      0.26       391\n",
            "\n",
            "    accuracy                           0.42      4190\n",
            "   macro avg       0.42      0.47      0.38      4190\n",
            "weighted avg       0.51      0.42      0.42      4190\n",
            "\n"
          ]
        },
        {
          "output_type": "stream",
          "name": "stderr",
          "text": [
            "100%|██████████| 94/94 [00:02<00:00, 40.83it/s]\n"
          ]
        },
        {
          "output_type": "stream",
          "name": "stdout",
          "text": [
            "Average loss: tensor(1.0565, device='cuda:0', grad_fn=<DivBackward0>)\n",
            "Epoch 192/500, Report:               precision    recall  f1-score   support\n",
            "\n",
            "    Positive       0.53      0.62      0.57      1792\n",
            "     Neutral       0.56      0.22      0.31      2007\n",
            "    Negative       0.17      0.57      0.26       391\n",
            "\n",
            "    accuracy                           0.42      4190\n",
            "   macro avg       0.42      0.47      0.38      4190\n",
            "weighted avg       0.51      0.42      0.42      4190\n",
            "\n"
          ]
        },
        {
          "output_type": "stream",
          "name": "stderr",
          "text": [
            "100%|██████████| 94/94 [00:02<00:00, 40.74it/s]\n"
          ]
        },
        {
          "output_type": "stream",
          "name": "stdout",
          "text": [
            "Average loss: tensor(1.0561, device='cuda:0', grad_fn=<DivBackward0>)\n",
            "Epoch 193/500, Report:               precision    recall  f1-score   support\n",
            "\n",
            "    Positive       0.53      0.62      0.57      1792\n",
            "     Neutral       0.56      0.22      0.31      2007\n",
            "    Negative       0.17      0.57      0.26       391\n",
            "\n",
            "    accuracy                           0.42      4190\n",
            "   macro avg       0.42      0.47      0.38      4190\n",
            "weighted avg       0.51      0.42      0.42      4190\n",
            "\n"
          ]
        },
        {
          "output_type": "stream",
          "name": "stderr",
          "text": [
            "100%|██████████| 94/94 [00:02<00:00, 39.38it/s]\n"
          ]
        },
        {
          "output_type": "stream",
          "name": "stdout",
          "text": [
            "Average loss: tensor(1.0556, device='cuda:0', grad_fn=<DivBackward0>)\n",
            "Epoch 194/500, Report:               precision    recall  f1-score   support\n",
            "\n",
            "    Positive       0.53      0.62      0.57      1792\n",
            "     Neutral       0.56      0.22      0.31      2007\n",
            "    Negative       0.17      0.57      0.26       391\n",
            "\n",
            "    accuracy                           0.42      4190\n",
            "   macro avg       0.42      0.47      0.38      4190\n",
            "weighted avg       0.51      0.42      0.42      4190\n",
            "\n"
          ]
        },
        {
          "output_type": "stream",
          "name": "stderr",
          "text": [
            "100%|██████████| 94/94 [00:02<00:00, 38.53it/s]\n"
          ]
        },
        {
          "output_type": "stream",
          "name": "stdout",
          "text": [
            "Average loss: tensor(1.0570, device='cuda:0', grad_fn=<DivBackward0>)\n",
            "Epoch 195/500, Report:               precision    recall  f1-score   support\n",
            "\n",
            "    Positive       0.53      0.62      0.57      1792\n",
            "     Neutral       0.56      0.22      0.32      2007\n",
            "    Negative       0.17      0.57      0.26       391\n",
            "\n",
            "    accuracy                           0.42      4190\n",
            "   macro avg       0.42      0.47      0.38      4190\n",
            "weighted avg       0.51      0.42      0.42      4190\n",
            "\n"
          ]
        },
        {
          "output_type": "stream",
          "name": "stderr",
          "text": [
            "100%|██████████| 94/94 [00:02<00:00, 40.07it/s]\n"
          ]
        },
        {
          "output_type": "stream",
          "name": "stdout",
          "text": [
            "Average loss: tensor(1.0574, device='cuda:0', grad_fn=<DivBackward0>)\n",
            "Epoch 196/500, Report:               precision    recall  f1-score   support\n",
            "\n",
            "    Positive       0.53      0.62      0.57      1792\n",
            "     Neutral       0.56      0.22      0.32      2007\n",
            "    Negative       0.17      0.57      0.26       391\n",
            "\n",
            "    accuracy                           0.42      4190\n",
            "   macro avg       0.42      0.47      0.38      4190\n",
            "weighted avg       0.51      0.42      0.42      4190\n",
            "\n"
          ]
        },
        {
          "output_type": "stream",
          "name": "stderr",
          "text": [
            "100%|██████████| 94/94 [00:02<00:00, 40.93it/s]\n"
          ]
        },
        {
          "output_type": "stream",
          "name": "stdout",
          "text": [
            "Average loss: tensor(1.0573, device='cuda:0', grad_fn=<DivBackward0>)\n",
            "Epoch 197/500, Report:               precision    recall  f1-score   support\n",
            "\n",
            "    Positive       0.53      0.61      0.57      1792\n",
            "     Neutral       0.56      0.22      0.32      2007\n",
            "    Negative       0.17      0.57      0.26       391\n",
            "\n",
            "    accuracy                           0.42      4190\n",
            "   macro avg       0.42      0.47      0.38      4190\n",
            "weighted avg       0.51      0.42      0.42      4190\n",
            "\n"
          ]
        },
        {
          "output_type": "stream",
          "name": "stderr",
          "text": [
            "100%|██████████| 94/94 [00:02<00:00, 33.22it/s]\n"
          ]
        },
        {
          "output_type": "stream",
          "name": "stdout",
          "text": [
            "Average loss: tensor(1.0570, device='cuda:0', grad_fn=<DivBackward0>)\n",
            "Epoch 198/500, Report:               precision    recall  f1-score   support\n",
            "\n",
            "    Positive       0.53      0.61      0.57      1792\n",
            "     Neutral       0.56      0.22      0.32      2007\n",
            "    Negative       0.17      0.57      0.26       391\n",
            "\n",
            "    accuracy                           0.42      4190\n",
            "   macro avg       0.42      0.47      0.38      4190\n",
            "weighted avg       0.51      0.42      0.42      4190\n",
            "\n"
          ]
        },
        {
          "output_type": "stream",
          "name": "stderr",
          "text": [
            "100%|██████████| 94/94 [00:02<00:00, 36.68it/s]\n"
          ]
        },
        {
          "output_type": "stream",
          "name": "stdout",
          "text": [
            "Average loss: tensor(1.0568, device='cuda:0', grad_fn=<DivBackward0>)\n",
            "Epoch 199/500, Report:               precision    recall  f1-score   support\n",
            "\n",
            "    Positive       0.53      0.61      0.57      1792\n",
            "     Neutral       0.56      0.22      0.32      2007\n",
            "    Negative       0.17      0.57      0.26       391\n",
            "\n",
            "    accuracy                           0.42      4190\n",
            "   macro avg       0.42      0.47      0.38      4190\n",
            "weighted avg       0.51      0.42      0.42      4190\n",
            "\n"
          ]
        },
        {
          "output_type": "stream",
          "name": "stderr",
          "text": [
            "100%|██████████| 94/94 [00:02<00:00, 40.42it/s]\n"
          ]
        },
        {
          "output_type": "stream",
          "name": "stdout",
          "text": [
            "Average loss: tensor(1.0564, device='cuda:0', grad_fn=<DivBackward0>)\n",
            "Epoch 200/500, Report:               precision    recall  f1-score   support\n",
            "\n",
            "    Positive       0.53      0.61      0.57      1792\n",
            "     Neutral       0.56      0.22      0.32      2007\n",
            "    Negative       0.17      0.57      0.26       391\n",
            "\n",
            "    accuracy                           0.42      4190\n",
            "   macro avg       0.42      0.47      0.38      4190\n",
            "weighted avg       0.51      0.42      0.42      4190\n",
            "\n"
          ]
        },
        {
          "output_type": "stream",
          "name": "stderr",
          "text": [
            "100%|██████████| 94/94 [00:02<00:00, 39.37it/s]\n"
          ]
        },
        {
          "output_type": "stream",
          "name": "stdout",
          "text": [
            "Average loss: tensor(1.0570, device='cuda:0', grad_fn=<DivBackward0>)\n",
            "Epoch 201/500, Report:               precision    recall  f1-score   support\n",
            "\n",
            "    Positive       0.53      0.61      0.57      1792\n",
            "     Neutral       0.56      0.22      0.32      2007\n",
            "    Negative       0.17      0.57      0.26       391\n",
            "\n",
            "    accuracy                           0.42      4190\n",
            "   macro avg       0.42      0.47      0.38      4190\n",
            "weighted avg       0.51      0.42      0.42      4190\n",
            "\n"
          ]
        },
        {
          "output_type": "stream",
          "name": "stderr",
          "text": [
            "100%|██████████| 94/94 [00:02<00:00, 38.01it/s]\n"
          ]
        },
        {
          "output_type": "stream",
          "name": "stdout",
          "text": [
            "Average loss: tensor(1.0553, device='cuda:0', grad_fn=<DivBackward0>)\n",
            "Epoch 202/500, Report:               precision    recall  f1-score   support\n",
            "\n",
            "    Positive       0.53      0.61      0.57      1792\n",
            "     Neutral       0.56      0.22      0.32      2007\n",
            "    Negative       0.17      0.57      0.26       391\n",
            "\n",
            "    accuracy                           0.42      4190\n",
            "   macro avg       0.42      0.47      0.38      4190\n",
            "weighted avg       0.51      0.42      0.42      4190\n",
            "\n"
          ]
        },
        {
          "output_type": "stream",
          "name": "stderr",
          "text": [
            "100%|██████████| 94/94 [00:02<00:00, 36.47it/s]\n"
          ]
        },
        {
          "output_type": "stream",
          "name": "stdout",
          "text": [
            "Average loss: tensor(1.0570, device='cuda:0', grad_fn=<DivBackward0>)\n",
            "Epoch 203/500, Report:               precision    recall  f1-score   support\n",
            "\n",
            "    Positive       0.53      0.61      0.57      1792\n",
            "     Neutral       0.56      0.22      0.32      2007\n",
            "    Negative       0.17      0.57      0.26       391\n",
            "\n",
            "    accuracy                           0.42      4190\n",
            "   macro avg       0.42      0.47      0.38      4190\n",
            "weighted avg       0.51      0.42      0.42      4190\n",
            "\n"
          ]
        },
        {
          "output_type": "stream",
          "name": "stderr",
          "text": [
            "100%|██████████| 94/94 [00:02<00:00, 35.83it/s]\n"
          ]
        },
        {
          "output_type": "stream",
          "name": "stdout",
          "text": [
            "Average loss: tensor(1.0556, device='cuda:0', grad_fn=<DivBackward0>)\n",
            "Epoch 204/500, Report:               precision    recall  f1-score   support\n",
            "\n",
            "    Positive       0.53      0.61      0.57      1792\n",
            "     Neutral       0.56      0.22      0.32      2007\n",
            "    Negative       0.17      0.57      0.26       391\n",
            "\n",
            "    accuracy                           0.42      4190\n",
            "   macro avg       0.42      0.47      0.38      4190\n",
            "weighted avg       0.51      0.42      0.42      4190\n",
            "\n"
          ]
        },
        {
          "output_type": "stream",
          "name": "stderr",
          "text": [
            "100%|██████████| 94/94 [00:02<00:00, 37.72it/s]\n"
          ]
        },
        {
          "output_type": "stream",
          "name": "stdout",
          "text": [
            "Average loss: tensor(1.0557, device='cuda:0', grad_fn=<DivBackward0>)\n",
            "Epoch 205/500, Report:               precision    recall  f1-score   support\n",
            "\n",
            "    Positive       0.53      0.61      0.57      1792\n",
            "     Neutral       0.56      0.22      0.32      2007\n",
            "    Negative       0.17      0.57      0.26       391\n",
            "\n",
            "    accuracy                           0.42      4190\n",
            "   macro avg       0.42      0.47      0.38      4190\n",
            "weighted avg       0.51      0.42      0.42      4190\n",
            "\n"
          ]
        },
        {
          "output_type": "stream",
          "name": "stderr",
          "text": [
            "100%|██████████| 94/94 [00:02<00:00, 40.11it/s]\n"
          ]
        },
        {
          "output_type": "stream",
          "name": "stdout",
          "text": [
            "Average loss: tensor(1.0565, device='cuda:0', grad_fn=<DivBackward0>)\n",
            "Epoch 206/500, Report:               precision    recall  f1-score   support\n",
            "\n",
            "    Positive       0.53      0.61      0.57      1792\n",
            "     Neutral       0.56      0.22      0.32      2007\n",
            "    Negative       0.17      0.57      0.26       391\n",
            "\n",
            "    accuracy                           0.42      4190\n",
            "   macro avg       0.42      0.47      0.38      4190\n",
            "weighted avg       0.51      0.42      0.42      4190\n",
            "\n"
          ]
        },
        {
          "output_type": "stream",
          "name": "stderr",
          "text": [
            "100%|██████████| 94/94 [00:02<00:00, 38.03it/s]\n"
          ]
        },
        {
          "output_type": "stream",
          "name": "stdout",
          "text": [
            "Average loss: tensor(1.0559, device='cuda:0', grad_fn=<DivBackward0>)\n",
            "Epoch 207/500, Report:               precision    recall  f1-score   support\n",
            "\n",
            "    Positive       0.53      0.61      0.57      1792\n",
            "     Neutral       0.56      0.23      0.32      2007\n",
            "    Negative       0.17      0.57      0.26       391\n",
            "\n",
            "    accuracy                           0.42      4190\n",
            "   macro avg       0.42      0.47      0.38      4190\n",
            "weighted avg       0.51      0.42      0.42      4190\n",
            "\n"
          ]
        },
        {
          "output_type": "stream",
          "name": "stderr",
          "text": [
            "100%|██████████| 94/94 [00:02<00:00, 38.85it/s]\n"
          ]
        },
        {
          "output_type": "stream",
          "name": "stdout",
          "text": [
            "Average loss: tensor(1.0560, device='cuda:0', grad_fn=<DivBackward0>)\n",
            "Epoch 208/500, Report:               precision    recall  f1-score   support\n",
            "\n",
            "    Positive       0.53      0.61      0.57      1792\n",
            "     Neutral       0.56      0.23      0.32      2007\n",
            "    Negative       0.17      0.56      0.26       391\n",
            "\n",
            "    accuracy                           0.42      4190\n",
            "   macro avg       0.42      0.47      0.38      4190\n",
            "weighted avg       0.51      0.42      0.42      4190\n",
            "\n"
          ]
        },
        {
          "output_type": "stream",
          "name": "stderr",
          "text": [
            "100%|██████████| 94/94 [00:02<00:00, 41.48it/s]\n"
          ]
        },
        {
          "output_type": "stream",
          "name": "stdout",
          "text": [
            "Average loss: tensor(1.0556, device='cuda:0', grad_fn=<DivBackward0>)\n",
            "Epoch 209/500, Report:               precision    recall  f1-score   support\n",
            "\n",
            "    Positive       0.53      0.61      0.57      1792\n",
            "     Neutral       0.56      0.23      0.32      2007\n",
            "    Negative       0.17      0.56      0.26       391\n",
            "\n",
            "    accuracy                           0.42      4190\n",
            "   macro avg       0.42      0.47      0.38      4190\n",
            "weighted avg       0.51      0.42      0.42      4190\n",
            "\n"
          ]
        },
        {
          "output_type": "stream",
          "name": "stderr",
          "text": [
            "100%|██████████| 94/94 [00:02<00:00, 41.13it/s]\n"
          ]
        },
        {
          "output_type": "stream",
          "name": "stdout",
          "text": [
            "Average loss: tensor(1.0549, device='cuda:0', grad_fn=<DivBackward0>)\n",
            "Epoch 210/500, Report:               precision    recall  f1-score   support\n",
            "\n",
            "    Positive       0.53      0.61      0.57      1792\n",
            "     Neutral       0.56      0.23      0.32      2007\n",
            "    Negative       0.17      0.56      0.26       391\n",
            "\n",
            "    accuracy                           0.42      4190\n",
            "   macro avg       0.42      0.47      0.38      4190\n",
            "weighted avg       0.51      0.42      0.42      4190\n",
            "\n"
          ]
        },
        {
          "output_type": "stream",
          "name": "stderr",
          "text": [
            "100%|██████████| 94/94 [00:02<00:00, 40.96it/s]\n"
          ]
        },
        {
          "output_type": "stream",
          "name": "stdout",
          "text": [
            "Average loss: tensor(1.0554, device='cuda:0', grad_fn=<DivBackward0>)\n",
            "Epoch 211/500, Report:               precision    recall  f1-score   support\n",
            "\n",
            "    Positive       0.53      0.61      0.57      1792\n",
            "     Neutral       0.56      0.23      0.32      2007\n",
            "    Negative       0.17      0.56      0.26       391\n",
            "\n",
            "    accuracy                           0.42      4190\n",
            "   macro avg       0.42      0.47      0.38      4190\n",
            "weighted avg       0.51      0.42      0.42      4190\n",
            "\n"
          ]
        },
        {
          "output_type": "stream",
          "name": "stderr",
          "text": [
            "100%|██████████| 94/94 [00:02<00:00, 35.58it/s]\n"
          ]
        },
        {
          "output_type": "stream",
          "name": "stdout",
          "text": [
            "Average loss: tensor(1.0561, device='cuda:0', grad_fn=<DivBackward0>)\n",
            "Epoch 212/500, Report:               precision    recall  f1-score   support\n",
            "\n",
            "    Positive       0.53      0.61      0.57      1792\n",
            "     Neutral       0.55      0.23      0.32      2007\n",
            "    Negative       0.17      0.56      0.26       391\n",
            "\n",
            "    accuracy                           0.42      4190\n",
            "   macro avg       0.42      0.47      0.38      4190\n",
            "weighted avg       0.51      0.42      0.42      4190\n",
            "\n"
          ]
        },
        {
          "output_type": "stream",
          "name": "stderr",
          "text": [
            "100%|██████████| 94/94 [00:02<00:00, 38.22it/s]\n"
          ]
        },
        {
          "output_type": "stream",
          "name": "stdout",
          "text": [
            "Average loss: tensor(1.0548, device='cuda:0', grad_fn=<DivBackward0>)\n",
            "Epoch 213/500, Report:               precision    recall  f1-score   support\n",
            "\n",
            "    Positive       0.53      0.61      0.57      1792\n",
            "     Neutral       0.55      0.23      0.32      2007\n",
            "    Negative       0.17      0.56      0.26       391\n",
            "\n",
            "    accuracy                           0.42      4190\n",
            "   macro avg       0.42      0.47      0.38      4190\n",
            "weighted avg       0.51      0.42      0.42      4190\n",
            "\n"
          ]
        },
        {
          "output_type": "stream",
          "name": "stderr",
          "text": [
            "100%|██████████| 94/94 [00:02<00:00, 40.74it/s]\n"
          ]
        },
        {
          "output_type": "stream",
          "name": "stdout",
          "text": [
            "Average loss: tensor(1.0546, device='cuda:0', grad_fn=<DivBackward0>)\n",
            "Epoch 214/500, Report:               precision    recall  f1-score   support\n",
            "\n",
            "    Positive       0.53      0.61      0.57      1792\n",
            "     Neutral       0.55      0.23      0.33      2007\n",
            "    Negative       0.17      0.56      0.26       391\n",
            "\n",
            "    accuracy                           0.42      4190\n",
            "   macro avg       0.42      0.47      0.38      4190\n",
            "weighted avg       0.51      0.42      0.42      4190\n",
            "\n"
          ]
        },
        {
          "output_type": "stream",
          "name": "stderr",
          "text": [
            "100%|██████████| 94/94 [00:02<00:00, 41.64it/s]\n"
          ]
        },
        {
          "output_type": "stream",
          "name": "stdout",
          "text": [
            "Average loss: tensor(1.0550, device='cuda:0', grad_fn=<DivBackward0>)\n",
            "Epoch 215/500, Report:               precision    recall  f1-score   support\n",
            "\n",
            "    Positive       0.53      0.61      0.57      1792\n",
            "     Neutral       0.55      0.23      0.32      2007\n",
            "    Negative       0.17      0.56      0.26       391\n",
            "\n",
            "    accuracy                           0.42      4190\n",
            "   macro avg       0.42      0.47      0.38      4190\n",
            "weighted avg       0.51      0.42      0.42      4190\n",
            "\n"
          ]
        },
        {
          "output_type": "stream",
          "name": "stderr",
          "text": [
            "100%|██████████| 94/94 [00:02<00:00, 38.46it/s]\n"
          ]
        },
        {
          "output_type": "stream",
          "name": "stdout",
          "text": [
            "Average loss: tensor(1.0562, device='cuda:0', grad_fn=<DivBackward0>)\n",
            "Epoch 216/500, Report:               precision    recall  f1-score   support\n",
            "\n",
            "    Positive       0.53      0.60      0.57      1792\n",
            "     Neutral       0.55      0.23      0.32      2007\n",
            "    Negative       0.17      0.56      0.26       391\n",
            "\n",
            "    accuracy                           0.42      4190\n",
            "   macro avg       0.42      0.47      0.38      4190\n",
            "weighted avg       0.51      0.42      0.42      4190\n",
            "\n"
          ]
        },
        {
          "output_type": "stream",
          "name": "stderr",
          "text": [
            "100%|██████████| 94/94 [00:02<00:00, 39.00it/s]\n"
          ]
        },
        {
          "output_type": "stream",
          "name": "stdout",
          "text": [
            "Average loss: tensor(1.0543, device='cuda:0', grad_fn=<DivBackward0>)\n",
            "Epoch 217/500, Report:               precision    recall  f1-score   support\n",
            "\n",
            "    Positive       0.53      0.61      0.57      1792\n",
            "     Neutral       0.55      0.23      0.33      2007\n",
            "    Negative       0.17      0.56      0.26       391\n",
            "\n",
            "    accuracy                           0.42      4190\n",
            "   macro avg       0.42      0.47      0.38      4190\n",
            "weighted avg       0.51      0.42      0.42      4190\n",
            "\n"
          ]
        },
        {
          "output_type": "stream",
          "name": "stderr",
          "text": [
            "100%|██████████| 94/94 [00:02<00:00, 40.34it/s]\n"
          ]
        },
        {
          "output_type": "stream",
          "name": "stdout",
          "text": [
            "Average loss: tensor(1.0557, device='cuda:0', grad_fn=<DivBackward0>)\n",
            "Epoch 218/500, Report:               precision    recall  f1-score   support\n",
            "\n",
            "    Positive       0.53      0.61      0.57      1792\n",
            "     Neutral       0.55      0.23      0.33      2007\n",
            "    Negative       0.17      0.55      0.26       391\n",
            "\n",
            "    accuracy                           0.42      4190\n",
            "   macro avg       0.42      0.46      0.38      4190\n",
            "weighted avg       0.51      0.42      0.42      4190\n",
            "\n"
          ]
        },
        {
          "output_type": "stream",
          "name": "stderr",
          "text": [
            "100%|██████████| 94/94 [00:02<00:00, 40.32it/s]\n"
          ]
        },
        {
          "output_type": "stream",
          "name": "stdout",
          "text": [
            "Average loss: tensor(1.0555, device='cuda:0', grad_fn=<DivBackward0>)\n",
            "Epoch 219/500, Report:               precision    recall  f1-score   support\n",
            "\n",
            "    Positive       0.53      0.61      0.57      1792\n",
            "     Neutral       0.55      0.24      0.33      2007\n",
            "    Negative       0.17      0.55      0.26       391\n",
            "\n",
            "    accuracy                           0.42      4190\n",
            "   macro avg       0.42      0.46      0.38      4190\n",
            "weighted avg       0.51      0.42      0.42      4190\n",
            "\n"
          ]
        },
        {
          "output_type": "stream",
          "name": "stderr",
          "text": [
            "100%|██████████| 94/94 [00:02<00:00, 41.71it/s]\n"
          ]
        },
        {
          "output_type": "stream",
          "name": "stdout",
          "text": [
            "Average loss: tensor(1.0549, device='cuda:0', grad_fn=<DivBackward0>)\n",
            "Epoch 220/500, Report:               precision    recall  f1-score   support\n",
            "\n",
            "    Positive       0.53      0.60      0.57      1792\n",
            "     Neutral       0.55      0.23      0.33      2007\n",
            "    Negative       0.17      0.55      0.26       391\n",
            "\n",
            "    accuracy                           0.42      4190\n",
            "   macro avg       0.42      0.46      0.38      4190\n",
            "weighted avg       0.51      0.42      0.42      4190\n",
            "\n"
          ]
        },
        {
          "output_type": "stream",
          "name": "stderr",
          "text": [
            "100%|██████████| 94/94 [00:02<00:00, 35.16it/s]\n"
          ]
        },
        {
          "output_type": "stream",
          "name": "stdout",
          "text": [
            "Average loss: tensor(1.0557, device='cuda:0', grad_fn=<DivBackward0>)\n",
            "Epoch 221/500, Report:               precision    recall  f1-score   support\n",
            "\n",
            "    Positive       0.53      0.60      0.57      1792\n",
            "     Neutral       0.54      0.24      0.33      2007\n",
            "    Negative       0.17      0.55      0.26       391\n",
            "\n",
            "    accuracy                           0.42      4190\n",
            "   macro avg       0.41      0.46      0.38      4190\n",
            "weighted avg       0.50      0.42      0.42      4190\n",
            "\n"
          ]
        },
        {
          "output_type": "stream",
          "name": "stderr",
          "text": [
            "100%|██████████| 94/94 [00:02<00:00, 41.05it/s]\n"
          ]
        },
        {
          "output_type": "stream",
          "name": "stdout",
          "text": [
            "Average loss: tensor(1.0543, device='cuda:0', grad_fn=<DivBackward0>)\n",
            "Epoch 222/500, Report:               precision    recall  f1-score   support\n",
            "\n",
            "    Positive       0.53      0.60      0.56      1792\n",
            "     Neutral       0.55      0.23      0.33      2007\n",
            "    Negative       0.17      0.55      0.26       391\n",
            "\n",
            "    accuracy                           0.42      4190\n",
            "   macro avg       0.41      0.46      0.38      4190\n",
            "weighted avg       0.50      0.42      0.42      4190\n",
            "\n"
          ]
        },
        {
          "output_type": "stream",
          "name": "stderr",
          "text": [
            "100%|██████████| 94/94 [00:02<00:00, 40.91it/s]\n"
          ]
        },
        {
          "output_type": "stream",
          "name": "stdout",
          "text": [
            "Average loss: tensor(1.0535, device='cuda:0', grad_fn=<DivBackward0>)\n",
            "Epoch 223/500, Report:               precision    recall  f1-score   support\n",
            "\n",
            "    Positive       0.53      0.60      0.57      1792\n",
            "     Neutral       0.55      0.23      0.33      2007\n",
            "    Negative       0.17      0.56      0.26       391\n",
            "\n",
            "    accuracy                           0.42      4190\n",
            "   macro avg       0.42      0.46      0.38      4190\n",
            "weighted avg       0.51      0.42      0.42      4190\n",
            "\n"
          ]
        },
        {
          "output_type": "stream",
          "name": "stderr",
          "text": [
            "100%|██████████| 94/94 [00:02<00:00, 40.36it/s]\n"
          ]
        },
        {
          "output_type": "stream",
          "name": "stdout",
          "text": [
            "Average loss: tensor(1.0554, device='cuda:0', grad_fn=<DivBackward0>)\n",
            "Epoch 224/500, Report:               precision    recall  f1-score   support\n",
            "\n",
            "    Positive       0.53      0.60      0.57      1792\n",
            "     Neutral       0.55      0.23      0.33      2007\n",
            "    Negative       0.17      0.56      0.26       391\n",
            "\n",
            "    accuracy                           0.42      4190\n",
            "   macro avg       0.42      0.46      0.38      4190\n",
            "weighted avg       0.51      0.42      0.42      4190\n",
            "\n"
          ]
        },
        {
          "output_type": "stream",
          "name": "stderr",
          "text": [
            "100%|██████████| 94/94 [00:02<00:00, 37.36it/s]\n"
          ]
        },
        {
          "output_type": "stream",
          "name": "stdout",
          "text": [
            "Average loss: tensor(1.0552, device='cuda:0', grad_fn=<DivBackward0>)\n",
            "Epoch 225/500, Report:               precision    recall  f1-score   support\n",
            "\n",
            "    Positive       0.53      0.60      0.57      1792\n",
            "     Neutral       0.55      0.23      0.33      2007\n",
            "    Negative       0.17      0.55      0.26       391\n",
            "\n",
            "    accuracy                           0.42      4190\n",
            "   macro avg       0.41      0.46      0.38      4190\n",
            "weighted avg       0.50      0.42      0.42      4190\n",
            "\n"
          ]
        },
        {
          "output_type": "stream",
          "name": "stderr",
          "text": [
            "100%|██████████| 94/94 [00:02<00:00, 40.73it/s]\n"
          ]
        },
        {
          "output_type": "stream",
          "name": "stdout",
          "text": [
            "Average loss: tensor(1.0544, device='cuda:0', grad_fn=<DivBackward0>)\n",
            "Epoch 226/500, Report:               precision    recall  f1-score   support\n",
            "\n",
            "    Positive       0.53      0.60      0.57      1792\n",
            "     Neutral       0.55      0.24      0.33      2007\n",
            "    Negative       0.17      0.55      0.26       391\n",
            "\n",
            "    accuracy                           0.42      4190\n",
            "   macro avg       0.42      0.46      0.38      4190\n",
            "weighted avg       0.51      0.42      0.42      4190\n",
            "\n"
          ]
        },
        {
          "output_type": "stream",
          "name": "stderr",
          "text": [
            "100%|██████████| 94/94 [00:02<00:00, 41.03it/s]\n"
          ]
        },
        {
          "output_type": "stream",
          "name": "stdout",
          "text": [
            "Average loss: tensor(1.0553, device='cuda:0', grad_fn=<DivBackward0>)\n",
            "Epoch 227/500, Report:               precision    recall  f1-score   support\n",
            "\n",
            "    Positive       0.53      0.60      0.56      1792\n",
            "     Neutral       0.54      0.24      0.33      2007\n",
            "    Negative       0.17      0.55      0.26       391\n",
            "\n",
            "    accuracy                           0.42      4190\n",
            "   macro avg       0.41      0.46      0.38      4190\n",
            "weighted avg       0.50      0.42      0.42      4190\n",
            "\n"
          ]
        },
        {
          "output_type": "stream",
          "name": "stderr",
          "text": [
            "100%|██████████| 94/94 [00:02<00:00, 40.86it/s]\n"
          ]
        },
        {
          "output_type": "stream",
          "name": "stdout",
          "text": [
            "Average loss: tensor(1.0534, device='cuda:0', grad_fn=<DivBackward0>)\n",
            "Epoch 228/500, Report:               precision    recall  f1-score   support\n",
            "\n",
            "    Positive       0.53      0.60      0.57      1792\n",
            "     Neutral       0.54      0.24      0.33      2007\n",
            "    Negative       0.17      0.55      0.26       391\n",
            "\n",
            "    accuracy                           0.42      4190\n",
            "   macro avg       0.41      0.46      0.38      4190\n",
            "weighted avg       0.50      0.42      0.42      4190\n",
            "\n"
          ]
        },
        {
          "output_type": "stream",
          "name": "stderr",
          "text": [
            "100%|██████████| 94/94 [00:02<00:00, 36.21it/s]\n"
          ]
        },
        {
          "output_type": "stream",
          "name": "stdout",
          "text": [
            "Average loss: tensor(1.0536, device='cuda:0', grad_fn=<DivBackward0>)\n",
            "Epoch 229/500, Report:               precision    recall  f1-score   support\n",
            "\n",
            "    Positive       0.53      0.60      0.56      1792\n",
            "     Neutral       0.54      0.24      0.33      2007\n",
            "    Negative       0.17      0.55      0.26       391\n",
            "\n",
            "    accuracy                           0.42      4190\n",
            "   macro avg       0.41      0.46      0.38      4190\n",
            "weighted avg       0.50      0.42      0.42      4190\n",
            "\n"
          ]
        },
        {
          "output_type": "stream",
          "name": "stderr",
          "text": [
            "100%|██████████| 94/94 [00:02<00:00, 36.56it/s]\n"
          ]
        },
        {
          "output_type": "stream",
          "name": "stdout",
          "text": [
            "Average loss: tensor(1.0546, device='cuda:0', grad_fn=<DivBackward0>)\n",
            "Epoch 230/500, Report:               precision    recall  f1-score   support\n",
            "\n",
            "    Positive       0.53      0.60      0.57      1792\n",
            "     Neutral       0.55      0.24      0.33      2007\n",
            "    Negative       0.17      0.55      0.26       391\n",
            "\n",
            "    accuracy                           0.42      4190\n",
            "   macro avg       0.42      0.46      0.38      4190\n",
            "weighted avg       0.50      0.42      0.42      4190\n",
            "\n"
          ]
        },
        {
          "output_type": "stream",
          "name": "stderr",
          "text": [
            "100%|██████████| 94/94 [00:02<00:00, 40.26it/s]\n"
          ]
        },
        {
          "output_type": "stream",
          "name": "stdout",
          "text": [
            "Average loss: tensor(1.0544, device='cuda:0', grad_fn=<DivBackward0>)\n",
            "Epoch 231/500, Report:               precision    recall  f1-score   support\n",
            "\n",
            "    Positive       0.53      0.60      0.57      1792\n",
            "     Neutral       0.54      0.24      0.33      2007\n",
            "    Negative       0.17      0.55      0.26       391\n",
            "\n",
            "    accuracy                           0.42      4190\n",
            "   macro avg       0.41      0.46      0.38      4190\n",
            "weighted avg       0.50      0.42      0.42      4190\n",
            "\n"
          ]
        },
        {
          "output_type": "stream",
          "name": "stderr",
          "text": [
            "100%|██████████| 94/94 [00:02<00:00, 34.62it/s]\n"
          ]
        },
        {
          "output_type": "stream",
          "name": "stdout",
          "text": [
            "Average loss: tensor(1.0542, device='cuda:0', grad_fn=<DivBackward0>)\n",
            "Epoch 232/500, Report:               precision    recall  f1-score   support\n",
            "\n",
            "    Positive       0.53      0.60      0.56      1792\n",
            "     Neutral       0.54      0.24      0.33      2007\n",
            "    Negative       0.17      0.55      0.26       391\n",
            "\n",
            "    accuracy                           0.42      4190\n",
            "   macro avg       0.41      0.46      0.38      4190\n",
            "weighted avg       0.50      0.42      0.42      4190\n",
            "\n"
          ]
        },
        {
          "output_type": "stream",
          "name": "stderr",
          "text": [
            "100%|██████████| 94/94 [00:02<00:00, 41.38it/s]\n"
          ]
        },
        {
          "output_type": "stream",
          "name": "stdout",
          "text": [
            "Average loss: tensor(1.0538, device='cuda:0', grad_fn=<DivBackward0>)\n",
            "Epoch 233/500, Report:               precision    recall  f1-score   support\n",
            "\n",
            "    Positive       0.53      0.60      0.56      1792\n",
            "     Neutral       0.54      0.24      0.33      2007\n",
            "    Negative       0.17      0.55      0.26       391\n",
            "\n",
            "    accuracy                           0.42      4190\n",
            "   macro avg       0.41      0.46      0.38      4190\n",
            "weighted avg       0.50      0.42      0.43      4190\n",
            "\n"
          ]
        },
        {
          "output_type": "stream",
          "name": "stderr",
          "text": [
            "100%|██████████| 94/94 [00:02<00:00, 35.91it/s]\n"
          ]
        },
        {
          "output_type": "stream",
          "name": "stdout",
          "text": [
            "Average loss: tensor(1.0543, device='cuda:0', grad_fn=<DivBackward0>)\n",
            "Epoch 234/500, Report:               precision    recall  f1-score   support\n",
            "\n",
            "    Positive       0.53      0.60      0.56      1792\n",
            "     Neutral       0.55      0.24      0.34      2007\n",
            "    Negative       0.17      0.55      0.26       391\n",
            "\n",
            "    accuracy                           0.42      4190\n",
            "   macro avg       0.42      0.46      0.39      4190\n",
            "weighted avg       0.51      0.42      0.43      4190\n",
            "\n"
          ]
        },
        {
          "output_type": "stream",
          "name": "stderr",
          "text": [
            "100%|██████████| 94/94 [00:02<00:00, 41.10it/s]\n"
          ]
        },
        {
          "output_type": "stream",
          "name": "stdout",
          "text": [
            "Average loss: tensor(1.0534, device='cuda:0', grad_fn=<DivBackward0>)\n",
            "Epoch 235/500, Report:               precision    recall  f1-score   support\n",
            "\n",
            "    Positive       0.53      0.60      0.56      1792\n",
            "     Neutral       0.54      0.24      0.34      2007\n",
            "    Negative       0.17      0.55      0.26       391\n",
            "\n",
            "    accuracy                           0.42      4190\n",
            "   macro avg       0.42      0.46      0.39      4190\n",
            "weighted avg       0.50      0.42      0.43      4190\n",
            "\n"
          ]
        },
        {
          "output_type": "stream",
          "name": "stderr",
          "text": [
            "100%|██████████| 94/94 [00:02<00:00, 38.45it/s]\n"
          ]
        },
        {
          "output_type": "stream",
          "name": "stdout",
          "text": [
            "Average loss: tensor(1.0547, device='cuda:0', grad_fn=<DivBackward0>)\n",
            "Epoch 236/500, Report:               precision    recall  f1-score   support\n",
            "\n",
            "    Positive       0.53      0.60      0.56      1792\n",
            "     Neutral       0.55      0.24      0.34      2007\n",
            "    Negative       0.17      0.55      0.26       391\n",
            "\n",
            "    accuracy                           0.42      4190\n",
            "   macro avg       0.42      0.46      0.39      4190\n",
            "weighted avg       0.51      0.42      0.43      4190\n",
            "\n"
          ]
        },
        {
          "output_type": "stream",
          "name": "stderr",
          "text": [
            "100%|██████████| 94/94 [00:02<00:00, 40.96it/s]\n"
          ]
        },
        {
          "output_type": "stream",
          "name": "stdout",
          "text": [
            "Average loss: tensor(1.0544, device='cuda:0', grad_fn=<DivBackward0>)\n",
            "Epoch 237/500, Report:               precision    recall  f1-score   support\n",
            "\n",
            "    Positive       0.53      0.60      0.56      1792\n",
            "     Neutral       0.54      0.24      0.34      2007\n",
            "    Negative       0.17      0.55      0.26       391\n",
            "\n",
            "    accuracy                           0.42      4190\n",
            "   macro avg       0.42      0.46      0.39      4190\n",
            "weighted avg       0.51      0.42      0.43      4190\n",
            "\n"
          ]
        },
        {
          "output_type": "stream",
          "name": "stderr",
          "text": [
            "100%|██████████| 94/94 [00:02<00:00, 38.62it/s]\n"
          ]
        },
        {
          "output_type": "stream",
          "name": "stdout",
          "text": [
            "Average loss: tensor(1.0537, device='cuda:0', grad_fn=<DivBackward0>)\n",
            "Epoch 238/500, Report:               precision    recall  f1-score   support\n",
            "\n",
            "    Positive       0.53      0.60      0.56      1792\n",
            "     Neutral       0.55      0.24      0.33      2007\n",
            "    Negative       0.17      0.55      0.26       391\n",
            "\n",
            "    accuracy                           0.42      4190\n",
            "   macro avg       0.42      0.46      0.38      4190\n",
            "weighted avg       0.51      0.42      0.43      4190\n",
            "\n"
          ]
        },
        {
          "output_type": "stream",
          "name": "stderr",
          "text": [
            "100%|██████████| 94/94 [00:02<00:00, 38.85it/s]\n"
          ]
        },
        {
          "output_type": "stream",
          "name": "stdout",
          "text": [
            "Average loss: tensor(1.0533, device='cuda:0', grad_fn=<DivBackward0>)\n",
            "Epoch 239/500, Report:               precision    recall  f1-score   support\n",
            "\n",
            "    Positive       0.53      0.60      0.56      1792\n",
            "     Neutral       0.55      0.24      0.33      2007\n",
            "    Negative       0.17      0.55      0.26       391\n",
            "\n",
            "    accuracy                           0.42      4190\n",
            "   macro avg       0.42      0.46      0.38      4190\n",
            "weighted avg       0.51      0.42      0.43      4190\n",
            "\n"
          ]
        },
        {
          "output_type": "stream",
          "name": "stderr",
          "text": [
            "100%|██████████| 94/94 [00:02<00:00, 41.39it/s]\n"
          ]
        },
        {
          "output_type": "stream",
          "name": "stdout",
          "text": [
            "Average loss: tensor(1.0539, device='cuda:0', grad_fn=<DivBackward0>)\n",
            "Epoch 240/500, Report:               precision    recall  f1-score   support\n",
            "\n",
            "    Positive       0.53      0.59      0.56      1792\n",
            "     Neutral       0.54      0.24      0.34      2007\n",
            "    Negative       0.17      0.55      0.26       391\n",
            "\n",
            "    accuracy                           0.42      4190\n",
            "   macro avg       0.41      0.46      0.38      4190\n",
            "weighted avg       0.50      0.42      0.43      4190\n",
            "\n"
          ]
        },
        {
          "output_type": "stream",
          "name": "stderr",
          "text": [
            "100%|██████████| 94/94 [00:02<00:00, 41.31it/s]\n"
          ]
        },
        {
          "output_type": "stream",
          "name": "stdout",
          "text": [
            "Average loss: tensor(1.0542, device='cuda:0', grad_fn=<DivBackward0>)\n",
            "Epoch 241/500, Report:               precision    recall  f1-score   support\n",
            "\n",
            "    Positive       0.53      0.59      0.56      1792\n",
            "     Neutral       0.54      0.24      0.33      2007\n",
            "    Negative       0.17      0.55      0.26       391\n",
            "\n",
            "    accuracy                           0.42      4190\n",
            "   macro avg       0.41      0.46      0.38      4190\n",
            "weighted avg       0.50      0.42      0.42      4190\n",
            "\n"
          ]
        },
        {
          "output_type": "stream",
          "name": "stderr",
          "text": [
            "100%|██████████| 94/94 [00:02<00:00, 40.78it/s]\n"
          ]
        },
        {
          "output_type": "stream",
          "name": "stdout",
          "text": [
            "Average loss: tensor(1.0541, device='cuda:0', grad_fn=<DivBackward0>)\n",
            "Epoch 242/500, Report:               precision    recall  f1-score   support\n",
            "\n",
            "    Positive       0.53      0.60      0.56      1792\n",
            "     Neutral       0.54      0.24      0.33      2007\n",
            "    Negative       0.17      0.55      0.26       391\n",
            "\n",
            "    accuracy                           0.42      4190\n",
            "   macro avg       0.41      0.46      0.38      4190\n",
            "weighted avg       0.50      0.42      0.42      4190\n",
            "\n"
          ]
        },
        {
          "output_type": "stream",
          "name": "stderr",
          "text": [
            "100%|██████████| 94/94 [00:02<00:00, 36.13it/s]\n"
          ]
        },
        {
          "output_type": "stream",
          "name": "stdout",
          "text": [
            "Average loss: tensor(1.0540, device='cuda:0', grad_fn=<DivBackward0>)\n",
            "Epoch 243/500, Report:               precision    recall  f1-score   support\n",
            "\n",
            "    Positive       0.53      0.60      0.56      1792\n",
            "     Neutral       0.54      0.24      0.33      2007\n",
            "    Negative       0.17      0.55      0.26       391\n",
            "\n",
            "    accuracy                           0.42      4190\n",
            "   macro avg       0.41      0.46      0.38      4190\n",
            "weighted avg       0.50      0.42      0.42      4190\n",
            "\n"
          ]
        },
        {
          "output_type": "stream",
          "name": "stderr",
          "text": [
            "100%|██████████| 94/94 [00:02<00:00, 41.34it/s]\n"
          ]
        },
        {
          "output_type": "stream",
          "name": "stdout",
          "text": [
            "Average loss: tensor(1.0532, device='cuda:0', grad_fn=<DivBackward0>)\n",
            "Epoch 244/500, Report:               precision    recall  f1-score   support\n",
            "\n",
            "    Positive       0.53      0.59      0.56      1792\n",
            "     Neutral       0.54      0.24      0.33      2007\n",
            "    Negative       0.17      0.55      0.26       391\n",
            "\n",
            "    accuracy                           0.42      4190\n",
            "   macro avg       0.41      0.46      0.38      4190\n",
            "weighted avg       0.50      0.42      0.42      4190\n",
            "\n"
          ]
        },
        {
          "output_type": "stream",
          "name": "stderr",
          "text": [
            "100%|██████████| 94/94 [00:02<00:00, 41.04it/s]\n"
          ]
        },
        {
          "output_type": "stream",
          "name": "stdout",
          "text": [
            "Average loss: tensor(1.0541, device='cuda:0', grad_fn=<DivBackward0>)\n",
            "Epoch 245/500, Report:               precision    recall  f1-score   support\n",
            "\n",
            "    Positive       0.53      0.59      0.56      1792\n",
            "     Neutral       0.54      0.24      0.34      2007\n",
            "    Negative       0.17      0.55      0.26       391\n",
            "\n",
            "    accuracy                           0.42      4190\n",
            "   macro avg       0.41      0.46      0.38      4190\n",
            "weighted avg       0.50      0.42      0.42      4190\n",
            "\n"
          ]
        },
        {
          "output_type": "stream",
          "name": "stderr",
          "text": [
            "100%|██████████| 94/94 [00:02<00:00, 40.92it/s]\n"
          ]
        },
        {
          "output_type": "stream",
          "name": "stdout",
          "text": [
            "Average loss: tensor(1.0539, device='cuda:0', grad_fn=<DivBackward0>)\n",
            "Epoch 246/500, Report:               precision    recall  f1-score   support\n",
            "\n",
            "    Positive       0.53      0.59      0.56      1792\n",
            "     Neutral       0.54      0.24      0.34      2007\n",
            "    Negative       0.17      0.55      0.25       391\n",
            "\n",
            "    accuracy                           0.42      4190\n",
            "   macro avg       0.41      0.46      0.38      4190\n",
            "weighted avg       0.50      0.42      0.42      4190\n",
            "\n"
          ]
        },
        {
          "output_type": "stream",
          "name": "stderr",
          "text": [
            "100%|██████████| 94/94 [00:02<00:00, 36.12it/s]\n"
          ]
        },
        {
          "output_type": "stream",
          "name": "stdout",
          "text": [
            "Average loss: tensor(1.0535, device='cuda:0', grad_fn=<DivBackward0>)\n",
            "Epoch 247/500, Report:               precision    recall  f1-score   support\n",
            "\n",
            "    Positive       0.53      0.60      0.56      1792\n",
            "     Neutral       0.54      0.24      0.34      2007\n",
            "    Negative       0.17      0.55      0.26       391\n",
            "\n",
            "    accuracy                           0.42      4190\n",
            "   macro avg       0.41      0.46      0.39      4190\n",
            "weighted avg       0.50      0.42      0.43      4190\n",
            "\n"
          ]
        },
        {
          "output_type": "stream",
          "name": "stderr",
          "text": [
            "100%|██████████| 94/94 [00:02<00:00, 38.80it/s]\n"
          ]
        },
        {
          "output_type": "stream",
          "name": "stdout",
          "text": [
            "Average loss: tensor(1.0535, device='cuda:0', grad_fn=<DivBackward0>)\n",
            "Epoch 248/500, Report:               precision    recall  f1-score   support\n",
            "\n",
            "    Positive       0.53      0.60      0.56      1792\n",
            "     Neutral       0.55      0.24      0.34      2007\n",
            "    Negative       0.17      0.55      0.26       391\n",
            "\n",
            "    accuracy                           0.42      4190\n",
            "   macro avg       0.42      0.46      0.39      4190\n",
            "weighted avg       0.51      0.42      0.43      4190\n",
            "\n"
          ]
        },
        {
          "output_type": "stream",
          "name": "stderr",
          "text": [
            "100%|██████████| 94/94 [00:02<00:00, 40.74it/s]\n"
          ]
        },
        {
          "output_type": "stream",
          "name": "stdout",
          "text": [
            "Average loss: tensor(1.0548, device='cuda:0', grad_fn=<DivBackward0>)\n",
            "Epoch 249/500, Report:               precision    recall  f1-score   support\n",
            "\n",
            "    Positive       0.53      0.60      0.56      1792\n",
            "     Neutral       0.54      0.24      0.34      2007\n",
            "    Negative       0.17      0.55      0.26       391\n",
            "\n",
            "    accuracy                           0.42      4190\n",
            "   macro avg       0.41      0.46      0.39      4190\n",
            "weighted avg       0.50      0.42      0.43      4190\n",
            "\n"
          ]
        },
        {
          "output_type": "stream",
          "name": "stderr",
          "text": [
            "100%|██████████| 94/94 [00:02<00:00, 41.43it/s]\n"
          ]
        },
        {
          "output_type": "stream",
          "name": "stdout",
          "text": [
            "Average loss: tensor(1.0538, device='cuda:0', grad_fn=<DivBackward0>)\n",
            "Epoch 250/500, Report:               precision    recall  f1-score   support\n",
            "\n",
            "    Positive       0.53      0.60      0.56      1792\n",
            "     Neutral       0.54      0.24      0.34      2007\n",
            "    Negative       0.17      0.55      0.26       391\n",
            "\n",
            "    accuracy                           0.42      4190\n",
            "   macro avg       0.41      0.46      0.38      4190\n",
            "weighted avg       0.50      0.42      0.43      4190\n",
            "\n"
          ]
        },
        {
          "output_type": "stream",
          "name": "stderr",
          "text": [
            "100%|██████████| 94/94 [00:02<00:00, 41.23it/s]\n"
          ]
        },
        {
          "output_type": "stream",
          "name": "stdout",
          "text": [
            "Average loss: tensor(1.0543, device='cuda:0', grad_fn=<DivBackward0>)\n",
            "Epoch 251/500, Report:               precision    recall  f1-score   support\n",
            "\n",
            "    Positive       0.53      0.59      0.56      1792\n",
            "     Neutral       0.54      0.25      0.34      2007\n",
            "    Negative       0.17      0.55      0.26       391\n",
            "\n",
            "    accuracy                           0.42      4190\n",
            "   macro avg       0.41      0.46      0.38      4190\n",
            "weighted avg       0.50      0.42      0.43      4190\n",
            "\n"
          ]
        },
        {
          "output_type": "stream",
          "name": "stderr",
          "text": [
            "100%|██████████| 94/94 [00:02<00:00, 37.29it/s]\n"
          ]
        },
        {
          "output_type": "stream",
          "name": "stdout",
          "text": [
            "Average loss: tensor(1.0529, device='cuda:0', grad_fn=<DivBackward0>)\n",
            "Epoch 252/500, Report:               precision    recall  f1-score   support\n",
            "\n",
            "    Positive       0.53      0.59      0.56      1792\n",
            "     Neutral       0.54      0.25      0.34      2007\n",
            "    Negative       0.17      0.55      0.26       391\n",
            "\n",
            "    accuracy                           0.42      4190\n",
            "   macro avg       0.41      0.46      0.39      4190\n",
            "weighted avg       0.50      0.42      0.43      4190\n",
            "\n"
          ]
        },
        {
          "output_type": "stream",
          "name": "stderr",
          "text": [
            "100%|██████████| 94/94 [00:02<00:00, 41.07it/s]\n"
          ]
        },
        {
          "output_type": "stream",
          "name": "stdout",
          "text": [
            "Average loss: tensor(1.0539, device='cuda:0', grad_fn=<DivBackward0>)\n",
            "Epoch 253/500, Report:               precision    recall  f1-score   support\n",
            "\n",
            "    Positive       0.53      0.59      0.56      1792\n",
            "     Neutral       0.54      0.25      0.34      2007\n",
            "    Negative       0.17      0.55      0.26       391\n",
            "\n",
            "    accuracy                           0.42      4190\n",
            "   macro avg       0.42      0.46      0.39      4190\n",
            "weighted avg       0.50      0.42      0.43      4190\n",
            "\n"
          ]
        },
        {
          "output_type": "stream",
          "name": "stderr",
          "text": [
            "100%|██████████| 94/94 [00:02<00:00, 39.28it/s]\n"
          ]
        },
        {
          "output_type": "stream",
          "name": "stdout",
          "text": [
            "Average loss: tensor(1.0541, device='cuda:0', grad_fn=<DivBackward0>)\n",
            "Epoch 254/500, Report:               precision    recall  f1-score   support\n",
            "\n",
            "    Positive       0.53      0.59      0.56      1792\n",
            "     Neutral       0.54      0.25      0.34      2007\n",
            "    Negative       0.17      0.55      0.26       391\n",
            "\n",
            "    accuracy                           0.42      4190\n",
            "   macro avg       0.42      0.46      0.39      4190\n",
            "weighted avg       0.50      0.42      0.43      4190\n",
            "\n"
          ]
        },
        {
          "output_type": "stream",
          "name": "stderr",
          "text": [
            "100%|██████████| 94/94 [00:02<00:00, 40.01it/s]\n"
          ]
        },
        {
          "output_type": "stream",
          "name": "stdout",
          "text": [
            "Average loss: tensor(1.0541, device='cuda:0', grad_fn=<DivBackward0>)\n",
            "Epoch 255/500, Report:               precision    recall  f1-score   support\n",
            "\n",
            "    Positive       0.53      0.59      0.56      1792\n",
            "     Neutral       0.55      0.25      0.34      2007\n",
            "    Negative       0.17      0.55      0.26       391\n",
            "\n",
            "    accuracy                           0.42      4190\n",
            "   macro avg       0.42      0.46      0.39      4190\n",
            "weighted avg       0.51      0.42      0.43      4190\n",
            "\n"
          ]
        },
        {
          "output_type": "stream",
          "name": "stderr",
          "text": [
            "100%|██████████| 94/94 [00:02<00:00, 37.94it/s]\n"
          ]
        },
        {
          "output_type": "stream",
          "name": "stdout",
          "text": [
            "Average loss: tensor(1.0535, device='cuda:0', grad_fn=<DivBackward0>)\n",
            "Epoch 256/500, Report:               precision    recall  f1-score   support\n",
            "\n",
            "    Positive       0.53      0.59      0.56      1792\n",
            "     Neutral       0.55      0.25      0.34      2007\n",
            "    Negative       0.17      0.55      0.26       391\n",
            "\n",
            "    accuracy                           0.42      4190\n",
            "   macro avg       0.42      0.46      0.39      4190\n",
            "weighted avg       0.51      0.42      0.43      4190\n",
            "\n"
          ]
        },
        {
          "output_type": "stream",
          "name": "stderr",
          "text": [
            "100%|██████████| 94/94 [00:02<00:00, 39.40it/s]\n"
          ]
        },
        {
          "output_type": "stream",
          "name": "stdout",
          "text": [
            "Average loss: tensor(1.0531, device='cuda:0', grad_fn=<DivBackward0>)\n",
            "Epoch 257/500, Report:               precision    recall  f1-score   support\n",
            "\n",
            "    Positive       0.53      0.59      0.56      1792\n",
            "     Neutral       0.55      0.25      0.34      2007\n",
            "    Negative       0.17      0.55      0.26       391\n",
            "\n",
            "    accuracy                           0.42      4190\n",
            "   macro avg       0.42      0.46      0.39      4190\n",
            "weighted avg       0.51      0.42      0.43      4190\n",
            "\n"
          ]
        },
        {
          "output_type": "stream",
          "name": "stderr",
          "text": [
            "100%|██████████| 94/94 [00:02<00:00, 39.05it/s]\n"
          ]
        },
        {
          "output_type": "stream",
          "name": "stdout",
          "text": [
            "Average loss: tensor(1.0530, device='cuda:0', grad_fn=<DivBackward0>)\n",
            "Epoch 258/500, Report:               precision    recall  f1-score   support\n",
            "\n",
            "    Positive       0.53      0.59      0.56      1792\n",
            "     Neutral       0.55      0.25      0.34      2007\n",
            "    Negative       0.17      0.55      0.26       391\n",
            "\n",
            "    accuracy                           0.42      4190\n",
            "   macro avg       0.42      0.46      0.39      4190\n",
            "weighted avg       0.51      0.42      0.43      4190\n",
            "\n"
          ]
        },
        {
          "output_type": "stream",
          "name": "stderr",
          "text": [
            "100%|██████████| 94/94 [00:02<00:00, 40.65it/s]\n"
          ]
        },
        {
          "output_type": "stream",
          "name": "stdout",
          "text": [
            "Average loss: tensor(1.0533, device='cuda:0', grad_fn=<DivBackward0>)\n",
            "Epoch 259/500, Report:               precision    recall  f1-score   support\n",
            "\n",
            "    Positive       0.53      0.59      0.56      1792\n",
            "     Neutral       0.55      0.25      0.34      2007\n",
            "    Negative       0.17      0.55      0.26       391\n",
            "\n",
            "    accuracy                           0.42      4190\n",
            "   macro avg       0.42      0.46      0.39      4190\n",
            "weighted avg       0.51      0.42      0.43      4190\n",
            "\n"
          ]
        },
        {
          "output_type": "stream",
          "name": "stderr",
          "text": [
            "100%|██████████| 94/94 [00:02<00:00, 39.48it/s]\n"
          ]
        },
        {
          "output_type": "stream",
          "name": "stdout",
          "text": [
            "Average loss: tensor(1.0534, device='cuda:0', grad_fn=<DivBackward0>)\n",
            "Epoch 260/500, Report:               precision    recall  f1-score   support\n",
            "\n",
            "    Positive       0.53      0.59      0.56      1792\n",
            "     Neutral       0.55      0.25      0.35      2007\n",
            "    Negative       0.17      0.55      0.26       391\n",
            "\n",
            "    accuracy                           0.42      4190\n",
            "   macro avg       0.42      0.46      0.39      4190\n",
            "weighted avg       0.51      0.42      0.43      4190\n",
            "\n"
          ]
        },
        {
          "output_type": "stream",
          "name": "stderr",
          "text": [
            "100%|██████████| 94/94 [00:02<00:00, 36.13it/s]\n"
          ]
        },
        {
          "output_type": "stream",
          "name": "stdout",
          "text": [
            "Average loss: tensor(1.0533, device='cuda:0', grad_fn=<DivBackward0>)\n",
            "Epoch 261/500, Report:               precision    recall  f1-score   support\n",
            "\n",
            "    Positive       0.53      0.59      0.56      1792\n",
            "     Neutral       0.55      0.25      0.35      2007\n",
            "    Negative       0.17      0.55      0.26       391\n",
            "\n",
            "    accuracy                           0.42      4190\n",
            "   macro avg       0.42      0.46      0.39      4190\n",
            "weighted avg       0.51      0.42      0.43      4190\n",
            "\n"
          ]
        },
        {
          "output_type": "stream",
          "name": "stderr",
          "text": [
            "100%|██████████| 94/94 [00:02<00:00, 40.81it/s]\n"
          ]
        },
        {
          "output_type": "stream",
          "name": "stdout",
          "text": [
            "Average loss: tensor(1.0532, device='cuda:0', grad_fn=<DivBackward0>)\n",
            "Epoch 262/500, Report:               precision    recall  f1-score   support\n",
            "\n",
            "    Positive       0.53      0.59      0.56      1792\n",
            "     Neutral       0.55      0.25      0.35      2007\n",
            "    Negative       0.17      0.55      0.26       391\n",
            "\n",
            "    accuracy                           0.42      4190\n",
            "   macro avg       0.42      0.46      0.39      4190\n",
            "weighted avg       0.51      0.42      0.43      4190\n",
            "\n"
          ]
        },
        {
          "output_type": "stream",
          "name": "stderr",
          "text": [
            "100%|██████████| 94/94 [00:02<00:00, 41.41it/s]\n"
          ]
        },
        {
          "output_type": "stream",
          "name": "stdout",
          "text": [
            "Average loss: tensor(1.0536, device='cuda:0', grad_fn=<DivBackward0>)\n",
            "Epoch 263/500, Report:               precision    recall  f1-score   support\n",
            "\n",
            "    Positive       0.53      0.59      0.56      1792\n",
            "     Neutral       0.55      0.25      0.35      2007\n",
            "    Negative       0.17      0.55      0.26       391\n",
            "\n",
            "    accuracy                           0.42      4190\n",
            "   macro avg       0.42      0.46      0.39      4190\n",
            "weighted avg       0.51      0.42      0.43      4190\n",
            "\n"
          ]
        },
        {
          "output_type": "stream",
          "name": "stderr",
          "text": [
            "100%|██████████| 94/94 [00:02<00:00, 41.44it/s]\n"
          ]
        },
        {
          "output_type": "stream",
          "name": "stdout",
          "text": [
            "Average loss: tensor(1.0524, device='cuda:0', grad_fn=<DivBackward0>)\n",
            "Epoch 264/500, Report:               precision    recall  f1-score   support\n",
            "\n",
            "    Positive       0.53      0.59      0.56      1792\n",
            "     Neutral       0.55      0.25      0.35      2007\n",
            "    Negative       0.17      0.55      0.26       391\n",
            "\n",
            "    accuracy                           0.42      4190\n",
            "   macro avg       0.42      0.46      0.39      4190\n",
            "weighted avg       0.51      0.42      0.43      4190\n",
            "\n"
          ]
        },
        {
          "output_type": "stream",
          "name": "stderr",
          "text": [
            "100%|██████████| 94/94 [00:02<00:00, 36.65it/s]\n"
          ]
        },
        {
          "output_type": "stream",
          "name": "stdout",
          "text": [
            "Average loss: tensor(1.0532, device='cuda:0', grad_fn=<DivBackward0>)\n",
            "Epoch 265/500, Report:               precision    recall  f1-score   support\n",
            "\n",
            "    Positive       0.53      0.59      0.56      1792\n",
            "     Neutral       0.55      0.25      0.34      2007\n",
            "    Negative       0.17      0.55      0.26       391\n",
            "\n",
            "    accuracy                           0.42      4190\n",
            "   macro avg       0.42      0.46      0.39      4190\n",
            "weighted avg       0.51      0.42      0.43      4190\n",
            "\n"
          ]
        },
        {
          "output_type": "stream",
          "name": "stderr",
          "text": [
            "100%|██████████| 94/94 [00:02<00:00, 33.82it/s]\n"
          ]
        },
        {
          "output_type": "stream",
          "name": "stdout",
          "text": [
            "Average loss: tensor(1.0528, device='cuda:0', grad_fn=<DivBackward0>)\n",
            "Epoch 266/500, Report:               precision    recall  f1-score   support\n",
            "\n",
            "    Positive       0.53      0.59      0.56      1792\n",
            "     Neutral       0.54      0.25      0.34      2007\n",
            "    Negative       0.17      0.55      0.25       391\n",
            "\n",
            "    accuracy                           0.42      4190\n",
            "   macro avg       0.41      0.46      0.38      4190\n",
            "weighted avg       0.50      0.42      0.43      4190\n",
            "\n"
          ]
        },
        {
          "output_type": "stream",
          "name": "stderr",
          "text": [
            "100%|██████████| 94/94 [00:02<00:00, 40.64it/s]\n"
          ]
        },
        {
          "output_type": "stream",
          "name": "stdout",
          "text": [
            "Average loss: tensor(1.0523, device='cuda:0', grad_fn=<DivBackward0>)\n",
            "Epoch 267/500, Report:               precision    recall  f1-score   support\n",
            "\n",
            "    Positive       0.53      0.59      0.56      1792\n",
            "     Neutral       0.54      0.25      0.34      2007\n",
            "    Negative       0.17      0.55      0.25       391\n",
            "\n",
            "    accuracy                           0.42      4190\n",
            "   macro avg       0.41      0.46      0.38      4190\n",
            "weighted avg       0.50      0.42      0.43      4190\n",
            "\n"
          ]
        },
        {
          "output_type": "stream",
          "name": "stderr",
          "text": [
            "100%|██████████| 94/94 [00:02<00:00, 41.43it/s]\n"
          ]
        },
        {
          "output_type": "stream",
          "name": "stdout",
          "text": [
            "Average loss: tensor(1.0527, device='cuda:0', grad_fn=<DivBackward0>)\n",
            "Epoch 268/500, Report:               precision    recall  f1-score   support\n",
            "\n",
            "    Positive       0.53      0.59      0.56      1792\n",
            "     Neutral       0.55      0.25      0.34      2007\n",
            "    Negative       0.17      0.55      0.25       391\n",
            "\n",
            "    accuracy                           0.42      4190\n",
            "   macro avg       0.41      0.46      0.39      4190\n",
            "weighted avg       0.50      0.42      0.43      4190\n",
            "\n"
          ]
        },
        {
          "output_type": "stream",
          "name": "stderr",
          "text": [
            "100%|██████████| 94/94 [00:02<00:00, 37.41it/s]\n"
          ]
        },
        {
          "output_type": "stream",
          "name": "stdout",
          "text": [
            "Average loss: tensor(1.0530, device='cuda:0', grad_fn=<DivBackward0>)\n",
            "Epoch 269/500, Report:               precision    recall  f1-score   support\n",
            "\n",
            "    Positive       0.53      0.59      0.56      1792\n",
            "     Neutral       0.55      0.25      0.34      2007\n",
            "    Negative       0.17      0.55      0.26       391\n",
            "\n",
            "    accuracy                           0.42      4190\n",
            "   macro avg       0.42      0.46      0.39      4190\n",
            "weighted avg       0.50      0.42      0.43      4190\n",
            "\n"
          ]
        },
        {
          "output_type": "stream",
          "name": "stderr",
          "text": [
            "100%|██████████| 94/94 [00:02<00:00, 38.26it/s]\n"
          ]
        },
        {
          "output_type": "stream",
          "name": "stdout",
          "text": [
            "Average loss: tensor(1.0520, device='cuda:0', grad_fn=<DivBackward0>)\n",
            "Epoch 270/500, Report:               precision    recall  f1-score   support\n",
            "\n",
            "    Positive       0.53      0.59      0.56      1792\n",
            "     Neutral       0.55      0.25      0.34      2007\n",
            "    Negative       0.17      0.55      0.26       391\n",
            "\n",
            "    accuracy                           0.42      4190\n",
            "   macro avg       0.42      0.46      0.39      4190\n",
            "weighted avg       0.51      0.42      0.43      4190\n",
            "\n"
          ]
        },
        {
          "output_type": "stream",
          "name": "stderr",
          "text": [
            "100%|██████████| 94/94 [00:02<00:00, 40.85it/s]\n"
          ]
        },
        {
          "output_type": "stream",
          "name": "stdout",
          "text": [
            "Average loss: tensor(1.0530, device='cuda:0', grad_fn=<DivBackward0>)\n",
            "Epoch 271/500, Report:               precision    recall  f1-score   support\n",
            "\n",
            "    Positive       0.53      0.59      0.56      1792\n",
            "     Neutral       0.54      0.25      0.34      2007\n",
            "    Negative       0.17      0.55      0.26       391\n",
            "\n",
            "    accuracy                           0.42      4190\n",
            "   macro avg       0.41      0.46      0.39      4190\n",
            "weighted avg       0.50      0.42      0.43      4190\n",
            "\n"
          ]
        },
        {
          "output_type": "stream",
          "name": "stderr",
          "text": [
            "100%|██████████| 94/94 [00:02<00:00, 40.11it/s]\n"
          ]
        },
        {
          "output_type": "stream",
          "name": "stdout",
          "text": [
            "Average loss: tensor(1.0536, device='cuda:0', grad_fn=<DivBackward0>)\n",
            "Epoch 272/500, Report:               precision    recall  f1-score   support\n",
            "\n",
            "    Positive       0.53      0.59      0.56      1792\n",
            "     Neutral       0.54      0.25      0.34      2007\n",
            "    Negative       0.17      0.54      0.25       391\n",
            "\n",
            "    accuracy                           0.42      4190\n",
            "   macro avg       0.41      0.46      0.39      4190\n",
            "weighted avg       0.50      0.42      0.43      4190\n",
            "\n"
          ]
        },
        {
          "output_type": "stream",
          "name": "stderr",
          "text": [
            "100%|██████████| 94/94 [00:02<00:00, 39.22it/s]\n"
          ]
        },
        {
          "output_type": "stream",
          "name": "stdout",
          "text": [
            "Average loss: tensor(1.0525, device='cuda:0', grad_fn=<DivBackward0>)\n",
            "Epoch 273/500, Report:               precision    recall  f1-score   support\n",
            "\n",
            "    Positive       0.53      0.59      0.56      1792\n",
            "     Neutral       0.54      0.25      0.35      2007\n",
            "    Negative       0.17      0.54      0.26       391\n",
            "\n",
            "    accuracy                           0.42      4190\n",
            "   macro avg       0.41      0.46      0.39      4190\n",
            "weighted avg       0.50      0.42      0.43      4190\n",
            "\n"
          ]
        },
        {
          "output_type": "stream",
          "name": "stderr",
          "text": [
            "100%|██████████| 94/94 [00:02<00:00, 36.99it/s]\n"
          ]
        },
        {
          "output_type": "stream",
          "name": "stdout",
          "text": [
            "Average loss: tensor(1.0529, device='cuda:0', grad_fn=<DivBackward0>)\n",
            "Epoch 274/500, Report:               precision    recall  f1-score   support\n",
            "\n",
            "    Positive       0.53      0.59      0.56      1792\n",
            "     Neutral       0.54      0.25      0.34      2007\n",
            "    Negative       0.17      0.54      0.25       391\n",
            "\n",
            "    accuracy                           0.42      4190\n",
            "   macro avg       0.41      0.46      0.39      4190\n",
            "weighted avg       0.50      0.42      0.43      4190\n",
            "\n"
          ]
        },
        {
          "output_type": "stream",
          "name": "stderr",
          "text": [
            "100%|██████████| 94/94 [00:02<00:00, 41.75it/s]\n"
          ]
        },
        {
          "output_type": "stream",
          "name": "stdout",
          "text": [
            "Average loss: tensor(1.0532, device='cuda:0', grad_fn=<DivBackward0>)\n",
            "Epoch 275/500, Report:               precision    recall  f1-score   support\n",
            "\n",
            "    Positive       0.53      0.59      0.56      1792\n",
            "     Neutral       0.54      0.25      0.34      2007\n",
            "    Negative       0.17      0.54      0.25       391\n",
            "\n",
            "    accuracy                           0.42      4190\n",
            "   macro avg       0.41      0.46      0.39      4190\n",
            "weighted avg       0.50      0.42      0.43      4190\n",
            "\n"
          ]
        },
        {
          "output_type": "stream",
          "name": "stderr",
          "text": [
            "100%|██████████| 94/94 [00:02<00:00, 40.63it/s]\n"
          ]
        },
        {
          "output_type": "stream",
          "name": "stdout",
          "text": [
            "Average loss: tensor(1.0520, device='cuda:0', grad_fn=<DivBackward0>)\n",
            "Epoch 276/500, Report:               precision    recall  f1-score   support\n",
            "\n",
            "    Positive       0.53      0.59      0.56      1792\n",
            "     Neutral       0.54      0.25      0.34      2007\n",
            "    Negative       0.17      0.55      0.26       391\n",
            "\n",
            "    accuracy                           0.42      4190\n",
            "   macro avg       0.41      0.46      0.39      4190\n",
            "weighted avg       0.50      0.42      0.43      4190\n",
            "\n"
          ]
        },
        {
          "output_type": "stream",
          "name": "stderr",
          "text": [
            "100%|██████████| 94/94 [00:02<00:00, 39.88it/s]\n"
          ]
        },
        {
          "output_type": "stream",
          "name": "stdout",
          "text": [
            "Average loss: tensor(1.0539, device='cuda:0', grad_fn=<DivBackward0>)\n",
            "Epoch 277/500, Report:               precision    recall  f1-score   support\n",
            "\n",
            "    Positive       0.53      0.58      0.56      1792\n",
            "     Neutral       0.54      0.25      0.34      2007\n",
            "    Negative       0.17      0.55      0.26       391\n",
            "\n",
            "    accuracy                           0.42      4190\n",
            "   macro avg       0.41      0.46      0.39      4190\n",
            "weighted avg       0.50      0.42      0.43      4190\n",
            "\n"
          ]
        },
        {
          "output_type": "stream",
          "name": "stderr",
          "text": [
            "100%|██████████| 94/94 [00:02<00:00, 38.05it/s]\n"
          ]
        },
        {
          "output_type": "stream",
          "name": "stdout",
          "text": [
            "Average loss: tensor(1.0528, device='cuda:0', grad_fn=<DivBackward0>)\n",
            "Epoch 278/500, Report:               precision    recall  f1-score   support\n",
            "\n",
            "    Positive       0.53      0.59      0.56      1792\n",
            "     Neutral       0.54      0.25      0.34      2007\n",
            "    Negative       0.17      0.55      0.26       391\n",
            "\n",
            "    accuracy                           0.42      4190\n",
            "   macro avg       0.41      0.46      0.39      4190\n",
            "weighted avg       0.50      0.42      0.43      4190\n",
            "\n"
          ]
        },
        {
          "output_type": "stream",
          "name": "stderr",
          "text": [
            "100%|██████████| 94/94 [00:02<00:00, 37.55it/s]\n"
          ]
        },
        {
          "output_type": "stream",
          "name": "stdout",
          "text": [
            "Average loss: tensor(1.0519, device='cuda:0', grad_fn=<DivBackward0>)\n",
            "Epoch 279/500, Report:               precision    recall  f1-score   support\n",
            "\n",
            "    Positive       0.53      0.59      0.56      1792\n",
            "     Neutral       0.54      0.25      0.34      2007\n",
            "    Negative       0.17      0.55      0.26       391\n",
            "\n",
            "    accuracy                           0.42      4190\n",
            "   macro avg       0.41      0.46      0.39      4190\n",
            "weighted avg       0.50      0.42      0.43      4190\n",
            "\n"
          ]
        },
        {
          "output_type": "stream",
          "name": "stderr",
          "text": [
            "100%|██████████| 94/94 [00:02<00:00, 39.28it/s]\n"
          ]
        },
        {
          "output_type": "stream",
          "name": "stdout",
          "text": [
            "Average loss: tensor(1.0519, device='cuda:0', grad_fn=<DivBackward0>)\n",
            "Epoch 280/500, Report:               precision    recall  f1-score   support\n",
            "\n",
            "    Positive       0.53      0.59      0.56      1792\n",
            "     Neutral       0.54      0.25      0.34      2007\n",
            "    Negative       0.17      0.55      0.26       391\n",
            "\n",
            "    accuracy                           0.42      4190\n",
            "   macro avg       0.41      0.46      0.39      4190\n",
            "weighted avg       0.50      0.42      0.43      4190\n",
            "\n"
          ]
        },
        {
          "output_type": "stream",
          "name": "stderr",
          "text": [
            "100%|██████████| 94/94 [00:02<00:00, 41.73it/s]\n"
          ]
        },
        {
          "output_type": "stream",
          "name": "stdout",
          "text": [
            "Average loss: tensor(1.0532, device='cuda:0', grad_fn=<DivBackward0>)\n",
            "Epoch 281/500, Report:               precision    recall  f1-score   support\n",
            "\n",
            "    Positive       0.53      0.59      0.56      1792\n",
            "     Neutral       0.54      0.25      0.34      2007\n",
            "    Negative       0.17      0.55      0.26       391\n",
            "\n",
            "    accuracy                           0.42      4190\n",
            "   macro avg       0.41      0.46      0.39      4190\n",
            "weighted avg       0.50      0.42      0.43      4190\n",
            "\n"
          ]
        },
        {
          "output_type": "stream",
          "name": "stderr",
          "text": [
            "100%|██████████| 94/94 [00:02<00:00, 41.11it/s]\n"
          ]
        },
        {
          "output_type": "stream",
          "name": "stdout",
          "text": [
            "Average loss: tensor(1.0521, device='cuda:0', grad_fn=<DivBackward0>)\n",
            "Epoch 282/500, Report:               precision    recall  f1-score   support\n",
            "\n",
            "    Positive       0.53      0.59      0.56      1792\n",
            "     Neutral       0.54      0.25      0.34      2007\n",
            "    Negative       0.17      0.55      0.25       391\n",
            "\n",
            "    accuracy                           0.42      4190\n",
            "   macro avg       0.41      0.46      0.39      4190\n",
            "weighted avg       0.50      0.42      0.43      4190\n",
            "\n"
          ]
        },
        {
          "output_type": "stream",
          "name": "stderr",
          "text": [
            "100%|██████████| 94/94 [00:02<00:00, 32.32it/s]\n"
          ]
        },
        {
          "output_type": "stream",
          "name": "stdout",
          "text": [
            "Average loss: tensor(1.0520, device='cuda:0', grad_fn=<DivBackward0>)\n",
            "Epoch 283/500, Report:               precision    recall  f1-score   support\n",
            "\n",
            "    Positive       0.53      0.59      0.56      1792\n",
            "     Neutral       0.54      0.25      0.34      2007\n",
            "    Negative       0.17      0.55      0.25       391\n",
            "\n",
            "    accuracy                           0.42      4190\n",
            "   macro avg       0.41      0.46      0.39      4190\n",
            "weighted avg       0.50      0.42      0.43      4190\n",
            "\n"
          ]
        },
        {
          "output_type": "stream",
          "name": "stderr",
          "text": [
            "100%|██████████| 94/94 [00:02<00:00, 40.45it/s]\n"
          ]
        },
        {
          "output_type": "stream",
          "name": "stdout",
          "text": [
            "Average loss: tensor(1.0516, device='cuda:0', grad_fn=<DivBackward0>)\n",
            "Epoch 284/500, Report:               precision    recall  f1-score   support\n",
            "\n",
            "    Positive       0.53      0.59      0.56      1792\n",
            "     Neutral       0.54      0.25      0.34      2007\n",
            "    Negative       0.17      0.55      0.26       391\n",
            "\n",
            "    accuracy                           0.42      4190\n",
            "   macro avg       0.41      0.46      0.39      4190\n",
            "weighted avg       0.50      0.42      0.43      4190\n",
            "\n"
          ]
        },
        {
          "output_type": "stream",
          "name": "stderr",
          "text": [
            "100%|██████████| 94/94 [00:02<00:00, 40.53it/s]\n"
          ]
        },
        {
          "output_type": "stream",
          "name": "stdout",
          "text": [
            "Average loss: tensor(1.0526, device='cuda:0', grad_fn=<DivBackward0>)\n",
            "Epoch 285/500, Report:               precision    recall  f1-score   support\n",
            "\n",
            "    Positive       0.53      0.59      0.56      1792\n",
            "     Neutral       0.54      0.25      0.34      2007\n",
            "    Negative       0.17      0.55      0.25       391\n",
            "\n",
            "    accuracy                           0.42      4190\n",
            "   macro avg       0.41      0.46      0.39      4190\n",
            "weighted avg       0.50      0.42      0.43      4190\n",
            "\n"
          ]
        },
        {
          "output_type": "stream",
          "name": "stderr",
          "text": [
            "100%|██████████| 94/94 [00:02<00:00, 39.40it/s]\n"
          ]
        },
        {
          "output_type": "stream",
          "name": "stdout",
          "text": [
            "Average loss: tensor(1.0525, device='cuda:0', grad_fn=<DivBackward0>)\n",
            "Epoch 286/500, Report:               precision    recall  f1-score   support\n",
            "\n",
            "    Positive       0.53      0.59      0.56      1792\n",
            "     Neutral       0.54      0.25      0.34      2007\n",
            "    Negative       0.16      0.54      0.25       391\n",
            "\n",
            "    accuracy                           0.42      4190\n",
            "   macro avg       0.41      0.46      0.38      4190\n",
            "weighted avg       0.50      0.42      0.43      4190\n",
            "\n"
          ]
        },
        {
          "output_type": "stream",
          "name": "stderr",
          "text": [
            "100%|██████████| 94/94 [00:02<00:00, 37.40it/s]\n"
          ]
        },
        {
          "output_type": "stream",
          "name": "stdout",
          "text": [
            "Average loss: tensor(1.0522, device='cuda:0', grad_fn=<DivBackward0>)\n",
            "Epoch 287/500, Report:               precision    recall  f1-score   support\n",
            "\n",
            "    Positive       0.53      0.59      0.56      1792\n",
            "     Neutral       0.54      0.25      0.34      2007\n",
            "    Negative       0.16      0.54      0.25       391\n",
            "\n",
            "    accuracy                           0.42      4190\n",
            "   macro avg       0.41      0.46      0.39      4190\n",
            "weighted avg       0.50      0.42      0.43      4190\n",
            "\n"
          ]
        },
        {
          "output_type": "stream",
          "name": "stderr",
          "text": [
            "100%|██████████| 94/94 [00:02<00:00, 39.88it/s]\n"
          ]
        },
        {
          "output_type": "stream",
          "name": "stdout",
          "text": [
            "Average loss: tensor(1.0524, device='cuda:0', grad_fn=<DivBackward0>)\n",
            "Epoch 288/500, Report:               precision    recall  f1-score   support\n",
            "\n",
            "    Positive       0.53      0.59      0.56      1792\n",
            "     Neutral       0.54      0.25      0.34      2007\n",
            "    Negative       0.17      0.54      0.25       391\n",
            "\n",
            "    accuracy                           0.42      4190\n",
            "   macro avg       0.41      0.46      0.39      4190\n",
            "weighted avg       0.50      0.42      0.43      4190\n",
            "\n"
          ]
        },
        {
          "output_type": "stream",
          "name": "stderr",
          "text": [
            "100%|██████████| 94/94 [00:02<00:00, 35.58it/s]\n"
          ]
        },
        {
          "output_type": "stream",
          "name": "stdout",
          "text": [
            "Average loss: tensor(1.0533, device='cuda:0', grad_fn=<DivBackward0>)\n",
            "Epoch 289/500, Report:               precision    recall  f1-score   support\n",
            "\n",
            "    Positive       0.53      0.59      0.56      1792\n",
            "     Neutral       0.54      0.25      0.34      2007\n",
            "    Negative       0.17      0.54      0.25       391\n",
            "\n",
            "    accuracy                           0.42      4190\n",
            "   macro avg       0.41      0.46      0.39      4190\n",
            "weighted avg       0.50      0.42      0.43      4190\n",
            "\n"
          ]
        },
        {
          "output_type": "stream",
          "name": "stderr",
          "text": [
            "100%|██████████| 94/94 [00:02<00:00, 35.52it/s]\n"
          ]
        },
        {
          "output_type": "stream",
          "name": "stdout",
          "text": [
            "Average loss: tensor(1.0520, device='cuda:0', grad_fn=<DivBackward0>)\n",
            "Epoch 290/500, Report:               precision    recall  f1-score   support\n",
            "\n",
            "    Positive       0.53      0.59      0.56      1792\n",
            "     Neutral       0.54      0.25      0.34      2007\n",
            "    Negative       0.17      0.54      0.25       391\n",
            "\n",
            "    accuracy                           0.42      4190\n",
            "   macro avg       0.41      0.46      0.39      4190\n",
            "weighted avg       0.50      0.42      0.43      4190\n",
            "\n"
          ]
        },
        {
          "output_type": "stream",
          "name": "stderr",
          "text": [
            "100%|██████████| 94/94 [00:02<00:00, 35.80it/s]\n"
          ]
        },
        {
          "output_type": "stream",
          "name": "stdout",
          "text": [
            "Average loss: tensor(1.0530, device='cuda:0', grad_fn=<DivBackward0>)\n",
            "Epoch 291/500, Report:               precision    recall  f1-score   support\n",
            "\n",
            "    Positive       0.53      0.59      0.56      1792\n",
            "     Neutral       0.54      0.25      0.34      2007\n",
            "    Negative       0.17      0.54      0.25       391\n",
            "\n",
            "    accuracy                           0.42      4190\n",
            "   macro avg       0.41      0.46      0.39      4190\n",
            "weighted avg       0.50      0.42      0.43      4190\n",
            "\n"
          ]
        },
        {
          "output_type": "stream",
          "name": "stderr",
          "text": [
            "100%|██████████| 94/94 [00:02<00:00, 39.09it/s]\n"
          ]
        },
        {
          "output_type": "stream",
          "name": "stdout",
          "text": [
            "Average loss: tensor(1.0528, device='cuda:0', grad_fn=<DivBackward0>)\n",
            "Epoch 292/500, Report:               precision    recall  f1-score   support\n",
            "\n",
            "    Positive       0.53      0.59      0.56      1792\n",
            "     Neutral       0.55      0.25      0.35      2007\n",
            "    Negative       0.17      0.55      0.26       391\n",
            "\n",
            "    accuracy                           0.42      4190\n",
            "   macro avg       0.42      0.46      0.39      4190\n",
            "weighted avg       0.51      0.42      0.43      4190\n",
            "\n"
          ]
        },
        {
          "output_type": "stream",
          "name": "stderr",
          "text": [
            "100%|██████████| 94/94 [00:02<00:00, 33.25it/s]\n"
          ]
        },
        {
          "output_type": "stream",
          "name": "stdout",
          "text": [
            "Average loss: tensor(1.0518, device='cuda:0', grad_fn=<DivBackward0>)\n",
            "Epoch 293/500, Report:               precision    recall  f1-score   support\n",
            "\n",
            "    Positive       0.53      0.59      0.56      1792\n",
            "     Neutral       0.55      0.25      0.35      2007\n",
            "    Negative       0.17      0.55      0.25       391\n",
            "\n",
            "    accuracy                           0.42      4190\n",
            "   macro avg       0.42      0.46      0.39      4190\n",
            "weighted avg       0.51      0.42      0.43      4190\n",
            "\n"
          ]
        },
        {
          "output_type": "stream",
          "name": "stderr",
          "text": [
            "100%|██████████| 94/94 [00:02<00:00, 40.31it/s]\n"
          ]
        },
        {
          "output_type": "stream",
          "name": "stdout",
          "text": [
            "Average loss: tensor(1.0525, device='cuda:0', grad_fn=<DivBackward0>)\n",
            "Epoch 294/500, Report:               precision    recall  f1-score   support\n",
            "\n",
            "    Positive       0.53      0.59      0.56      1792\n",
            "     Neutral       0.55      0.25      0.35      2007\n",
            "    Negative       0.17      0.55      0.25       391\n",
            "\n",
            "    accuracy                           0.42      4190\n",
            "   macro avg       0.42      0.46      0.39      4190\n",
            "weighted avg       0.51      0.42      0.43      4190\n",
            "\n"
          ]
        },
        {
          "output_type": "stream",
          "name": "stderr",
          "text": [
            "100%|██████████| 94/94 [00:02<00:00, 41.24it/s]\n"
          ]
        },
        {
          "output_type": "stream",
          "name": "stdout",
          "text": [
            "Average loss: tensor(1.0507, device='cuda:0', grad_fn=<DivBackward0>)\n",
            "Epoch 295/500, Report:               precision    recall  f1-score   support\n",
            "\n",
            "    Positive       0.54      0.58      0.56      1792\n",
            "     Neutral       0.55      0.26      0.35      2007\n",
            "    Negative       0.17      0.55      0.25       391\n",
            "\n",
            "    accuracy                           0.42      4190\n",
            "   macro avg       0.42      0.46      0.39      4190\n",
            "weighted avg       0.51      0.42      0.43      4190\n",
            "\n"
          ]
        },
        {
          "output_type": "stream",
          "name": "stderr",
          "text": [
            "100%|██████████| 94/94 [00:02<00:00, 36.60it/s]\n"
          ]
        },
        {
          "output_type": "stream",
          "name": "stdout",
          "text": [
            "Average loss: tensor(1.0526, device='cuda:0', grad_fn=<DivBackward0>)\n",
            "Epoch 296/500, Report:               precision    recall  f1-score   support\n",
            "\n",
            "    Positive       0.53      0.59      0.56      1792\n",
            "     Neutral       0.55      0.26      0.35      2007\n",
            "    Negative       0.17      0.54      0.25       391\n",
            "\n",
            "    accuracy                           0.42      4190\n",
            "   macro avg       0.42      0.46      0.39      4190\n",
            "weighted avg       0.51      0.42      0.43      4190\n",
            "\n"
          ]
        },
        {
          "output_type": "stream",
          "name": "stderr",
          "text": [
            "100%|██████████| 94/94 [00:02<00:00, 40.99it/s]\n"
          ]
        },
        {
          "output_type": "stream",
          "name": "stdout",
          "text": [
            "Average loss: tensor(1.0521, device='cuda:0', grad_fn=<DivBackward0>)\n",
            "Epoch 297/500, Report:               precision    recall  f1-score   support\n",
            "\n",
            "    Positive       0.53      0.59      0.56      1792\n",
            "     Neutral       0.55      0.26      0.35      2007\n",
            "    Negative       0.17      0.54      0.25       391\n",
            "\n",
            "    accuracy                           0.42      4190\n",
            "   macro avg       0.42      0.46      0.39      4190\n",
            "weighted avg       0.51      0.42      0.43      4190\n",
            "\n"
          ]
        },
        {
          "output_type": "stream",
          "name": "stderr",
          "text": [
            "100%|██████████| 94/94 [00:02<00:00, 41.79it/s]\n"
          ]
        },
        {
          "output_type": "stream",
          "name": "stdout",
          "text": [
            "Average loss: tensor(1.0520, device='cuda:0', grad_fn=<DivBackward0>)\n",
            "Epoch 298/500, Report:               precision    recall  f1-score   support\n",
            "\n",
            "    Positive       0.53      0.59      0.56      1792\n",
            "     Neutral       0.55      0.26      0.35      2007\n",
            "    Negative       0.17      0.54      0.26       391\n",
            "\n",
            "    accuracy                           0.43      4190\n",
            "   macro avg       0.42      0.46      0.39      4190\n",
            "weighted avg       0.51      0.43      0.43      4190\n",
            "\n"
          ]
        },
        {
          "output_type": "stream",
          "name": "stderr",
          "text": [
            "100%|██████████| 94/94 [00:02<00:00, 40.86it/s]\n"
          ]
        },
        {
          "output_type": "stream",
          "name": "stdout",
          "text": [
            "Average loss: tensor(1.0516, device='cuda:0', grad_fn=<DivBackward0>)\n",
            "Epoch 299/500, Report:               precision    recall  f1-score   support\n",
            "\n",
            "    Positive       0.54      0.59      0.56      1792\n",
            "     Neutral       0.55      0.26      0.35      2007\n",
            "    Negative       0.17      0.54      0.25       391\n",
            "\n",
            "    accuracy                           0.43      4190\n",
            "   macro avg       0.42      0.46      0.39      4190\n",
            "weighted avg       0.51      0.43      0.43      4190\n",
            "\n"
          ]
        },
        {
          "output_type": "stream",
          "name": "stderr",
          "text": [
            "100%|██████████| 94/94 [00:02<00:00, 37.61it/s]\n"
          ]
        },
        {
          "output_type": "stream",
          "name": "stdout",
          "text": [
            "Average loss: tensor(1.0515, device='cuda:0', grad_fn=<DivBackward0>)\n",
            "Epoch 300/500, Report:               precision    recall  f1-score   support\n",
            "\n",
            "    Positive       0.54      0.59      0.56      1792\n",
            "     Neutral       0.55      0.26      0.35      2007\n",
            "    Negative       0.17      0.54      0.26       391\n",
            "\n",
            "    accuracy                           0.43      4190\n",
            "   macro avg       0.42      0.46      0.39      4190\n",
            "weighted avg       0.51      0.43      0.43      4190\n",
            "\n"
          ]
        },
        {
          "output_type": "stream",
          "name": "stderr",
          "text": [
            "100%|██████████| 94/94 [00:02<00:00, 39.81it/s]\n"
          ]
        },
        {
          "output_type": "stream",
          "name": "stdout",
          "text": [
            "Average loss: tensor(1.0524, device='cuda:0', grad_fn=<DivBackward0>)\n",
            "Epoch 301/500, Report:               precision    recall  f1-score   support\n",
            "\n",
            "    Positive       0.54      0.59      0.56      1792\n",
            "     Neutral       0.55      0.26      0.35      2007\n",
            "    Negative       0.17      0.55      0.26       391\n",
            "\n",
            "    accuracy                           0.43      4190\n",
            "   macro avg       0.42      0.46      0.39      4190\n",
            "weighted avg       0.51      0.43      0.43      4190\n",
            "\n"
          ]
        },
        {
          "output_type": "stream",
          "name": "stderr",
          "text": [
            "100%|██████████| 94/94 [00:02<00:00, 40.70it/s]\n"
          ]
        },
        {
          "output_type": "stream",
          "name": "stdout",
          "text": [
            "Average loss: tensor(1.0512, device='cuda:0', grad_fn=<DivBackward0>)\n",
            "Epoch 302/500, Report:               precision    recall  f1-score   support\n",
            "\n",
            "    Positive       0.54      0.59      0.56      1792\n",
            "     Neutral       0.55      0.26      0.35      2007\n",
            "    Negative       0.17      0.55      0.26       391\n",
            "\n",
            "    accuracy                           0.43      4190\n",
            "   macro avg       0.42      0.46      0.39      4190\n",
            "weighted avg       0.51      0.43      0.43      4190\n",
            "\n"
          ]
        },
        {
          "output_type": "stream",
          "name": "stderr",
          "text": [
            "100%|██████████| 94/94 [00:02<00:00, 40.22it/s]\n"
          ]
        },
        {
          "output_type": "stream",
          "name": "stdout",
          "text": [
            "Average loss: tensor(1.0518, device='cuda:0', grad_fn=<DivBackward0>)\n",
            "Epoch 303/500, Report:               precision    recall  f1-score   support\n",
            "\n",
            "    Positive       0.54      0.59      0.56      1792\n",
            "     Neutral       0.55      0.26      0.35      2007\n",
            "    Negative       0.17      0.55      0.26       391\n",
            "\n",
            "    accuracy                           0.43      4190\n",
            "   macro avg       0.42      0.46      0.39      4190\n",
            "weighted avg       0.51      0.43      0.43      4190\n",
            "\n"
          ]
        },
        {
          "output_type": "stream",
          "name": "stderr",
          "text": [
            "100%|██████████| 94/94 [00:02<00:00, 39.91it/s]\n"
          ]
        },
        {
          "output_type": "stream",
          "name": "stdout",
          "text": [
            "Average loss: tensor(1.0507, device='cuda:0', grad_fn=<DivBackward0>)\n",
            "Epoch 304/500, Report:               precision    recall  f1-score   support\n",
            "\n",
            "    Positive       0.54      0.59      0.56      1792\n",
            "     Neutral       0.55      0.26      0.35      2007\n",
            "    Negative       0.17      0.54      0.26       391\n",
            "\n",
            "    accuracy                           0.43      4190\n",
            "   macro avg       0.42      0.46      0.39      4190\n",
            "weighted avg       0.51      0.43      0.43      4190\n",
            "\n"
          ]
        },
        {
          "output_type": "stream",
          "name": "stderr",
          "text": [
            "100%|██████████| 94/94 [00:02<00:00, 37.04it/s]\n"
          ]
        },
        {
          "output_type": "stream",
          "name": "stdout",
          "text": [
            "Average loss: tensor(1.0510, device='cuda:0', grad_fn=<DivBackward0>)\n",
            "Epoch 305/500, Report:               precision    recall  f1-score   support\n",
            "\n",
            "    Positive       0.54      0.59      0.56      1792\n",
            "     Neutral       0.55      0.26      0.35      2007\n",
            "    Negative       0.17      0.55      0.26       391\n",
            "\n",
            "    accuracy                           0.43      4190\n",
            "   macro avg       0.42      0.46      0.39      4190\n",
            "weighted avg       0.51      0.43      0.43      4190\n",
            "\n"
          ]
        },
        {
          "output_type": "stream",
          "name": "stderr",
          "text": [
            "100%|██████████| 94/94 [00:02<00:00, 40.32it/s]\n"
          ]
        },
        {
          "output_type": "stream",
          "name": "stdout",
          "text": [
            "Average loss: tensor(1.0512, device='cuda:0', grad_fn=<DivBackward0>)\n",
            "Epoch 306/500, Report:               precision    recall  f1-score   support\n",
            "\n",
            "    Positive       0.54      0.59      0.56      1792\n",
            "     Neutral       0.55      0.26      0.35      2007\n",
            "    Negative       0.17      0.55      0.26       391\n",
            "\n",
            "    accuracy                           0.43      4190\n",
            "   macro avg       0.42      0.46      0.39      4190\n",
            "weighted avg       0.51      0.43      0.43      4190\n",
            "\n"
          ]
        },
        {
          "output_type": "stream",
          "name": "stderr",
          "text": [
            "100%|██████████| 94/94 [00:02<00:00, 40.89it/s]\n"
          ]
        },
        {
          "output_type": "stream",
          "name": "stdout",
          "text": [
            "Average loss: tensor(1.0517, device='cuda:0', grad_fn=<DivBackward0>)\n",
            "Epoch 307/500, Report:               precision    recall  f1-score   support\n",
            "\n",
            "    Positive       0.54      0.59      0.56      1792\n",
            "     Neutral       0.55      0.26      0.35      2007\n",
            "    Negative       0.17      0.54      0.25       391\n",
            "\n",
            "    accuracy                           0.43      4190\n",
            "   macro avg       0.42      0.46      0.39      4190\n",
            "weighted avg       0.51      0.43      0.43      4190\n",
            "\n"
          ]
        },
        {
          "output_type": "stream",
          "name": "stderr",
          "text": [
            "100%|██████████| 94/94 [00:02<00:00, 40.14it/s]\n"
          ]
        },
        {
          "output_type": "stream",
          "name": "stdout",
          "text": [
            "Average loss: tensor(1.0530, device='cuda:0', grad_fn=<DivBackward0>)\n",
            "Epoch 308/500, Report:               precision    recall  f1-score   support\n",
            "\n",
            "    Positive       0.54      0.59      0.56      1792\n",
            "     Neutral       0.55      0.26      0.36      2007\n",
            "    Negative       0.17      0.54      0.26       391\n",
            "\n",
            "    accuracy                           0.43      4190\n",
            "   macro avg       0.42      0.46      0.39      4190\n",
            "weighted avg       0.51      0.43      0.43      4190\n",
            "\n"
          ]
        },
        {
          "output_type": "stream",
          "name": "stderr",
          "text": [
            "100%|██████████| 94/94 [00:02<00:00, 35.83it/s]\n"
          ]
        },
        {
          "output_type": "stream",
          "name": "stdout",
          "text": [
            "Average loss: tensor(1.0522, device='cuda:0', grad_fn=<DivBackward0>)\n",
            "Epoch 309/500, Report:               precision    recall  f1-score   support\n",
            "\n",
            "    Positive       0.54      0.58      0.56      1792\n",
            "     Neutral       0.55      0.26      0.35      2007\n",
            "    Negative       0.17      0.55      0.26       391\n",
            "\n",
            "    accuracy                           0.43      4190\n",
            "   macro avg       0.42      0.46      0.39      4190\n",
            "weighted avg       0.51      0.43      0.43      4190\n",
            "\n"
          ]
        },
        {
          "output_type": "stream",
          "name": "stderr",
          "text": [
            "100%|██████████| 94/94 [00:02<00:00, 41.12it/s]\n"
          ]
        },
        {
          "output_type": "stream",
          "name": "stdout",
          "text": [
            "Average loss: tensor(1.0509, device='cuda:0', grad_fn=<DivBackward0>)\n",
            "Epoch 310/500, Report:               precision    recall  f1-score   support\n",
            "\n",
            "    Positive       0.54      0.58      0.56      1792\n",
            "     Neutral       0.55      0.26      0.35      2007\n",
            "    Negative       0.17      0.55      0.25       391\n",
            "\n",
            "    accuracy                           0.43      4190\n",
            "   macro avg       0.42      0.46      0.39      4190\n",
            "weighted avg       0.51      0.43      0.43      4190\n",
            "\n"
          ]
        },
        {
          "output_type": "stream",
          "name": "stderr",
          "text": [
            "100%|██████████| 94/94 [00:02<00:00, 41.34it/s]\n"
          ]
        },
        {
          "output_type": "stream",
          "name": "stdout",
          "text": [
            "Average loss: tensor(1.0522, device='cuda:0', grad_fn=<DivBackward0>)\n",
            "Epoch 311/500, Report:               precision    recall  f1-score   support\n",
            "\n",
            "    Positive       0.54      0.58      0.56      1792\n",
            "     Neutral       0.55      0.26      0.35      2007\n",
            "    Negative       0.17      0.54      0.25       391\n",
            "\n",
            "    accuracy                           0.43      4190\n",
            "   macro avg       0.42      0.46      0.39      4190\n",
            "weighted avg       0.51      0.43      0.43      4190\n",
            "\n"
          ]
        },
        {
          "output_type": "stream",
          "name": "stderr",
          "text": [
            "100%|██████████| 94/94 [00:02<00:00, 40.84it/s]\n"
          ]
        },
        {
          "output_type": "stream",
          "name": "stdout",
          "text": [
            "Average loss: tensor(1.0525, device='cuda:0', grad_fn=<DivBackward0>)\n",
            "Epoch 312/500, Report:               precision    recall  f1-score   support\n",
            "\n",
            "    Positive       0.54      0.58      0.56      1792\n",
            "     Neutral       0.55      0.26      0.35      2007\n",
            "    Negative       0.17      0.55      0.25       391\n",
            "\n",
            "    accuracy                           0.43      4190\n",
            "   macro avg       0.42      0.46      0.39      4190\n",
            "weighted avg       0.51      0.43      0.43      4190\n",
            "\n"
          ]
        },
        {
          "output_type": "stream",
          "name": "stderr",
          "text": [
            "100%|██████████| 94/94 [00:02<00:00, 39.03it/s]\n"
          ]
        },
        {
          "output_type": "stream",
          "name": "stdout",
          "text": [
            "Average loss: tensor(1.0528, device='cuda:0', grad_fn=<DivBackward0>)\n",
            "Epoch 313/500, Report:               precision    recall  f1-score   support\n",
            "\n",
            "    Positive       0.54      0.58      0.56      1792\n",
            "     Neutral       0.55      0.26      0.36      2007\n",
            "    Negative       0.17      0.55      0.26       391\n",
            "\n",
            "    accuracy                           0.43      4190\n",
            "   macro avg       0.42      0.46      0.39      4190\n",
            "weighted avg       0.51      0.43      0.43      4190\n",
            "\n"
          ]
        },
        {
          "output_type": "stream",
          "name": "stderr",
          "text": [
            "100%|██████████| 94/94 [00:02<00:00, 31.85it/s]\n"
          ]
        },
        {
          "output_type": "stream",
          "name": "stdout",
          "text": [
            "Average loss: tensor(1.0509, device='cuda:0', grad_fn=<DivBackward0>)\n",
            "Epoch 314/500, Report:               precision    recall  f1-score   support\n",
            "\n",
            "    Positive       0.54      0.58      0.56      1792\n",
            "     Neutral       0.55      0.26      0.36      2007\n",
            "    Negative       0.17      0.54      0.25       391\n",
            "\n",
            "    accuracy                           0.43      4190\n",
            "   macro avg       0.42      0.46      0.39      4190\n",
            "weighted avg       0.51      0.43      0.43      4190\n",
            "\n"
          ]
        },
        {
          "output_type": "stream",
          "name": "stderr",
          "text": [
            "100%|██████████| 94/94 [00:02<00:00, 40.31it/s]\n"
          ]
        },
        {
          "output_type": "stream",
          "name": "stdout",
          "text": [
            "Average loss: tensor(1.0508, device='cuda:0', grad_fn=<DivBackward0>)\n",
            "Epoch 315/500, Report:               precision    recall  f1-score   support\n",
            "\n",
            "    Positive       0.54      0.59      0.56      1792\n",
            "     Neutral       0.55      0.26      0.35      2007\n",
            "    Negative       0.17      0.54      0.25       391\n",
            "\n",
            "    accuracy                           0.43      4190\n",
            "   macro avg       0.42      0.46      0.39      4190\n",
            "weighted avg       0.51      0.43      0.43      4190\n",
            "\n"
          ]
        },
        {
          "output_type": "stream",
          "name": "stderr",
          "text": [
            "100%|██████████| 94/94 [00:02<00:00, 40.80it/s]\n"
          ]
        },
        {
          "output_type": "stream",
          "name": "stdout",
          "text": [
            "Average loss: tensor(1.0518, device='cuda:0', grad_fn=<DivBackward0>)\n",
            "Epoch 316/500, Report:               precision    recall  f1-score   support\n",
            "\n",
            "    Positive       0.54      0.59      0.56      1792\n",
            "     Neutral       0.55      0.26      0.35      2007\n",
            "    Negative       0.17      0.54      0.25       391\n",
            "\n",
            "    accuracy                           0.43      4190\n",
            "   macro avg       0.42      0.46      0.39      4190\n",
            "weighted avg       0.51      0.43      0.43      4190\n",
            "\n"
          ]
        },
        {
          "output_type": "stream",
          "name": "stderr",
          "text": [
            "100%|██████████| 94/94 [00:02<00:00, 41.08it/s]\n"
          ]
        },
        {
          "output_type": "stream",
          "name": "stdout",
          "text": [
            "Average loss: tensor(1.0503, device='cuda:0', grad_fn=<DivBackward0>)\n",
            "Epoch 317/500, Report:               precision    recall  f1-score   support\n",
            "\n",
            "    Positive       0.54      0.58      0.56      1792\n",
            "     Neutral       0.55      0.26      0.35      2007\n",
            "    Negative       0.17      0.55      0.25       391\n",
            "\n",
            "    accuracy                           0.43      4190\n",
            "   macro avg       0.42      0.46      0.39      4190\n",
            "weighted avg       0.51      0.43      0.43      4190\n",
            "\n"
          ]
        },
        {
          "output_type": "stream",
          "name": "stderr",
          "text": [
            "100%|██████████| 94/94 [00:02<00:00, 35.26it/s]\n"
          ]
        },
        {
          "output_type": "stream",
          "name": "stdout",
          "text": [
            "Average loss: tensor(1.0513, device='cuda:0', grad_fn=<DivBackward0>)\n",
            "Epoch 318/500, Report:               precision    recall  f1-score   support\n",
            "\n",
            "    Positive       0.54      0.59      0.56      1792\n",
            "     Neutral       0.55      0.26      0.36      2007\n",
            "    Negative       0.17      0.54      0.25       391\n",
            "\n",
            "    accuracy                           0.43      4190\n",
            "   macro avg       0.42      0.46      0.39      4190\n",
            "weighted avg       0.51      0.43      0.43      4190\n",
            "\n"
          ]
        },
        {
          "output_type": "stream",
          "name": "stderr",
          "text": [
            "100%|██████████| 94/94 [00:02<00:00, 40.01it/s]\n"
          ]
        },
        {
          "output_type": "stream",
          "name": "stdout",
          "text": [
            "Average loss: tensor(1.0512, device='cuda:0', grad_fn=<DivBackward0>)\n",
            "Epoch 319/500, Report:               precision    recall  f1-score   support\n",
            "\n",
            "    Positive       0.54      0.58      0.56      1792\n",
            "     Neutral       0.55      0.26      0.36      2007\n",
            "    Negative       0.17      0.54      0.25       391\n",
            "\n",
            "    accuracy                           0.43      4190\n",
            "   macro avg       0.42      0.46      0.39      4190\n",
            "weighted avg       0.51      0.43      0.43      4190\n",
            "\n"
          ]
        },
        {
          "output_type": "stream",
          "name": "stderr",
          "text": [
            "100%|██████████| 94/94 [00:02<00:00, 40.17it/s]\n"
          ]
        },
        {
          "output_type": "stream",
          "name": "stdout",
          "text": [
            "Average loss: tensor(1.0518, device='cuda:0', grad_fn=<DivBackward0>)\n",
            "Epoch 320/500, Report:               precision    recall  f1-score   support\n",
            "\n",
            "    Positive       0.54      0.58      0.56      1792\n",
            "     Neutral       0.55      0.26      0.35      2007\n",
            "    Negative       0.17      0.54      0.25       391\n",
            "\n",
            "    accuracy                           0.43      4190\n",
            "   macro avg       0.42      0.46      0.39      4190\n",
            "weighted avg       0.51      0.43      0.43      4190\n",
            "\n"
          ]
        },
        {
          "output_type": "stream",
          "name": "stderr",
          "text": [
            "100%|██████████| 94/94 [00:02<00:00, 40.74it/s]\n"
          ]
        },
        {
          "output_type": "stream",
          "name": "stdout",
          "text": [
            "Average loss: tensor(1.0519, device='cuda:0', grad_fn=<DivBackward0>)\n",
            "Epoch 321/500, Report:               precision    recall  f1-score   support\n",
            "\n",
            "    Positive       0.54      0.58      0.56      1792\n",
            "     Neutral       0.55      0.26      0.36      2007\n",
            "    Negative       0.17      0.54      0.25       391\n",
            "\n",
            "    accuracy                           0.43      4190\n",
            "   macro avg       0.42      0.46      0.39      4190\n",
            "weighted avg       0.51      0.43      0.43      4190\n",
            "\n"
          ]
        },
        {
          "output_type": "stream",
          "name": "stderr",
          "text": [
            "100%|██████████| 94/94 [00:02<00:00, 38.23it/s]\n"
          ]
        },
        {
          "output_type": "stream",
          "name": "stdout",
          "text": [
            "Average loss: tensor(1.0530, device='cuda:0', grad_fn=<DivBackward0>)\n",
            "Epoch 322/500, Report:               precision    recall  f1-score   support\n",
            "\n",
            "    Positive       0.54      0.58      0.56      1792\n",
            "     Neutral       0.55      0.26      0.36      2007\n",
            "    Negative       0.17      0.54      0.25       391\n",
            "\n",
            "    accuracy                           0.43      4190\n",
            "   macro avg       0.42      0.46      0.39      4190\n",
            "weighted avg       0.51      0.43      0.43      4190\n",
            "\n"
          ]
        },
        {
          "output_type": "stream",
          "name": "stderr",
          "text": [
            "100%|██████████| 94/94 [00:02<00:00, 38.81it/s]\n"
          ]
        },
        {
          "output_type": "stream",
          "name": "stdout",
          "text": [
            "Average loss: tensor(1.0514, device='cuda:0', grad_fn=<DivBackward0>)\n",
            "Epoch 323/500, Report:               precision    recall  f1-score   support\n",
            "\n",
            "    Positive       0.54      0.58      0.56      1792\n",
            "     Neutral       0.55      0.27      0.36      2007\n",
            "    Negative       0.17      0.54      0.25       391\n",
            "\n",
            "    accuracy                           0.43      4190\n",
            "   macro avg       0.42      0.46      0.39      4190\n",
            "weighted avg       0.51      0.43      0.43      4190\n",
            "\n"
          ]
        },
        {
          "output_type": "stream",
          "name": "stderr",
          "text": [
            "100%|██████████| 94/94 [00:02<00:00, 40.94it/s]\n"
          ]
        },
        {
          "output_type": "stream",
          "name": "stdout",
          "text": [
            "Average loss: tensor(1.0504, device='cuda:0', grad_fn=<DivBackward0>)\n",
            "Epoch 324/500, Report:               precision    recall  f1-score   support\n",
            "\n",
            "    Positive       0.54      0.58      0.56      1792\n",
            "     Neutral       0.55      0.27      0.36      2007\n",
            "    Negative       0.17      0.54      0.25       391\n",
            "\n",
            "    accuracy                           0.43      4190\n",
            "   macro avg       0.42      0.46      0.39      4190\n",
            "weighted avg       0.51      0.43      0.43      4190\n",
            "\n"
          ]
        },
        {
          "output_type": "stream",
          "name": "stderr",
          "text": [
            "100%|██████████| 94/94 [00:02<00:00, 38.22it/s]\n"
          ]
        },
        {
          "output_type": "stream",
          "name": "stdout",
          "text": [
            "Average loss: tensor(1.0517, device='cuda:0', grad_fn=<DivBackward0>)\n",
            "Epoch 325/500, Report:               precision    recall  f1-score   support\n",
            "\n",
            "    Positive       0.54      0.58      0.56      1792\n",
            "     Neutral       0.55      0.27      0.36      2007\n",
            "    Negative       0.17      0.54      0.25       391\n",
            "\n",
            "    accuracy                           0.43      4190\n",
            "   macro avg       0.42      0.46      0.39      4190\n",
            "weighted avg       0.51      0.43      0.44      4190\n",
            "\n"
          ]
        },
        {
          "output_type": "stream",
          "name": "stderr",
          "text": [
            "100%|██████████| 94/94 [00:02<00:00, 39.60it/s]\n"
          ]
        },
        {
          "output_type": "stream",
          "name": "stdout",
          "text": [
            "Average loss: tensor(1.0515, device='cuda:0', grad_fn=<DivBackward0>)\n",
            "Epoch 326/500, Report:               precision    recall  f1-score   support\n",
            "\n",
            "    Positive       0.54      0.58      0.56      1792\n",
            "     Neutral       0.55      0.26      0.36      2007\n",
            "    Negative       0.17      0.54      0.25       391\n",
            "\n",
            "    accuracy                           0.43      4190\n",
            "   macro avg       0.42      0.46      0.39      4190\n",
            "weighted avg       0.51      0.43      0.43      4190\n",
            "\n"
          ]
        },
        {
          "output_type": "stream",
          "name": "stderr",
          "text": [
            "100%|██████████| 94/94 [00:02<00:00, 35.87it/s]\n"
          ]
        },
        {
          "output_type": "stream",
          "name": "stdout",
          "text": [
            "Average loss: tensor(1.0507, device='cuda:0', grad_fn=<DivBackward0>)\n",
            "Epoch 327/500, Report:               precision    recall  f1-score   support\n",
            "\n",
            "    Positive       0.54      0.58      0.56      1792\n",
            "     Neutral       0.55      0.26      0.35      2007\n",
            "    Negative       0.16      0.54      0.25       391\n",
            "\n",
            "    accuracy                           0.42      4190\n",
            "   macro avg       0.42      0.46      0.39      4190\n",
            "weighted avg       0.51      0.42      0.43      4190\n",
            "\n"
          ]
        },
        {
          "output_type": "stream",
          "name": "stderr",
          "text": [
            "100%|██████████| 94/94 [00:02<00:00, 40.58it/s]\n"
          ]
        },
        {
          "output_type": "stream",
          "name": "stdout",
          "text": [
            "Average loss: tensor(1.0518, device='cuda:0', grad_fn=<DivBackward0>)\n",
            "Epoch 328/500, Report:               precision    recall  f1-score   support\n",
            "\n",
            "    Positive       0.54      0.58      0.56      1792\n",
            "     Neutral       0.55      0.26      0.35      2007\n",
            "    Negative       0.16      0.54      0.25       391\n",
            "\n",
            "    accuracy                           0.42      4190\n",
            "   macro avg       0.42      0.46      0.39      4190\n",
            "weighted avg       0.51      0.42      0.43      4190\n",
            "\n"
          ]
        },
        {
          "output_type": "stream",
          "name": "stderr",
          "text": [
            "100%|██████████| 94/94 [00:02<00:00, 40.31it/s]\n"
          ]
        },
        {
          "output_type": "stream",
          "name": "stdout",
          "text": [
            "Average loss: tensor(1.0504, device='cuda:0', grad_fn=<DivBackward0>)\n",
            "Epoch 329/500, Report:               precision    recall  f1-score   support\n",
            "\n",
            "    Positive       0.54      0.58      0.56      1792\n",
            "     Neutral       0.55      0.26      0.35      2007\n",
            "    Negative       0.16      0.54      0.25       391\n",
            "\n",
            "    accuracy                           0.42      4190\n",
            "   macro avg       0.42      0.46      0.39      4190\n",
            "weighted avg       0.51      0.42      0.43      4190\n",
            "\n"
          ]
        },
        {
          "output_type": "stream",
          "name": "stderr",
          "text": [
            "100%|██████████| 94/94 [00:02<00:00, 41.05it/s]\n"
          ]
        },
        {
          "output_type": "stream",
          "name": "stdout",
          "text": [
            "Average loss: tensor(1.0510, device='cuda:0', grad_fn=<DivBackward0>)\n",
            "Epoch 330/500, Report:               precision    recall  f1-score   support\n",
            "\n",
            "    Positive       0.54      0.59      0.56      1792\n",
            "     Neutral       0.55      0.26      0.35      2007\n",
            "    Negative       0.16      0.54      0.25       391\n",
            "\n",
            "    accuracy                           0.43      4190\n",
            "   macro avg       0.42      0.46      0.39      4190\n",
            "weighted avg       0.51      0.43      0.43      4190\n",
            "\n"
          ]
        },
        {
          "output_type": "stream",
          "name": "stderr",
          "text": [
            "100%|██████████| 94/94 [00:02<00:00, 37.45it/s]\n"
          ]
        },
        {
          "output_type": "stream",
          "name": "stdout",
          "text": [
            "Average loss: tensor(1.0504, device='cuda:0', grad_fn=<DivBackward0>)\n",
            "Epoch 331/500, Report:               precision    recall  f1-score   support\n",
            "\n",
            "    Positive       0.54      0.58      0.56      1792\n",
            "     Neutral       0.55      0.26      0.35      2007\n",
            "    Negative       0.16      0.54      0.25       391\n",
            "\n",
            "    accuracy                           0.43      4190\n",
            "   macro avg       0.42      0.46      0.39      4190\n",
            "weighted avg       0.51      0.43      0.43      4190\n",
            "\n"
          ]
        },
        {
          "output_type": "stream",
          "name": "stderr",
          "text": [
            "100%|██████████| 94/94 [00:02<00:00, 38.74it/s]\n"
          ]
        },
        {
          "output_type": "stream",
          "name": "stdout",
          "text": [
            "Average loss: tensor(1.0509, device='cuda:0', grad_fn=<DivBackward0>)\n",
            "Epoch 332/500, Report:               precision    recall  f1-score   support\n",
            "\n",
            "    Positive       0.54      0.59      0.56      1792\n",
            "     Neutral       0.55      0.27      0.36      2007\n",
            "    Negative       0.17      0.54      0.25       391\n",
            "\n",
            "    accuracy                           0.43      4190\n",
            "   macro avg       0.42      0.46      0.39      4190\n",
            "weighted avg       0.51      0.43      0.43      4190\n",
            "\n"
          ]
        },
        {
          "output_type": "stream",
          "name": "stderr",
          "text": [
            "100%|██████████| 94/94 [00:02<00:00, 41.34it/s]\n"
          ]
        },
        {
          "output_type": "stream",
          "name": "stdout",
          "text": [
            "Average loss: tensor(1.0520, device='cuda:0', grad_fn=<DivBackward0>)\n",
            "Epoch 333/500, Report:               precision    recall  f1-score   support\n",
            "\n",
            "    Positive       0.54      0.58      0.56      1792\n",
            "     Neutral       0.55      0.26      0.36      2007\n",
            "    Negative       0.17      0.54      0.25       391\n",
            "\n",
            "    accuracy                           0.43      4190\n",
            "   macro avg       0.42      0.46      0.39      4190\n",
            "weighted avg       0.51      0.43      0.43      4190\n",
            "\n"
          ]
        },
        {
          "output_type": "stream",
          "name": "stderr",
          "text": [
            "100%|██████████| 94/94 [00:02<00:00, 40.27it/s]\n"
          ]
        },
        {
          "output_type": "stream",
          "name": "stdout",
          "text": [
            "Average loss: tensor(1.0516, device='cuda:0', grad_fn=<DivBackward0>)\n",
            "Epoch 334/500, Report:               precision    recall  f1-score   support\n",
            "\n",
            "    Positive       0.54      0.58      0.56      1792\n",
            "     Neutral       0.55      0.26      0.36      2007\n",
            "    Negative       0.16      0.54      0.25       391\n",
            "\n",
            "    accuracy                           0.43      4190\n",
            "   macro avg       0.42      0.46      0.39      4190\n",
            "weighted avg       0.51      0.43      0.43      4190\n",
            "\n"
          ]
        },
        {
          "output_type": "stream",
          "name": "stderr",
          "text": [
            "100%|██████████| 94/94 [00:02<00:00, 40.77it/s]\n"
          ]
        },
        {
          "output_type": "stream",
          "name": "stdout",
          "text": [
            "Average loss: tensor(1.0505, device='cuda:0', grad_fn=<DivBackward0>)\n",
            "Epoch 335/500, Report:               precision    recall  f1-score   support\n",
            "\n",
            "    Positive       0.54      0.58      0.56      1792\n",
            "     Neutral       0.55      0.26      0.36      2007\n",
            "    Negative       0.16      0.54      0.25       391\n",
            "\n",
            "    accuracy                           0.43      4190\n",
            "   macro avg       0.42      0.46      0.39      4190\n",
            "weighted avg       0.51      0.43      0.43      4190\n",
            "\n"
          ]
        },
        {
          "output_type": "stream",
          "name": "stderr",
          "text": [
            "100%|██████████| 94/94 [00:02<00:00, 33.85it/s]\n"
          ]
        },
        {
          "output_type": "stream",
          "name": "stdout",
          "text": [
            "Average loss: tensor(1.0498, device='cuda:0', grad_fn=<DivBackward0>)\n",
            "Epoch 336/500, Report:               precision    recall  f1-score   support\n",
            "\n",
            "    Positive       0.54      0.58      0.56      1792\n",
            "     Neutral       0.55      0.26      0.36      2007\n",
            "    Negative       0.16      0.54      0.25       391\n",
            "\n",
            "    accuracy                           0.43      4190\n",
            "   macro avg       0.42      0.46      0.39      4190\n",
            "weighted avg       0.51      0.43      0.43      4190\n",
            "\n"
          ]
        },
        {
          "output_type": "stream",
          "name": "stderr",
          "text": [
            "100%|██████████| 94/94 [00:02<00:00, 36.21it/s]\n"
          ]
        },
        {
          "output_type": "stream",
          "name": "stdout",
          "text": [
            "Average loss: tensor(1.0512, device='cuda:0', grad_fn=<DivBackward0>)\n",
            "Epoch 337/500, Report:               precision    recall  f1-score   support\n",
            "\n",
            "    Positive       0.54      0.58      0.56      1792\n",
            "     Neutral       0.55      0.27      0.36      2007\n",
            "    Negative       0.16      0.54      0.25       391\n",
            "\n",
            "    accuracy                           0.43      4190\n",
            "   macro avg       0.42      0.46      0.39      4190\n",
            "weighted avg       0.51      0.43      0.43      4190\n",
            "\n"
          ]
        },
        {
          "output_type": "stream",
          "name": "stderr",
          "text": [
            "100%|██████████| 94/94 [00:02<00:00, 39.68it/s]\n"
          ]
        },
        {
          "output_type": "stream",
          "name": "stdout",
          "text": [
            "Average loss: tensor(1.0503, device='cuda:0', grad_fn=<DivBackward0>)\n",
            "Epoch 338/500, Report:               precision    recall  f1-score   support\n",
            "\n",
            "    Positive       0.54      0.58      0.56      1792\n",
            "     Neutral       0.55      0.27      0.36      2007\n",
            "    Negative       0.17      0.54      0.25       391\n",
            "\n",
            "    accuracy                           0.43      4190\n",
            "   macro avg       0.42      0.46      0.39      4190\n",
            "weighted avg       0.51      0.43      0.44      4190\n",
            "\n"
          ]
        },
        {
          "output_type": "stream",
          "name": "stderr",
          "text": [
            "100%|██████████| 94/94 [00:02<00:00, 40.88it/s]\n"
          ]
        },
        {
          "output_type": "stream",
          "name": "stdout",
          "text": [
            "Average loss: tensor(1.0512, device='cuda:0', grad_fn=<DivBackward0>)\n",
            "Epoch 339/500, Report:               precision    recall  f1-score   support\n",
            "\n",
            "    Positive       0.54      0.58      0.56      1792\n",
            "     Neutral       0.55      0.27      0.36      2007\n",
            "    Negative       0.16      0.54      0.25       391\n",
            "\n",
            "    accuracy                           0.43      4190\n",
            "   macro avg       0.42      0.46      0.39      4190\n",
            "weighted avg       0.51      0.43      0.44      4190\n",
            "\n"
          ]
        },
        {
          "output_type": "stream",
          "name": "stderr",
          "text": [
            "100%|██████████| 94/94 [00:02<00:00, 35.46it/s]\n"
          ]
        },
        {
          "output_type": "stream",
          "name": "stdout",
          "text": [
            "Average loss: tensor(1.0506, device='cuda:0', grad_fn=<DivBackward0>)\n",
            "Epoch 340/500, Report:               precision    recall  f1-score   support\n",
            "\n",
            "    Positive       0.54      0.58      0.56      1792\n",
            "     Neutral       0.55      0.27      0.36      2007\n",
            "    Negative       0.16      0.54      0.25       391\n",
            "\n",
            "    accuracy                           0.43      4190\n",
            "   macro avg       0.42      0.46      0.39      4190\n",
            "weighted avg       0.51      0.43      0.43      4190\n",
            "\n"
          ]
        },
        {
          "output_type": "stream",
          "name": "stderr",
          "text": [
            "100%|██████████| 94/94 [00:02<00:00, 40.97it/s]\n"
          ]
        },
        {
          "output_type": "stream",
          "name": "stdout",
          "text": [
            "Average loss: tensor(1.0498, device='cuda:0', grad_fn=<DivBackward0>)\n",
            "Epoch 341/500, Report:               precision    recall  f1-score   support\n",
            "\n",
            "    Positive       0.54      0.58      0.56      1792\n",
            "     Neutral       0.55      0.27      0.36      2007\n",
            "    Negative       0.16      0.54      0.25       391\n",
            "\n",
            "    accuracy                           0.43      4190\n",
            "   macro avg       0.42      0.46      0.39      4190\n",
            "weighted avg       0.51      0.43      0.43      4190\n",
            "\n"
          ]
        },
        {
          "output_type": "stream",
          "name": "stderr",
          "text": [
            "100%|██████████| 94/94 [00:02<00:00, 40.22it/s]\n"
          ]
        },
        {
          "output_type": "stream",
          "name": "stdout",
          "text": [
            "Average loss: tensor(1.0498, device='cuda:0', grad_fn=<DivBackward0>)\n",
            "Epoch 342/500, Report:               precision    recall  f1-score   support\n",
            "\n",
            "    Positive       0.54      0.58      0.56      1792\n",
            "     Neutral       0.55      0.26      0.36      2007\n",
            "    Negative       0.17      0.54      0.25       391\n",
            "\n",
            "    accuracy                           0.43      4190\n",
            "   macro avg       0.42      0.46      0.39      4190\n",
            "weighted avg       0.51      0.43      0.43      4190\n",
            "\n"
          ]
        },
        {
          "output_type": "stream",
          "name": "stderr",
          "text": [
            "100%|██████████| 94/94 [00:02<00:00, 39.43it/s]\n"
          ]
        },
        {
          "output_type": "stream",
          "name": "stdout",
          "text": [
            "Average loss: tensor(1.0504, device='cuda:0', grad_fn=<DivBackward0>)\n",
            "Epoch 343/500, Report:               precision    recall  f1-score   support\n",
            "\n",
            "    Positive       0.54      0.58      0.56      1792\n",
            "     Neutral       0.55      0.27      0.36      2007\n",
            "    Negative       0.16      0.54      0.25       391\n",
            "\n",
            "    accuracy                           0.43      4190\n",
            "   macro avg       0.42      0.46      0.39      4190\n",
            "weighted avg       0.51      0.43      0.43      4190\n",
            "\n"
          ]
        },
        {
          "output_type": "stream",
          "name": "stderr",
          "text": [
            "100%|██████████| 94/94 [00:02<00:00, 38.12it/s]\n"
          ]
        },
        {
          "output_type": "stream",
          "name": "stdout",
          "text": [
            "Average loss: tensor(1.0518, device='cuda:0', grad_fn=<DivBackward0>)\n",
            "Epoch 344/500, Report:               precision    recall  f1-score   support\n",
            "\n",
            "    Positive       0.54      0.58      0.56      1792\n",
            "     Neutral       0.55      0.27      0.36      2007\n",
            "    Negative       0.16      0.54      0.25       391\n",
            "\n",
            "    accuracy                           0.43      4190\n",
            "   macro avg       0.42      0.46      0.39      4190\n",
            "weighted avg       0.51      0.43      0.44      4190\n",
            "\n"
          ]
        },
        {
          "output_type": "stream",
          "name": "stderr",
          "text": [
            "100%|██████████| 94/94 [00:02<00:00, 37.28it/s]\n"
          ]
        },
        {
          "output_type": "stream",
          "name": "stdout",
          "text": [
            "Average loss: tensor(1.0516, device='cuda:0', grad_fn=<DivBackward0>)\n",
            "Epoch 345/500, Report:               precision    recall  f1-score   support\n",
            "\n",
            "    Positive       0.54      0.58      0.56      1792\n",
            "     Neutral       0.55      0.27      0.36      2007\n",
            "    Negative       0.16      0.54      0.25       391\n",
            "\n",
            "    accuracy                           0.43      4190\n",
            "   macro avg       0.42      0.46      0.39      4190\n",
            "weighted avg       0.51      0.43      0.43      4190\n",
            "\n"
          ]
        },
        {
          "output_type": "stream",
          "name": "stderr",
          "text": [
            "100%|██████████| 94/94 [00:02<00:00, 37.49it/s]\n"
          ]
        },
        {
          "output_type": "stream",
          "name": "stdout",
          "text": [
            "Average loss: tensor(1.0499, device='cuda:0', grad_fn=<DivBackward0>)\n",
            "Epoch 346/500, Report:               precision    recall  f1-score   support\n",
            "\n",
            "    Positive       0.54      0.58      0.56      1792\n",
            "     Neutral       0.55      0.27      0.36      2007\n",
            "    Negative       0.16      0.54      0.25       391\n",
            "\n",
            "    accuracy                           0.43      4190\n",
            "   macro avg       0.42      0.46      0.39      4190\n",
            "weighted avg       0.51      0.43      0.43      4190\n",
            "\n"
          ]
        },
        {
          "output_type": "stream",
          "name": "stderr",
          "text": [
            "100%|██████████| 94/94 [00:03<00:00, 29.91it/s]\n"
          ]
        },
        {
          "output_type": "stream",
          "name": "stdout",
          "text": [
            "Average loss: tensor(1.0520, device='cuda:0', grad_fn=<DivBackward0>)\n",
            "Epoch 347/500, Report:               precision    recall  f1-score   support\n",
            "\n",
            "    Positive       0.54      0.58      0.56      1792\n",
            "     Neutral       0.55      0.27      0.36      2007\n",
            "    Negative       0.16      0.54      0.25       391\n",
            "\n",
            "    accuracy                           0.43      4190\n",
            "   macro avg       0.42      0.46      0.39      4190\n",
            "weighted avg       0.51      0.43      0.44      4190\n",
            "\n"
          ]
        },
        {
          "output_type": "stream",
          "name": "stderr",
          "text": [
            "100%|██████████| 94/94 [00:02<00:00, 37.52it/s]\n"
          ]
        },
        {
          "output_type": "stream",
          "name": "stdout",
          "text": [
            "Average loss: tensor(1.0512, device='cuda:0', grad_fn=<DivBackward0>)\n",
            "Epoch 348/500, Report:               precision    recall  f1-score   support\n",
            "\n",
            "    Positive       0.54      0.58      0.56      1792\n",
            "     Neutral       0.55      0.27      0.36      2007\n",
            "    Negative       0.16      0.54      0.25       391\n",
            "\n",
            "    accuracy                           0.43      4190\n",
            "   macro avg       0.42      0.46      0.39      4190\n",
            "weighted avg       0.51      0.43      0.44      4190\n",
            "\n"
          ]
        },
        {
          "output_type": "stream",
          "name": "stderr",
          "text": [
            "100%|██████████| 94/94 [00:02<00:00, 37.45it/s]\n"
          ]
        },
        {
          "output_type": "stream",
          "name": "stdout",
          "text": [
            "Average loss: tensor(1.0503, device='cuda:0', grad_fn=<DivBackward0>)\n",
            "Epoch 349/500, Report:               precision    recall  f1-score   support\n",
            "\n",
            "    Positive       0.54      0.58      0.56      1792\n",
            "     Neutral       0.55      0.27      0.36      2007\n",
            "    Negative       0.16      0.54      0.25       391\n",
            "\n",
            "    accuracy                           0.43      4190\n",
            "   macro avg       0.42      0.46      0.39      4190\n",
            "weighted avg       0.51      0.43      0.44      4190\n",
            "\n"
          ]
        },
        {
          "output_type": "stream",
          "name": "stderr",
          "text": [
            "100%|██████████| 94/94 [00:02<00:00, 40.34it/s]\n"
          ]
        },
        {
          "output_type": "stream",
          "name": "stdout",
          "text": [
            "Average loss: tensor(1.0519, device='cuda:0', grad_fn=<DivBackward0>)\n",
            "Epoch 350/500, Report:               precision    recall  f1-score   support\n",
            "\n",
            "    Positive       0.54      0.58      0.56      1792\n",
            "     Neutral       0.55      0.27      0.36      2007\n",
            "    Negative       0.16      0.54      0.25       391\n",
            "\n",
            "    accuracy                           0.43      4190\n",
            "   macro avg       0.42      0.46      0.39      4190\n",
            "weighted avg       0.51      0.43      0.44      4190\n",
            "\n"
          ]
        },
        {
          "output_type": "stream",
          "name": "stderr",
          "text": [
            "100%|██████████| 94/94 [00:02<00:00, 40.59it/s]\n"
          ]
        },
        {
          "output_type": "stream",
          "name": "stdout",
          "text": [
            "Average loss: tensor(1.0505, device='cuda:0', grad_fn=<DivBackward0>)\n",
            "Epoch 351/500, Report:               precision    recall  f1-score   support\n",
            "\n",
            "    Positive       0.54      0.58      0.56      1792\n",
            "     Neutral       0.55      0.27      0.36      2007\n",
            "    Negative       0.16      0.54      0.25       391\n",
            "\n",
            "    accuracy                           0.43      4190\n",
            "   macro avg       0.42      0.46      0.39      4190\n",
            "weighted avg       0.51      0.43      0.44      4190\n",
            "\n"
          ]
        },
        {
          "output_type": "stream",
          "name": "stderr",
          "text": [
            "100%|██████████| 94/94 [00:02<00:00, 40.67it/s]\n"
          ]
        },
        {
          "output_type": "stream",
          "name": "stdout",
          "text": [
            "Average loss: tensor(1.0509, device='cuda:0', grad_fn=<DivBackward0>)\n",
            "Epoch 352/500, Report:               precision    recall  f1-score   support\n",
            "\n",
            "    Positive       0.54      0.58      0.56      1792\n",
            "     Neutral       0.55      0.27      0.37      2007\n",
            "    Negative       0.17      0.54      0.25       391\n",
            "\n",
            "    accuracy                           0.43      4190\n",
            "   macro avg       0.42      0.46      0.39      4190\n",
            "weighted avg       0.51      0.43      0.44      4190\n",
            "\n"
          ]
        },
        {
          "output_type": "stream",
          "name": "stderr",
          "text": [
            "100%|██████████| 94/94 [00:02<00:00, 36.00it/s]\n"
          ]
        },
        {
          "output_type": "stream",
          "name": "stdout",
          "text": [
            "Average loss: tensor(1.0511, device='cuda:0', grad_fn=<DivBackward0>)\n",
            "Epoch 353/500, Report:               precision    recall  f1-score   support\n",
            "\n",
            "    Positive       0.54      0.58      0.56      1792\n",
            "     Neutral       0.55      0.27      0.36      2007\n",
            "    Negative       0.16      0.54      0.25       391\n",
            "\n",
            "    accuracy                           0.43      4190\n",
            "   macro avg       0.42      0.46      0.39      4190\n",
            "weighted avg       0.51      0.43      0.44      4190\n",
            "\n"
          ]
        },
        {
          "output_type": "stream",
          "name": "stderr",
          "text": [
            "100%|██████████| 94/94 [00:02<00:00, 40.69it/s]\n"
          ]
        },
        {
          "output_type": "stream",
          "name": "stdout",
          "text": [
            "Average loss: tensor(1.0501, device='cuda:0', grad_fn=<DivBackward0>)\n",
            "Epoch 354/500, Report:               precision    recall  f1-score   support\n",
            "\n",
            "    Positive       0.54      0.58      0.56      1792\n",
            "     Neutral       0.55      0.27      0.37      2007\n",
            "    Negative       0.17      0.53      0.25       391\n",
            "\n",
            "    accuracy                           0.43      4190\n",
            "   macro avg       0.42      0.46      0.39      4190\n",
            "weighted avg       0.51      0.43      0.44      4190\n",
            "\n"
          ]
        },
        {
          "output_type": "stream",
          "name": "stderr",
          "text": [
            "100%|██████████| 94/94 [00:02<00:00, 40.13it/s]\n"
          ]
        },
        {
          "output_type": "stream",
          "name": "stdout",
          "text": [
            "Average loss: tensor(1.0508, device='cuda:0', grad_fn=<DivBackward0>)\n",
            "Epoch 355/500, Report:               precision    recall  f1-score   support\n",
            "\n",
            "    Positive       0.54      0.58      0.56      1792\n",
            "     Neutral       0.55      0.27      0.36      2007\n",
            "    Negative       0.16      0.54      0.25       391\n",
            "\n",
            "    accuracy                           0.43      4190\n",
            "   macro avg       0.42      0.46      0.39      4190\n",
            "weighted avg       0.51      0.43      0.44      4190\n",
            "\n"
          ]
        },
        {
          "output_type": "stream",
          "name": "stderr",
          "text": [
            "100%|██████████| 94/94 [00:02<00:00, 40.55it/s]\n"
          ]
        },
        {
          "output_type": "stream",
          "name": "stdout",
          "text": [
            "Average loss: tensor(1.0505, device='cuda:0', grad_fn=<DivBackward0>)\n",
            "Epoch 356/500, Report:               precision    recall  f1-score   support\n",
            "\n",
            "    Positive       0.54      0.58      0.56      1792\n",
            "     Neutral       0.55      0.27      0.37      2007\n",
            "    Negative       0.16      0.54      0.25       391\n",
            "\n",
            "    accuracy                           0.43      4190\n",
            "   macro avg       0.42      0.46      0.39      4190\n",
            "weighted avg       0.51      0.43      0.44      4190\n",
            "\n"
          ]
        },
        {
          "output_type": "stream",
          "name": "stderr",
          "text": [
            "100%|██████████| 94/94 [00:02<00:00, 38.54it/s]\n"
          ]
        },
        {
          "output_type": "stream",
          "name": "stdout",
          "text": [
            "Average loss: tensor(1.0501, device='cuda:0', grad_fn=<DivBackward0>)\n",
            "Epoch 357/500, Report:               precision    recall  f1-score   support\n",
            "\n",
            "    Positive       0.54      0.58      0.56      1792\n",
            "     Neutral       0.55      0.27      0.36      2007\n",
            "    Negative       0.16      0.54      0.25       391\n",
            "\n",
            "    accuracy                           0.43      4190\n",
            "   macro avg       0.42      0.46      0.39      4190\n",
            "weighted avg       0.51      0.43      0.44      4190\n",
            "\n"
          ]
        },
        {
          "output_type": "stream",
          "name": "stderr",
          "text": [
            "100%|██████████| 94/94 [00:02<00:00, 34.72it/s]\n"
          ]
        },
        {
          "output_type": "stream",
          "name": "stdout",
          "text": [
            "Average loss: tensor(1.0503, device='cuda:0', grad_fn=<DivBackward0>)\n",
            "Epoch 358/500, Report:               precision    recall  f1-score   support\n",
            "\n",
            "    Positive       0.54      0.58      0.56      1792\n",
            "     Neutral       0.55      0.27      0.36      2007\n",
            "    Negative       0.16      0.54      0.25       391\n",
            "\n",
            "    accuracy                           0.43      4190\n",
            "   macro avg       0.42      0.46      0.39      4190\n",
            "weighted avg       0.51      0.43      0.44      4190\n",
            "\n"
          ]
        },
        {
          "output_type": "stream",
          "name": "stderr",
          "text": [
            "100%|██████████| 94/94 [00:02<00:00, 40.60it/s]\n"
          ]
        },
        {
          "output_type": "stream",
          "name": "stdout",
          "text": [
            "Average loss: tensor(1.0507, device='cuda:0', grad_fn=<DivBackward0>)\n",
            "Epoch 359/500, Report:               precision    recall  f1-score   support\n",
            "\n",
            "    Positive       0.54      0.58      0.56      1792\n",
            "     Neutral       0.55      0.27      0.36      2007\n",
            "    Negative       0.16      0.54      0.25       391\n",
            "\n",
            "    accuracy                           0.43      4190\n",
            "   macro avg       0.42      0.46      0.39      4190\n",
            "weighted avg       0.51      0.43      0.44      4190\n",
            "\n"
          ]
        },
        {
          "output_type": "stream",
          "name": "stderr",
          "text": [
            "100%|██████████| 94/94 [00:02<00:00, 40.10it/s]\n"
          ]
        },
        {
          "output_type": "stream",
          "name": "stdout",
          "text": [
            "Average loss: tensor(1.0511, device='cuda:0', grad_fn=<DivBackward0>)\n",
            "Epoch 360/500, Report:               precision    recall  f1-score   support\n",
            "\n",
            "    Positive       0.54      0.58      0.56      1792\n",
            "     Neutral       0.55      0.27      0.36      2007\n",
            "    Negative       0.16      0.54      0.25       391\n",
            "\n",
            "    accuracy                           0.43      4190\n",
            "   macro avg       0.42      0.46      0.39      4190\n",
            "weighted avg       0.51      0.43      0.44      4190\n",
            "\n"
          ]
        },
        {
          "output_type": "stream",
          "name": "stderr",
          "text": [
            "100%|██████████| 94/94 [00:02<00:00, 39.59it/s]\n"
          ]
        },
        {
          "output_type": "stream",
          "name": "stdout",
          "text": [
            "Average loss: tensor(1.0506, device='cuda:0', grad_fn=<DivBackward0>)\n",
            "Epoch 361/500, Report:               precision    recall  f1-score   support\n",
            "\n",
            "    Positive       0.54      0.58      0.56      1792\n",
            "     Neutral       0.55      0.27      0.36      2007\n",
            "    Negative       0.16      0.54      0.25       391\n",
            "\n",
            "    accuracy                           0.43      4190\n",
            "   macro avg       0.42      0.46      0.39      4190\n",
            "weighted avg       0.51      0.43      0.44      4190\n",
            "\n"
          ]
        },
        {
          "output_type": "stream",
          "name": "stderr",
          "text": [
            "100%|██████████| 94/94 [00:02<00:00, 35.11it/s]\n"
          ]
        },
        {
          "output_type": "stream",
          "name": "stdout",
          "text": [
            "Average loss: tensor(1.0502, device='cuda:0', grad_fn=<DivBackward0>)\n",
            "Epoch 362/500, Report:               precision    recall  f1-score   support\n",
            "\n",
            "    Positive       0.54      0.58      0.56      1792\n",
            "     Neutral       0.55      0.27      0.36      2007\n",
            "    Negative       0.16      0.54      0.25       391\n",
            "\n",
            "    accuracy                           0.43      4190\n",
            "   macro avg       0.42      0.46      0.39      4190\n",
            "weighted avg       0.51      0.43      0.44      4190\n",
            "\n"
          ]
        },
        {
          "output_type": "stream",
          "name": "stderr",
          "text": [
            "100%|██████████| 94/94 [00:02<00:00, 40.71it/s]\n"
          ]
        },
        {
          "output_type": "stream",
          "name": "stdout",
          "text": [
            "Average loss: tensor(1.0502, device='cuda:0', grad_fn=<DivBackward0>)\n",
            "Epoch 363/500, Report:               precision    recall  f1-score   support\n",
            "\n",
            "    Positive       0.54      0.58      0.56      1792\n",
            "     Neutral       0.55      0.27      0.36      2007\n",
            "    Negative       0.16      0.54      0.25       391\n",
            "\n",
            "    accuracy                           0.43      4190\n",
            "   macro avg       0.42      0.46      0.39      4190\n",
            "weighted avg       0.51      0.43      0.44      4190\n",
            "\n"
          ]
        },
        {
          "output_type": "stream",
          "name": "stderr",
          "text": [
            "100%|██████████| 94/94 [00:02<00:00, 40.57it/s]\n"
          ]
        },
        {
          "output_type": "stream",
          "name": "stdout",
          "text": [
            "Average loss: tensor(1.0499, device='cuda:0', grad_fn=<DivBackward0>)\n",
            "Epoch 364/500, Report:               precision    recall  f1-score   support\n",
            "\n",
            "    Positive       0.54      0.58      0.56      1792\n",
            "     Neutral       0.55      0.27      0.36      2007\n",
            "    Negative       0.16      0.54      0.25       391\n",
            "\n",
            "    accuracy                           0.43      4190\n",
            "   macro avg       0.42      0.46      0.39      4190\n",
            "weighted avg       0.51      0.43      0.44      4190\n",
            "\n"
          ]
        },
        {
          "output_type": "stream",
          "name": "stderr",
          "text": [
            "100%|██████████| 94/94 [00:02<00:00, 40.55it/s]\n"
          ]
        },
        {
          "output_type": "stream",
          "name": "stdout",
          "text": [
            "Average loss: tensor(1.0513, device='cuda:0', grad_fn=<DivBackward0>)\n",
            "Epoch 365/500, Report:               precision    recall  f1-score   support\n",
            "\n",
            "    Positive       0.54      0.58      0.56      1792\n",
            "     Neutral       0.55      0.27      0.36      2007\n",
            "    Negative       0.16      0.54      0.25       391\n",
            "\n",
            "    accuracy                           0.43      4190\n",
            "   macro avg       0.42      0.46      0.39      4190\n",
            "weighted avg       0.51      0.43      0.44      4190\n",
            "\n"
          ]
        },
        {
          "output_type": "stream",
          "name": "stderr",
          "text": [
            "100%|██████████| 94/94 [00:02<00:00, 37.35it/s]\n"
          ]
        },
        {
          "output_type": "stream",
          "name": "stdout",
          "text": [
            "Average loss: tensor(1.0508, device='cuda:0', grad_fn=<DivBackward0>)\n",
            "Epoch 366/500, Report:               precision    recall  f1-score   support\n",
            "\n",
            "    Positive       0.54      0.58      0.56      1792\n",
            "     Neutral       0.55      0.27      0.36      2007\n",
            "    Negative       0.16      0.54      0.25       391\n",
            "\n",
            "    accuracy                           0.43      4190\n",
            "   macro avg       0.42      0.46      0.39      4190\n",
            "weighted avg       0.51      0.43      0.44      4190\n",
            "\n"
          ]
        },
        {
          "output_type": "stream",
          "name": "stderr",
          "text": [
            "100%|██████████| 94/94 [00:02<00:00, 36.69it/s]\n"
          ]
        },
        {
          "output_type": "stream",
          "name": "stdout",
          "text": [
            "Average loss: tensor(1.0502, device='cuda:0', grad_fn=<DivBackward0>)\n",
            "Epoch 367/500, Report:               precision    recall  f1-score   support\n",
            "\n",
            "    Positive       0.54      0.58      0.56      1792\n",
            "     Neutral       0.55      0.27      0.36      2007\n",
            "    Negative       0.16      0.54      0.25       391\n",
            "\n",
            "    accuracy                           0.43      4190\n",
            "   macro avg       0.42      0.46      0.39      4190\n",
            "weighted avg       0.51      0.43      0.44      4190\n",
            "\n"
          ]
        },
        {
          "output_type": "stream",
          "name": "stderr",
          "text": [
            "100%|██████████| 94/94 [00:02<00:00, 35.58it/s]\n"
          ]
        },
        {
          "output_type": "stream",
          "name": "stdout",
          "text": [
            "Average loss: tensor(1.0501, device='cuda:0', grad_fn=<DivBackward0>)\n",
            "Epoch 368/500, Report:               precision    recall  f1-score   support\n",
            "\n",
            "    Positive       0.54      0.58      0.56      1792\n",
            "     Neutral       0.55      0.27      0.36      2007\n",
            "    Negative       0.16      0.54      0.25       391\n",
            "\n",
            "    accuracy                           0.43      4190\n",
            "   macro avg       0.42      0.46      0.39      4190\n",
            "weighted avg       0.51      0.43      0.44      4190\n",
            "\n"
          ]
        },
        {
          "output_type": "stream",
          "name": "stderr",
          "text": [
            "100%|██████████| 94/94 [00:02<00:00, 38.30it/s]\n"
          ]
        },
        {
          "output_type": "stream",
          "name": "stdout",
          "text": [
            "Average loss: tensor(1.0495, device='cuda:0', grad_fn=<DivBackward0>)\n",
            "Epoch 369/500, Report:               precision    recall  f1-score   support\n",
            "\n",
            "    Positive       0.54      0.58      0.56      1792\n",
            "     Neutral       0.55      0.27      0.36      2007\n",
            "    Negative       0.16      0.54      0.25       391\n",
            "\n",
            "    accuracy                           0.43      4190\n",
            "   macro avg       0.42      0.46      0.39      4190\n",
            "weighted avg       0.51      0.43      0.44      4190\n",
            "\n"
          ]
        },
        {
          "output_type": "stream",
          "name": "stderr",
          "text": [
            "100%|██████████| 94/94 [00:02<00:00, 39.83it/s]\n"
          ]
        },
        {
          "output_type": "stream",
          "name": "stdout",
          "text": [
            "Average loss: tensor(1.0503, device='cuda:0', grad_fn=<DivBackward0>)\n",
            "Epoch 370/500, Report:               precision    recall  f1-score   support\n",
            "\n",
            "    Positive       0.54      0.58      0.56      1792\n",
            "     Neutral       0.55      0.27      0.36      2007\n",
            "    Negative       0.16      0.54      0.25       391\n",
            "\n",
            "    accuracy                           0.43      4190\n",
            "   macro avg       0.42      0.46      0.39      4190\n",
            "weighted avg       0.51      0.43      0.44      4190\n",
            "\n"
          ]
        },
        {
          "output_type": "stream",
          "name": "stderr",
          "text": [
            "100%|██████████| 94/94 [00:02<00:00, 36.25it/s]\n"
          ]
        },
        {
          "output_type": "stream",
          "name": "stdout",
          "text": [
            "Average loss: tensor(1.0507, device='cuda:0', grad_fn=<DivBackward0>)\n",
            "Epoch 371/500, Report:               precision    recall  f1-score   support\n",
            "\n",
            "    Positive       0.54      0.58      0.56      1792\n",
            "     Neutral       0.55      0.27      0.36      2007\n",
            "    Negative       0.16      0.54      0.25       391\n",
            "\n",
            "    accuracy                           0.43      4190\n",
            "   macro avg       0.42      0.46      0.39      4190\n",
            "weighted avg       0.51      0.43      0.44      4190\n",
            "\n"
          ]
        },
        {
          "output_type": "stream",
          "name": "stderr",
          "text": [
            "100%|██████████| 94/94 [00:02<00:00, 40.07it/s]\n"
          ]
        },
        {
          "output_type": "stream",
          "name": "stdout",
          "text": [
            "Average loss: tensor(1.0503, device='cuda:0', grad_fn=<DivBackward0>)\n",
            "Epoch 372/500, Report:               precision    recall  f1-score   support\n",
            "\n",
            "    Positive       0.54      0.58      0.56      1792\n",
            "     Neutral       0.55      0.27      0.36      2007\n",
            "    Negative       0.16      0.53      0.25       391\n",
            "\n",
            "    accuracy                           0.43      4190\n",
            "   macro avg       0.42      0.46      0.39      4190\n",
            "weighted avg       0.51      0.43      0.44      4190\n",
            "\n"
          ]
        },
        {
          "output_type": "stream",
          "name": "stderr",
          "text": [
            "100%|██████████| 94/94 [00:02<00:00, 40.41it/s]\n"
          ]
        },
        {
          "output_type": "stream",
          "name": "stdout",
          "text": [
            "Average loss: tensor(1.0495, device='cuda:0', grad_fn=<DivBackward0>)\n",
            "Epoch 373/500, Report:               precision    recall  f1-score   support\n",
            "\n",
            "    Positive       0.54      0.58      0.56      1792\n",
            "     Neutral       0.55      0.27      0.37      2007\n",
            "    Negative       0.16      0.53      0.25       391\n",
            "\n",
            "    accuracy                           0.43      4190\n",
            "   macro avg       0.42      0.46      0.39      4190\n",
            "weighted avg       0.51      0.43      0.44      4190\n",
            "\n"
          ]
        },
        {
          "output_type": "stream",
          "name": "stderr",
          "text": [
            "100%|██████████| 94/94 [00:02<00:00, 31.76it/s]\n"
          ]
        },
        {
          "output_type": "stream",
          "name": "stdout",
          "text": [
            "Average loss: tensor(1.0508, device='cuda:0', grad_fn=<DivBackward0>)\n",
            "Epoch 374/500, Report:               precision    recall  f1-score   support\n",
            "\n",
            "    Positive       0.54      0.58      0.56      1792\n",
            "     Neutral       0.55      0.27      0.37      2007\n",
            "    Negative       0.16      0.54      0.25       391\n",
            "\n",
            "    accuracy                           0.43      4190\n",
            "   macro avg       0.42      0.46      0.39      4190\n",
            "weighted avg       0.51      0.43      0.44      4190\n",
            "\n"
          ]
        },
        {
          "output_type": "stream",
          "name": "stderr",
          "text": [
            "100%|██████████| 94/94 [00:02<00:00, 33.22it/s]\n"
          ]
        },
        {
          "output_type": "stream",
          "name": "stdout",
          "text": [
            "Average loss: tensor(1.0498, device='cuda:0', grad_fn=<DivBackward0>)\n",
            "Epoch 375/500, Report:               precision    recall  f1-score   support\n",
            "\n",
            "    Positive       0.54      0.58      0.56      1792\n",
            "     Neutral       0.55      0.27      0.36      2007\n",
            "    Negative       0.16      0.54      0.25       391\n",
            "\n",
            "    accuracy                           0.43      4190\n",
            "   macro avg       0.42      0.46      0.39      4190\n",
            "weighted avg       0.51      0.43      0.43      4190\n",
            "\n"
          ]
        },
        {
          "output_type": "stream",
          "name": "stderr",
          "text": [
            "100%|██████████| 94/94 [00:02<00:00, 40.25it/s]\n"
          ]
        },
        {
          "output_type": "stream",
          "name": "stdout",
          "text": [
            "Average loss: tensor(1.0497, device='cuda:0', grad_fn=<DivBackward0>)\n",
            "Epoch 376/500, Report:               precision    recall  f1-score   support\n",
            "\n",
            "    Positive       0.54      0.58      0.56      1792\n",
            "     Neutral       0.55      0.27      0.36      2007\n",
            "    Negative       0.16      0.54      0.25       391\n",
            "\n",
            "    accuracy                           0.43      4190\n",
            "   macro avg       0.42      0.46      0.39      4190\n",
            "weighted avg       0.51      0.43      0.43      4190\n",
            "\n"
          ]
        },
        {
          "output_type": "stream",
          "name": "stderr",
          "text": [
            "100%|██████████| 94/94 [00:02<00:00, 40.21it/s]\n"
          ]
        },
        {
          "output_type": "stream",
          "name": "stdout",
          "text": [
            "Average loss: tensor(1.0504, device='cuda:0', grad_fn=<DivBackward0>)\n",
            "Epoch 377/500, Report:               precision    recall  f1-score   support\n",
            "\n",
            "    Positive       0.54      0.58      0.56      1792\n",
            "     Neutral       0.55      0.27      0.36      2007\n",
            "    Negative       0.16      0.54      0.25       391\n",
            "\n",
            "    accuracy                           0.42      4190\n",
            "   macro avg       0.42      0.46      0.39      4190\n",
            "weighted avg       0.51      0.42      0.43      4190\n",
            "\n"
          ]
        },
        {
          "output_type": "stream",
          "name": "stderr",
          "text": [
            "100%|██████████| 94/94 [00:02<00:00, 35.50it/s]\n"
          ]
        },
        {
          "output_type": "stream",
          "name": "stdout",
          "text": [
            "Average loss: tensor(1.0502, device='cuda:0', grad_fn=<DivBackward0>)\n",
            "Epoch 378/500, Report:               precision    recall  f1-score   support\n",
            "\n",
            "    Positive       0.54      0.58      0.56      1792\n",
            "     Neutral       0.55      0.27      0.36      2007\n",
            "    Negative       0.16      0.54      0.25       391\n",
            "\n",
            "    accuracy                           0.43      4190\n",
            "   macro avg       0.42      0.46      0.39      4190\n",
            "weighted avg       0.51      0.43      0.43      4190\n",
            "\n"
          ]
        },
        {
          "output_type": "stream",
          "name": "stderr",
          "text": [
            "100%|██████████| 94/94 [00:02<00:00, 35.70it/s]\n"
          ]
        },
        {
          "output_type": "stream",
          "name": "stdout",
          "text": [
            "Average loss: tensor(1.0502, device='cuda:0', grad_fn=<DivBackward0>)\n",
            "Epoch 379/500, Report:               precision    recall  f1-score   support\n",
            "\n",
            "    Positive       0.54      0.58      0.56      1792\n",
            "     Neutral       0.55      0.27      0.36      2007\n",
            "    Negative       0.16      0.54      0.25       391\n",
            "\n",
            "    accuracy                           0.43      4190\n",
            "   macro avg       0.42      0.46      0.39      4190\n",
            "weighted avg       0.51      0.43      0.43      4190\n",
            "\n"
          ]
        },
        {
          "output_type": "stream",
          "name": "stderr",
          "text": [
            "100%|██████████| 94/94 [00:02<00:00, 37.79it/s]\n"
          ]
        },
        {
          "output_type": "stream",
          "name": "stdout",
          "text": [
            "Average loss: tensor(1.0508, device='cuda:0', grad_fn=<DivBackward0>)\n",
            "Epoch 380/500, Report:               precision    recall  f1-score   support\n",
            "\n",
            "    Positive       0.54      0.58      0.56      1792\n",
            "     Neutral       0.55      0.27      0.36      2007\n",
            "    Negative       0.16      0.54      0.25       391\n",
            "\n",
            "    accuracy                           0.43      4190\n",
            "   macro avg       0.42      0.46      0.39      4190\n",
            "weighted avg       0.51      0.43      0.44      4190\n",
            "\n"
          ]
        },
        {
          "output_type": "stream",
          "name": "stderr",
          "text": [
            "100%|██████████| 94/94 [00:02<00:00, 40.24it/s]\n"
          ]
        },
        {
          "output_type": "stream",
          "name": "stdout",
          "text": [
            "Average loss: tensor(1.0494, device='cuda:0', grad_fn=<DivBackward0>)\n",
            "Epoch 381/500, Report:               precision    recall  f1-score   support\n",
            "\n",
            "    Positive       0.54      0.58      0.56      1792\n",
            "     Neutral       0.55      0.27      0.36      2007\n",
            "    Negative       0.16      0.54      0.25       391\n",
            "\n",
            "    accuracy                           0.43      4190\n",
            "   macro avg       0.42      0.46      0.39      4190\n",
            "weighted avg       0.51      0.43      0.44      4190\n",
            "\n"
          ]
        },
        {
          "output_type": "stream",
          "name": "stderr",
          "text": [
            "100%|██████████| 94/94 [00:02<00:00, 36.20it/s]\n"
          ]
        },
        {
          "output_type": "stream",
          "name": "stdout",
          "text": [
            "Average loss: tensor(1.0492, device='cuda:0', grad_fn=<DivBackward0>)\n",
            "Epoch 382/500, Report:               precision    recall  f1-score   support\n",
            "\n",
            "    Positive       0.54      0.58      0.56      1792\n",
            "     Neutral       0.55      0.27      0.36      2007\n",
            "    Negative       0.16      0.54      0.25       391\n",
            "\n",
            "    accuracy                           0.43      4190\n",
            "   macro avg       0.42      0.46      0.39      4190\n",
            "weighted avg       0.51      0.43      0.43      4190\n",
            "\n"
          ]
        },
        {
          "output_type": "stream",
          "name": "stderr",
          "text": [
            "100%|██████████| 94/94 [00:02<00:00, 38.47it/s]\n"
          ]
        },
        {
          "output_type": "stream",
          "name": "stdout",
          "text": [
            "Average loss: tensor(1.0507, device='cuda:0', grad_fn=<DivBackward0>)\n",
            "Epoch 383/500, Report:               precision    recall  f1-score   support\n",
            "\n",
            "    Positive       0.54      0.58      0.56      1792\n",
            "     Neutral       0.55      0.27      0.36      2007\n",
            "    Negative       0.16      0.54      0.25       391\n",
            "\n",
            "    accuracy                           0.43      4190\n",
            "   macro avg       0.42      0.46      0.39      4190\n",
            "weighted avg       0.51      0.43      0.43      4190\n",
            "\n"
          ]
        },
        {
          "output_type": "stream",
          "name": "stderr",
          "text": [
            "100%|██████████| 94/94 [00:02<00:00, 36.48it/s]\n"
          ]
        },
        {
          "output_type": "stream",
          "name": "stdout",
          "text": [
            "Average loss: tensor(1.0495, device='cuda:0', grad_fn=<DivBackward0>)\n",
            "Epoch 384/500, Report:               precision    recall  f1-score   support\n",
            "\n",
            "    Positive       0.54      0.58      0.56      1792\n",
            "     Neutral       0.55      0.27      0.37      2007\n",
            "    Negative       0.16      0.54      0.25       391\n",
            "\n",
            "    accuracy                           0.43      4190\n",
            "   macro avg       0.42      0.46      0.39      4190\n",
            "weighted avg       0.51      0.43      0.44      4190\n",
            "\n"
          ]
        },
        {
          "output_type": "stream",
          "name": "stderr",
          "text": [
            "100%|██████████| 94/94 [00:02<00:00, 39.50it/s]\n"
          ]
        },
        {
          "output_type": "stream",
          "name": "stdout",
          "text": [
            "Average loss: tensor(1.0494, device='cuda:0', grad_fn=<DivBackward0>)\n",
            "Epoch 385/500, Report:               precision    recall  f1-score   support\n",
            "\n",
            "    Positive       0.54      0.58      0.56      1792\n",
            "     Neutral       0.55      0.28      0.37      2007\n",
            "    Negative       0.16      0.53      0.25       391\n",
            "\n",
            "    accuracy                           0.43      4190\n",
            "   macro avg       0.42      0.46      0.39      4190\n",
            "weighted avg       0.51      0.43      0.44      4190\n",
            "\n"
          ]
        },
        {
          "output_type": "stream",
          "name": "stderr",
          "text": [
            "100%|██████████| 94/94 [00:02<00:00, 40.92it/s]\n"
          ]
        },
        {
          "output_type": "stream",
          "name": "stdout",
          "text": [
            "Average loss: tensor(1.0520, device='cuda:0', grad_fn=<DivBackward0>)\n",
            "Epoch 386/500, Report:               precision    recall  f1-score   support\n",
            "\n",
            "    Positive       0.54      0.57      0.56      1792\n",
            "     Neutral       0.55      0.28      0.37      2007\n",
            "    Negative       0.16      0.54      0.25       391\n",
            "\n",
            "    accuracy                           0.43      4190\n",
            "   macro avg       0.42      0.46      0.39      4190\n",
            "weighted avg       0.51      0.43      0.44      4190\n",
            "\n"
          ]
        },
        {
          "output_type": "stream",
          "name": "stderr",
          "text": [
            "100%|██████████| 94/94 [00:02<00:00, 40.88it/s]\n"
          ]
        },
        {
          "output_type": "stream",
          "name": "stdout",
          "text": [
            "Average loss: tensor(1.0504, device='cuda:0', grad_fn=<DivBackward0>)\n",
            "Epoch 387/500, Report:               precision    recall  f1-score   support\n",
            "\n",
            "    Positive       0.54      0.58      0.56      1792\n",
            "     Neutral       0.55      0.27      0.37      2007\n",
            "    Negative       0.16      0.54      0.25       391\n",
            "\n",
            "    accuracy                           0.43      4190\n",
            "   macro avg       0.42      0.46      0.39      4190\n",
            "weighted avg       0.51      0.43      0.44      4190\n",
            "\n"
          ]
        },
        {
          "output_type": "stream",
          "name": "stderr",
          "text": [
            "100%|██████████| 94/94 [00:02<00:00, 36.33it/s]\n"
          ]
        },
        {
          "output_type": "stream",
          "name": "stdout",
          "text": [
            "Average loss: tensor(1.0503, device='cuda:0', grad_fn=<DivBackward0>)\n",
            "Epoch 388/500, Report:               precision    recall  f1-score   support\n",
            "\n",
            "    Positive       0.54      0.58      0.56      1792\n",
            "     Neutral       0.55      0.28      0.37      2007\n",
            "    Negative       0.16      0.54      0.25       391\n",
            "\n",
            "    accuracy                           0.43      4190\n",
            "   macro avg       0.42      0.46      0.39      4190\n",
            "weighted avg       0.51      0.43      0.44      4190\n",
            "\n"
          ]
        },
        {
          "output_type": "stream",
          "name": "stderr",
          "text": [
            "100%|██████████| 94/94 [00:02<00:00, 39.67it/s]\n"
          ]
        },
        {
          "output_type": "stream",
          "name": "stdout",
          "text": [
            "Average loss: tensor(1.0500, device='cuda:0', grad_fn=<DivBackward0>)\n",
            "Epoch 389/500, Report:               precision    recall  f1-score   support\n",
            "\n",
            "    Positive       0.54      0.57      0.56      1792\n",
            "     Neutral       0.55      0.27      0.36      2007\n",
            "    Negative       0.16      0.54      0.25       391\n",
            "\n",
            "    accuracy                           0.43      4190\n",
            "   macro avg       0.42      0.46      0.39      4190\n",
            "weighted avg       0.51      0.43      0.44      4190\n",
            "\n"
          ]
        },
        {
          "output_type": "stream",
          "name": "stderr",
          "text": [
            "100%|██████████| 94/94 [00:02<00:00, 39.21it/s]\n"
          ]
        },
        {
          "output_type": "stream",
          "name": "stdout",
          "text": [
            "Average loss: tensor(1.0507, device='cuda:0', grad_fn=<DivBackward0>)\n",
            "Epoch 390/500, Report:               precision    recall  f1-score   support\n",
            "\n",
            "    Positive       0.54      0.58      0.56      1792\n",
            "     Neutral       0.55      0.27      0.36      2007\n",
            "    Negative       0.16      0.54      0.25       391\n",
            "\n",
            "    accuracy                           0.43      4190\n",
            "   macro avg       0.42      0.46      0.39      4190\n",
            "weighted avg       0.51      0.43      0.44      4190\n",
            "\n"
          ]
        },
        {
          "output_type": "stream",
          "name": "stderr",
          "text": [
            "100%|██████████| 94/94 [00:02<00:00, 39.79it/s]\n"
          ]
        },
        {
          "output_type": "stream",
          "name": "stdout",
          "text": [
            "Average loss: tensor(1.0508, device='cuda:0', grad_fn=<DivBackward0>)\n",
            "Epoch 391/500, Report:               precision    recall  f1-score   support\n",
            "\n",
            "    Positive       0.54      0.58      0.56      1792\n",
            "     Neutral       0.55      0.27      0.37      2007\n",
            "    Negative       0.16      0.54      0.25       391\n",
            "\n",
            "    accuracy                           0.43      4190\n",
            "   macro avg       0.42      0.46      0.39      4190\n",
            "weighted avg       0.51      0.43      0.44      4190\n",
            "\n"
          ]
        },
        {
          "output_type": "stream",
          "name": "stderr",
          "text": [
            "100%|██████████| 94/94 [00:02<00:00, 35.60it/s]\n"
          ]
        },
        {
          "output_type": "stream",
          "name": "stdout",
          "text": [
            "Average loss: tensor(1.0499, device='cuda:0', grad_fn=<DivBackward0>)\n",
            "Epoch 392/500, Report:               precision    recall  f1-score   support\n",
            "\n",
            "    Positive       0.54      0.58      0.56      1792\n",
            "     Neutral       0.55      0.27      0.37      2007\n",
            "    Negative       0.16      0.54      0.25       391\n",
            "\n",
            "    accuracy                           0.43      4190\n",
            "   macro avg       0.42      0.46      0.39      4190\n",
            "weighted avg       0.51      0.43      0.44      4190\n",
            "\n"
          ]
        },
        {
          "output_type": "stream",
          "name": "stderr",
          "text": [
            "100%|██████████| 94/94 [00:02<00:00, 39.11it/s]\n"
          ]
        },
        {
          "output_type": "stream",
          "name": "stdout",
          "text": [
            "Average loss: tensor(1.0506, device='cuda:0', grad_fn=<DivBackward0>)\n",
            "Epoch 393/500, Report:               precision    recall  f1-score   support\n",
            "\n",
            "    Positive       0.54      0.58      0.56      1792\n",
            "     Neutral       0.55      0.27      0.36      2007\n",
            "    Negative       0.16      0.54      0.25       391\n",
            "\n",
            "    accuracy                           0.43      4190\n",
            "   macro avg       0.42      0.46      0.39      4190\n",
            "weighted avg       0.51      0.43      0.44      4190\n",
            "\n"
          ]
        },
        {
          "output_type": "stream",
          "name": "stderr",
          "text": [
            "100%|██████████| 94/94 [00:02<00:00, 40.90it/s]\n"
          ]
        },
        {
          "output_type": "stream",
          "name": "stdout",
          "text": [
            "Average loss: tensor(1.0501, device='cuda:0', grad_fn=<DivBackward0>)\n",
            "Epoch 394/500, Report:               precision    recall  f1-score   support\n",
            "\n",
            "    Positive       0.54      0.57      0.56      1792\n",
            "     Neutral       0.55      0.27      0.37      2007\n",
            "    Negative       0.16      0.54      0.25       391\n",
            "\n",
            "    accuracy                           0.43      4190\n",
            "   macro avg       0.42      0.46      0.39      4190\n",
            "weighted avg       0.51      0.43      0.44      4190\n",
            "\n"
          ]
        },
        {
          "output_type": "stream",
          "name": "stderr",
          "text": [
            "100%|██████████| 94/94 [00:02<00:00, 39.58it/s]\n"
          ]
        },
        {
          "output_type": "stream",
          "name": "stdout",
          "text": [
            "Average loss: tensor(1.0509, device='cuda:0', grad_fn=<DivBackward0>)\n",
            "Epoch 395/500, Report:               precision    recall  f1-score   support\n",
            "\n",
            "    Positive       0.54      0.57      0.56      1792\n",
            "     Neutral       0.55      0.27      0.36      2007\n",
            "    Negative       0.16      0.54      0.25       391\n",
            "\n",
            "    accuracy                           0.43      4190\n",
            "   macro avg       0.42      0.46      0.39      4190\n",
            "weighted avg       0.51      0.43      0.44      4190\n",
            "\n"
          ]
        },
        {
          "output_type": "stream",
          "name": "stderr",
          "text": [
            "100%|██████████| 94/94 [00:02<00:00, 39.22it/s]\n"
          ]
        },
        {
          "output_type": "stream",
          "name": "stdout",
          "text": [
            "Average loss: tensor(1.0514, device='cuda:0', grad_fn=<DivBackward0>)\n",
            "Epoch 396/500, Report:               precision    recall  f1-score   support\n",
            "\n",
            "    Positive       0.54      0.57      0.56      1792\n",
            "     Neutral       0.55      0.27      0.36      2007\n",
            "    Negative       0.16      0.54      0.25       391\n",
            "\n",
            "    accuracy                           0.42      4190\n",
            "   macro avg       0.42      0.46      0.39      4190\n",
            "weighted avg       0.51      0.42      0.43      4190\n",
            "\n"
          ]
        },
        {
          "output_type": "stream",
          "name": "stderr",
          "text": [
            "100%|██████████| 94/94 [00:02<00:00, 36.16it/s]\n"
          ]
        },
        {
          "output_type": "stream",
          "name": "stdout",
          "text": [
            "Average loss: tensor(1.0509, device='cuda:0', grad_fn=<DivBackward0>)\n",
            "Epoch 397/500, Report:               precision    recall  f1-score   support\n",
            "\n",
            "    Positive       0.54      0.57      0.56      1792\n",
            "     Neutral       0.55      0.27      0.36      2007\n",
            "    Negative       0.16      0.54      0.25       391\n",
            "\n",
            "    accuracy                           0.43      4190\n",
            "   macro avg       0.42      0.46      0.39      4190\n",
            "weighted avg       0.51      0.43      0.44      4190\n",
            "\n"
          ]
        },
        {
          "output_type": "stream",
          "name": "stderr",
          "text": [
            "100%|██████████| 94/94 [00:02<00:00, 40.28it/s]\n"
          ]
        },
        {
          "output_type": "stream",
          "name": "stdout",
          "text": [
            "Average loss: tensor(1.0510, device='cuda:0', grad_fn=<DivBackward0>)\n",
            "Epoch 398/500, Report:               precision    recall  f1-score   support\n",
            "\n",
            "    Positive       0.54      0.57      0.56      1792\n",
            "     Neutral       0.55      0.27      0.36      2007\n",
            "    Negative       0.16      0.54      0.25       391\n",
            "\n",
            "    accuracy                           0.43      4190\n",
            "   macro avg       0.42      0.46      0.39      4190\n",
            "weighted avg       0.51      0.43      0.43      4190\n",
            "\n"
          ]
        },
        {
          "output_type": "stream",
          "name": "stderr",
          "text": [
            "100%|██████████| 94/94 [00:02<00:00, 39.13it/s]\n"
          ]
        },
        {
          "output_type": "stream",
          "name": "stdout",
          "text": [
            "Average loss: tensor(1.0499, device='cuda:0', grad_fn=<DivBackward0>)\n",
            "Epoch 399/500, Report:               precision    recall  f1-score   support\n",
            "\n",
            "    Positive       0.54      0.57      0.56      1792\n",
            "     Neutral       0.55      0.27      0.36      2007\n",
            "    Negative       0.16      0.54      0.25       391\n",
            "\n",
            "    accuracy                           0.43      4190\n",
            "   macro avg       0.42      0.46      0.39      4190\n",
            "weighted avg       0.51      0.43      0.44      4190\n",
            "\n"
          ]
        },
        {
          "output_type": "stream",
          "name": "stderr",
          "text": [
            "100%|██████████| 94/94 [00:02<00:00, 39.92it/s]\n"
          ]
        },
        {
          "output_type": "stream",
          "name": "stdout",
          "text": [
            "Average loss: tensor(1.0496, device='cuda:0', grad_fn=<DivBackward0>)\n",
            "Epoch 400/500, Report:               precision    recall  f1-score   support\n",
            "\n",
            "    Positive       0.54      0.58      0.56      1792\n",
            "     Neutral       0.55      0.27      0.37      2007\n",
            "    Negative       0.16      0.54      0.25       391\n",
            "\n",
            "    accuracy                           0.43      4190\n",
            "   macro avg       0.42      0.46      0.39      4190\n",
            "weighted avg       0.51      0.43      0.44      4190\n",
            "\n"
          ]
        },
        {
          "output_type": "stream",
          "name": "stderr",
          "text": [
            "100%|██████████| 94/94 [00:02<00:00, 36.50it/s]\n"
          ]
        },
        {
          "output_type": "stream",
          "name": "stdout",
          "text": [
            "Average loss: tensor(1.0506, device='cuda:0', grad_fn=<DivBackward0>)\n",
            "Epoch 401/500, Report:               precision    recall  f1-score   support\n",
            "\n",
            "    Positive       0.54      0.58      0.56      1792\n",
            "     Neutral       0.55      0.28      0.37      2007\n",
            "    Negative       0.16      0.53      0.25       391\n",
            "\n",
            "    accuracy                           0.43      4190\n",
            "   macro avg       0.42      0.46      0.39      4190\n",
            "weighted avg       0.51      0.43      0.44      4190\n",
            "\n"
          ]
        },
        {
          "output_type": "stream",
          "name": "stderr",
          "text": [
            "100%|██████████| 94/94 [00:02<00:00, 38.06it/s]\n"
          ]
        },
        {
          "output_type": "stream",
          "name": "stdout",
          "text": [
            "Average loss: tensor(1.0498, device='cuda:0', grad_fn=<DivBackward0>)\n",
            "Epoch 402/500, Report:               precision    recall  f1-score   support\n",
            "\n",
            "    Positive       0.54      0.57      0.56      1792\n",
            "     Neutral       0.55      0.28      0.37      2007\n",
            "    Negative       0.16      0.54      0.25       391\n",
            "\n",
            "    accuracy                           0.43      4190\n",
            "   macro avg       0.42      0.46      0.39      4190\n",
            "weighted avg       0.51      0.43      0.44      4190\n",
            "\n"
          ]
        },
        {
          "output_type": "stream",
          "name": "stderr",
          "text": [
            "100%|██████████| 94/94 [00:02<00:00, 37.93it/s]\n"
          ]
        },
        {
          "output_type": "stream",
          "name": "stdout",
          "text": [
            "Average loss: tensor(1.0492, device='cuda:0', grad_fn=<DivBackward0>)\n",
            "Epoch 403/500, Report:               precision    recall  f1-score   support\n",
            "\n",
            "    Positive       0.54      0.57      0.56      1792\n",
            "     Neutral       0.55      0.28      0.37      2007\n",
            "    Negative       0.16      0.54      0.25       391\n",
            "\n",
            "    accuracy                           0.43      4190\n",
            "   macro avg       0.42      0.46      0.39      4190\n",
            "weighted avg       0.51      0.43      0.44      4190\n",
            "\n"
          ]
        },
        {
          "output_type": "stream",
          "name": "stderr",
          "text": [
            "100%|██████████| 94/94 [00:02<00:00, 41.02it/s]\n"
          ]
        },
        {
          "output_type": "stream",
          "name": "stdout",
          "text": [
            "Average loss: tensor(1.0503, device='cuda:0', grad_fn=<DivBackward0>)\n",
            "Epoch 404/500, Report:               precision    recall  f1-score   support\n",
            "\n",
            "    Positive       0.54      0.57      0.56      1792\n",
            "     Neutral       0.55      0.27      0.36      2007\n",
            "    Negative       0.16      0.54      0.25       391\n",
            "\n",
            "    accuracy                           0.43      4190\n",
            "   macro avg       0.42      0.46      0.39      4190\n",
            "weighted avg       0.51      0.43      0.44      4190\n",
            "\n"
          ]
        },
        {
          "output_type": "stream",
          "name": "stderr",
          "text": [
            "100%|██████████| 94/94 [00:02<00:00, 39.24it/s]\n"
          ]
        },
        {
          "output_type": "stream",
          "name": "stdout",
          "text": [
            "Average loss: tensor(1.0499, device='cuda:0', grad_fn=<DivBackward0>)\n",
            "Epoch 405/500, Report:               precision    recall  f1-score   support\n",
            "\n",
            "    Positive       0.54      0.57      0.56      1792\n",
            "     Neutral       0.55      0.27      0.36      2007\n",
            "    Negative       0.16      0.54      0.25       391\n",
            "\n",
            "    accuracy                           0.43      4190\n",
            "   macro avg       0.42      0.46      0.39      4190\n",
            "weighted avg       0.51      0.43      0.44      4190\n",
            "\n"
          ]
        },
        {
          "output_type": "stream",
          "name": "stderr",
          "text": [
            "100%|██████████| 94/94 [00:02<00:00, 37.24it/s]\n"
          ]
        },
        {
          "output_type": "stream",
          "name": "stdout",
          "text": [
            "Average loss: tensor(1.0497, device='cuda:0', grad_fn=<DivBackward0>)\n",
            "Epoch 406/500, Report:               precision    recall  f1-score   support\n",
            "\n",
            "    Positive       0.54      0.57      0.56      1792\n",
            "     Neutral       0.55      0.27      0.37      2007\n",
            "    Negative       0.16      0.54      0.25       391\n",
            "\n",
            "    accuracy                           0.43      4190\n",
            "   macro avg       0.42      0.46      0.39      4190\n",
            "weighted avg       0.51      0.43      0.44      4190\n",
            "\n"
          ]
        },
        {
          "output_type": "stream",
          "name": "stderr",
          "text": [
            "100%|██████████| 94/94 [00:02<00:00, 39.70it/s]\n"
          ]
        },
        {
          "output_type": "stream",
          "name": "stdout",
          "text": [
            "Average loss: tensor(1.0501, device='cuda:0', grad_fn=<DivBackward0>)\n",
            "Epoch 407/500, Report:               precision    recall  f1-score   support\n",
            "\n",
            "    Positive       0.54      0.57      0.56      1792\n",
            "     Neutral       0.55      0.27      0.36      2007\n",
            "    Negative       0.16      0.54      0.25       391\n",
            "\n",
            "    accuracy                           0.43      4190\n",
            "   macro avg       0.42      0.46      0.39      4190\n",
            "weighted avg       0.51      0.43      0.44      4190\n",
            "\n"
          ]
        },
        {
          "output_type": "stream",
          "name": "stderr",
          "text": [
            "100%|██████████| 94/94 [00:02<00:00, 39.79it/s]\n"
          ]
        },
        {
          "output_type": "stream",
          "name": "stdout",
          "text": [
            "Average loss: tensor(1.0497, device='cuda:0', grad_fn=<DivBackward0>)\n",
            "Epoch 408/500, Report:               precision    recall  f1-score   support\n",
            "\n",
            "    Positive       0.54      0.57      0.56      1792\n",
            "     Neutral       0.55      0.27      0.36      2007\n",
            "    Negative       0.16      0.54      0.25       391\n",
            "\n",
            "    accuracy                           0.43      4190\n",
            "   macro avg       0.42      0.46      0.39      4190\n",
            "weighted avg       0.51      0.43      0.44      4190\n",
            "\n"
          ]
        },
        {
          "output_type": "stream",
          "name": "stderr",
          "text": [
            "100%|██████████| 94/94 [00:02<00:00, 39.82it/s]\n"
          ]
        },
        {
          "output_type": "stream",
          "name": "stdout",
          "text": [
            "Average loss: tensor(1.0498, device='cuda:0', grad_fn=<DivBackward0>)\n",
            "Epoch 409/500, Report:               precision    recall  f1-score   support\n",
            "\n",
            "    Positive       0.54      0.57      0.56      1792\n",
            "     Neutral       0.55      0.27      0.36      2007\n",
            "    Negative       0.16      0.54      0.25       391\n",
            "\n",
            "    accuracy                           0.43      4190\n",
            "   macro avg       0.42      0.46      0.39      4190\n",
            "weighted avg       0.51      0.43      0.44      4190\n",
            "\n"
          ]
        },
        {
          "output_type": "stream",
          "name": "stderr",
          "text": [
            "100%|██████████| 94/94 [00:02<00:00, 36.90it/s]\n"
          ]
        },
        {
          "output_type": "stream",
          "name": "stdout",
          "text": [
            "Average loss: tensor(1.0492, device='cuda:0', grad_fn=<DivBackward0>)\n",
            "Epoch 410/500, Report:               precision    recall  f1-score   support\n",
            "\n",
            "    Positive       0.54      0.57      0.56      1792\n",
            "     Neutral       0.55      0.27      0.36      2007\n",
            "    Negative       0.16      0.54      0.25       391\n",
            "\n",
            "    accuracy                           0.43      4190\n",
            "   macro avg       0.42      0.46      0.39      4190\n",
            "weighted avg       0.51      0.43      0.44      4190\n",
            "\n"
          ]
        },
        {
          "output_type": "stream",
          "name": "stderr",
          "text": [
            "100%|██████████| 94/94 [00:02<00:00, 40.63it/s]\n"
          ]
        },
        {
          "output_type": "stream",
          "name": "stdout",
          "text": [
            "Average loss: tensor(1.0509, device='cuda:0', grad_fn=<DivBackward0>)\n",
            "Epoch 411/500, Report:               precision    recall  f1-score   support\n",
            "\n",
            "    Positive       0.54      0.57      0.56      1792\n",
            "     Neutral       0.55      0.27      0.36      2007\n",
            "    Negative       0.16      0.54      0.25       391\n",
            "\n",
            "    accuracy                           0.43      4190\n",
            "   macro avg       0.42      0.46      0.39      4190\n",
            "weighted avg       0.51      0.43      0.44      4190\n",
            "\n"
          ]
        },
        {
          "output_type": "stream",
          "name": "stderr",
          "text": [
            "100%|██████████| 94/94 [00:02<00:00, 41.14it/s]\n"
          ]
        },
        {
          "output_type": "stream",
          "name": "stdout",
          "text": [
            "Average loss: tensor(1.0498, device='cuda:0', grad_fn=<DivBackward0>)\n",
            "Epoch 412/500, Report:               precision    recall  f1-score   support\n",
            "\n",
            "    Positive       0.54      0.57      0.56      1792\n",
            "     Neutral       0.55      0.27      0.36      2007\n",
            "    Negative       0.16      0.54      0.25       391\n",
            "\n",
            "    accuracy                           0.42      4190\n",
            "   macro avg       0.42      0.46      0.39      4190\n",
            "weighted avg       0.51      0.42      0.43      4190\n",
            "\n"
          ]
        },
        {
          "output_type": "stream",
          "name": "stderr",
          "text": [
            "100%|██████████| 94/94 [00:02<00:00, 39.42it/s]\n"
          ]
        },
        {
          "output_type": "stream",
          "name": "stdout",
          "text": [
            "Average loss: tensor(1.0498, device='cuda:0', grad_fn=<DivBackward0>)\n",
            "Epoch 413/500, Report:               precision    recall  f1-score   support\n",
            "\n",
            "    Positive       0.54      0.57      0.56      1792\n",
            "     Neutral       0.55      0.27      0.36      2007\n",
            "    Negative       0.16      0.54      0.25       391\n",
            "\n",
            "    accuracy                           0.43      4190\n",
            "   macro avg       0.42      0.46      0.39      4190\n",
            "weighted avg       0.51      0.43      0.44      4190\n",
            "\n"
          ]
        },
        {
          "output_type": "stream",
          "name": "stderr",
          "text": [
            "100%|██████████| 94/94 [00:02<00:00, 35.12it/s]\n"
          ]
        },
        {
          "output_type": "stream",
          "name": "stdout",
          "text": [
            "Average loss: tensor(1.0498, device='cuda:0', grad_fn=<DivBackward0>)\n",
            "Epoch 414/500, Report:               precision    recall  f1-score   support\n",
            "\n",
            "    Positive       0.54      0.57      0.56      1792\n",
            "     Neutral       0.55      0.27      0.36      2007\n",
            "    Negative       0.16      0.54      0.25       391\n",
            "\n",
            "    accuracy                           0.43      4190\n",
            "   macro avg       0.42      0.46      0.39      4190\n",
            "weighted avg       0.51      0.43      0.44      4190\n",
            "\n"
          ]
        },
        {
          "output_type": "stream",
          "name": "stderr",
          "text": [
            "100%|██████████| 94/94 [00:02<00:00, 36.59it/s]\n"
          ]
        },
        {
          "output_type": "stream",
          "name": "stdout",
          "text": [
            "Average loss: tensor(1.0501, device='cuda:0', grad_fn=<DivBackward0>)\n",
            "Epoch 415/500, Report:               precision    recall  f1-score   support\n",
            "\n",
            "    Positive       0.54      0.57      0.56      1792\n",
            "     Neutral       0.55      0.27      0.36      2007\n",
            "    Negative       0.16      0.54      0.25       391\n",
            "\n",
            "    accuracy                           0.42      4190\n",
            "   macro avg       0.42      0.46      0.39      4190\n",
            "weighted avg       0.51      0.42      0.43      4190\n",
            "\n"
          ]
        },
        {
          "output_type": "stream",
          "name": "stderr",
          "text": [
            "100%|██████████| 94/94 [00:02<00:00, 40.99it/s]\n"
          ]
        },
        {
          "output_type": "stream",
          "name": "stdout",
          "text": [
            "Average loss: tensor(1.0500, device='cuda:0', grad_fn=<DivBackward0>)\n",
            "Epoch 416/500, Report:               precision    recall  f1-score   support\n",
            "\n",
            "    Positive       0.54      0.57      0.56      1792\n",
            "     Neutral       0.55      0.27      0.36      2007\n",
            "    Negative       0.16      0.54      0.25       391\n",
            "\n",
            "    accuracy                           0.43      4190\n",
            "   macro avg       0.42      0.46      0.39      4190\n",
            "weighted avg       0.51      0.43      0.44      4190\n",
            "\n"
          ]
        },
        {
          "output_type": "stream",
          "name": "stderr",
          "text": [
            "100%|██████████| 94/94 [00:02<00:00, 40.61it/s]\n"
          ]
        },
        {
          "output_type": "stream",
          "name": "stdout",
          "text": [
            "Average loss: tensor(1.0481, device='cuda:0', grad_fn=<DivBackward0>)\n",
            "Epoch 417/500, Report:               precision    recall  f1-score   support\n",
            "\n",
            "    Positive       0.54      0.57      0.56      1792\n",
            "     Neutral       0.55      0.27      0.36      2007\n",
            "    Negative       0.16      0.54      0.25       391\n",
            "\n",
            "    accuracy                           0.43      4190\n",
            "   macro avg       0.42      0.46      0.39      4190\n",
            "weighted avg       0.51      0.43      0.44      4190\n",
            "\n"
          ]
        },
        {
          "output_type": "stream",
          "name": "stderr",
          "text": [
            "100%|██████████| 94/94 [00:02<00:00, 40.61it/s]\n"
          ]
        },
        {
          "output_type": "stream",
          "name": "stdout",
          "text": [
            "Average loss: tensor(1.0495, device='cuda:0', grad_fn=<DivBackward0>)\n",
            "Epoch 418/500, Report:               precision    recall  f1-score   support\n",
            "\n",
            "    Positive       0.54      0.57      0.56      1792\n",
            "     Neutral       0.55      0.27      0.36      2007\n",
            "    Negative       0.16      0.54      0.25       391\n",
            "\n",
            "    accuracy                           0.43      4190\n",
            "   macro avg       0.42      0.46      0.39      4190\n",
            "weighted avg       0.51      0.43      0.44      4190\n",
            "\n"
          ]
        },
        {
          "output_type": "stream",
          "name": "stderr",
          "text": [
            "100%|██████████| 94/94 [00:02<00:00, 34.39it/s]\n"
          ]
        },
        {
          "output_type": "stream",
          "name": "stdout",
          "text": [
            "Average loss: tensor(1.0501, device='cuda:0', grad_fn=<DivBackward0>)\n",
            "Epoch 419/500, Report:               precision    recall  f1-score   support\n",
            "\n",
            "    Positive       0.54      0.57      0.56      1792\n",
            "     Neutral       0.55      0.27      0.37      2007\n",
            "    Negative       0.16      0.54      0.25       391\n",
            "\n",
            "    accuracy                           0.43      4190\n",
            "   macro avg       0.42      0.46      0.39      4190\n",
            "weighted avg       0.51      0.43      0.44      4190\n",
            "\n"
          ]
        },
        {
          "output_type": "stream",
          "name": "stderr",
          "text": [
            "100%|██████████| 94/94 [00:02<00:00, 39.36it/s]\n"
          ]
        },
        {
          "output_type": "stream",
          "name": "stdout",
          "text": [
            "Average loss: tensor(1.0501, device='cuda:0', grad_fn=<DivBackward0>)\n",
            "Epoch 420/500, Report:               precision    recall  f1-score   support\n",
            "\n",
            "    Positive       0.54      0.57      0.56      1792\n",
            "     Neutral       0.55      0.27      0.37      2007\n",
            "    Negative       0.16      0.54      0.25       391\n",
            "\n",
            "    accuracy                           0.43      4190\n",
            "   macro avg       0.42      0.46      0.39      4190\n",
            "weighted avg       0.51      0.43      0.44      4190\n",
            "\n"
          ]
        },
        {
          "output_type": "stream",
          "name": "stderr",
          "text": [
            "100%|██████████| 94/94 [00:02<00:00, 40.32it/s]\n"
          ]
        },
        {
          "output_type": "stream",
          "name": "stdout",
          "text": [
            "Average loss: tensor(1.0495, device='cuda:0', grad_fn=<DivBackward0>)\n",
            "Epoch 421/500, Report:               precision    recall  f1-score   support\n",
            "\n",
            "    Positive       0.54      0.57      0.56      1792\n",
            "     Neutral       0.55      0.27      0.36      2007\n",
            "    Negative       0.16      0.54      0.25       391\n",
            "\n",
            "    accuracy                           0.43      4190\n",
            "   macro avg       0.42      0.46      0.39      4190\n",
            "weighted avg       0.51      0.43      0.44      4190\n",
            "\n"
          ]
        },
        {
          "output_type": "stream",
          "name": "stderr",
          "text": [
            "100%|██████████| 94/94 [00:02<00:00, 39.33it/s]\n"
          ]
        },
        {
          "output_type": "stream",
          "name": "stdout",
          "text": [
            "Average loss: tensor(1.0494, device='cuda:0', grad_fn=<DivBackward0>)\n",
            "Epoch 422/500, Report:               precision    recall  f1-score   support\n",
            "\n",
            "    Positive       0.54      0.57      0.56      1792\n",
            "     Neutral       0.55      0.27      0.36      2007\n",
            "    Negative       0.16      0.54      0.25       391\n",
            "\n",
            "    accuracy                           0.43      4190\n",
            "   macro avg       0.42      0.46      0.39      4190\n",
            "weighted avg       0.51      0.43      0.44      4190\n",
            "\n"
          ]
        },
        {
          "output_type": "stream",
          "name": "stderr",
          "text": [
            "100%|██████████| 94/94 [00:02<00:00, 37.24it/s]\n"
          ]
        },
        {
          "output_type": "stream",
          "name": "stdout",
          "text": [
            "Average loss: tensor(1.0507, device='cuda:0', grad_fn=<DivBackward0>)\n",
            "Epoch 423/500, Report:               precision    recall  f1-score   support\n",
            "\n",
            "    Positive       0.54      0.57      0.56      1792\n",
            "     Neutral       0.55      0.27      0.37      2007\n",
            "    Negative       0.16      0.54      0.25       391\n",
            "\n",
            "    accuracy                           0.43      4190\n",
            "   macro avg       0.42      0.46      0.39      4190\n",
            "weighted avg       0.51      0.43      0.44      4190\n",
            "\n"
          ]
        },
        {
          "output_type": "stream",
          "name": "stderr",
          "text": [
            "100%|██████████| 94/94 [00:02<00:00, 39.12it/s]\n"
          ]
        },
        {
          "output_type": "stream",
          "name": "stdout",
          "text": [
            "Average loss: tensor(1.0500, device='cuda:0', grad_fn=<DivBackward0>)\n",
            "Epoch 424/500, Report:               precision    recall  f1-score   support\n",
            "\n",
            "    Positive       0.54      0.57      0.56      1792\n",
            "     Neutral       0.55      0.28      0.37      2007\n",
            "    Negative       0.16      0.53      0.25       391\n",
            "\n",
            "    accuracy                           0.43      4190\n",
            "   macro avg       0.42      0.46      0.39      4190\n",
            "weighted avg       0.51      0.43      0.44      4190\n",
            "\n"
          ]
        },
        {
          "output_type": "stream",
          "name": "stderr",
          "text": [
            "100%|██████████| 94/94 [00:02<00:00, 35.90it/s]\n"
          ]
        },
        {
          "output_type": "stream",
          "name": "stdout",
          "text": [
            "Average loss: tensor(1.0492, device='cuda:0', grad_fn=<DivBackward0>)\n",
            "Epoch 425/500, Report:               precision    recall  f1-score   support\n",
            "\n",
            "    Positive       0.54      0.57      0.56      1792\n",
            "     Neutral       0.55      0.27      0.36      2007\n",
            "    Negative       0.16      0.54      0.25       391\n",
            "\n",
            "    accuracy                           0.43      4190\n",
            "   macro avg       0.42      0.46      0.39      4190\n",
            "weighted avg       0.51      0.43      0.44      4190\n",
            "\n"
          ]
        },
        {
          "output_type": "stream",
          "name": "stderr",
          "text": [
            "100%|██████████| 94/94 [00:02<00:00, 39.16it/s]\n"
          ]
        },
        {
          "output_type": "stream",
          "name": "stdout",
          "text": [
            "Average loss: tensor(1.0489, device='cuda:0', grad_fn=<DivBackward0>)\n",
            "Epoch 426/500, Report:               precision    recall  f1-score   support\n",
            "\n",
            "    Positive       0.54      0.57      0.56      1792\n",
            "     Neutral       0.55      0.27      0.36      2007\n",
            "    Negative       0.16      0.54      0.25       391\n",
            "\n",
            "    accuracy                           0.43      4190\n",
            "   macro avg       0.42      0.46      0.39      4190\n",
            "weighted avg       0.51      0.43      0.44      4190\n",
            "\n"
          ]
        },
        {
          "output_type": "stream",
          "name": "stderr",
          "text": [
            "100%|██████████| 94/94 [00:02<00:00, 39.40it/s]\n"
          ]
        },
        {
          "output_type": "stream",
          "name": "stdout",
          "text": [
            "Average loss: tensor(1.0492, device='cuda:0', grad_fn=<DivBackward0>)\n",
            "Epoch 427/500, Report:               precision    recall  f1-score   support\n",
            "\n",
            "    Positive       0.54      0.57      0.56      1792\n",
            "     Neutral       0.55      0.27      0.37      2007\n",
            "    Negative       0.16      0.54      0.25       391\n",
            "\n",
            "    accuracy                           0.43      4190\n",
            "   macro avg       0.42      0.46      0.39      4190\n",
            "weighted avg       0.51      0.43      0.44      4190\n",
            "\n"
          ]
        },
        {
          "output_type": "stream",
          "name": "stderr",
          "text": [
            "100%|██████████| 94/94 [00:02<00:00, 34.18it/s]\n"
          ]
        },
        {
          "output_type": "stream",
          "name": "stdout",
          "text": [
            "Average loss: tensor(1.0504, device='cuda:0', grad_fn=<DivBackward0>)\n",
            "Epoch 428/500, Report:               precision    recall  f1-score   support\n",
            "\n",
            "    Positive       0.54      0.57      0.56      1792\n",
            "     Neutral       0.55      0.28      0.37      2007\n",
            "    Negative       0.16      0.53      0.25       391\n",
            "\n",
            "    accuracy                           0.43      4190\n",
            "   macro avg       0.42      0.46      0.39      4190\n",
            "weighted avg       0.51      0.43      0.44      4190\n",
            "\n"
          ]
        },
        {
          "output_type": "stream",
          "name": "stderr",
          "text": [
            "100%|██████████| 94/94 [00:02<00:00, 37.66it/s]\n"
          ]
        },
        {
          "output_type": "stream",
          "name": "stdout",
          "text": [
            "Average loss: tensor(1.0506, device='cuda:0', grad_fn=<DivBackward0>)\n",
            "Epoch 429/500, Report:               precision    recall  f1-score   support\n",
            "\n",
            "    Positive       0.54      0.57      0.56      1792\n",
            "     Neutral       0.55      0.28      0.37      2007\n",
            "    Negative       0.16      0.53      0.25       391\n",
            "\n",
            "    accuracy                           0.43      4190\n",
            "   macro avg       0.42      0.46      0.39      4190\n",
            "weighted avg       0.51      0.43      0.44      4190\n",
            "\n"
          ]
        },
        {
          "output_type": "stream",
          "name": "stderr",
          "text": [
            "100%|██████████| 94/94 [00:02<00:00, 40.81it/s]\n"
          ]
        },
        {
          "output_type": "stream",
          "name": "stdout",
          "text": [
            "Average loss: tensor(1.0494, device='cuda:0', grad_fn=<DivBackward0>)\n",
            "Epoch 430/500, Report:               precision    recall  f1-score   support\n",
            "\n",
            "    Positive       0.54      0.57      0.56      1792\n",
            "     Neutral       0.55      0.28      0.37      2007\n",
            "    Negative       0.16      0.54      0.25       391\n",
            "\n",
            "    accuracy                           0.43      4190\n",
            "   macro avg       0.42      0.46      0.39      4190\n",
            "weighted avg       0.51      0.43      0.44      4190\n",
            "\n"
          ]
        },
        {
          "output_type": "stream",
          "name": "stderr",
          "text": [
            "100%|██████████| 94/94 [00:02<00:00, 37.61it/s]\n"
          ]
        },
        {
          "output_type": "stream",
          "name": "stdout",
          "text": [
            "Average loss: tensor(1.0507, device='cuda:0', grad_fn=<DivBackward0>)\n",
            "Epoch 431/500, Report:               precision    recall  f1-score   support\n",
            "\n",
            "    Positive       0.54      0.57      0.56      1792\n",
            "     Neutral       0.55      0.27      0.36      2007\n",
            "    Negative       0.16      0.54      0.25       391\n",
            "\n",
            "    accuracy                           0.43      4190\n",
            "   macro avg       0.42      0.46      0.39      4190\n",
            "weighted avg       0.51      0.43      0.44      4190\n",
            "\n"
          ]
        },
        {
          "output_type": "stream",
          "name": "stderr",
          "text": [
            "100%|██████████| 94/94 [00:02<00:00, 35.30it/s]\n"
          ]
        },
        {
          "output_type": "stream",
          "name": "stdout",
          "text": [
            "Average loss: tensor(1.0495, device='cuda:0', grad_fn=<DivBackward0>)\n",
            "Epoch 432/500, Report:               precision    recall  f1-score   support\n",
            "\n",
            "    Positive       0.54      0.57      0.56      1792\n",
            "     Neutral       0.55      0.28      0.37      2007\n",
            "    Negative       0.16      0.54      0.25       391\n",
            "\n",
            "    accuracy                           0.43      4190\n",
            "   macro avg       0.42      0.46      0.39      4190\n",
            "weighted avg       0.51      0.43      0.44      4190\n",
            "\n"
          ]
        },
        {
          "output_type": "stream",
          "name": "stderr",
          "text": [
            "100%|██████████| 94/94 [00:02<00:00, 36.57it/s]\n"
          ]
        },
        {
          "output_type": "stream",
          "name": "stdout",
          "text": [
            "Average loss: tensor(1.0495, device='cuda:0', grad_fn=<DivBackward0>)\n",
            "Epoch 433/500, Report:               precision    recall  f1-score   support\n",
            "\n",
            "    Positive       0.54      0.57      0.56      1792\n",
            "     Neutral       0.55      0.27      0.36      2007\n",
            "    Negative       0.16      0.54      0.25       391\n",
            "\n",
            "    accuracy                           0.43      4190\n",
            "   macro avg       0.42      0.46      0.39      4190\n",
            "weighted avg       0.51      0.43      0.44      4190\n",
            "\n"
          ]
        },
        {
          "output_type": "stream",
          "name": "stderr",
          "text": [
            "100%|██████████| 94/94 [00:02<00:00, 40.28it/s]\n"
          ]
        },
        {
          "output_type": "stream",
          "name": "stdout",
          "text": [
            "Average loss: tensor(1.0487, device='cuda:0', grad_fn=<DivBackward0>)\n",
            "Epoch 434/500, Report:               precision    recall  f1-score   support\n",
            "\n",
            "    Positive       0.54      0.57      0.56      1792\n",
            "     Neutral       0.55      0.27      0.36      2007\n",
            "    Negative       0.16      0.54      0.25       391\n",
            "\n",
            "    accuracy                           0.43      4190\n",
            "   macro avg       0.42      0.46      0.39      4190\n",
            "weighted avg       0.51      0.43      0.44      4190\n",
            "\n"
          ]
        },
        {
          "output_type": "stream",
          "name": "stderr",
          "text": [
            "100%|██████████| 94/94 [00:02<00:00, 40.59it/s]\n"
          ]
        },
        {
          "output_type": "stream",
          "name": "stdout",
          "text": [
            "Average loss: tensor(1.0490, device='cuda:0', grad_fn=<DivBackward0>)\n",
            "Epoch 435/500, Report:               precision    recall  f1-score   support\n",
            "\n",
            "    Positive       0.54      0.57      0.56      1792\n",
            "     Neutral       0.55      0.27      0.36      2007\n",
            "    Negative       0.16      0.54      0.25       391\n",
            "\n",
            "    accuracy                           0.43      4190\n",
            "   macro avg       0.42      0.46      0.39      4190\n",
            "weighted avg       0.51      0.43      0.44      4190\n",
            "\n"
          ]
        },
        {
          "output_type": "stream",
          "name": "stderr",
          "text": [
            "100%|██████████| 94/94 [00:02<00:00, 38.50it/s]\n"
          ]
        },
        {
          "output_type": "stream",
          "name": "stdout",
          "text": [
            "Average loss: tensor(1.0499, device='cuda:0', grad_fn=<DivBackward0>)\n",
            "Epoch 436/500, Report:               precision    recall  f1-score   support\n",
            "\n",
            "    Positive       0.54      0.57      0.56      1792\n",
            "     Neutral       0.55      0.27      0.36      2007\n",
            "    Negative       0.16      0.53      0.25       391\n",
            "\n",
            "    accuracy                           0.43      4190\n",
            "   macro avg       0.42      0.46      0.39      4190\n",
            "weighted avg       0.51      0.43      0.44      4190\n",
            "\n"
          ]
        },
        {
          "output_type": "stream",
          "name": "stderr",
          "text": [
            "100%|██████████| 94/94 [00:02<00:00, 34.71it/s]\n"
          ]
        },
        {
          "output_type": "stream",
          "name": "stdout",
          "text": [
            "Average loss: tensor(1.0491, device='cuda:0', grad_fn=<DivBackward0>)\n",
            "Epoch 437/500, Report:               precision    recall  f1-score   support\n",
            "\n",
            "    Positive       0.54      0.57      0.56      1792\n",
            "     Neutral       0.55      0.27      0.37      2007\n",
            "    Negative       0.16      0.54      0.25       391\n",
            "\n",
            "    accuracy                           0.43      4190\n",
            "   macro avg       0.42      0.46      0.39      4190\n",
            "weighted avg       0.51      0.43      0.44      4190\n",
            "\n"
          ]
        },
        {
          "output_type": "stream",
          "name": "stderr",
          "text": [
            "100%|██████████| 94/94 [00:02<00:00, 39.64it/s]\n"
          ]
        },
        {
          "output_type": "stream",
          "name": "stdout",
          "text": [
            "Average loss: tensor(1.0502, device='cuda:0', grad_fn=<DivBackward0>)\n",
            "Epoch 438/500, Report:               precision    recall  f1-score   support\n",
            "\n",
            "    Positive       0.54      0.57      0.55      1792\n",
            "     Neutral       0.55      0.27      0.36      2007\n",
            "    Negative       0.16      0.54      0.25       391\n",
            "\n",
            "    accuracy                           0.43      4190\n",
            "   macro avg       0.42      0.46      0.39      4190\n",
            "weighted avg       0.51      0.43      0.44      4190\n",
            "\n"
          ]
        },
        {
          "output_type": "stream",
          "name": "stderr",
          "text": [
            "100%|██████████| 94/94 [00:02<00:00, 39.48it/s]\n"
          ]
        },
        {
          "output_type": "stream",
          "name": "stdout",
          "text": [
            "Average loss: tensor(1.0497, device='cuda:0', grad_fn=<DivBackward0>)\n",
            "Epoch 439/500, Report:               precision    recall  f1-score   support\n",
            "\n",
            "    Positive       0.54      0.57      0.55      1792\n",
            "     Neutral       0.55      0.27      0.36      2007\n",
            "    Negative       0.16      0.54      0.25       391\n",
            "\n",
            "    accuracy                           0.42      4190\n",
            "   macro avg       0.42      0.46      0.39      4190\n",
            "weighted avg       0.51      0.42      0.43      4190\n",
            "\n"
          ]
        },
        {
          "output_type": "stream",
          "name": "stderr",
          "text": [
            "100%|██████████| 94/94 [00:02<00:00, 40.67it/s]\n"
          ]
        },
        {
          "output_type": "stream",
          "name": "stdout",
          "text": [
            "Average loss: tensor(1.0499, device='cuda:0', grad_fn=<DivBackward0>)\n",
            "Epoch 440/500, Report:               precision    recall  f1-score   support\n",
            "\n",
            "    Positive       0.54      0.57      0.56      1792\n",
            "     Neutral       0.55      0.28      0.37      2007\n",
            "    Negative       0.16      0.54      0.25       391\n",
            "\n",
            "    accuracy                           0.43      4190\n",
            "   macro avg       0.42      0.46      0.39      4190\n",
            "weighted avg       0.51      0.43      0.44      4190\n",
            "\n"
          ]
        },
        {
          "output_type": "stream",
          "name": "stderr",
          "text": [
            "100%|██████████| 94/94 [00:02<00:00, 37.78it/s]\n"
          ]
        },
        {
          "output_type": "stream",
          "name": "stdout",
          "text": [
            "Average loss: tensor(1.0496, device='cuda:0', grad_fn=<DivBackward0>)\n",
            "Epoch 441/500, Report:               precision    recall  f1-score   support\n",
            "\n",
            "    Positive       0.54      0.57      0.56      1792\n",
            "     Neutral       0.55      0.28      0.37      2007\n",
            "    Negative       0.16      0.54      0.25       391\n",
            "\n",
            "    accuracy                           0.43      4190\n",
            "   macro avg       0.42      0.46      0.39      4190\n",
            "weighted avg       0.51      0.43      0.44      4190\n",
            "\n"
          ]
        },
        {
          "output_type": "stream",
          "name": "stderr",
          "text": [
            "100%|██████████| 94/94 [00:02<00:00, 38.08it/s]\n"
          ]
        },
        {
          "output_type": "stream",
          "name": "stdout",
          "text": [
            "Average loss: tensor(1.0494, device='cuda:0', grad_fn=<DivBackward0>)\n",
            "Epoch 442/500, Report:               precision    recall  f1-score   support\n",
            "\n",
            "    Positive       0.54      0.57      0.56      1792\n",
            "     Neutral       0.55      0.28      0.37      2007\n",
            "    Negative       0.16      0.54      0.25       391\n",
            "\n",
            "    accuracy                           0.43      4190\n",
            "   macro avg       0.42      0.46      0.39      4190\n",
            "weighted avg       0.51      0.43      0.44      4190\n",
            "\n"
          ]
        },
        {
          "output_type": "stream",
          "name": "stderr",
          "text": [
            "100%|██████████| 94/94 [00:02<00:00, 39.83it/s]\n"
          ]
        },
        {
          "output_type": "stream",
          "name": "stdout",
          "text": [
            "Average loss: tensor(1.0501, device='cuda:0', grad_fn=<DivBackward0>)\n",
            "Epoch 443/500, Report:               precision    recall  f1-score   support\n",
            "\n",
            "    Positive       0.54      0.57      0.56      1792\n",
            "     Neutral       0.55      0.27      0.36      2007\n",
            "    Negative       0.16      0.54      0.25       391\n",
            "\n",
            "    accuracy                           0.43      4190\n",
            "   macro avg       0.42      0.46      0.39      4190\n",
            "weighted avg       0.51      0.43      0.44      4190\n",
            "\n"
          ]
        },
        {
          "output_type": "stream",
          "name": "stderr",
          "text": [
            "100%|██████████| 94/94 [00:02<00:00, 39.39it/s]\n"
          ]
        },
        {
          "output_type": "stream",
          "name": "stdout",
          "text": [
            "Average loss: tensor(1.0502, device='cuda:0', grad_fn=<DivBackward0>)\n",
            "Epoch 444/500, Report:               precision    recall  f1-score   support\n",
            "\n",
            "    Positive       0.54      0.57      0.56      1792\n",
            "     Neutral       0.55      0.27      0.37      2007\n",
            "    Negative       0.16      0.54      0.25       391\n",
            "\n",
            "    accuracy                           0.43      4190\n",
            "   macro avg       0.42      0.46      0.39      4190\n",
            "weighted avg       0.51      0.43      0.44      4190\n",
            "\n"
          ]
        },
        {
          "output_type": "stream",
          "name": "stderr",
          "text": [
            "100%|██████████| 94/94 [00:02<00:00, 40.16it/s]\n"
          ]
        },
        {
          "output_type": "stream",
          "name": "stdout",
          "text": [
            "Average loss: tensor(1.0495, device='cuda:0', grad_fn=<DivBackward0>)\n",
            "Epoch 445/500, Report:               precision    recall  f1-score   support\n",
            "\n",
            "    Positive       0.54      0.57      0.56      1792\n",
            "     Neutral       0.55      0.28      0.37      2007\n",
            "    Negative       0.16      0.54      0.25       391\n",
            "\n",
            "    accuracy                           0.43      4190\n",
            "   macro avg       0.42      0.46      0.39      4190\n",
            "weighted avg       0.51      0.43      0.44      4190\n",
            "\n"
          ]
        },
        {
          "output_type": "stream",
          "name": "stderr",
          "text": [
            "100%|██████████| 94/94 [00:02<00:00, 35.79it/s]\n"
          ]
        },
        {
          "output_type": "stream",
          "name": "stdout",
          "text": [
            "Average loss: tensor(1.0499, device='cuda:0', grad_fn=<DivBackward0>)\n",
            "Epoch 446/500, Report:               precision    recall  f1-score   support\n",
            "\n",
            "    Positive       0.54      0.57      0.56      1792\n",
            "     Neutral       0.55      0.28      0.37      2007\n",
            "    Negative       0.16      0.54      0.25       391\n",
            "\n",
            "    accuracy                           0.43      4190\n",
            "   macro avg       0.42      0.46      0.39      4190\n",
            "weighted avg       0.51      0.43      0.44      4190\n",
            "\n"
          ]
        },
        {
          "output_type": "stream",
          "name": "stderr",
          "text": [
            "100%|██████████| 94/94 [00:02<00:00, 38.81it/s]\n"
          ]
        },
        {
          "output_type": "stream",
          "name": "stdout",
          "text": [
            "Average loss: tensor(1.0485, device='cuda:0', grad_fn=<DivBackward0>)\n",
            "Epoch 447/500, Report:               precision    recall  f1-score   support\n",
            "\n",
            "    Positive       0.54      0.57      0.56      1792\n",
            "     Neutral       0.55      0.28      0.37      2007\n",
            "    Negative       0.16      0.54      0.25       391\n",
            "\n",
            "    accuracy                           0.43      4190\n",
            "   macro avg       0.42      0.46      0.39      4190\n",
            "weighted avg       0.51      0.43      0.44      4190\n",
            "\n"
          ]
        },
        {
          "output_type": "stream",
          "name": "stderr",
          "text": [
            "100%|██████████| 94/94 [00:02<00:00, 41.18it/s]\n"
          ]
        },
        {
          "output_type": "stream",
          "name": "stdout",
          "text": [
            "Average loss: tensor(1.0493, device='cuda:0', grad_fn=<DivBackward0>)\n",
            "Epoch 448/500, Report:               precision    recall  f1-score   support\n",
            "\n",
            "    Positive       0.54      0.57      0.56      1792\n",
            "     Neutral       0.55      0.28      0.37      2007\n",
            "    Negative       0.16      0.54      0.25       391\n",
            "\n",
            "    accuracy                           0.43      4190\n",
            "   macro avg       0.42      0.46      0.39      4190\n",
            "weighted avg       0.51      0.43      0.44      4190\n",
            "\n"
          ]
        },
        {
          "output_type": "stream",
          "name": "stderr",
          "text": [
            "100%|██████████| 94/94 [00:02<00:00, 40.24it/s]\n"
          ]
        },
        {
          "output_type": "stream",
          "name": "stdout",
          "text": [
            "Average loss: tensor(1.0506, device='cuda:0', grad_fn=<DivBackward0>)\n",
            "Epoch 449/500, Report:               precision    recall  f1-score   support\n",
            "\n",
            "    Positive       0.54      0.57      0.56      1792\n",
            "     Neutral       0.55      0.28      0.37      2007\n",
            "    Negative       0.16      0.53      0.25       391\n",
            "\n",
            "    accuracy                           0.43      4190\n",
            "   macro avg       0.42      0.46      0.39      4190\n",
            "weighted avg       0.51      0.43      0.44      4190\n",
            "\n"
          ]
        },
        {
          "output_type": "stream",
          "name": "stderr",
          "text": [
            "100%|██████████| 94/94 [00:02<00:00, 37.55it/s]\n"
          ]
        },
        {
          "output_type": "stream",
          "name": "stdout",
          "text": [
            "Average loss: tensor(1.0492, device='cuda:0', grad_fn=<DivBackward0>)\n",
            "Epoch 450/500, Report:               precision    recall  f1-score   support\n",
            "\n",
            "    Positive       0.54      0.57      0.56      1792\n",
            "     Neutral       0.55      0.28      0.37      2007\n",
            "    Negative       0.16      0.53      0.25       391\n",
            "\n",
            "    accuracy                           0.43      4190\n",
            "   macro avg       0.42      0.46      0.39      4190\n",
            "weighted avg       0.51      0.43      0.44      4190\n",
            "\n"
          ]
        },
        {
          "output_type": "stream",
          "name": "stderr",
          "text": [
            "100%|██████████| 94/94 [00:02<00:00, 38.39it/s]\n"
          ]
        },
        {
          "output_type": "stream",
          "name": "stdout",
          "text": [
            "Average loss: tensor(1.0494, device='cuda:0', grad_fn=<DivBackward0>)\n",
            "Epoch 451/500, Report:               precision    recall  f1-score   support\n",
            "\n",
            "    Positive       0.54      0.57      0.56      1792\n",
            "     Neutral       0.55      0.28      0.37      2007\n",
            "    Negative       0.16      0.54      0.25       391\n",
            "\n",
            "    accuracy                           0.43      4190\n",
            "   macro avg       0.42      0.46      0.39      4190\n",
            "weighted avg       0.51      0.43      0.44      4190\n",
            "\n"
          ]
        },
        {
          "output_type": "stream",
          "name": "stderr",
          "text": [
            "100%|██████████| 94/94 [00:02<00:00, 40.12it/s]\n"
          ]
        },
        {
          "output_type": "stream",
          "name": "stdout",
          "text": [
            "Average loss: tensor(1.0502, device='cuda:0', grad_fn=<DivBackward0>)\n",
            "Epoch 452/500, Report:               precision    recall  f1-score   support\n",
            "\n",
            "    Positive       0.54      0.57      0.56      1792\n",
            "     Neutral       0.55      0.28      0.37      2007\n",
            "    Negative       0.16      0.54      0.25       391\n",
            "\n",
            "    accuracy                           0.43      4190\n",
            "   macro avg       0.42      0.46      0.39      4190\n",
            "weighted avg       0.51      0.43      0.44      4190\n",
            "\n"
          ]
        },
        {
          "output_type": "stream",
          "name": "stderr",
          "text": [
            "100%|██████████| 94/94 [00:02<00:00, 39.77it/s]\n"
          ]
        },
        {
          "output_type": "stream",
          "name": "stdout",
          "text": [
            "Average loss: tensor(1.0490, device='cuda:0', grad_fn=<DivBackward0>)\n",
            "Epoch 453/500, Report:               precision    recall  f1-score   support\n",
            "\n",
            "    Positive       0.54      0.57      0.56      1792\n",
            "     Neutral       0.55      0.28      0.37      2007\n",
            "    Negative       0.16      0.54      0.25       391\n",
            "\n",
            "    accuracy                           0.43      4190\n",
            "   macro avg       0.42      0.46      0.39      4190\n",
            "weighted avg       0.51      0.43      0.44      4190\n",
            "\n"
          ]
        },
        {
          "output_type": "stream",
          "name": "stderr",
          "text": [
            "100%|██████████| 94/94 [00:02<00:00, 40.17it/s]\n"
          ]
        },
        {
          "output_type": "stream",
          "name": "stdout",
          "text": [
            "Average loss: tensor(1.0497, device='cuda:0', grad_fn=<DivBackward0>)\n",
            "Epoch 454/500, Report:               precision    recall  f1-score   support\n",
            "\n",
            "    Positive       0.54      0.57      0.56      1792\n",
            "     Neutral       0.55      0.28      0.37      2007\n",
            "    Negative       0.16      0.54      0.25       391\n",
            "\n",
            "    accuracy                           0.43      4190\n",
            "   macro avg       0.42      0.46      0.39      4190\n",
            "weighted avg       0.51      0.43      0.44      4190\n",
            "\n"
          ]
        },
        {
          "output_type": "stream",
          "name": "stderr",
          "text": [
            "100%|██████████| 94/94 [00:02<00:00, 34.69it/s]\n"
          ]
        },
        {
          "output_type": "stream",
          "name": "stdout",
          "text": [
            "Average loss: tensor(1.0487, device='cuda:0', grad_fn=<DivBackward0>)\n",
            "Epoch 455/500, Report:               precision    recall  f1-score   support\n",
            "\n",
            "    Positive       0.54      0.57      0.56      1792\n",
            "     Neutral       0.55      0.27      0.37      2007\n",
            "    Negative       0.16      0.54      0.25       391\n",
            "\n",
            "    accuracy                           0.43      4190\n",
            "   macro avg       0.42      0.46      0.39      4190\n",
            "weighted avg       0.51      0.43      0.44      4190\n",
            "\n"
          ]
        },
        {
          "output_type": "stream",
          "name": "stderr",
          "text": [
            "100%|██████████| 94/94 [00:02<00:00, 34.38it/s]\n"
          ]
        },
        {
          "output_type": "stream",
          "name": "stdout",
          "text": [
            "Average loss: tensor(1.0489, device='cuda:0', grad_fn=<DivBackward0>)\n",
            "Epoch 456/500, Report:               precision    recall  f1-score   support\n",
            "\n",
            "    Positive       0.54      0.57      0.56      1792\n",
            "     Neutral       0.55      0.28      0.37      2007\n",
            "    Negative       0.16      0.53      0.25       391\n",
            "\n",
            "    accuracy                           0.43      4190\n",
            "   macro avg       0.42      0.46      0.39      4190\n",
            "weighted avg       0.51      0.43      0.44      4190\n",
            "\n"
          ]
        },
        {
          "output_type": "stream",
          "name": "stderr",
          "text": [
            "100%|██████████| 94/94 [00:02<00:00, 40.43it/s]\n"
          ]
        },
        {
          "output_type": "stream",
          "name": "stdout",
          "text": [
            "Average loss: tensor(1.0494, device='cuda:0', grad_fn=<DivBackward0>)\n",
            "Epoch 457/500, Report:               precision    recall  f1-score   support\n",
            "\n",
            "    Positive       0.54      0.57      0.56      1792\n",
            "     Neutral       0.55      0.28      0.37      2007\n",
            "    Negative       0.16      0.53      0.25       391\n",
            "\n",
            "    accuracy                           0.43      4190\n",
            "   macro avg       0.42      0.46      0.39      4190\n",
            "weighted avg       0.51      0.43      0.44      4190\n",
            "\n"
          ]
        },
        {
          "output_type": "stream",
          "name": "stderr",
          "text": [
            "100%|██████████| 94/94 [00:02<00:00, 38.10it/s]\n"
          ]
        },
        {
          "output_type": "stream",
          "name": "stdout",
          "text": [
            "Average loss: tensor(1.0493, device='cuda:0', grad_fn=<DivBackward0>)\n",
            "Epoch 458/500, Report:               precision    recall  f1-score   support\n",
            "\n",
            "    Positive       0.54      0.57      0.56      1792\n",
            "     Neutral       0.55      0.28      0.37      2007\n",
            "    Negative       0.16      0.54      0.25       391\n",
            "\n",
            "    accuracy                           0.43      4190\n",
            "   macro avg       0.42      0.46      0.39      4190\n",
            "weighted avg       0.51      0.43      0.44      4190\n",
            "\n"
          ]
        },
        {
          "output_type": "stream",
          "name": "stderr",
          "text": [
            "100%|██████████| 94/94 [00:02<00:00, 34.23it/s]\n"
          ]
        },
        {
          "output_type": "stream",
          "name": "stdout",
          "text": [
            "Average loss: tensor(1.0505, device='cuda:0', grad_fn=<DivBackward0>)\n",
            "Epoch 459/500, Report:               precision    recall  f1-score   support\n",
            "\n",
            "    Positive       0.54      0.57      0.56      1792\n",
            "     Neutral       0.55      0.28      0.37      2007\n",
            "    Negative       0.16      0.53      0.25       391\n",
            "\n",
            "    accuracy                           0.43      4190\n",
            "   macro avg       0.42      0.46      0.39      4190\n",
            "weighted avg       0.51      0.43      0.44      4190\n",
            "\n"
          ]
        },
        {
          "output_type": "stream",
          "name": "stderr",
          "text": [
            "100%|██████████| 94/94 [00:02<00:00, 40.29it/s]\n"
          ]
        },
        {
          "output_type": "stream",
          "name": "stdout",
          "text": [
            "Average loss: tensor(1.0498, device='cuda:0', grad_fn=<DivBackward0>)\n",
            "Epoch 460/500, Report:               precision    recall  f1-score   support\n",
            "\n",
            "    Positive       0.54      0.57      0.56      1792\n",
            "     Neutral       0.55      0.28      0.37      2007\n",
            "    Negative       0.16      0.54      0.25       391\n",
            "\n",
            "    accuracy                           0.43      4190\n",
            "   macro avg       0.42      0.46      0.39      4190\n",
            "weighted avg       0.51      0.43      0.44      4190\n",
            "\n"
          ]
        },
        {
          "output_type": "stream",
          "name": "stderr",
          "text": [
            "100%|██████████| 94/94 [00:02<00:00, 39.27it/s]\n"
          ]
        },
        {
          "output_type": "stream",
          "name": "stdout",
          "text": [
            "Average loss: tensor(1.0485, device='cuda:0', grad_fn=<DivBackward0>)\n",
            "Epoch 461/500, Report:               precision    recall  f1-score   support\n",
            "\n",
            "    Positive       0.54      0.57      0.56      1792\n",
            "     Neutral       0.55      0.28      0.37      2007\n",
            "    Negative       0.16      0.54      0.25       391\n",
            "\n",
            "    accuracy                           0.43      4190\n",
            "   macro avg       0.42      0.46      0.39      4190\n",
            "weighted avg       0.51      0.43      0.44      4190\n",
            "\n"
          ]
        },
        {
          "output_type": "stream",
          "name": "stderr",
          "text": [
            "100%|██████████| 94/94 [00:02<00:00, 39.90it/s]\n"
          ]
        },
        {
          "output_type": "stream",
          "name": "stdout",
          "text": [
            "Average loss: tensor(1.0491, device='cuda:0', grad_fn=<DivBackward0>)\n",
            "Epoch 462/500, Report:               precision    recall  f1-score   support\n",
            "\n",
            "    Positive       0.54      0.57      0.56      1792\n",
            "     Neutral       0.55      0.28      0.37      2007\n",
            "    Negative       0.16      0.54      0.25       391\n",
            "\n",
            "    accuracy                           0.43      4190\n",
            "   macro avg       0.42      0.46      0.39      4190\n",
            "weighted avg       0.51      0.43      0.44      4190\n",
            "\n"
          ]
        },
        {
          "output_type": "stream",
          "name": "stderr",
          "text": [
            "100%|██████████| 94/94 [00:02<00:00, 37.76it/s]\n"
          ]
        },
        {
          "output_type": "stream",
          "name": "stdout",
          "text": [
            "Average loss: tensor(1.0490, device='cuda:0', grad_fn=<DivBackward0>)\n",
            "Epoch 463/500, Report:               precision    recall  f1-score   support\n",
            "\n",
            "    Positive       0.54      0.57      0.56      1792\n",
            "     Neutral       0.55      0.28      0.37      2007\n",
            "    Negative       0.16      0.54      0.25       391\n",
            "\n",
            "    accuracy                           0.43      4190\n",
            "   macro avg       0.42      0.46      0.39      4190\n",
            "weighted avg       0.51      0.43      0.44      4190\n",
            "\n"
          ]
        },
        {
          "output_type": "stream",
          "name": "stderr",
          "text": [
            "100%|██████████| 94/94 [00:02<00:00, 37.57it/s]\n"
          ]
        },
        {
          "output_type": "stream",
          "name": "stdout",
          "text": [
            "Average loss: tensor(1.0500, device='cuda:0', grad_fn=<DivBackward0>)\n",
            "Epoch 464/500, Report:               precision    recall  f1-score   support\n",
            "\n",
            "    Positive       0.54      0.57      0.56      1792\n",
            "     Neutral       0.55      0.28      0.37      2007\n",
            "    Negative       0.16      0.54      0.25       391\n",
            "\n",
            "    accuracy                           0.43      4190\n",
            "   macro avg       0.42      0.46      0.39      4190\n",
            "weighted avg       0.51      0.43      0.44      4190\n",
            "\n"
          ]
        },
        {
          "output_type": "stream",
          "name": "stderr",
          "text": [
            "100%|██████████| 94/94 [00:02<00:00, 40.48it/s]\n"
          ]
        },
        {
          "output_type": "stream",
          "name": "stdout",
          "text": [
            "Average loss: tensor(1.0492, device='cuda:0', grad_fn=<DivBackward0>)\n",
            "Epoch 465/500, Report:               precision    recall  f1-score   support\n",
            "\n",
            "    Positive       0.54      0.57      0.56      1792\n",
            "     Neutral       0.55      0.27      0.37      2007\n",
            "    Negative       0.16      0.54      0.25       391\n",
            "\n",
            "    accuracy                           0.43      4190\n",
            "   macro avg       0.42      0.46      0.39      4190\n",
            "weighted avg       0.51      0.43      0.44      4190\n",
            "\n"
          ]
        },
        {
          "output_type": "stream",
          "name": "stderr",
          "text": [
            "100%|██████████| 94/94 [00:02<00:00, 40.23it/s]\n"
          ]
        },
        {
          "output_type": "stream",
          "name": "stdout",
          "text": [
            "Average loss: tensor(1.0489, device='cuda:0', grad_fn=<DivBackward0>)\n",
            "Epoch 466/500, Report:               precision    recall  f1-score   support\n",
            "\n",
            "    Positive       0.54      0.57      0.56      1792\n",
            "     Neutral       0.55      0.28      0.37      2007\n",
            "    Negative       0.16      0.53      0.25       391\n",
            "\n",
            "    accuracy                           0.43      4190\n",
            "   macro avg       0.42      0.46      0.39      4190\n",
            "weighted avg       0.51      0.43      0.44      4190\n",
            "\n"
          ]
        },
        {
          "output_type": "stream",
          "name": "stderr",
          "text": [
            "100%|██████████| 94/94 [00:02<00:00, 39.73it/s]\n"
          ]
        },
        {
          "output_type": "stream",
          "name": "stdout",
          "text": [
            "Average loss: tensor(1.0477, device='cuda:0', grad_fn=<DivBackward0>)\n",
            "Epoch 467/500, Report:               precision    recall  f1-score   support\n",
            "\n",
            "    Positive       0.54      0.57      0.56      1792\n",
            "     Neutral       0.55      0.28      0.37      2007\n",
            "    Negative       0.16      0.54      0.25       391\n",
            "\n",
            "    accuracy                           0.43      4190\n",
            "   macro avg       0.42      0.46      0.39      4190\n",
            "weighted avg       0.51      0.43      0.44      4190\n",
            "\n"
          ]
        },
        {
          "output_type": "stream",
          "name": "stderr",
          "text": [
            "100%|██████████| 94/94 [00:02<00:00, 34.81it/s]\n"
          ]
        },
        {
          "output_type": "stream",
          "name": "stdout",
          "text": [
            "Average loss: tensor(1.0496, device='cuda:0', grad_fn=<DivBackward0>)\n",
            "Epoch 468/500, Report:               precision    recall  f1-score   support\n",
            "\n",
            "    Positive       0.54      0.57      0.56      1792\n",
            "     Neutral       0.55      0.28      0.37      2007\n",
            "    Negative       0.16      0.53      0.25       391\n",
            "\n",
            "    accuracy                           0.43      4190\n",
            "   macro avg       0.42      0.46      0.39      4190\n",
            "weighted avg       0.51      0.43      0.44      4190\n",
            "\n"
          ]
        },
        {
          "output_type": "stream",
          "name": "stderr",
          "text": [
            "100%|██████████| 94/94 [00:02<00:00, 40.12it/s]\n"
          ]
        },
        {
          "output_type": "stream",
          "name": "stdout",
          "text": [
            "Average loss: tensor(1.0497, device='cuda:0', grad_fn=<DivBackward0>)\n",
            "Epoch 469/500, Report:               precision    recall  f1-score   support\n",
            "\n",
            "    Positive       0.54      0.57      0.55      1792\n",
            "     Neutral       0.55      0.28      0.37      2007\n",
            "    Negative       0.16      0.54      0.25       391\n",
            "\n",
            "    accuracy                           0.43      4190\n",
            "   macro avg       0.42      0.46      0.39      4190\n",
            "weighted avg       0.51      0.43      0.44      4190\n",
            "\n"
          ]
        },
        {
          "output_type": "stream",
          "name": "stderr",
          "text": [
            "100%|██████████| 94/94 [00:02<00:00, 40.24it/s]\n"
          ]
        },
        {
          "output_type": "stream",
          "name": "stdout",
          "text": [
            "Average loss: tensor(1.0495, device='cuda:0', grad_fn=<DivBackward0>)\n",
            "Epoch 470/500, Report:               precision    recall  f1-score   support\n",
            "\n",
            "    Positive       0.54      0.57      0.56      1792\n",
            "     Neutral       0.55      0.28      0.37      2007\n",
            "    Negative       0.16      0.54      0.25       391\n",
            "\n",
            "    accuracy                           0.43      4190\n",
            "   macro avg       0.42      0.46      0.39      4190\n",
            "weighted avg       0.51      0.43      0.44      4190\n",
            "\n"
          ]
        },
        {
          "output_type": "stream",
          "name": "stderr",
          "text": [
            "100%|██████████| 94/94 [00:02<00:00, 40.90it/s]\n"
          ]
        },
        {
          "output_type": "stream",
          "name": "stdout",
          "text": [
            "Average loss: tensor(1.0487, device='cuda:0', grad_fn=<DivBackward0>)\n",
            "Epoch 471/500, Report:               precision    recall  f1-score   support\n",
            "\n",
            "    Positive       0.54      0.57      0.56      1792\n",
            "     Neutral       0.55      0.28      0.37      2007\n",
            "    Negative       0.16      0.54      0.25       391\n",
            "\n",
            "    accuracy                           0.43      4190\n",
            "   macro avg       0.42      0.46      0.39      4190\n",
            "weighted avg       0.51      0.43      0.44      4190\n",
            "\n"
          ]
        },
        {
          "output_type": "stream",
          "name": "stderr",
          "text": [
            "100%|██████████| 94/94 [00:02<00:00, 37.07it/s]\n"
          ]
        },
        {
          "output_type": "stream",
          "name": "stdout",
          "text": [
            "Average loss: tensor(1.0493, device='cuda:0', grad_fn=<DivBackward0>)\n",
            "Epoch 472/500, Report:               precision    recall  f1-score   support\n",
            "\n",
            "    Positive       0.54      0.57      0.56      1792\n",
            "     Neutral       0.55      0.28      0.37      2007\n",
            "    Negative       0.16      0.54      0.25       391\n",
            "\n",
            "    accuracy                           0.43      4190\n",
            "   macro avg       0.42      0.46      0.39      4190\n",
            "weighted avg       0.51      0.43      0.44      4190\n",
            "\n"
          ]
        },
        {
          "output_type": "stream",
          "name": "stderr",
          "text": [
            "100%|██████████| 94/94 [00:02<00:00, 37.16it/s]\n"
          ]
        },
        {
          "output_type": "stream",
          "name": "stdout",
          "text": [
            "Average loss: tensor(1.0496, device='cuda:0', grad_fn=<DivBackward0>)\n",
            "Epoch 473/500, Report:               precision    recall  f1-score   support\n",
            "\n",
            "    Positive       0.54      0.57      0.56      1792\n",
            "     Neutral       0.55      0.28      0.37      2007\n",
            "    Negative       0.16      0.54      0.25       391\n",
            "\n",
            "    accuracy                           0.43      4190\n",
            "   macro avg       0.42      0.46      0.39      4190\n",
            "weighted avg       0.51      0.43      0.44      4190\n",
            "\n"
          ]
        },
        {
          "output_type": "stream",
          "name": "stderr",
          "text": [
            "100%|██████████| 94/94 [00:02<00:00, 40.22it/s]\n"
          ]
        },
        {
          "output_type": "stream",
          "name": "stdout",
          "text": [
            "Average loss: tensor(1.0494, device='cuda:0', grad_fn=<DivBackward0>)\n",
            "Epoch 474/500, Report:               precision    recall  f1-score   support\n",
            "\n",
            "    Positive       0.54      0.57      0.55      1792\n",
            "     Neutral       0.55      0.27      0.36      2007\n",
            "    Negative       0.16      0.54      0.25       391\n",
            "\n",
            "    accuracy                           0.42      4190\n",
            "   macro avg       0.42      0.46      0.39      4190\n",
            "weighted avg       0.51      0.42      0.43      4190\n",
            "\n"
          ]
        },
        {
          "output_type": "stream",
          "name": "stderr",
          "text": [
            "100%|██████████| 94/94 [00:02<00:00, 39.70it/s]\n"
          ]
        },
        {
          "output_type": "stream",
          "name": "stdout",
          "text": [
            "Average loss: tensor(1.0480, device='cuda:0', grad_fn=<DivBackward0>)\n",
            "Epoch 475/500, Report:               precision    recall  f1-score   support\n",
            "\n",
            "    Positive       0.54      0.57      0.55      1792\n",
            "     Neutral       0.55      0.27      0.36      2007\n",
            "    Negative       0.16      0.54      0.25       391\n",
            "\n",
            "    accuracy                           0.42      4190\n",
            "   macro avg       0.42      0.46      0.39      4190\n",
            "weighted avg       0.51      0.42      0.43      4190\n",
            "\n"
          ]
        },
        {
          "output_type": "stream",
          "name": "stderr",
          "text": [
            "100%|██████████| 94/94 [00:02<00:00, 33.82it/s]\n"
          ]
        },
        {
          "output_type": "stream",
          "name": "stdout",
          "text": [
            "Average loss: tensor(1.0498, device='cuda:0', grad_fn=<DivBackward0>)\n",
            "Epoch 476/500, Report:               precision    recall  f1-score   support\n",
            "\n",
            "    Positive       0.54      0.57      0.55      1792\n",
            "     Neutral       0.55      0.27      0.36      2007\n",
            "    Negative       0.16      0.54      0.25       391\n",
            "\n",
            "    accuracy                           0.42      4190\n",
            "   macro avg       0.42      0.46      0.39      4190\n",
            "weighted avg       0.51      0.42      0.43      4190\n",
            "\n"
          ]
        },
        {
          "output_type": "stream",
          "name": "stderr",
          "text": [
            "100%|██████████| 94/94 [00:02<00:00, 36.35it/s]\n"
          ]
        },
        {
          "output_type": "stream",
          "name": "stdout",
          "text": [
            "Average loss: tensor(1.0494, device='cuda:0', grad_fn=<DivBackward0>)\n",
            "Epoch 477/500, Report:               precision    recall  f1-score   support\n",
            "\n",
            "    Positive       0.54      0.57      0.55      1792\n",
            "     Neutral       0.54      0.27      0.36      2007\n",
            "    Negative       0.16      0.54      0.25       391\n",
            "\n",
            "    accuracy                           0.42      4190\n",
            "   macro avg       0.42      0.46      0.39      4190\n",
            "weighted avg       0.51      0.42      0.43      4190\n",
            "\n"
          ]
        },
        {
          "output_type": "stream",
          "name": "stderr",
          "text": [
            "100%|██████████| 94/94 [00:02<00:00, 40.14it/s]\n"
          ]
        },
        {
          "output_type": "stream",
          "name": "stdout",
          "text": [
            "Average loss: tensor(1.0488, device='cuda:0', grad_fn=<DivBackward0>)\n",
            "Epoch 478/500, Report:               precision    recall  f1-score   support\n",
            "\n",
            "    Positive       0.54      0.57      0.55      1792\n",
            "     Neutral       0.55      0.27      0.36      2007\n",
            "    Negative       0.16      0.54      0.25       391\n",
            "\n",
            "    accuracy                           0.42      4190\n",
            "   macro avg       0.42      0.46      0.39      4190\n",
            "weighted avg       0.51      0.42      0.43      4190\n",
            "\n"
          ]
        },
        {
          "output_type": "stream",
          "name": "stderr",
          "text": [
            "100%|██████████| 94/94 [00:02<00:00, 39.90it/s]\n"
          ]
        },
        {
          "output_type": "stream",
          "name": "stdout",
          "text": [
            "Average loss: tensor(1.0480, device='cuda:0', grad_fn=<DivBackward0>)\n",
            "Epoch 479/500, Report:               precision    recall  f1-score   support\n",
            "\n",
            "    Positive       0.54      0.57      0.56      1792\n",
            "     Neutral       0.55      0.28      0.37      2007\n",
            "    Negative       0.16      0.54      0.25       391\n",
            "\n",
            "    accuracy                           0.43      4190\n",
            "   macro avg       0.42      0.46      0.39      4190\n",
            "weighted avg       0.51      0.43      0.44      4190\n",
            "\n"
          ]
        },
        {
          "output_type": "stream",
          "name": "stderr",
          "text": [
            "100%|██████████| 94/94 [00:02<00:00, 40.42it/s]\n"
          ]
        },
        {
          "output_type": "stream",
          "name": "stdout",
          "text": [
            "Average loss: tensor(1.0489, device='cuda:0', grad_fn=<DivBackward0>)\n",
            "Epoch 480/500, Report:               precision    recall  f1-score   support\n",
            "\n",
            "    Positive       0.54      0.57      0.55      1792\n",
            "     Neutral       0.55      0.28      0.37      2007\n",
            "    Negative       0.16      0.54      0.25       391\n",
            "\n",
            "    accuracy                           0.43      4190\n",
            "   macro avg       0.42      0.46      0.39      4190\n",
            "weighted avg       0.51      0.43      0.44      4190\n",
            "\n"
          ]
        },
        {
          "output_type": "stream",
          "name": "stderr",
          "text": [
            "100%|██████████| 94/94 [00:02<00:00, 35.39it/s]\n"
          ]
        },
        {
          "output_type": "stream",
          "name": "stdout",
          "text": [
            "Average loss: tensor(1.0492, device='cuda:0', grad_fn=<DivBackward0>)\n",
            "Epoch 481/500, Report:               precision    recall  f1-score   support\n",
            "\n",
            "    Positive       0.54      0.57      0.55      1792\n",
            "     Neutral       0.55      0.28      0.37      2007\n",
            "    Negative       0.16      0.53      0.25       391\n",
            "\n",
            "    accuracy                           0.43      4190\n",
            "   macro avg       0.42      0.46      0.39      4190\n",
            "weighted avg       0.51      0.43      0.44      4190\n",
            "\n"
          ]
        },
        {
          "output_type": "stream",
          "name": "stderr",
          "text": [
            "100%|██████████| 94/94 [00:02<00:00, 39.89it/s]\n"
          ]
        },
        {
          "output_type": "stream",
          "name": "stdout",
          "text": [
            "Average loss: tensor(1.0488, device='cuda:0', grad_fn=<DivBackward0>)\n",
            "Epoch 482/500, Report:               precision    recall  f1-score   support\n",
            "\n",
            "    Positive       0.54      0.57      0.55      1792\n",
            "     Neutral       0.55      0.28      0.37      2007\n",
            "    Negative       0.16      0.54      0.25       391\n",
            "\n",
            "    accuracy                           0.43      4190\n",
            "   macro avg       0.42      0.46      0.39      4190\n",
            "weighted avg       0.51      0.43      0.44      4190\n",
            "\n"
          ]
        },
        {
          "output_type": "stream",
          "name": "stderr",
          "text": [
            "100%|██████████| 94/94 [00:02<00:00, 40.48it/s]\n"
          ]
        },
        {
          "output_type": "stream",
          "name": "stdout",
          "text": [
            "Average loss: tensor(1.0491, device='cuda:0', grad_fn=<DivBackward0>)\n",
            "Epoch 483/500, Report:               precision    recall  f1-score   support\n",
            "\n",
            "    Positive       0.54      0.57      0.55      1792\n",
            "     Neutral       0.54      0.27      0.36      2007\n",
            "    Negative       0.16      0.54      0.25       391\n",
            "\n",
            "    accuracy                           0.42      4190\n",
            "   macro avg       0.42      0.46      0.39      4190\n",
            "weighted avg       0.51      0.42      0.43      4190\n",
            "\n"
          ]
        },
        {
          "output_type": "stream",
          "name": "stderr",
          "text": [
            "100%|██████████| 94/94 [00:02<00:00, 37.50it/s]\n"
          ]
        },
        {
          "output_type": "stream",
          "name": "stdout",
          "text": [
            "Average loss: tensor(1.0492, device='cuda:0', grad_fn=<DivBackward0>)\n",
            "Epoch 484/500, Report:               precision    recall  f1-score   support\n",
            "\n",
            "    Positive       0.54      0.57      0.55      1792\n",
            "     Neutral       0.55      0.27      0.36      2007\n",
            "    Negative       0.16      0.54      0.25       391\n",
            "\n",
            "    accuracy                           0.42      4190\n",
            "   macro avg       0.42      0.46      0.39      4190\n",
            "weighted avg       0.51      0.42      0.43      4190\n",
            "\n"
          ]
        },
        {
          "output_type": "stream",
          "name": "stderr",
          "text": [
            "100%|██████████| 94/94 [00:02<00:00, 38.39it/s]\n"
          ]
        },
        {
          "output_type": "stream",
          "name": "stdout",
          "text": [
            "Average loss: tensor(1.0495, device='cuda:0', grad_fn=<DivBackward0>)\n",
            "Epoch 485/500, Report:               precision    recall  f1-score   support\n",
            "\n",
            "    Positive       0.54      0.57      0.55      1792\n",
            "     Neutral       0.55      0.28      0.37      2007\n",
            "    Negative       0.16      0.54      0.25       391\n",
            "\n",
            "    accuracy                           0.43      4190\n",
            "   macro avg       0.42      0.46      0.39      4190\n",
            "weighted avg       0.51      0.43      0.44      4190\n",
            "\n"
          ]
        },
        {
          "output_type": "stream",
          "name": "stderr",
          "text": [
            "100%|██████████| 94/94 [00:02<00:00, 37.12it/s]\n"
          ]
        },
        {
          "output_type": "stream",
          "name": "stdout",
          "text": [
            "Average loss: tensor(1.0501, device='cuda:0', grad_fn=<DivBackward0>)\n",
            "Epoch 486/500, Report:               precision    recall  f1-score   support\n",
            "\n",
            "    Positive       0.54      0.57      0.55      1792\n",
            "     Neutral       0.55      0.27      0.36      2007\n",
            "    Negative       0.16      0.54      0.25       391\n",
            "\n",
            "    accuracy                           0.42      4190\n",
            "   macro avg       0.42      0.46      0.39      4190\n",
            "weighted avg       0.51      0.42      0.43      4190\n",
            "\n"
          ]
        },
        {
          "output_type": "stream",
          "name": "stderr",
          "text": [
            "100%|██████████| 94/94 [00:02<00:00, 40.63it/s]\n"
          ]
        },
        {
          "output_type": "stream",
          "name": "stdout",
          "text": [
            "Average loss: tensor(1.0488, device='cuda:0', grad_fn=<DivBackward0>)\n",
            "Epoch 487/500, Report:               precision    recall  f1-score   support\n",
            "\n",
            "    Positive       0.54      0.57      0.55      1792\n",
            "     Neutral       0.55      0.27      0.37      2007\n",
            "    Negative       0.16      0.54      0.25       391\n",
            "\n",
            "    accuracy                           0.43      4190\n",
            "   macro avg       0.42      0.46      0.39      4190\n",
            "weighted avg       0.51      0.43      0.44      4190\n",
            "\n"
          ]
        },
        {
          "output_type": "stream",
          "name": "stderr",
          "text": [
            "100%|██████████| 94/94 [00:02<00:00, 41.00it/s]\n"
          ]
        },
        {
          "output_type": "stream",
          "name": "stdout",
          "text": [
            "Average loss: tensor(1.0491, device='cuda:0', grad_fn=<DivBackward0>)\n",
            "Epoch 488/500, Report:               precision    recall  f1-score   support\n",
            "\n",
            "    Positive       0.54      0.57      0.55      1792\n",
            "     Neutral       0.55      0.28      0.37      2007\n",
            "    Negative       0.16      0.54      0.25       391\n",
            "\n",
            "    accuracy                           0.42      4190\n",
            "   macro avg       0.42      0.46      0.39      4190\n",
            "weighted avg       0.51      0.42      0.44      4190\n",
            "\n"
          ]
        },
        {
          "output_type": "stream",
          "name": "stderr",
          "text": [
            "100%|██████████| 94/94 [00:02<00:00, 40.07it/s]\n"
          ]
        },
        {
          "output_type": "stream",
          "name": "stdout",
          "text": [
            "Average loss: tensor(1.0483, device='cuda:0', grad_fn=<DivBackward0>)\n",
            "Epoch 489/500, Report:               precision    recall  f1-score   support\n",
            "\n",
            "    Positive       0.54      0.57      0.55      1792\n",
            "     Neutral       0.55      0.28      0.37      2007\n",
            "    Negative       0.16      0.54      0.25       391\n",
            "\n",
            "    accuracy                           0.42      4190\n",
            "   macro avg       0.42      0.46      0.39      4190\n",
            "weighted avg       0.51      0.42      0.44      4190\n",
            "\n"
          ]
        },
        {
          "output_type": "stream",
          "name": "stderr",
          "text": [
            "100%|██████████| 94/94 [00:02<00:00, 35.65it/s]\n"
          ]
        },
        {
          "output_type": "stream",
          "name": "stdout",
          "text": [
            "Average loss: tensor(1.0501, device='cuda:0', grad_fn=<DivBackward0>)\n",
            "Epoch 490/500, Report:               precision    recall  f1-score   support\n",
            "\n",
            "    Positive       0.54      0.57      0.55      1792\n",
            "     Neutral       0.55      0.28      0.37      2007\n",
            "    Negative       0.16      0.54      0.25       391\n",
            "\n",
            "    accuracy                           0.42      4190\n",
            "   macro avg       0.42      0.46      0.39      4190\n",
            "weighted avg       0.51      0.42      0.44      4190\n",
            "\n"
          ]
        },
        {
          "output_type": "stream",
          "name": "stderr",
          "text": [
            "100%|██████████| 94/94 [00:02<00:00, 39.68it/s]\n"
          ]
        },
        {
          "output_type": "stream",
          "name": "stdout",
          "text": [
            "Average loss: tensor(1.0494, device='cuda:0', grad_fn=<DivBackward0>)\n",
            "Epoch 491/500, Report:               precision    recall  f1-score   support\n",
            "\n",
            "    Positive       0.54      0.57      0.55      1792\n",
            "     Neutral       0.55      0.28      0.37      2007\n",
            "    Negative       0.16      0.54      0.25       391\n",
            "\n",
            "    accuracy                           0.43      4190\n",
            "   macro avg       0.42      0.46      0.39      4190\n",
            "weighted avg       0.51      0.43      0.44      4190\n",
            "\n"
          ]
        },
        {
          "output_type": "stream",
          "name": "stderr",
          "text": [
            "100%|██████████| 94/94 [00:02<00:00, 39.04it/s]\n"
          ]
        },
        {
          "output_type": "stream",
          "name": "stdout",
          "text": [
            "Average loss: tensor(1.0493, device='cuda:0', grad_fn=<DivBackward0>)\n",
            "Epoch 492/500, Report:               precision    recall  f1-score   support\n",
            "\n",
            "    Positive       0.54      0.57      0.55      1792\n",
            "     Neutral       0.55      0.28      0.37      2007\n",
            "    Negative       0.16      0.54      0.25       391\n",
            "\n",
            "    accuracy                           0.43      4190\n",
            "   macro avg       0.42      0.46      0.39      4190\n",
            "weighted avg       0.51      0.43      0.44      4190\n",
            "\n"
          ]
        },
        {
          "output_type": "stream",
          "name": "stderr",
          "text": [
            "100%|██████████| 94/94 [00:02<00:00, 41.33it/s]\n"
          ]
        },
        {
          "output_type": "stream",
          "name": "stdout",
          "text": [
            "Average loss: tensor(1.0488, device='cuda:0', grad_fn=<DivBackward0>)\n",
            "Epoch 493/500, Report:               precision    recall  f1-score   support\n",
            "\n",
            "    Positive       0.54      0.57      0.55      1792\n",
            "     Neutral       0.55      0.28      0.37      2007\n",
            "    Negative       0.16      0.54      0.25       391\n",
            "\n",
            "    accuracy                           0.43      4190\n",
            "   macro avg       0.42      0.46      0.39      4190\n",
            "weighted avg       0.51      0.43      0.44      4190\n",
            "\n"
          ]
        },
        {
          "output_type": "stream",
          "name": "stderr",
          "text": [
            "100%|██████████| 94/94 [00:02<00:00, 38.55it/s]\n"
          ]
        },
        {
          "output_type": "stream",
          "name": "stdout",
          "text": [
            "Average loss: tensor(1.0482, device='cuda:0', grad_fn=<DivBackward0>)\n",
            "Epoch 494/500, Report:               precision    recall  f1-score   support\n",
            "\n",
            "    Positive       0.54      0.57      0.55      1792\n",
            "     Neutral       0.55      0.28      0.37      2007\n",
            "    Negative       0.16      0.54      0.25       391\n",
            "\n",
            "    accuracy                           0.43      4190\n",
            "   macro avg       0.42      0.46      0.39      4190\n",
            "weighted avg       0.51      0.43      0.44      4190\n",
            "\n"
          ]
        },
        {
          "output_type": "stream",
          "name": "stderr",
          "text": [
            "100%|██████████| 94/94 [00:02<00:00, 36.69it/s]\n"
          ]
        },
        {
          "output_type": "stream",
          "name": "stdout",
          "text": [
            "Average loss: tensor(1.0481, device='cuda:0', grad_fn=<DivBackward0>)\n",
            "Epoch 495/500, Report:               precision    recall  f1-score   support\n",
            "\n",
            "    Positive       0.54      0.57      0.55      1792\n",
            "     Neutral       0.55      0.28      0.37      2007\n",
            "    Negative       0.16      0.54      0.25       391\n",
            "\n",
            "    accuracy                           0.43      4190\n",
            "   macro avg       0.42      0.46      0.39      4190\n",
            "weighted avg       0.51      0.43      0.44      4190\n",
            "\n"
          ]
        },
        {
          "output_type": "stream",
          "name": "stderr",
          "text": [
            "100%|██████████| 94/94 [00:02<00:00, 39.80it/s]\n"
          ]
        },
        {
          "output_type": "stream",
          "name": "stdout",
          "text": [
            "Average loss: tensor(1.0495, device='cuda:0', grad_fn=<DivBackward0>)\n",
            "Epoch 496/500, Report:               precision    recall  f1-score   support\n",
            "\n",
            "    Positive       0.54      0.57      0.55      1792\n",
            "     Neutral       0.55      0.28      0.37      2007\n",
            "    Negative       0.16      0.54      0.25       391\n",
            "\n",
            "    accuracy                           0.42      4190\n",
            "   macro avg       0.42      0.46      0.39      4190\n",
            "weighted avg       0.51      0.42      0.44      4190\n",
            "\n"
          ]
        },
        {
          "output_type": "stream",
          "name": "stderr",
          "text": [
            "100%|██████████| 94/94 [00:02<00:00, 40.03it/s]\n"
          ]
        },
        {
          "output_type": "stream",
          "name": "stdout",
          "text": [
            "Average loss: tensor(1.0494, device='cuda:0', grad_fn=<DivBackward0>)\n",
            "Epoch 497/500, Report:               precision    recall  f1-score   support\n",
            "\n",
            "    Positive       0.54      0.56      0.55      1792\n",
            "     Neutral       0.55      0.28      0.37      2007\n",
            "    Negative       0.16      0.54      0.25       391\n",
            "\n",
            "    accuracy                           0.43      4190\n",
            "   macro avg       0.42      0.46      0.39      4190\n",
            "weighted avg       0.51      0.43      0.44      4190\n",
            "\n"
          ]
        },
        {
          "output_type": "stream",
          "name": "stderr",
          "text": [
            "100%|██████████| 94/94 [00:02<00:00, 40.47it/s]\n"
          ]
        },
        {
          "output_type": "stream",
          "name": "stdout",
          "text": [
            "Average loss: tensor(1.0487, device='cuda:0', grad_fn=<DivBackward0>)\n",
            "Epoch 498/500, Report:               precision    recall  f1-score   support\n",
            "\n",
            "    Positive       0.54      0.57      0.55      1792\n",
            "     Neutral       0.55      0.28      0.37      2007\n",
            "    Negative       0.16      0.54      0.25       391\n",
            "\n",
            "    accuracy                           0.43      4190\n",
            "   macro avg       0.42      0.46      0.39      4190\n",
            "weighted avg       0.51      0.43      0.44      4190\n",
            "\n"
          ]
        },
        {
          "output_type": "stream",
          "name": "stderr",
          "text": [
            "100%|██████████| 94/94 [00:02<00:00, 36.14it/s]\n"
          ]
        },
        {
          "output_type": "stream",
          "name": "stdout",
          "text": [
            "Average loss: tensor(1.0503, device='cuda:0', grad_fn=<DivBackward0>)\n",
            "Epoch 499/500, Report:               precision    recall  f1-score   support\n",
            "\n",
            "    Positive       0.54      0.57      0.55      1792\n",
            "     Neutral       0.55      0.28      0.37      2007\n",
            "    Negative       0.16      0.54      0.25       391\n",
            "\n",
            "    accuracy                           0.43      4190\n",
            "   macro avg       0.42      0.46      0.39      4190\n",
            "weighted avg       0.51      0.43      0.44      4190\n",
            "\n"
          ]
        },
        {
          "output_type": "stream",
          "name": "stderr",
          "text": [
            "100%|██████████| 94/94 [00:02<00:00, 40.25it/s]\n"
          ]
        },
        {
          "output_type": "stream",
          "name": "stdout",
          "text": [
            "Average loss: tensor(1.0495, device='cuda:0', grad_fn=<DivBackward0>)\n",
            "Epoch 500/500, Report:               precision    recall  f1-score   support\n",
            "\n",
            "    Positive       0.54      0.56      0.55      1792\n",
            "     Neutral       0.55      0.28      0.37      2007\n",
            "    Negative       0.16      0.54      0.25       391\n",
            "\n",
            "    accuracy                           0.43      4190\n",
            "   macro avg       0.42      0.46      0.39      4190\n",
            "weighted avg       0.51      0.43      0.44      4190\n",
            "\n"
          ]
        }
      ]
    },
    {
      "cell_type": "code",
      "source": [
        "# Uncommon this to load a pre-trained model\n",
        "#model = torch.load(\"./model.pkg\", map_location=device)"
      ],
      "metadata": {
        "id": "iXrrfsL9Mcfo"
      },
      "execution_count": 70,
      "outputs": []
    },
    {
      "cell_type": "code",
      "source": [
        "# This method is responsible for predicting the sentiments of each paragraph and document\n",
        "def predict_sentiments(path):\n",
        "    # seperate data by columns.\n",
        "    data = pd.read_csv(path, delimiter=',')\n",
        "    data.dropna(subset=['DOCUMENT','TRUE_SENTIMENT'], inplace=False)\n",
        "\n",
        "    # Collect paragraphs and their sentiments\n",
        "    paragraphs = []\n",
        "    paragraph_sentiments = []\n",
        "    documents = []\n",
        "    document_sentiments = []\n",
        "\n",
        "    paragraph_data = pd.DataFrame({\"PARAGRAPH\" : [], \"DOCUMENT_ID\" : [], \"TRUE_SENTIMENT\" : [], \"PREDICTED_SENTIMENT\" : []})\n",
        "    document_data = pd.DataFrame({\"DOCUMENT\" : [], \"TRUE_SENTIMENT\" : [], \"PREDICTED_SENTIMENT\" : []})\n",
        "    \n",
        "    pg_count = 0\n",
        "    softmax = nn.Softmax(dim=1)\n",
        "    sentiment_values = [\"Positive\", \"Negative\", \"Neutral\"]\n",
        "    for index, row in data.iterrows():\n",
        "        document_paragraph_sentiments = []\n",
        "        \n",
        "        #devide each paragraph from document.\n",
        "        doc_paragraphs = row['DOCUMENT'].split('\\n')\n",
        "        for i in range(len(doc_paragraphs)):\n",
        "            if(i >=16):\n",
        "              break\n",
        "            paragraph_col = f'Paragraph{i}'\n",
        "            if pd.notna(row[paragraph_col]):\n",
        "                #store its paragraph\n",
        "                paragraphs.append(doc_paragraphs[i])\n",
        "                #get each sentiments \n",
        "                paragraph_sentiments.append(row[paragraph_col])\n",
        "                document_paragraph_sentiments.append(row[paragraph_col])\n",
        "            # if there is one paragraph, then that paragraph is the document sentiment.\n",
        "            elif (len(doc_paragraphs) == 1): \n",
        "                paragraph_sentiments.append(row['TRUE_SENTIMENT'])  \n",
        "                paragraphs.append(doc_paragraphs[i])\n",
        "                document_paragraph_sentiments.append(row['TRUE_SENTIMENT'])\n",
        "\n",
        "        doc_paragraphs_embeddings, seq_masks = get_paragraph_embeddings(doc_paragraphs, max_length=512)\n",
        "        with torch.no_grad():\n",
        "            # Get document and paragraph level sentiment predictions\n",
        "            logits = model(torch.stack(doc_paragraphs_embeddings).to(device), torch.tensor(seq_masks).to(device))\n",
        "            predictions = torch.argmax(softmax(logits), dim=1)\n",
        "            #print(predictions.shape)\n",
        "            predicted_sentiments = [sentiment_values[i] for i in predictions.tolist()]\n",
        "            #print(predicted_sentiments)\n",
        "            predicted_document_sentiment = max(predicted_sentiments, key=predicted_sentiments.count)\n",
        "            paragraph_sentiments.extend(predicted_sentiments)\n",
        "            document_sentiments.append(predicted_document_sentiment)\n",
        "\n",
        "            # Add predictions to dataframe\n",
        "            if len(doc_paragraphs) == len(document_paragraph_sentiments):\n",
        "                for i in range(len(doc_paragraphs)):\n",
        "                    paragraph_data.loc[pg_count] = [doc_paragraphs[i], index, document_paragraph_sentiments[i], predicted_sentiments[i]]\n",
        "                    pg_count += 1\n",
        "                document_data.loc[index] = [row['DOCUMENT'], row['TRUE_SENTIMENT'], predicted_document_sentiment]\n",
        "\n",
        "    # Get dataset statistics\n",
        "    return document_data, paragraph_data\n",
        "\n",
        "\n"
      ],
      "metadata": {
        "id": "RKYIR2vRig4K"
      },
      "execution_count": 73,
      "outputs": []
    },
    {
      "cell_type": "code",
      "source": [
        "# Get sentiment predictions on document and paragraph level\n",
        "document_data, paragraph_data = predict_sentiments(\"data/PerSenT-main/fixed_test.csv\")\n",
        "\n",
        "document_data.to_csv(\"document_preds.csv\")\n",
        "paragraph_data.to_csv(\"paragraphs_preds.csv\")\n",
        "\n",
        "# Print performance statistics\n",
        "document_report = classification_report(document_data[\"TRUE_SENTIMENT\"], document_data[\"PREDICTED_SENTIMENT\"], target_names=['Positive', 'Neutral', 'Negative'])\n",
        "paragraph_report = classification_report(paragraph_data[\"TRUE_SENTIMENT\"], paragraph_data[\"PREDICTED_SENTIMENT\"], target_names=['Positive', 'Neutral', 'Negative'])\n",
        "print(document_report)\n",
        "print(paragraph_report)"
      ],
      "metadata": {
        "colab": {
          "base_uri": "https://localhost:8080/"
        },
        "id": "mMDH1w2XH22j",
        "outputId": "f73ab4cc-0fd4-4a8c-9c52-19e2b685678a"
      },
      "execution_count": 74,
      "outputs": [
        {
          "output_type": "stream",
          "name": "stdout",
          "text": [
            "              precision    recall  f1-score   support\n",
            "\n",
            "    Positive       0.14      0.31      0.19       120\n",
            "     Neutral       0.41      0.44      0.42       285\n",
            "    Negative       0.53      0.27      0.35       339\n",
            "\n",
            "    accuracy                           0.34       744\n",
            "   macro avg       0.36      0.34      0.32       744\n",
            "weighted avg       0.42      0.34      0.35       744\n",
            "\n",
            "              precision    recall  f1-score   support\n",
            "\n",
            "    Positive       0.14      0.30      0.19       971\n",
            "     Neutral       0.48      0.39      0.43      2873\n",
            "    Negative       0.41      0.29      0.34      2156\n",
            "\n",
            "    accuracy                           0.34      6000\n",
            "   macro avg       0.34      0.33      0.32      6000\n",
            "weighted avg       0.40      0.34      0.36      6000\n",
            "\n"
          ]
        }
      ]
    },
    {
      "cell_type": "code",
      "source": [
        "document_data[(document_data[\"TRUE_SENTIMENT\"] != document_data[\"PREDICTED_SENTIMENT\"])]"
      ],
      "metadata": {
        "colab": {
          "base_uri": "https://localhost:8080/",
          "height": 424
        },
        "id": "2q7ouTeLEf5K",
        "outputId": "71507463-0c8f-4366-cf76-7d5d56819793"
      },
      "execution_count": 75,
      "outputs": [
        {
          "output_type": "execute_result",
          "data": {
            "text/plain": [
              "                                              DOCUMENT TRUE_SENTIMENT  \\\n",
              "0    term extension of government funding that woul...        Neutral   \n",
              "1    At a press conference in June   a reporter ask...        Neutral   \n",
              "2    Trump   Xi present united front despite differ...       Positive   \n",
              "3    The Latest on President Donald Trump in Florid...        Neutral   \n",
              "6    The U . S . Senate on Wednesday took a step to...        Neutral   \n",
              "..                                                 ...            ...   \n",
              "822  WASHINGTON (AP)  â Donald Trump 's \"opaque\" ...       Negative   \n",
              "823  President Donald Trump's rally in Missouri thi...       Positive   \n",
              "824  WASHINGTON (Reuters) - Major automakers  suppl...       Positive   \n",
              "825  President Donald Trump  says the Justice Depar...       Negative   \n",
              "826  President Donald Trump  played golf on Monday ...       Positive   \n",
              "\n",
              "    PREDICTED_SENTIMENT  \n",
              "0              Negative  \n",
              "1              Negative  \n",
              "2              Negative  \n",
              "3              Negative  \n",
              "6              Negative  \n",
              "..                  ...  \n",
              "822             Neutral  \n",
              "823            Negative  \n",
              "824            Negative  \n",
              "825             Neutral  \n",
              "826             Neutral  \n",
              "\n",
              "[491 rows x 3 columns]"
            ],
            "text/html": [
              "\n",
              "  <div id=\"df-efdb8d1f-a072-4e8d-a3ad-c07dee471d3d\">\n",
              "    <div class=\"colab-df-container\">\n",
              "      <div>\n",
              "<style scoped>\n",
              "    .dataframe tbody tr th:only-of-type {\n",
              "        vertical-align: middle;\n",
              "    }\n",
              "\n",
              "    .dataframe tbody tr th {\n",
              "        vertical-align: top;\n",
              "    }\n",
              "\n",
              "    .dataframe thead th {\n",
              "        text-align: right;\n",
              "    }\n",
              "</style>\n",
              "<table border=\"1\" class=\"dataframe\">\n",
              "  <thead>\n",
              "    <tr style=\"text-align: right;\">\n",
              "      <th></th>\n",
              "      <th>DOCUMENT</th>\n",
              "      <th>TRUE_SENTIMENT</th>\n",
              "      <th>PREDICTED_SENTIMENT</th>\n",
              "    </tr>\n",
              "  </thead>\n",
              "  <tbody>\n",
              "    <tr>\n",
              "      <th>0</th>\n",
              "      <td>term extension of government funding that woul...</td>\n",
              "      <td>Neutral</td>\n",
              "      <td>Negative</td>\n",
              "    </tr>\n",
              "    <tr>\n",
              "      <th>1</th>\n",
              "      <td>At a press conference in June   a reporter ask...</td>\n",
              "      <td>Neutral</td>\n",
              "      <td>Negative</td>\n",
              "    </tr>\n",
              "    <tr>\n",
              "      <th>2</th>\n",
              "      <td>Trump   Xi present united front despite differ...</td>\n",
              "      <td>Positive</td>\n",
              "      <td>Negative</td>\n",
              "    </tr>\n",
              "    <tr>\n",
              "      <th>3</th>\n",
              "      <td>The Latest on President Donald Trump in Florid...</td>\n",
              "      <td>Neutral</td>\n",
              "      <td>Negative</td>\n",
              "    </tr>\n",
              "    <tr>\n",
              "      <th>6</th>\n",
              "      <td>The U . S . Senate on Wednesday took a step to...</td>\n",
              "      <td>Neutral</td>\n",
              "      <td>Negative</td>\n",
              "    </tr>\n",
              "    <tr>\n",
              "      <th>...</th>\n",
              "      <td>...</td>\n",
              "      <td>...</td>\n",
              "      <td>...</td>\n",
              "    </tr>\n",
              "    <tr>\n",
              "      <th>822</th>\n",
              "      <td>WASHINGTON (AP)  â Donald Trump 's \"opaque\" ...</td>\n",
              "      <td>Negative</td>\n",
              "      <td>Neutral</td>\n",
              "    </tr>\n",
              "    <tr>\n",
              "      <th>823</th>\n",
              "      <td>President Donald Trump's rally in Missouri thi...</td>\n",
              "      <td>Positive</td>\n",
              "      <td>Negative</td>\n",
              "    </tr>\n",
              "    <tr>\n",
              "      <th>824</th>\n",
              "      <td>WASHINGTON (Reuters) - Major automakers  suppl...</td>\n",
              "      <td>Positive</td>\n",
              "      <td>Negative</td>\n",
              "    </tr>\n",
              "    <tr>\n",
              "      <th>825</th>\n",
              "      <td>President Donald Trump  says the Justice Depar...</td>\n",
              "      <td>Negative</td>\n",
              "      <td>Neutral</td>\n",
              "    </tr>\n",
              "    <tr>\n",
              "      <th>826</th>\n",
              "      <td>President Donald Trump  played golf on Monday ...</td>\n",
              "      <td>Positive</td>\n",
              "      <td>Neutral</td>\n",
              "    </tr>\n",
              "  </tbody>\n",
              "</table>\n",
              "<p>491 rows × 3 columns</p>\n",
              "</div>\n",
              "      <button class=\"colab-df-convert\" onclick=\"convertToInteractive('df-efdb8d1f-a072-4e8d-a3ad-c07dee471d3d')\"\n",
              "              title=\"Convert this dataframe to an interactive table.\"\n",
              "              style=\"display:none;\">\n",
              "        \n",
              "  <svg xmlns=\"http://www.w3.org/2000/svg\" height=\"24px\"viewBox=\"0 0 24 24\"\n",
              "       width=\"24px\">\n",
              "    <path d=\"M0 0h24v24H0V0z\" fill=\"none\"/>\n",
              "    <path d=\"M18.56 5.44l.94 2.06.94-2.06 2.06-.94-2.06-.94-.94-2.06-.94 2.06-2.06.94zm-11 1L8.5 8.5l.94-2.06 2.06-.94-2.06-.94L8.5 2.5l-.94 2.06-2.06.94zm10 10l.94 2.06.94-2.06 2.06-.94-2.06-.94-.94-2.06-.94 2.06-2.06.94z\"/><path d=\"M17.41 7.96l-1.37-1.37c-.4-.4-.92-.59-1.43-.59-.52 0-1.04.2-1.43.59L10.3 9.45l-7.72 7.72c-.78.78-.78 2.05 0 2.83L4 21.41c.39.39.9.59 1.41.59.51 0 1.02-.2 1.41-.59l7.78-7.78 2.81-2.81c.8-.78.8-2.07 0-2.86zM5.41 20L4 18.59l7.72-7.72 1.47 1.35L5.41 20z\"/>\n",
              "  </svg>\n",
              "      </button>\n",
              "      \n",
              "  <style>\n",
              "    .colab-df-container {\n",
              "      display:flex;\n",
              "      flex-wrap:wrap;\n",
              "      gap: 12px;\n",
              "    }\n",
              "\n",
              "    .colab-df-convert {\n",
              "      background-color: #E8F0FE;\n",
              "      border: none;\n",
              "      border-radius: 50%;\n",
              "      cursor: pointer;\n",
              "      display: none;\n",
              "      fill: #1967D2;\n",
              "      height: 32px;\n",
              "      padding: 0 0 0 0;\n",
              "      width: 32px;\n",
              "    }\n",
              "\n",
              "    .colab-df-convert:hover {\n",
              "      background-color: #E2EBFA;\n",
              "      box-shadow: 0px 1px 2px rgba(60, 64, 67, 0.3), 0px 1px 3px 1px rgba(60, 64, 67, 0.15);\n",
              "      fill: #174EA6;\n",
              "    }\n",
              "\n",
              "    [theme=dark] .colab-df-convert {\n",
              "      background-color: #3B4455;\n",
              "      fill: #D2E3FC;\n",
              "    }\n",
              "\n",
              "    [theme=dark] .colab-df-convert:hover {\n",
              "      background-color: #434B5C;\n",
              "      box-shadow: 0px 1px 3px 1px rgba(0, 0, 0, 0.15);\n",
              "      filter: drop-shadow(0px 1px 2px rgba(0, 0, 0, 0.3));\n",
              "      fill: #FFFFFF;\n",
              "    }\n",
              "  </style>\n",
              "\n",
              "      <script>\n",
              "        const buttonEl =\n",
              "          document.querySelector('#df-efdb8d1f-a072-4e8d-a3ad-c07dee471d3d button.colab-df-convert');\n",
              "        buttonEl.style.display =\n",
              "          google.colab.kernel.accessAllowed ? 'block' : 'none';\n",
              "\n",
              "        async function convertToInteractive(key) {\n",
              "          const element = document.querySelector('#df-efdb8d1f-a072-4e8d-a3ad-c07dee471d3d');\n",
              "          const dataTable =\n",
              "            await google.colab.kernel.invokeFunction('convertToInteractive',\n",
              "                                                     [key], {});\n",
              "          if (!dataTable) return;\n",
              "\n",
              "          const docLinkHtml = 'Like what you see? Visit the ' +\n",
              "            '<a target=\"_blank\" href=https://colab.research.google.com/notebooks/data_table.ipynb>data table notebook</a>'\n",
              "            + ' to learn more about interactive tables.';\n",
              "          element.innerHTML = '';\n",
              "          dataTable['output_type'] = 'display_data';\n",
              "          await google.colab.output.renderOutput(dataTable, element);\n",
              "          const docLink = document.createElement('div');\n",
              "          docLink.innerHTML = docLinkHtml;\n",
              "          element.appendChild(docLink);\n",
              "        }\n",
              "      </script>\n",
              "    </div>\n",
              "  </div>\n",
              "  "
            ]
          },
          "metadata": {},
          "execution_count": 75
        }
      ]
    }
  ]
}